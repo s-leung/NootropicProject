{
 "cells": [
  {
   "cell_type": "code",
   "execution_count": 475,
   "metadata": {
    "collapsed": false
   },
   "outputs": [],
   "source": [
    "import pandas as pd\n",
    "import numpy as np\n",
    "import matplotlib.pyplot as plt\n",
    "%matplotlib inline\n",
    "import seaborn as sns\n",
    "from sklearn.metrics import log_loss\n",
    "sns.set()\n",
    "sns.set_style('whitegrid')\n",
    "\n",
    "from scipy import stats\n",
    "\n",
    "import statsmodels.api as sm\n",
    "\n",
    "from sklearn.metrics import classification_report\n",
    "from sklearn.metrics import confusion_matrix\n",
    "\n",
    "\n",
    "from sklearn import preprocessing\n",
    "from sklearn.ensemble import RandomForestClassifier\n",
    "from sklearn.linear_model import LogisticRegression"
   ]
  },
  {
   "cell_type": "code",
   "execution_count": 289,
   "metadata": {
    "collapsed": false,
    "scrolled": true
   },
   "outputs": [],
   "source": [
    "df = pd.read_csv('Trial_99_Cleaned')"
   ]
  },
  {
   "cell_type": "code",
   "execution_count": 290,
   "metadata": {
    "collapsed": false
   },
   "outputs": [
    {
     "data": {
      "text/html": [
       "<div>\n",
       "<table border=\"1\" class=\"dataframe\">\n",
       "  <thead>\n",
       "    <tr style=\"text-align: right;\">\n",
       "      <th></th>\n",
       "      <th>Start_Date</th>\n",
       "      <th>End_Date</th>\n",
       "      <th>Last_Name</th>\n",
       "      <th>Version_Duration</th>\n",
       "      <th>Sleep_Quality</th>\n",
       "      <th>Overall_Experience</th>\n",
       "      <th>Focus_Atten_Concen</th>\n",
       "      <th>Memory</th>\n",
       "      <th>Drive_Passion_Motivation</th>\n",
       "      <th>Physical_Energy</th>\n",
       "      <th>...</th>\n",
       "      <th>Verbal_Fluency_Word_Recall</th>\n",
       "      <th>Creativity_Insight</th>\n",
       "      <th>InterpersonalCapability_Empathy</th>\n",
       "      <th>Emotional_Stability</th>\n",
       "      <th>Euphoria_Joy_Happiness</th>\n",
       "      <th>Estimated_Effect_Duration</th>\n",
       "      <th>Upper_Effect_Duration</th>\n",
       "      <th>Lower_Effect_Duration</th>\n",
       "      <th>Current_User_Comparison</th>\n",
       "      <th>User_Status</th>\n",
       "    </tr>\n",
       "  </thead>\n",
       "  <tbody>\n",
       "    <tr>\n",
       "      <th>0</th>\n",
       "      <td>2017-11-14 14:51:00</td>\n",
       "      <td>2017-11-14 14:52:00</td>\n",
       "      <td>User1</td>\n",
       "      <td>1 weeks</td>\n",
       "      <td>OK</td>\n",
       "      <td>Good</td>\n",
       "      <td>Improved</td>\n",
       "      <td>Improved</td>\n",
       "      <td>Improved</td>\n",
       "      <td>Improved</td>\n",
       "      <td>...</td>\n",
       "      <td>No effect</td>\n",
       "      <td>No effect</td>\n",
       "      <td>No effect</td>\n",
       "      <td>No effect</td>\n",
       "      <td>No effect</td>\n",
       "      <td>4-8</td>\n",
       "      <td>8.0</td>\n",
       "      <td>4.0</td>\n",
       "      <td>I am not a XNootropic user</td>\n",
       "      <td>Non-user</td>\n",
       "    </tr>\n",
       "    <tr>\n",
       "      <th>1</th>\n",
       "      <td>2017-11-08 14:51:00</td>\n",
       "      <td>2017-11-08 14:54:00</td>\n",
       "      <td>User1</td>\n",
       "      <td>1 day</td>\n",
       "      <td>OK</td>\n",
       "      <td>Good</td>\n",
       "      <td>Improved</td>\n",
       "      <td>No effect</td>\n",
       "      <td>No effect</td>\n",
       "      <td>Improved</td>\n",
       "      <td>...</td>\n",
       "      <td>No effect</td>\n",
       "      <td>No effect</td>\n",
       "      <td>No effect</td>\n",
       "      <td>Improved</td>\n",
       "      <td>Improved</td>\n",
       "      <td>4-8</td>\n",
       "      <td>8.0</td>\n",
       "      <td>4.0</td>\n",
       "      <td>I am not a XNootropic user</td>\n",
       "      <td>Non-user</td>\n",
       "    </tr>\n",
       "    <tr>\n",
       "      <th>2</th>\n",
       "      <td>2017-11-17 05:50:00</td>\n",
       "      <td>2017-11-17 05:57:00</td>\n",
       "      <td>User2</td>\n",
       "      <td>1 weeks</td>\n",
       "      <td>OK</td>\n",
       "      <td>Not good</td>\n",
       "      <td>Improved</td>\n",
       "      <td>Improved</td>\n",
       "      <td>Less good</td>\n",
       "      <td>Less good</td>\n",
       "      <td>...</td>\n",
       "      <td>Improved</td>\n",
       "      <td>Improved</td>\n",
       "      <td>Improved</td>\n",
       "      <td>No effect</td>\n",
       "      <td>No effect</td>\n",
       "      <td>8+</td>\n",
       "      <td>12.0</td>\n",
       "      <td>8.0</td>\n",
       "      <td>This is less good than XNootropic</td>\n",
       "      <td>XNootropic User</td>\n",
       "    </tr>\n",
       "    <tr>\n",
       "      <th>3</th>\n",
       "      <td>2017-11-14 13:40:00</td>\n",
       "      <td>2017-11-14 13:48:00</td>\n",
       "      <td>User2</td>\n",
       "      <td>1 day</td>\n",
       "      <td>OK</td>\n",
       "      <td>Excellent</td>\n",
       "      <td>Improved</td>\n",
       "      <td>Improved</td>\n",
       "      <td>Improved</td>\n",
       "      <td>Improved</td>\n",
       "      <td>...</td>\n",
       "      <td>Improved</td>\n",
       "      <td>Improved</td>\n",
       "      <td>No effect</td>\n",
       "      <td>No effect</td>\n",
       "      <td>No effect</td>\n",
       "      <td>8+</td>\n",
       "      <td>12.0</td>\n",
       "      <td>8.0</td>\n",
       "      <td>This is better than XNootropic</td>\n",
       "      <td>XNootropic User</td>\n",
       "    </tr>\n",
       "    <tr>\n",
       "      <th>4</th>\n",
       "      <td>2017-11-20 11:05:00</td>\n",
       "      <td>2017-11-20 11:10:00</td>\n",
       "      <td>User3</td>\n",
       "      <td>2 weeks</td>\n",
       "      <td>OK</td>\n",
       "      <td>Good</td>\n",
       "      <td>Improved</td>\n",
       "      <td>No effect</td>\n",
       "      <td>Improved</td>\n",
       "      <td>Improved</td>\n",
       "      <td>...</td>\n",
       "      <td>No effect</td>\n",
       "      <td>No effect</td>\n",
       "      <td>No effect</td>\n",
       "      <td>No effect</td>\n",
       "      <td>Improved</td>\n",
       "      <td>4-8</td>\n",
       "      <td>8.0</td>\n",
       "      <td>4.0</td>\n",
       "      <td>This is better than XNootropic</td>\n",
       "      <td>XNootropic User</td>\n",
       "    </tr>\n",
       "  </tbody>\n",
       "</table>\n",
       "<p>5 rows × 22 columns</p>\n",
       "</div>"
      ],
      "text/plain": [
       "            Start_Date             End_Date Last_Name Version_Duration  \\\n",
       "0  2017-11-14 14:51:00  2017-11-14 14:52:00     User1          1 weeks   \n",
       "1  2017-11-08 14:51:00  2017-11-08 14:54:00     User1            1 day   \n",
       "2  2017-11-17 05:50:00  2017-11-17 05:57:00     User2          1 weeks   \n",
       "3  2017-11-14 13:40:00  2017-11-14 13:48:00     User2            1 day   \n",
       "4  2017-11-20 11:05:00  2017-11-20 11:10:00     User3          2 weeks   \n",
       "\n",
       "  Sleep_Quality Overall_Experience Focus_Atten_Concen     Memory  \\\n",
       "0            OK               Good           Improved   Improved   \n",
       "1            OK               Good           Improved  No effect   \n",
       "2            OK           Not good           Improved   Improved   \n",
       "3            OK          Excellent           Improved   Improved   \n",
       "4            OK               Good           Improved  No effect   \n",
       "\n",
       "  Drive_Passion_Motivation Physical_Energy       ...         \\\n",
       "0                 Improved        Improved       ...          \n",
       "1                No effect        Improved       ...          \n",
       "2                Less good       Less good       ...          \n",
       "3                 Improved        Improved       ...          \n",
       "4                 Improved        Improved       ...          \n",
       "\n",
       "  Verbal_Fluency_Word_Recall Creativity_Insight  \\\n",
       "0                  No effect          No effect   \n",
       "1                  No effect          No effect   \n",
       "2                   Improved           Improved   \n",
       "3                   Improved           Improved   \n",
       "4                  No effect          No effect   \n",
       "\n",
       "  InterpersonalCapability_Empathy Emotional_Stability Euphoria_Joy_Happiness  \\\n",
       "0                       No effect           No effect              No effect   \n",
       "1                       No effect            Improved               Improved   \n",
       "2                        Improved           No effect              No effect   \n",
       "3                       No effect           No effect              No effect   \n",
       "4                       No effect           No effect               Improved   \n",
       "\n",
       "  Estimated_Effect_Duration Upper_Effect_Duration Lower_Effect_Duration  \\\n",
       "0                       4-8                   8.0                   4.0   \n",
       "1                       4-8                   8.0                   4.0   \n",
       "2                        8+                  12.0                   8.0   \n",
       "3                        8+                  12.0                   8.0   \n",
       "4                       4-8                   8.0                   4.0   \n",
       "\n",
       "             Current_User_Comparison      User_Status  \n",
       "0         I am not a XNootropic user         Non-user  \n",
       "1         I am not a XNootropic user         Non-user  \n",
       "2  This is less good than XNootropic  XNootropic User  \n",
       "3     This is better than XNootropic  XNootropic User  \n",
       "4     This is better than XNootropic  XNootropic User  \n",
       "\n",
       "[5 rows x 22 columns]"
      ]
     },
     "execution_count": 290,
     "metadata": {},
     "output_type": "execute_result"
    }
   ],
   "source": [
    "df.head()"
   ]
  },
  {
   "cell_type": "code",
   "execution_count": 138,
   "metadata": {
    "collapsed": false
   },
   "outputs": [
    {
     "data": {
      "text/plain": [
       "17"
      ]
     },
     "execution_count": 138,
     "metadata": {},
     "output_type": "execute_result"
    }
   ],
   "source": [
    "df.isnull().any().sum()"
   ]
  },
  {
   "cell_type": "code",
   "execution_count": 291,
   "metadata": {
    "collapsed": false
   },
   "outputs": [],
   "source": [
    "rating = {'Excellent': 'High',\n",
    "          'Good':'High',\n",
    "          'No effect': 'Low',\n",
    "          'Not good':'Low',\n",
    "          'Awful': \"Low\"}\n",
    "df['Overall_Exp_Rating'] = df['Overall_Experience'].map(rating)"
   ]
  },
  {
   "cell_type": "code",
   "execution_count": 292,
   "metadata": {
    "collapsed": true
   },
   "outputs": [],
   "source": [
    "df['Overall_Exp_Rating']=df['Overall_Exp_Rating'].map({'High': 1, 'Low':0})"
   ]
  },
  {
   "cell_type": "code",
   "execution_count": 11,
   "metadata": {
    "collapsed": false
   },
   "outputs": [
    {
     "data": {
      "text/html": [
       "<div>\n",
       "<table border=\"1\" class=\"dataframe\">\n",
       "  <thead>\n",
       "    <tr style=\"text-align: right;\">\n",
       "      <th></th>\n",
       "      <th>Start_Date</th>\n",
       "      <th>End_Date</th>\n",
       "      <th>Last_Name</th>\n",
       "      <th>Version_Duration</th>\n",
       "      <th>Sleep_Quality</th>\n",
       "      <th>Overall_Experience</th>\n",
       "      <th>Focus_Atten_Concen</th>\n",
       "      <th>Memory</th>\n",
       "      <th>Drive_Passion_Motivation</th>\n",
       "      <th>Physical_Energy</th>\n",
       "      <th>...</th>\n",
       "      <th>Creativity_Insight</th>\n",
       "      <th>InterpersonalCapability_Empathy</th>\n",
       "      <th>Emotional_Stability</th>\n",
       "      <th>Euphoria_Joy_Happiness</th>\n",
       "      <th>Estimated_Effect_Duration</th>\n",
       "      <th>Upper_Effect_Duration</th>\n",
       "      <th>Lower_Effect_Duration</th>\n",
       "      <th>Current_User_Comparison</th>\n",
       "      <th>User_Status</th>\n",
       "      <th>Overall_Exp_Rating</th>\n",
       "    </tr>\n",
       "  </thead>\n",
       "  <tbody>\n",
       "    <tr>\n",
       "      <th>0</th>\n",
       "      <td>2017-11-14 14:51:00</td>\n",
       "      <td>2017-11-14 14:52:00</td>\n",
       "      <td>User1</td>\n",
       "      <td>1 weeks</td>\n",
       "      <td>OK</td>\n",
       "      <td>Good</td>\n",
       "      <td>Improved</td>\n",
       "      <td>Improved</td>\n",
       "      <td>Improved</td>\n",
       "      <td>Improved</td>\n",
       "      <td>...</td>\n",
       "      <td>No effect</td>\n",
       "      <td>No effect</td>\n",
       "      <td>No effect</td>\n",
       "      <td>No effect</td>\n",
       "      <td>4-8</td>\n",
       "      <td>8.0</td>\n",
       "      <td>4.0</td>\n",
       "      <td>I am not a XNootropic user</td>\n",
       "      <td>Non-user</td>\n",
       "      <td>1</td>\n",
       "    </tr>\n",
       "    <tr>\n",
       "      <th>1</th>\n",
       "      <td>2017-11-08 14:51:00</td>\n",
       "      <td>2017-11-08 14:54:00</td>\n",
       "      <td>User1</td>\n",
       "      <td>1 day</td>\n",
       "      <td>OK</td>\n",
       "      <td>Good</td>\n",
       "      <td>Improved</td>\n",
       "      <td>No effect</td>\n",
       "      <td>No effect</td>\n",
       "      <td>Improved</td>\n",
       "      <td>...</td>\n",
       "      <td>No effect</td>\n",
       "      <td>No effect</td>\n",
       "      <td>Improved</td>\n",
       "      <td>Improved</td>\n",
       "      <td>4-8</td>\n",
       "      <td>8.0</td>\n",
       "      <td>4.0</td>\n",
       "      <td>I am not a XNootropic user</td>\n",
       "      <td>Non-user</td>\n",
       "      <td>1</td>\n",
       "    </tr>\n",
       "    <tr>\n",
       "      <th>2</th>\n",
       "      <td>2017-11-17 05:50:00</td>\n",
       "      <td>2017-11-17 05:57:00</td>\n",
       "      <td>User2</td>\n",
       "      <td>1 weeks</td>\n",
       "      <td>OK</td>\n",
       "      <td>Not good</td>\n",
       "      <td>Improved</td>\n",
       "      <td>Improved</td>\n",
       "      <td>Less good</td>\n",
       "      <td>Less good</td>\n",
       "      <td>...</td>\n",
       "      <td>Improved</td>\n",
       "      <td>Improved</td>\n",
       "      <td>No effect</td>\n",
       "      <td>No effect</td>\n",
       "      <td>8+</td>\n",
       "      <td>12.0</td>\n",
       "      <td>8.0</td>\n",
       "      <td>This is less good than XNootropic</td>\n",
       "      <td>XNootropic User</td>\n",
       "      <td>0</td>\n",
       "    </tr>\n",
       "    <tr>\n",
       "      <th>3</th>\n",
       "      <td>2017-11-14 13:40:00</td>\n",
       "      <td>2017-11-14 13:48:00</td>\n",
       "      <td>User2</td>\n",
       "      <td>1 day</td>\n",
       "      <td>OK</td>\n",
       "      <td>Excellent</td>\n",
       "      <td>Improved</td>\n",
       "      <td>Improved</td>\n",
       "      <td>Improved</td>\n",
       "      <td>Improved</td>\n",
       "      <td>...</td>\n",
       "      <td>Improved</td>\n",
       "      <td>No effect</td>\n",
       "      <td>No effect</td>\n",
       "      <td>No effect</td>\n",
       "      <td>8+</td>\n",
       "      <td>12.0</td>\n",
       "      <td>8.0</td>\n",
       "      <td>This is better than XNootropic</td>\n",
       "      <td>XNootropic User</td>\n",
       "      <td>1</td>\n",
       "    </tr>\n",
       "    <tr>\n",
       "      <th>4</th>\n",
       "      <td>2017-11-20 11:05:00</td>\n",
       "      <td>2017-11-20 11:10:00</td>\n",
       "      <td>User3</td>\n",
       "      <td>2 weeks</td>\n",
       "      <td>OK</td>\n",
       "      <td>Good</td>\n",
       "      <td>Improved</td>\n",
       "      <td>No effect</td>\n",
       "      <td>Improved</td>\n",
       "      <td>Improved</td>\n",
       "      <td>...</td>\n",
       "      <td>No effect</td>\n",
       "      <td>No effect</td>\n",
       "      <td>No effect</td>\n",
       "      <td>Improved</td>\n",
       "      <td>4-8</td>\n",
       "      <td>8.0</td>\n",
       "      <td>4.0</td>\n",
       "      <td>This is better than XNootropic</td>\n",
       "      <td>XNootropic User</td>\n",
       "      <td>1</td>\n",
       "    </tr>\n",
       "  </tbody>\n",
       "</table>\n",
       "<p>5 rows × 23 columns</p>\n",
       "</div>"
      ],
      "text/plain": [
       "            Start_Date             End_Date Last_Name Version_Duration  \\\n",
       "0  2017-11-14 14:51:00  2017-11-14 14:52:00     User1          1 weeks   \n",
       "1  2017-11-08 14:51:00  2017-11-08 14:54:00     User1            1 day   \n",
       "2  2017-11-17 05:50:00  2017-11-17 05:57:00     User2          1 weeks   \n",
       "3  2017-11-14 13:40:00  2017-11-14 13:48:00     User2            1 day   \n",
       "4  2017-11-20 11:05:00  2017-11-20 11:10:00     User3          2 weeks   \n",
       "\n",
       "  Sleep_Quality Overall_Experience Focus_Atten_Concen     Memory  \\\n",
       "0            OK               Good           Improved   Improved   \n",
       "1            OK               Good           Improved  No effect   \n",
       "2            OK           Not good           Improved   Improved   \n",
       "3            OK          Excellent           Improved   Improved   \n",
       "4            OK               Good           Improved  No effect   \n",
       "\n",
       "  Drive_Passion_Motivation Physical_Energy         ...          \\\n",
       "0                 Improved        Improved         ...           \n",
       "1                No effect        Improved         ...           \n",
       "2                Less good       Less good         ...           \n",
       "3                 Improved        Improved         ...           \n",
       "4                 Improved        Improved         ...           \n",
       "\n",
       "  Creativity_Insight InterpersonalCapability_Empathy Emotional_Stability  \\\n",
       "0          No effect                       No effect           No effect   \n",
       "1          No effect                       No effect            Improved   \n",
       "2           Improved                        Improved           No effect   \n",
       "3           Improved                       No effect           No effect   \n",
       "4          No effect                       No effect           No effect   \n",
       "\n",
       "  Euphoria_Joy_Happiness Estimated_Effect_Duration Upper_Effect_Duration  \\\n",
       "0              No effect                       4-8                   8.0   \n",
       "1               Improved                       4-8                   8.0   \n",
       "2              No effect                        8+                  12.0   \n",
       "3              No effect                        8+                  12.0   \n",
       "4               Improved                       4-8                   8.0   \n",
       "\n",
       "  Lower_Effect_Duration            Current_User_Comparison      User_Status  \\\n",
       "0                   4.0         I am not a XNootropic user         Non-user   \n",
       "1                   4.0         I am not a XNootropic user         Non-user   \n",
       "2                   8.0  This is less good than XNootropic  XNootropic User   \n",
       "3                   8.0     This is better than XNootropic  XNootropic User   \n",
       "4                   4.0     This is better than XNootropic  XNootropic User   \n",
       "\n",
       "   Overall_Exp_Rating  \n",
       "0                   1  \n",
       "1                   1  \n",
       "2                   0  \n",
       "3                   1  \n",
       "4                   1  \n",
       "\n",
       "[5 rows x 23 columns]"
      ]
     },
     "execution_count": 11,
     "metadata": {},
     "output_type": "execute_result"
    }
   ],
   "source": [
    "df.head()"
   ]
  },
  {
   "cell_type": "markdown",
   "metadata": {},
   "source": [
    "## Logloss: measures the performance of a classification model\n",
    "input = is the probability value between 0 and 1. You want to minimize the logloss as much as possible. A perfect model would have a logloss value of zero. \n",
    "\n",
    "Used as a evaluation metric. \n",
    "\n",
    "Logloss quantifies accuracy of a classifier by penalizing false classification. Minimizing logloss is basically maximizing accuracy of the classifier. "
   ]
  },
  {
   "cell_type": "code",
   "execution_count": null,
   "metadata": {
    "collapsed": false
   },
   "outputs": [],
   "source": []
  },
  {
   "cell_type": "code",
   "execution_count": 7,
   "metadata": {
    "collapsed": false
   },
   "outputs": [],
   "source": [
    "features = [3,  4,  6,  7,  8,  9, 10, 11, 12, 13, 14, 15, 16, 17, 20]"
   ]
  },
  {
   "cell_type": "code",
   "execution_count": null,
   "metadata": {
    "collapsed": false
   },
   "outputs": [],
   "source": []
  },
  {
   "cell_type": "code",
   "execution_count": 38,
   "metadata": {
    "collapsed": false
   },
   "outputs": [],
   "source": []
  },
  {
   "cell_type": "code",
   "execution_count": 9,
   "metadata": {
    "collapsed": false
   },
   "outputs": [
    {
     "name": "stdout",
     "output_type": "stream",
     "text": [
      "0.314562846807\n"
     ]
    }
   ],
   "source": [
    "msk = np.random.rand(len(df)) < 0.8\n",
    "features = [3,  4,  6,  7,  8,  9, 10, 11, 12, 13, 14, 15, 16, 17, 20, 21]\n",
    "X_train = df[msk].iloc[:,features]\n",
    "X_test = df[~msk].iloc[:,features]\n",
    "y_train = df[msk].iloc[:,22]\n",
    "y_test = df[~msk].iloc[:,22]\n",
    "print(log_loss(y_test,np.ones(len(y_test))*y_train.mean()))\n"
   ]
  },
  {
   "cell_type": "code",
   "execution_count": 10,
   "metadata": {
    "collapsed": false
   },
   "outputs": [
    {
     "name": "stdout",
     "output_type": "stream",
     "text": [
      "0.288201761136\n"
     ]
    },
    {
     "name": "stderr",
     "output_type": "stream",
     "text": [
      "/Users/macbook/anaconda2/lib/python2.7/site-packages/numpy/lib/arraysetops.py:200: FutureWarning: numpy not_equal will not check object identity in the future. The comparison did not return the same result as suggested by the identity (`is`)) and will change.\n",
      "  flag = np.concatenate(([True], aux[1:] != aux[:-1]))\n",
      "/Users/macbook/anaconda2/lib/python2.7/site-packages/numpy/lib/arraysetops.py:259: FutureWarning: numpy equal will not check object identity in the future. The comparison did not return the same result as suggested by the identity (`is`)) and will change.\n",
      "  return aux[:-1][aux[1:] == aux[:-1]]\n"
     ]
    },
    {
     "name": "stdout",
     "output_type": "stream",
     "text": [
      "0.0935168624951\n"
     ]
    }
   ],
   "source": [
    "#encoding ordinal variables \n",
    "X_train_ordinal = X_train.values\n",
    "X_test_ordinal = X_test.values\n",
    "les = []\n",
    "l = LogisticRegression()\n",
    "r = RandomForestClassifier(n_estimators=25,max_depth=10)\n",
    "for i in range(X_train_ordinal.shape[1]):\n",
    "    le = preprocessing.LabelEncoder()\n",
    "    le.fit(df.iloc[:,features].iloc[:, i])\n",
    "    les.append(le)\n",
    "    X_train_ordinal[:, i] = le.transform(X_train_ordinal[:, i])\n",
    "    X_test_ordinal[:, i] = le.transform(X_test_ordinal[:, i])\n",
    "l.fit(X_train_ordinal,y_train)\n",
    "y_pred = l.predict_proba(X_test_ordinal)\n",
    "print(log_loss(y_test,y_pred))\n",
    "r.fit(X_train_ordinal,y_train)\n",
    "y_pred = r.predict_proba(X_test_ordinal)\n",
    "print(log_loss(y_test,y_pred))"
   ]
  },
  {
   "cell_type": "code",
   "execution_count": 11,
   "metadata": {
    "collapsed": false
   },
   "outputs": [
    {
     "name": "stdout",
     "output_type": "stream",
     "text": [
      "0.115623973796\n",
      "0.0909615047488\n",
      "(81, 55)\n"
     ]
    }
   ],
   "source": [
    "#dummy variables/ one hot encoding\n",
    "from sklearn.preprocessing import OneHotEncoder\n",
    "enc = OneHotEncoder(handle_unknown='ignore')\n",
    "enc.fit(X_train_ordinal)\n",
    "X_train_one_hot = enc.transform(X_train_ordinal)\n",
    "X_test_one_hot = enc.transform(X_test_ordinal)\n",
    "l.fit(X_train_one_hot,y_train)\n",
    "y_pred = l.predict_proba(X_test_one_hot)\n",
    "print(log_loss(y_test,y_pred))\n",
    "r.fit(X_train_one_hot,y_train)\n",
    "y_pred = r.predict_proba(X_test_one_hot)\n",
    "print(log_loss(y_test,y_pred))\n",
    "print(X_train_one_hot.shape)"
   ]
  },
  {
   "cell_type": "code",
   "execution_count": null,
   "metadata": {
    "collapsed": false
   },
   "outputs": [],
   "source": []
  },
  {
   "cell_type": "code",
   "execution_count": null,
   "metadata": {
    "collapsed": true
   },
   "outputs": [],
   "source": []
  },
  {
   "cell_type": "code",
   "execution_count": 12,
   "metadata": {
    "collapsed": false
   },
   "outputs": [],
   "source": [
    "#df['Sleep_Quality'].astype('category', ordered=True, categories=ordered_sleep).cat.codes"
   ]
  },
  {
   "cell_type": "code",
   "execution_count": 13,
   "metadata": {
    "collapsed": false
   },
   "outputs": [],
   "source": [
    "from sklearn.preprocessing import LabelEncoder"
   ]
  },
  {
   "cell_type": "code",
   "execution_count": 14,
   "metadata": {
    "collapsed": false
   },
   "outputs": [],
   "source": [
    "le = LabelEncoder()"
   ]
  },
  {
   "cell_type": "code",
   "execution_count": 15,
   "metadata": {
    "collapsed": true
   },
   "outputs": [],
   "source": [
    "f = [  4,  6,  7,  8,  9, 10, 11, 12, 13, 14, 15, 16, 17, 20]"
   ]
  },
  {
   "cell_type": "code",
   "execution_count": 16,
   "metadata": {
    "collapsed": false
   },
   "outputs": [],
   "source": [
    "for col in df[f]:\n",
    "    df[col] = le.fit_transform(df[col].astype('str'))"
   ]
  },
  {
   "cell_type": "code",
   "execution_count": 17,
   "metadata": {
    "collapsed": false
   },
   "outputs": [
    {
     "data": {
      "text/html": [
       "<div>\n",
       "<table border=\"1\" class=\"dataframe\">\n",
       "  <thead>\n",
       "    <tr style=\"text-align: right;\">\n",
       "      <th></th>\n",
       "      <th>Sleep_Quality</th>\n",
       "      <th>Focus_Atten_Concen</th>\n",
       "      <th>Memory</th>\n",
       "      <th>Drive_Passion_Motivation</th>\n",
       "      <th>Physical_Energy</th>\n",
       "      <th>Capacity_Productivity</th>\n",
       "      <th>Decisiveness</th>\n",
       "      <th>Verbal_Fluency_Word_Recall</th>\n",
       "      <th>Creativity_Insight</th>\n",
       "      <th>InterpersonalCapability_Empathy</th>\n",
       "      <th>Emotional_Stability</th>\n",
       "      <th>Euhphoria_Joy_Happiness</th>\n",
       "      <th>Estimated_Effect_Duration</th>\n",
       "      <th>Current_User_Comparison</th>\n",
       "    </tr>\n",
       "  </thead>\n",
       "  <tbody>\n",
       "    <tr>\n",
       "      <th>0</th>\n",
       "      <td>1</td>\n",
       "      <td>0</td>\n",
       "      <td>0</td>\n",
       "      <td>0</td>\n",
       "      <td>0</td>\n",
       "      <td>0</td>\n",
       "      <td>0</td>\n",
       "      <td>2</td>\n",
       "      <td>1</td>\n",
       "      <td>2</td>\n",
       "      <td>2</td>\n",
       "      <td>2</td>\n",
       "      <td>1</td>\n",
       "      <td>0</td>\n",
       "    </tr>\n",
       "    <tr>\n",
       "      <th>1</th>\n",
       "      <td>1</td>\n",
       "      <td>0</td>\n",
       "      <td>2</td>\n",
       "      <td>2</td>\n",
       "      <td>0</td>\n",
       "      <td>0</td>\n",
       "      <td>2</td>\n",
       "      <td>2</td>\n",
       "      <td>1</td>\n",
       "      <td>2</td>\n",
       "      <td>0</td>\n",
       "      <td>0</td>\n",
       "      <td>1</td>\n",
       "      <td>0</td>\n",
       "    </tr>\n",
       "    <tr>\n",
       "      <th>2</th>\n",
       "      <td>1</td>\n",
       "      <td>0</td>\n",
       "      <td>0</td>\n",
       "      <td>1</td>\n",
       "      <td>1</td>\n",
       "      <td>1</td>\n",
       "      <td>0</td>\n",
       "      <td>0</td>\n",
       "      <td>0</td>\n",
       "      <td>0</td>\n",
       "      <td>2</td>\n",
       "      <td>2</td>\n",
       "      <td>2</td>\n",
       "      <td>3</td>\n",
       "    </tr>\n",
       "    <tr>\n",
       "      <th>3</th>\n",
       "      <td>1</td>\n",
       "      <td>0</td>\n",
       "      <td>0</td>\n",
       "      <td>0</td>\n",
       "      <td>0</td>\n",
       "      <td>0</td>\n",
       "      <td>0</td>\n",
       "      <td>0</td>\n",
       "      <td>0</td>\n",
       "      <td>2</td>\n",
       "      <td>2</td>\n",
       "      <td>2</td>\n",
       "      <td>2</td>\n",
       "      <td>2</td>\n",
       "    </tr>\n",
       "    <tr>\n",
       "      <th>4</th>\n",
       "      <td>1</td>\n",
       "      <td>0</td>\n",
       "      <td>2</td>\n",
       "      <td>0</td>\n",
       "      <td>0</td>\n",
       "      <td>0</td>\n",
       "      <td>2</td>\n",
       "      <td>2</td>\n",
       "      <td>1</td>\n",
       "      <td>2</td>\n",
       "      <td>2</td>\n",
       "      <td>0</td>\n",
       "      <td>1</td>\n",
       "      <td>2</td>\n",
       "    </tr>\n",
       "  </tbody>\n",
       "</table>\n",
       "</div>"
      ],
      "text/plain": [
       "   Sleep_Quality  Focus_Atten_Concen  Memory  Drive_Passion_Motivation  \\\n",
       "0              1                   0       0                         0   \n",
       "1              1                   0       2                         2   \n",
       "2              1                   0       0                         1   \n",
       "3              1                   0       0                         0   \n",
       "4              1                   0       2                         0   \n",
       "\n",
       "   Physical_Energy  Capacity_Productivity  Decisiveness  \\\n",
       "0                0                      0             0   \n",
       "1                0                      0             2   \n",
       "2                1                      1             0   \n",
       "3                0                      0             0   \n",
       "4                0                      0             2   \n",
       "\n",
       "   Verbal_Fluency_Word_Recall  Creativity_Insight  \\\n",
       "0                           2                   1   \n",
       "1                           2                   1   \n",
       "2                           0                   0   \n",
       "3                           0                   0   \n",
       "4                           2                   1   \n",
       "\n",
       "   InterpersonalCapability_Empathy  Emotional_Stability  \\\n",
       "0                                2                    2   \n",
       "1                                2                    0   \n",
       "2                                0                    2   \n",
       "3                                2                    2   \n",
       "4                                2                    2   \n",
       "\n",
       "   Euhphoria_Joy_Happiness  Estimated_Effect_Duration  Current_User_Comparison  \n",
       "0                        2                          1                        0  \n",
       "1                        0                          1                        0  \n",
       "2                        2                          2                        3  \n",
       "3                        2                          2                        2  \n",
       "4                        0                          1                        2  "
      ]
     },
     "execution_count": 17,
     "metadata": {},
     "output_type": "execute_result"
    }
   ],
   "source": [
    "df_train = df[f]\n",
    "df_train.head()"
   ]
  },
  {
   "cell_type": "code",
   "execution_count": null,
   "metadata": {
    "collapsed": false
   },
   "outputs": [],
   "source": []
  },
  {
   "cell_type": "code",
   "execution_count": null,
   "metadata": {
    "collapsed": true
   },
   "outputs": [],
   "source": []
  },
  {
   "cell_type": "code",
   "execution_count": 18,
   "metadata": {
    "collapsed": true
   },
   "outputs": [],
   "source": [
    "mapping = {'Excellent': 3, 'OK':2, 'Poor':1}"
   ]
  },
  {
   "cell_type": "code",
   "execution_count": null,
   "metadata": {
    "collapsed": false
   },
   "outputs": [],
   "source": []
  },
  {
   "cell_type": "code",
   "execution_count": null,
   "metadata": {
    "collapsed": false
   },
   "outputs": [],
   "source": []
  },
  {
   "cell_type": "code",
   "execution_count": null,
   "metadata": {
    "collapsed": false
   },
   "outputs": [],
   "source": []
  },
  {
   "cell_type": "code",
   "execution_count": 293,
   "metadata": {
    "collapsed": false
   },
   "outputs": [],
   "source": [
    "df['Sleep_Quality'] = df['Sleep_Quality'].astype('category')\n",
    "df['Sleep_Quality'] = df['Sleep_Quality'].cat.reorder_categories(['Poor', 'OK','Excellent'], ordered=True)\n",
    "df['Sleep_Quality'] = df['Sleep_Quality'].cat.codes"
   ]
  },
  {
   "cell_type": "code",
   "execution_count": 294,
   "metadata": {
    "collapsed": false
   },
   "outputs": [],
   "source": [
    "feat =  [ 6,  7,  8,  9, 10, 11, 12, 14, 15, 16] #creativity insight only has two responses, so we have to skip it"
   ]
  },
  {
   "cell_type": "code",
   "execution_count": 295,
   "metadata": {
    "collapsed": false
   },
   "outputs": [],
   "source": [
    "for col in df[feat]:\n",
    "    df[col] = df[col].astype('category')\n",
    "    df[col]= df[col].cat.reorder_categories(['Less good', 'No effect', 'Improved'], ordered=True)\n",
    "    df[col] = df[col].cat.codes"
   ]
  },
  {
   "cell_type": "code",
   "execution_count": 296,
   "metadata": {
    "collapsed": false
   },
   "outputs": [
    {
     "data": {
      "text/plain": [
       "Improved     51\n",
       "No effect    50\n",
       "Name: Creativity_Insight, dtype: int64"
      ]
     },
     "execution_count": 296,
     "metadata": {},
     "output_type": "execute_result"
    }
   ],
   "source": [
    "df['Creativity_Insight'].value_counts()"
   ]
  },
  {
   "cell_type": "code",
   "execution_count": 297,
   "metadata": {
    "collapsed": false
   },
   "outputs": [],
   "source": [
    "df['Creativity_Insight'] = df['Creativity_Insight'].astype('category')\n",
    "df['Creativity_Insight'] = df['Creativity_Insight'].cat.reorder_categories(['No effect', 'Improved'], ordered=True)\n",
    "df['Creativity_Insight'] = df['Creativity_Insight'].cat.codes"
   ]
  },
  {
   "cell_type": "code",
   "execution_count": 298,
   "metadata": {
    "collapsed": false
   },
   "outputs": [],
   "source": [
    "df['Estimated_Effect_Duration'] = df['Estimated_Effect_Duration'].astype('category')\n",
    "df['Estimated_Effect_Duration'] = df['Estimated_Effect_Duration'].cat.reorder_categories(['<2', '2-4', '4-8','8+'], ordered=True)\n",
    "df['Estimated_Effect_Duration'] = df['Estimated_Effect_Duration'].cat.codes"
   ]
  },
  {
   "cell_type": "code",
   "execution_count": 299,
   "metadata": {
    "collapsed": false
   },
   "outputs": [],
   "source": [
    "df['Overall_Experience'] = df['Overall_Experience'].astype('category')\n",
    "df['Overall_Experience'] = df['Overall_Experience'].cat.reorder_categories(['Awful','Not good','No effect','Good', 'Excellent'], ordered=True)\n",
    "df['Overall_Experience'] = df['Overall_Experience'].cat.codes"
   ]
  },
  {
   "cell_type": "code",
   "execution_count": 300,
   "metadata": {
    "collapsed": false
   },
   "outputs": [],
   "source": [
    "df['User_Status'] = df['User_Status'].astype('category')\n",
    "df['User_Status'] = df['User_Status'].cat.reorder_categories(['Non-user', 'XNootropic User'], ordered=True)\n",
    "df['User_Status'] = df['User_Status'].cat.codes"
   ]
  },
  {
   "cell_type": "code",
   "execution_count": 248,
   "metadata": {
    "collapsed": false
   },
   "outputs": [],
   "source": []
  },
  {
   "cell_type": "code",
   "execution_count": null,
   "metadata": {
    "collapsed": false
   },
   "outputs": [],
   "source": []
  },
  {
   "cell_type": "code",
   "execution_count": null,
   "metadata": {
    "collapsed": false
   },
   "outputs": [],
   "source": []
  },
  {
   "cell_type": "code",
   "execution_count": null,
   "metadata": {
    "collapsed": false
   },
   "outputs": [],
   "source": []
  },
  {
   "cell_type": "code",
   "execution_count": 111,
   "metadata": {
    "collapsed": false
   },
   "outputs": [],
   "source": []
  },
  {
   "cell_type": "code",
   "execution_count": 301,
   "metadata": {
    "collapsed": true
   },
   "outputs": [],
   "source": [
    "features = [  4,  6,  7,  8,  9, 10, 11, 12, 13, 14, 15, 16, 17, 21]"
   ]
  },
  {
   "cell_type": "code",
   "execution_count": 303,
   "metadata": {
    "collapsed": false
   },
   "outputs": [
    {
     "data": {
      "text/html": [
       "<div>\n",
       "<table border=\"1\" class=\"dataframe\">\n",
       "  <thead>\n",
       "    <tr style=\"text-align: right;\">\n",
       "      <th></th>\n",
       "      <th>Sleep_Quality</th>\n",
       "      <th>Focus_Atten_Concen</th>\n",
       "      <th>Memory</th>\n",
       "      <th>Drive_Passion_Motivation</th>\n",
       "      <th>Physical_Energy</th>\n",
       "      <th>Capacity_Productivity</th>\n",
       "      <th>Decisiveness</th>\n",
       "      <th>Verbal_Fluency_Word_Recall</th>\n",
       "      <th>Creativity_Insight</th>\n",
       "      <th>InterpersonalCapability_Empathy</th>\n",
       "      <th>Emotional_Stability</th>\n",
       "      <th>Euphoria_Joy_Happiness</th>\n",
       "      <th>Estimated_Effect_Duration</th>\n",
       "      <th>User_Status</th>\n",
       "    </tr>\n",
       "  </thead>\n",
       "  <tbody>\n",
       "    <tr>\n",
       "      <th>0</th>\n",
       "      <td>1</td>\n",
       "      <td>2</td>\n",
       "      <td>2</td>\n",
       "      <td>2</td>\n",
       "      <td>2</td>\n",
       "      <td>2</td>\n",
       "      <td>2</td>\n",
       "      <td>1</td>\n",
       "      <td>0</td>\n",
       "      <td>1</td>\n",
       "      <td>1</td>\n",
       "      <td>1</td>\n",
       "      <td>2</td>\n",
       "      <td>0</td>\n",
       "    </tr>\n",
       "    <tr>\n",
       "      <th>1</th>\n",
       "      <td>1</td>\n",
       "      <td>2</td>\n",
       "      <td>1</td>\n",
       "      <td>1</td>\n",
       "      <td>2</td>\n",
       "      <td>2</td>\n",
       "      <td>1</td>\n",
       "      <td>1</td>\n",
       "      <td>0</td>\n",
       "      <td>1</td>\n",
       "      <td>2</td>\n",
       "      <td>2</td>\n",
       "      <td>2</td>\n",
       "      <td>0</td>\n",
       "    </tr>\n",
       "    <tr>\n",
       "      <th>2</th>\n",
       "      <td>1</td>\n",
       "      <td>2</td>\n",
       "      <td>2</td>\n",
       "      <td>0</td>\n",
       "      <td>0</td>\n",
       "      <td>0</td>\n",
       "      <td>2</td>\n",
       "      <td>2</td>\n",
       "      <td>1</td>\n",
       "      <td>2</td>\n",
       "      <td>1</td>\n",
       "      <td>1</td>\n",
       "      <td>3</td>\n",
       "      <td>1</td>\n",
       "    </tr>\n",
       "    <tr>\n",
       "      <th>3</th>\n",
       "      <td>1</td>\n",
       "      <td>2</td>\n",
       "      <td>2</td>\n",
       "      <td>2</td>\n",
       "      <td>2</td>\n",
       "      <td>2</td>\n",
       "      <td>2</td>\n",
       "      <td>2</td>\n",
       "      <td>1</td>\n",
       "      <td>1</td>\n",
       "      <td>1</td>\n",
       "      <td>1</td>\n",
       "      <td>3</td>\n",
       "      <td>1</td>\n",
       "    </tr>\n",
       "    <tr>\n",
       "      <th>4</th>\n",
       "      <td>1</td>\n",
       "      <td>2</td>\n",
       "      <td>1</td>\n",
       "      <td>2</td>\n",
       "      <td>2</td>\n",
       "      <td>2</td>\n",
       "      <td>1</td>\n",
       "      <td>1</td>\n",
       "      <td>0</td>\n",
       "      <td>1</td>\n",
       "      <td>1</td>\n",
       "      <td>2</td>\n",
       "      <td>2</td>\n",
       "      <td>1</td>\n",
       "    </tr>\n",
       "  </tbody>\n",
       "</table>\n",
       "</div>"
      ],
      "text/plain": [
       "   Sleep_Quality  Focus_Atten_Concen  Memory  Drive_Passion_Motivation  \\\n",
       "0              1                   2       2                         2   \n",
       "1              1                   2       1                         1   \n",
       "2              1                   2       2                         0   \n",
       "3              1                   2       2                         2   \n",
       "4              1                   2       1                         2   \n",
       "\n",
       "   Physical_Energy  Capacity_Productivity  Decisiveness  \\\n",
       "0                2                      2             2   \n",
       "1                2                      2             1   \n",
       "2                0                      0             2   \n",
       "3                2                      2             2   \n",
       "4                2                      2             1   \n",
       "\n",
       "   Verbal_Fluency_Word_Recall  Creativity_Insight  \\\n",
       "0                           1                   0   \n",
       "1                           1                   0   \n",
       "2                           2                   1   \n",
       "3                           2                   1   \n",
       "4                           1                   0   \n",
       "\n",
       "   InterpersonalCapability_Empathy  Emotional_Stability  \\\n",
       "0                                1                    1   \n",
       "1                                1                    2   \n",
       "2                                2                    1   \n",
       "3                                1                    1   \n",
       "4                                1                    1   \n",
       "\n",
       "   Euphoria_Joy_Happiness  Estimated_Effect_Duration  User_Status  \n",
       "0                       1                          2            0  \n",
       "1                       2                          2            0  \n",
       "2                       1                          3            1  \n",
       "3                       1                          3            1  \n",
       "4                       2                          2            1  "
      ]
     },
     "execution_count": 303,
     "metadata": {},
     "output_type": "execute_result"
    }
   ],
   "source": [
    "df[features].head()"
   ]
  },
  {
   "cell_type": "code",
   "execution_count": null,
   "metadata": {
    "collapsed": false
   },
   "outputs": [],
   "source": []
  },
  {
   "cell_type": "code",
   "execution_count": null,
   "metadata": {
    "collapsed": false
   },
   "outputs": [],
   "source": []
  },
  {
   "cell_type": "code",
   "execution_count": null,
   "metadata": {
    "collapsed": false
   },
   "outputs": [],
   "source": []
  },
  {
   "cell_type": "code",
   "execution_count": null,
   "metadata": {
    "collapsed": false
   },
   "outputs": [],
   "source": []
  },
  {
   "cell_type": "code",
   "execution_count": null,
   "metadata": {
    "collapsed": false
   },
   "outputs": [],
   "source": []
  },
  {
   "cell_type": "code",
   "execution_count": 603,
   "metadata": {
    "collapsed": false
   },
   "outputs": [
    {
     "name": "stdout",
     "output_type": "stream",
     "text": [
      "0.244703177182\n"
     ]
    }
   ],
   "source": [
    "msk = np.random.rand(len(df)) < 0.8\n",
    "features = [4,  6,  7,  8,  9, 10, 11, 12, 13, 14, 15, 16, 17, 21]\n",
    "X_train = df[msk].iloc[:,features]\n",
    "X_test = df[~msk].iloc[:,features]\n",
    "y_train = df[msk].iloc[:,22]\n",
    "y_test = df[~msk].iloc[:,22]\n",
    "\n",
    "print(log_loss(y_test,np.ones(len(y_test))*y_train.mean()))\n"
   ]
  },
  {
   "cell_type": "code",
   "execution_count": null,
   "metadata": {
    "collapsed": true
   },
   "outputs": [],
   "source": []
  },
  {
   "cell_type": "code",
   "execution_count": null,
   "metadata": {
    "collapsed": true
   },
   "outputs": [],
   "source": [
    "#encoding ordinal variables \n",
    "X_train_ordinal = X_train.values\n",
    "X_test_ordinal = X_test.values\n",
    "les = []\n",
    "l = LogisticRegression()\n",
    "r = RandomForestClassifier(n_estimators=25,max_depth=10)\n",
    "for i in range(X_train_ordinal.shape[1]):\n",
    "    le = preprocessing.LabelEncoder()\n",
    "    le.fit(df.iloc[:,features].iloc[:, i])\n",
    "    les.append(le)\n",
    "    X_train_ordinal[:, i] = le.transform(X_train_ordinal[:, i])\n",
    "    X_test_ordinal[:, i] = le.transform(X_test_ordinal[:, i])\n",
    "l.fit(X_train_ordinal,y_train)\n",
    "y_pred = l.predict_proba(X_test_ordinal)\n",
    "print(log_loss(y_test,y_pred))\n",
    "r.fit(X_train_ordinal,y_train)\n",
    "y_pred = r.predict_proba(X_test_ordinal)\n",
    "print(log_loss(y_test,y_pred))"
   ]
  },
  {
   "cell_type": "code",
   "execution_count": 313,
   "metadata": {
    "collapsed": false
   },
   "outputs": [
    {
     "name": "stdout",
     "output_type": "stream",
     "text": [
      "0.165626970426\n"
     ]
    }
   ],
   "source": [
    "l = LogisticRegression()\n",
    "r  = RandomForestClassifier(n_estimators=25, max_depth=10)\n",
    "\n",
    "\n",
    "l.fit(X_train, y_train)\n",
    "y_pred = l.predict_proba(X_test)\n",
    "print (log_loss(y_test, y_pred))"
   ]
  },
  {
   "cell_type": "code",
   "execution_count": 314,
   "metadata": {
    "collapsed": false
   },
   "outputs": [
    {
     "name": "stdout",
     "output_type": "stream",
     "text": [
      "0.100235590986\n"
     ]
    }
   ],
   "source": [
    "r.fit(X_train, y_train)\n",
    "y_pred = r.predict_proba(X_test)\n",
    "print (log_loss(y_test, y_pred))"
   ]
  },
  {
   "cell_type": "code",
   "execution_count": null,
   "metadata": {
    "collapsed": false
   },
   "outputs": [],
   "source": []
  },
  {
   "cell_type": "code",
   "execution_count": 315,
   "metadata": {
    "collapsed": true
   },
   "outputs": [],
   "source": [
    "from sklearn.feature_selection import RFE"
   ]
  },
  {
   "cell_type": "code",
   "execution_count": 932,
   "metadata": {
    "collapsed": false
   },
   "outputs": [],
   "source": [
    "f = [4,  6,  7,  8,  9, 10, 11, 12, 13, 14, 15, 16, 17, 21, 22]\n"
   ]
  },
  {
   "cell_type": "code",
   "execution_count": 325,
   "metadata": {
    "collapsed": false
   },
   "outputs": [],
   "source": [
    "array = df[f].values"
   ]
  },
  {
   "cell_type": "code",
   "execution_count": 720,
   "metadata": {
    "collapsed": false
   },
   "outputs": [
    {
     "data": {
      "text/plain": [
       "array([[1, 2, 2, ..., 2, 0, 1],\n",
       "       [1, 2, 1, ..., 2, 0, 1],\n",
       "       [1, 2, 2, ..., 3, 1, 0],\n",
       "       ..., \n",
       "       [1, 2, 2, ..., 2, 0, 1],\n",
       "       [0, 2, 2, ..., 2, 0, 1],\n",
       "       [0, 0, 0, ..., 2, 0, 1]])"
      ]
     },
     "execution_count": 720,
     "metadata": {},
     "output_type": "execute_result"
    }
   ],
   "source": [
    "X = array[:, 0:14]\n",
    "Y = array[:, 14]"
   ]
  },
  {
   "cell_type": "code",
   "execution_count": 851,
   "metadata": {
    "collapsed": false
   },
   "outputs": [
    {
     "name": "stdout",
     "output_type": "stream",
     "text": [
      "Num Features: 5\n",
      "Selected Features: [False False  True  True  True False False False False  True  True False\n",
      " False False]\n",
      "Feature Ranking: [ 4 10  1  1  1  6  9  7  5  1  1  3  2  8]\n"
     ]
    }
   ],
   "source": [
    "#feature extraction\n",
    "\n",
    "model = LogisticRegression()\n",
    "rfe = RFE(model, 5)\n",
    "fit = rfe.fit(X,Y)\n",
    "print ('Num Features: {}'.format(fit.n_features_))\n",
    "print ('Selected Features: {}'.format(fit.support_))\n",
    "print ('Feature Ranking: {}'.format(fit.ranking_))"
   ]
  },
  {
   "cell_type": "code",
   "execution_count": null,
   "metadata": {
    "collapsed": false
   },
   "outputs": [],
   "source": []
  },
  {
   "cell_type": "code",
   "execution_count": 406,
   "metadata": {
    "collapsed": false
   },
   "outputs": [],
   "source": [
    "from sklearn.model_selection import train_test_split\n",
    "from sklearn.metrics import accuracy_score \n",
    "from sklearn.model_selection import KFold\n",
    "\n",
    "\n",
    "def cv_score (clf, x, y, score_func=accuracy_score):\n",
    "    result = 0\n",
    "    nfold = 5\n",
    "    for train, test in KFold(nfold).split(x):\n",
    "        clf.fit(x[train], y[train]) #fit\n",
    "        result += score_func(clf.predict(x[test]), y[test])\n",
    "    return result / nfold #average\n",
    "    \n"
   ]
  },
  {
   "cell_type": "code",
   "execution_count": null,
   "metadata": {
    "collapsed": false
   },
   "outputs": [],
   "source": []
  },
  {
   "cell_type": "code",
   "execution_count": 619,
   "metadata": {
    "collapsed": false
   },
   "outputs": [
    {
     "name": "stdout",
     "output_type": "stream",
     "text": [
      "0.317955464743\n"
     ]
    }
   ],
   "source": [
    "Xtrain, Xtest, ytrain, ytest = train_test_split(X, Y, test_size=.30)\n",
    "print(log_loss(ytest,np.ones(len(ytest))*ytrain.mean()))\n"
   ]
  },
  {
   "cell_type": "code",
   "execution_count": 731,
   "metadata": {
    "collapsed": false
   },
   "outputs": [
    {
     "name": "stdout",
     "output_type": "stream",
     "text": [
      "0.903225806452\n"
     ]
    }
   ],
   "source": [
    "model = LogisticRegression()\n",
    "model.fit(Xtrain, ytrain)\n",
    "print(accuracy_score(model.predict(Xtest), ytest))"
   ]
  },
  {
   "cell_type": "code",
   "execution_count": null,
   "metadata": {
    "collapsed": false
   },
   "outputs": [],
   "source": []
  },
  {
   "cell_type": "code",
   "execution_count": 431,
   "metadata": {
    "collapsed": false
   },
   "outputs": [
    {
     "name": "stdout",
     "output_type": "stream",
     "text": [
      "('c:', 0.001, 'score:', 0.89416666666666667)\n",
      "('c:', 0.1, 'score:', 0.89416666666666667)\n",
      "('c:', 1, 'score:', 0.90749999999999997)\n",
      "('c:', 10, 'score:', 0.90666666666666662)\n",
      "('c:', 100, 'score:', 0.85500000000000009)\n",
      "1 0.9075\n"
     ]
    }
   ],
   "source": [
    "Cs = [0.001, 0.1, 1, 10, 100]\n",
    "\n",
    "best_score = 0\n",
    "for C in Cs:\n",
    "    logreg = LogisticRegression(C=C)\n",
    "    score = cv_score(logreg, Xtrain, ytrain)\n",
    "    print ('c:', C, 'score:', score)\n",
    "    \n",
    "    if score > best_score:\n",
    "        best_score = score\n",
    "        best_C = C\n",
    "print best_C, best_score"
   ]
  },
  {
   "cell_type": "code",
   "execution_count": 428,
   "metadata": {
    "collapsed": false
   },
   "outputs": [
    {
     "name": "stdout",
     "output_type": "stream",
     "text": [
      "C with no scoring method: 10\n",
      "Accuracy: 0.923076923077\n"
     ]
    }
   ],
   "source": [
    "from sklearn.model_selection import GridSearchCV\n",
    "\n",
    "clf = LogisticRegression()\n",
    "params = {'C': [0.001, 0.1, 1, 10, 100] }\n",
    "clf_grid = GridSearchCV(clf, param_grid = params)\n",
    "clf_grid.fit(Xtrain, ytrain)\n",
    "\n",
    "print ('C with no scoring method: {}'.format(clf_grid.best_params_['C']))\n",
    "print ('Accuracy: {}'. format(accuracy_score(clf_grid.predict(Xtest), ytest)))"
   ]
  },
  {
   "cell_type": "code",
   "execution_count": 628,
   "metadata": {
    "collapsed": false
   },
   "outputs": [
    {
     "name": "stdout",
     "output_type": "stream",
     "text": [
      "Num Features: 5\n",
      "Selected Features: [ True False  True False  True False False False False  True False False\n",
      " False  True]\n",
      "Feature Ranking: [ 1  5  1  2  1  6  9 10  8  1  7  4  3  1]\n"
     ]
    }
   ],
   "source": [
    "model = LogisticRegression(C=10)\n",
    "rfe = RFE(model, 5)\n",
    "fit = rfe.fit(X,Y)\n",
    "print ('Num Features: {}'.format(fit.n_features_))\n",
    "print ('Selected Features: {}'.format(fit.support_))\n",
    "print ('Feature Ranking: {}'.format(fit.ranking_))"
   ]
  },
  {
   "cell_type": "code",
   "execution_count": 670,
   "metadata": {
    "collapsed": false
   },
   "outputs": [
    {
     "data": {
      "text/plain": [
       "[0, 2, 4, 9, 13, 14]"
      ]
     },
     "execution_count": 670,
     "metadata": {},
     "output_type": "execute_result"
    }
   ],
   "source": [
    "important_feat = []\n",
    "for ind, val in enumerate(fit.ranking_):\n",
    "    if val == 1:\n",
    "        important_feat.append(ind)\n",
    "important_feat.append(14)\n",
    "important_feat"
   ]
  },
  {
   "cell_type": "code",
   "execution_count": 735,
   "metadata": {
    "collapsed": false
   },
   "outputs": [],
   "source": [
    "arr = (df[f][important_feat]).values\n",
    "\n",
    "xfeat = arr[:,0:4]\n",
    "yfeat = arr[:,5]\n",
    "xtr, xte, ytr, yte = train_test_split(xfeat, yfeat)"
   ]
  },
  {
   "cell_type": "code",
   "execution_count": null,
   "metadata": {
    "collapsed": false
   },
   "outputs": [],
   "source": []
  },
  {
   "cell_type": "code",
   "execution_count": null,
   "metadata": {
    "collapsed": false
   },
   "outputs": [],
   "source": []
  },
  {
   "cell_type": "code",
   "execution_count": 740,
   "metadata": {
    "collapsed": false
   },
   "outputs": [
    {
     "name": "stdout",
     "output_type": "stream",
     "text": [
      "0.923076923077\n",
      "             precision    recall  f1-score   support\n",
      "\n",
      "          0       1.00      0.33      0.50         3\n",
      "          1       0.92      1.00      0.96        23\n",
      "\n",
      "avg / total       0.93      0.92      0.91        26\n",
      "\n"
     ]
    }
   ],
   "source": [
    "model = LogisticRegression(C=10)\n",
    "model.fit(xtr, ytr)\n",
    "print(accuracy_score(model.predict(xte), yte))\n",
    "y_pred = model.predict(xte)\n",
    "print (classification_report(yte, y_pred))"
   ]
  },
  {
   "cell_type": "code",
   "execution_count": null,
   "metadata": {
    "collapsed": false
   },
   "outputs": [],
   "source": []
  },
  {
   "cell_type": "code",
   "execution_count": 615,
   "metadata": {
    "collapsed": false
   },
   "outputs": [
    {
     "name": "stdout",
     "output_type": "stream",
     "text": [
      "0.903225806452\n",
      "             precision    recall  f1-score   support\n",
      "\n",
      "          0       1.00      0.50      0.67         4\n",
      "          1       0.93      1.00      0.96        27\n",
      "\n",
      "avg / total       0.94      0.94      0.93        31\n",
      "\n"
     ]
    }
   ],
   "source": [
    "model = LogisticRegression(C=10)\n",
    "model.fit(Xtrain, ytrain)\n",
    "y_pred = clf.predict(Xtest)\n",
    "print(model.score(Xtest, ytest))\n",
    "print (classification_report(ytest, y_pred))"
   ]
  },
  {
   "cell_type": "code",
   "execution_count": 616,
   "metadata": {
    "collapsed": false
   },
   "outputs": [
    {
     "name": "stdout",
     "output_type": "stream",
     "text": [
      "0.903225806452\n",
      "             precision    recall  f1-score   support\n",
      "\n",
      "          0       1.00      0.50      0.67         4\n",
      "          1       0.93      1.00      0.96        27\n",
      "\n",
      "avg / total       0.94      0.94      0.93        31\n",
      "\n"
     ]
    }
   ],
   "source": [
    "model = LogisticRegression(C=1)\n",
    "model.fit(Xtrain, ytrain)\n",
    "y_pred = clf.predict(Xtest)\n",
    "print(model.score(Xtest, ytest))\n",
    "print (classification_report(ytest, y_pred))"
   ]
  },
  {
   "cell_type": "code",
   "execution_count": null,
   "metadata": {
    "collapsed": true
   },
   "outputs": [],
   "source": []
  },
  {
   "cell_type": "code",
   "execution_count": 585,
   "metadata": {
    "collapsed": false
   },
   "outputs": [
    {
     "name": "stdout",
     "output_type": "stream",
     "text": [
      "[ 0.03337474  0.0551188   0.01947888  0.1226479   0.2804025   0.05629805\n",
      "  0.03265298  0.05560031  0.03751364  0.01382665  0.09548402  0.05626454\n",
      "  0.1229569   0.01838011]\n"
     ]
    }
   ],
   "source": [
    "from sklearn.ensemble import ExtraTreesClassifier\n",
    "#fature extraction\n",
    "model = ExtraTreesClassifier()\n",
    "model.fit(X,Y)\n",
    "print (model.feature_importances_)"
   ]
  },
  {
   "cell_type": "code",
   "execution_count": null,
   "metadata": {
    "collapsed": true
   },
   "outputs": [],
   "source": []
  },
  {
   "cell_type": "code",
   "execution_count": 382,
   "metadata": {
    "collapsed": false
   },
   "outputs": [
    {
     "data": {
      "text/plain": [
       "Index([u'Sleep_Quality', u'Focus_Atten_Concen', u'Memory',\n",
       "       u'Drive_Passion_Motivation', u'Physical_Energy',\n",
       "       u'Capacity_Productivity', u'Decisiveness',\n",
       "       u'Verbal_Fluency_Word_Recall', u'Creativity_Insight',\n",
       "       u'InterpersonalCapability_Empathy', u'Emotional_Stability',\n",
       "       u'Euphoria_Joy_Happiness', u'Estimated_Effect_Duration', u'User_Status',\n",
       "       u'Overall_Exp_Rating'],\n",
       "      dtype='object')"
      ]
     },
     "execution_count": 382,
     "metadata": {},
     "output_type": "execute_result"
    }
   ],
   "source": [
    "df[f].columns"
   ]
  },
  {
   "cell_type": "code",
   "execution_count": 440,
   "metadata": {
    "collapsed": false
   },
   "outputs": [
    {
     "name": "stdout",
     "output_type": "stream",
     "text": [
      "[ 0.05414989  0.04917061  0.01110204  0.13329236  0.33238444  0.05127408\n",
      "  0.04291261  0.044173    0.02785005  0.00593548  0.09042286  0.06738658\n",
      "  0.08595804  0.00398797]\n"
     ]
    }
   ],
   "source": [
    "from sklearn.ensemble import RandomForestClassifier\n",
    "clf = RandomForestClassifier()\n",
    "clf.fit(X,Y)\n",
    "print (clf.feature_importances_)"
   ]
  },
  {
   "cell_type": "code",
   "execution_count": 934,
   "metadata": {
    "collapsed": false
   },
   "outputs": [
    {
     "data": {
      "text/plain": [
       "0.99019607843137258"
      ]
     },
     "execution_count": 934,
     "metadata": {},
     "output_type": "execute_result"
    }
   ],
   "source": [
    "rf = RandomForestClassifier()\n",
    "rf.fit(X, y)\n",
    "rf.score(X,y)"
   ]
  },
  {
   "cell_type": "code",
   "execution_count": 935,
   "metadata": {
    "collapsed": false
   },
   "outputs": [
    {
     "data": {
      "text/plain": [
       "<matplotlib.axes._subplots.AxesSubplot at 0x12b603790>"
      ]
     },
     "execution_count": 935,
     "metadata": {},
     "output_type": "execute_result"
    },
    {
     "data": {
      "image/png": "[encoded data removed]",
      "text/plain": [
       "<matplotlib.figure.Figure at 0x12da35fd0>"
      ]
     },
     "metadata": {},
     "output_type": "display_data"
    }
   ],
   "source": [
    "feature_importances = pd.DataFrame(rf.feature_importances_, index=(df[f].iloc[:,:14].columns),\n",
    "                                   columns=(['Importance'])).sort_values('Importance', ascending=False)\n",
    "feature_importances.plot(kind='barh')"
   ]
  },
  {
   "cell_type": "code",
   "execution_count": 849,
   "metadata": {
    "collapsed": false
   },
   "outputs": [
    {
     "data": {
      "text/plain": [
       "<matplotlib.axes._subplots.AxesSubplot at 0x125ccab10>"
      ]
     },
     "execution_count": 849,
     "metadata": {},
     "output_type": "execute_result"
    },
    {
     "data": {
      "image/png": "[encoded data removed]",
      "text/plain": [
       "<matplotlib.figure.Figure at 0x122fcd450>"
      ]
     },
     "metadata": {},
     "output_type": "display_data"
    }
   ],
   "source": [
    "rf = RandomForestClassifier()\n",
    "rf.fit(X_train, y_train)\n",
    "rf.score(X_test,y_test)\n",
    "feature_importances = pd.DataFrame(rf.feature_importances_, index=X_train.columns,\n",
    "                                   columns=(['Importance'])).sort_values('Importance', ascending=False)\n",
    "\n",
    "feature_importances.plot(kind='barh')"
   ]
  },
  {
   "cell_type": "code",
   "execution_count": 933,
   "metadata": {
    "collapsed": false
   },
   "outputs": [],
   "source": [
    "data = df[f] # trying to see if we can keep column names\n",
    "y = data.Overall_Exp_Rating\n",
    "X = data.drop(['Overall_Exp_Rating'], axis=1)\n",
    "\n",
    "\n",
    "\n",
    "#X_train, X_test, y_train, y_test = train_test_split(X,y, random_state=42, test_size=.30)"
   ]
  },
  {
   "cell_type": "code",
   "execution_count": 937,
   "metadata": {
    "collapsed": false
   },
   "outputs": [
    {
     "name": "stdout",
     "output_type": "stream",
     "text": [
      "                                    Score\n",
      "Name                                     \n",
      "Physical_Energy                  0.389286\n",
      "Focus_Atten_Concen               0.161226\n",
      "Estimated_Effect_Duration        0.098286\n",
      "Creativity_Insight               0.072043\n",
      "Sleep_Quality                    0.055212\n",
      "Euphoria_Joy_Happiness           0.055007\n",
      "Emotional_Stability              0.053911\n",
      "User_Status                      0.039157\n",
      "Decisiveness                     0.031578\n",
      "Capacity_Productivity            0.026011\n",
      "Drive_Passion_Motivation         0.009202\n",
      "InterpersonalCapability_Empathy  0.007480\n",
      "Memory                           0.000896\n",
      "Verbal_Fluency_Word_Recall       0.000704\n"
     ]
    },
    {
     "data": {
      "text/plain": [
       "<matplotlib.axes._subplots.AxesSubplot at 0x12999a650>"
      ]
     },
     "execution_count": 937,
     "metadata": {},
     "output_type": "execute_result"
    },
    {
     "data": {
      "image/png": "[encoded data removed]",
      "text/plain": [
       "<matplotlib.figure.Figure at 0x12b6348d0>"
      ]
     },
     "metadata": {},
     "output_type": "display_data"
    }
   ],
   "source": [
    "rf = RandomForestClassifier()\n",
    "rf.fit(X_train, y_train)\n",
    "rf.score(X_test,y_test)\n",
    "headers= ['Name', 'Score']\n",
    "values = sorted(zip(X_train.columns, rf.feature_importances_), key=lambda x:x[1]* -1)\n",
    "df_2 = pd.DataFrame(data=values, columns=headers).set_index('Name')\n",
    "print (df_2)\n",
    "df_2.plot(kind='barh')"
   ]
  },
  {
   "cell_type": "code",
   "execution_count": 915,
   "metadata": {
    "collapsed": false
   },
   "outputs": [
    {
     "name": "stdout",
     "output_type": "stream",
     "text": [
      "                                    Score\n",
      "Name                                     \n",
      "Physical_Energy                  0.562143\n",
      "Verbal_Fluency_Word_Recall       0.092371\n",
      "Euphoria_Joy_Happiness           0.061614\n",
      "Focus_Atten_Concen               0.053269\n",
      "Estimated_Effect_Duration        0.046802\n",
      "Sleep_Quality                    0.033768\n",
      "Emotional_Stability              0.029611\n",
      "Decisiveness                     0.026991\n",
      "InterpersonalCapability_Empathy  0.023719\n",
      "Drive_Passion_Motivation         0.021883\n",
      "Capacity_Productivity            0.018534\n",
      "Memory                           0.010031\n",
      "Creativity_Insight               0.009713\n",
      "User_Status                      0.009551\n"
     ]
    },
    {
     "data": {
      "text/plain": [
       "<matplotlib.axes._subplots.AxesSubplot at 0x12dfc12d0>"
      ]
     },
     "execution_count": 915,
     "metadata": {},
     "output_type": "execute_result"
    },
    {
     "data": {
      "image/png": "[encoded data removed]",
      "text/plain": [
       "<matplotlib.figure.Figure at 0x12b6a4950>"
      ]
     },
     "metadata": {},
     "output_type": "display_data"
    }
   ],
   "source": [
    "#training the model\n",
    "from sklearn.ensemble import RandomForestRegressor\n",
    "rf = RandomForestRegressor(n_jobs=2, n_estimators=1000)\n",
    "model = rf.fit(X_train, y_train)\n",
    "\n",
    "headers= ['Name', 'Score']\n",
    "values = sorted(zip(X_train.columns, model.feature_importances_), key=lambda x:x[1]* -1)\n",
    "df_2 = pd.DataFrame(data=values, columns=headers).set_index('Name')\n",
    "print (df_2)\n",
    "df_2.plot(kind='barh')"
   ]
  },
  {
   "cell_type": "code",
   "execution_count": 860,
   "metadata": {
    "collapsed": false
   },
   "outputs": [
    {
     "name": "stdout",
     "output_type": "stream",
     "text": [
      "Num Features: 5\n",
      "Selected Features: [False False  True  True  True False False False False  True  True False\n",
      " False False]\n",
      "Feature Ranking: [ 4 10  1  1  1  6  9  7  5  1  1  3  2  8]\n"
     ]
    },
    {
     "data": {
      "text/html": [
       "<div>\n",
       "<table border=\"1\" class=\"dataframe\">\n",
       "  <thead>\n",
       "    <tr style=\"text-align: right;\">\n",
       "      <th></th>\n",
       "      <th>Score</th>\n",
       "    </tr>\n",
       "    <tr>\n",
       "      <th>Name</th>\n",
       "      <th></th>\n",
       "    </tr>\n",
       "  </thead>\n",
       "  <tbody>\n",
       "    <tr>\n",
       "      <th>Memory</th>\n",
       "      <td>1</td>\n",
       "    </tr>\n",
       "    <tr>\n",
       "      <th>Drive_Passion_Motivation</th>\n",
       "      <td>1</td>\n",
       "    </tr>\n",
       "    <tr>\n",
       "      <th>Physical_Energy</th>\n",
       "      <td>1</td>\n",
       "    </tr>\n",
       "    <tr>\n",
       "      <th>InterpersonalCapability_Empathy</th>\n",
       "      <td>1</td>\n",
       "    </tr>\n",
       "    <tr>\n",
       "      <th>Emotional_Stability</th>\n",
       "      <td>1</td>\n",
       "    </tr>\n",
       "    <tr>\n",
       "      <th>Estimated_Effect_Duration</th>\n",
       "      <td>2</td>\n",
       "    </tr>\n",
       "    <tr>\n",
       "      <th>Euphoria_Joy_Happiness</th>\n",
       "      <td>3</td>\n",
       "    </tr>\n",
       "    <tr>\n",
       "      <th>Sleep_Quality</th>\n",
       "      <td>4</td>\n",
       "    </tr>\n",
       "    <tr>\n",
       "      <th>Creativity_Insight</th>\n",
       "      <td>5</td>\n",
       "    </tr>\n",
       "    <tr>\n",
       "      <th>Capacity_Productivity</th>\n",
       "      <td>6</td>\n",
       "    </tr>\n",
       "    <tr>\n",
       "      <th>Verbal_Fluency_Word_Recall</th>\n",
       "      <td>7</td>\n",
       "    </tr>\n",
       "    <tr>\n",
       "      <th>User_Status</th>\n",
       "      <td>8</td>\n",
       "    </tr>\n",
       "    <tr>\n",
       "      <th>Decisiveness</th>\n",
       "      <td>9</td>\n",
       "    </tr>\n",
       "    <tr>\n",
       "      <th>Focus_Atten_Concen</th>\n",
       "      <td>10</td>\n",
       "    </tr>\n",
       "  </tbody>\n",
       "</table>\n",
       "</div>"
      ],
      "text/plain": [
       "                                 Score\n",
       "Name                                  \n",
       "Memory                               1\n",
       "Drive_Passion_Motivation             1\n",
       "Physical_Energy                      1\n",
       "InterpersonalCapability_Empathy      1\n",
       "Emotional_Stability                  1\n",
       "Estimated_Effect_Duration            2\n",
       "Euphoria_Joy_Happiness               3\n",
       "Sleep_Quality                        4\n",
       "Creativity_Insight                   5\n",
       "Capacity_Productivity                6\n",
       "Verbal_Fluency_Word_Recall           7\n",
       "User_Status                          8\n",
       "Decisiveness                         9\n",
       "Focus_Atten_Concen                  10"
      ]
     },
     "execution_count": 860,
     "metadata": {},
     "output_type": "execute_result"
    }
   ],
   "source": [
    "model = LogisticRegression()\n",
    "rfe = RFE(model, 5)\n",
    "fit = rfe.fit(X,Y)\n",
    "print ('Num Features: {}'.format(fit.n_features_))\n",
    "print ('Selected Features: {}'.format(fit.support_))\n",
    "print ('Feature Ranking: {}'.format(fit.ranking_))\n",
    "headers= ['Name', 'Score']\n",
    "values = sorted(zip(X_train.columns, fit.ranking_), key=lambda x:x[1]* 1)\n",
    "df_2 = pd.DataFrame(data=values, columns=headers).set_index('Name')\n",
    "df_2"
   ]
  },
  {
   "cell_type": "code",
   "execution_count": 914,
   "metadata": {
    "collapsed": false
   },
   "outputs": [
    {
     "name": "stdout",
     "output_type": "stream",
     "text": [
      "                                    Score\n",
      "Name                                     \n",
      "Physical_Energy                  0.195156\n",
      "Focus_Atten_Concen               0.150648\n",
      "Euphoria_Joy_Happiness           0.096912\n",
      "Capacity_Productivity            0.089364\n",
      "Drive_Passion_Motivation         0.088601\n",
      "Decisiveness                     0.082843\n",
      "Estimated_Effect_Duration        0.078138\n",
      "Emotional_Stability              0.058659\n",
      "Sleep_Quality                    0.050428\n",
      "InterpersonalCapability_Empathy  0.050255\n",
      "Verbal_Fluency_Word_Recall       0.024881\n",
      "Memory                           0.017735\n",
      "Creativity_Insight               0.011261\n",
      "User_Status                      0.005120\n"
     ]
    },
    {
     "data": {
      "text/plain": [
       "<matplotlib.axes._subplots.AxesSubplot at 0x12af5ef50>"
      ]
     },
     "execution_count": 914,
     "metadata": {},
     "output_type": "execute_result"
    },
    {
     "data": {
      "image/png": "[encoded data removed]",
      "text/plain": [
       "<matplotlib.figure.Figure at 0x12b2043d0>"
      ]
     },
     "metadata": {},
     "output_type": "display_data"
    }
   ],
   "source": [
    "#fature extraction\n",
    "model = ExtraTreesClassifier()\n",
    "model.fit(X_train,y_train)\n",
    "headers= ['Name', 'Score']\n",
    "values = sorted(zip(X_train.columns, model.feature_importances_), key=lambda x:x[1]* -1)\n",
    "df_2 = pd.DataFrame(data=values, columns=headers).set_index('Name')\n",
    "print (df_2)\n",
    "df_2.plot(kind='barh')"
   ]
  },
  {
   "cell_type": "code",
   "execution_count": null,
   "metadata": {
    "collapsed": true
   },
   "outputs": [],
   "source": []
  },
  {
   "cell_type": "code",
   "execution_count": 913,
   "metadata": {
    "collapsed": false
   },
   "outputs": [
    {
     "name": "stdout",
     "output_type": "stream",
     "text": [
      "Feature Ranking:\n",
      "1. feature 4 (0.313581)\n",
      "2. feature 12 (0.091774)\n",
      "3. feature 10 (0.090390)\n",
      "4. feature 11 (0.087827)\n",
      "5. feature 3 (0.080342)\n",
      "6. feature 5 (0.067581)\n",
      "7. feature 1 (0.056337)\n",
      "8. feature 0 (0.046305)\n",
      "9. feature 6 (0.045549)\n",
      "10. feature 7 (0.044080)\n",
      "11. feature 8 (0.024403)\n",
      "12. feature 13 (0.021482)\n",
      "13. feature 9 (0.015239)\n",
      "14. feature 2 (0.015111)\n"
     ]
    },
    {
     "data": {
      "image/png": "[encoded data removed]",
      "text/plain": [
       "<matplotlib.figure.Figure at 0x12d3b3890>"
      ]
     },
     "metadata": {},
     "output_type": "display_data"
    }
   ],
   "source": [
    "forest = ExtraTreesClassifier(n_estimators=250, random_state=0)\n",
    "forest.fit(X,y)\n",
    "importances = forest.feature_importances_\n",
    "std = np.std([tree.feature_importances_ for tree in forest.estimators_], axis=0)\n",
    "\n",
    "indices = np.argsort(importances)[::-1]\n",
    "\n",
    "print ('Feature Ranking:')\n",
    "for f in range(X.shape[1]):\n",
    "    print (\"%d. feature %d (%f)\" %(f + 1, indices[f], importances[indices[f]]))\n",
    "    \n",
    "plt.figure()\n",
    "plt.title('Feature Importances')\n",
    "plt.bar(range(X.shape[1]), importances[indices], color='r', yerr=std[indices], align='center')\n",
    "plt.xticks(range(X.shape[1]), indices, rotation=45)\n",
    "plt.xlim([-1, X.shape[1]])\n",
    "plt.tight_layout()\n",
    "plt.show()"
   ]
  },
  {
   "cell_type": "code",
   "execution_count": null,
   "metadata": {
    "collapsed": true
   },
   "outputs": [],
   "source": []
  },
  {
   "cell_type": "code",
   "execution_count": 864,
   "metadata": {
    "collapsed": false
   },
   "outputs": [
    {
     "data": {
      "text/html": [
       "<div>\n",
       "<table border=\"1\" class=\"dataframe\">\n",
       "  <thead>\n",
       "    <tr style=\"text-align: right;\">\n",
       "      <th></th>\n",
       "      <th>Score</th>\n",
       "    </tr>\n",
       "    <tr>\n",
       "      <th>Name</th>\n",
       "      <th></th>\n",
       "    </tr>\n",
       "  </thead>\n",
       "  <tbody>\n",
       "    <tr>\n",
       "      <th>Focus_Atten_Concen</th>\n",
       "      <td>1</td>\n",
       "    </tr>\n",
       "    <tr>\n",
       "      <th>Drive_Passion_Motivation</th>\n",
       "      <td>1</td>\n",
       "    </tr>\n",
       "    <tr>\n",
       "      <th>Physical_Energy</th>\n",
       "      <td>1</td>\n",
       "    </tr>\n",
       "    <tr>\n",
       "      <th>Verbal_Fluency_Word_Recall</th>\n",
       "      <td>1</td>\n",
       "    </tr>\n",
       "    <tr>\n",
       "      <th>Emotional_Stability</th>\n",
       "      <td>1</td>\n",
       "    </tr>\n",
       "    <tr>\n",
       "      <th>InterpersonalCapability_Empathy</th>\n",
       "      <td>2</td>\n",
       "    </tr>\n",
       "    <tr>\n",
       "      <th>Euphoria_Joy_Happiness</th>\n",
       "      <td>3</td>\n",
       "    </tr>\n",
       "    <tr>\n",
       "      <th>Decisiveness</th>\n",
       "      <td>4</td>\n",
       "    </tr>\n",
       "    <tr>\n",
       "      <th>Estimated_Effect_Duration</th>\n",
       "      <td>5</td>\n",
       "    </tr>\n",
       "    <tr>\n",
       "      <th>Sleep_Quality</th>\n",
       "      <td>6</td>\n",
       "    </tr>\n",
       "    <tr>\n",
       "      <th>User_Status</th>\n",
       "      <td>7</td>\n",
       "    </tr>\n",
       "    <tr>\n",
       "      <th>Memory</th>\n",
       "      <td>8</td>\n",
       "    </tr>\n",
       "    <tr>\n",
       "      <th>Capacity_Productivity</th>\n",
       "      <td>9</td>\n",
       "    </tr>\n",
       "    <tr>\n",
       "      <th>Creativity_Insight</th>\n",
       "      <td>10</td>\n",
       "    </tr>\n",
       "  </tbody>\n",
       "</table>\n",
       "</div>"
      ],
      "text/plain": [
       "                                 Score\n",
       "Name                                  \n",
       "Focus_Atten_Concen                   1\n",
       "Drive_Passion_Motivation             1\n",
       "Physical_Energy                      1\n",
       "Verbal_Fluency_Word_Recall           1\n",
       "Emotional_Stability                  1\n",
       "InterpersonalCapability_Empathy      2\n",
       "Euphoria_Joy_Happiness               3\n",
       "Decisiveness                         4\n",
       "Estimated_Effect_Duration            5\n",
       "Sleep_Quality                        6\n",
       "User_Status                          7\n",
       "Memory                               8\n",
       "Capacity_Productivity                9\n",
       "Creativity_Insight                  10"
      ]
     },
     "execution_count": 864,
     "metadata": {},
     "output_type": "execute_result"
    }
   ],
   "source": [
    "from sklearn.svm import SVR\n",
    "estimator = SVR(kernel='linear')\n",
    "selector = RFE(estimator, 5, step=1)\n",
    "selector = selector.fit(X_train, y_train)\n",
    "headers= ['Name', 'Score']\n",
    "values = sorted(zip(X_train.columns, selector.ranking_), key=lambda x:x[1]* 1)\n",
    "df_2 = pd.DataFrame(data=values, columns=headers).set_index('Name')\n",
    "df_2"
   ]
  },
  {
   "cell_type": "code",
   "execution_count": 903,
   "metadata": {
    "collapsed": false
   },
   "outputs": [
    {
     "data": {
      "text/plain": [
       "[<matplotlib.text.Text at 0x12af54450>,\n",
       " <matplotlib.text.Text at 0x12ace6590>,\n",
       " <matplotlib.text.Text at 0x12a8d7410>,\n",
       " <matplotlib.text.Text at 0x12a3af690>,\n",
       " <matplotlib.text.Text at 0x12a3af950>,\n",
       " <matplotlib.text.Text at 0x12a8e13d0>,\n",
       " <matplotlib.text.Text at 0x12a8e1c50>,\n",
       " <matplotlib.text.Text at 0x12a85cbd0>,\n",
       " <matplotlib.text.Text at 0x12a865fd0>,\n",
       " <matplotlib.text.Text at 0x12a865750>,\n",
       " <matplotlib.text.Text at 0x12a856950>,\n",
       " <matplotlib.text.Text at 0x12a890850>,\n",
       " <matplotlib.text.Text at 0x12a3af190>,\n",
       " <matplotlib.text.Text at 0x12a856a90>]"
      ]
     },
     "execution_count": 903,
     "metadata": {},
     "output_type": "execute_result"
    },
    {
     "data": {
      "image/png": "[encoded data removed]",
      "text/plain": [
       "<matplotlib.figure.Figure at 0x12b47a610>"
      ]
     },
     "metadata": {},
     "output_type": "display_data"
    }
   ],
   "source": [
    "from sklearn import linear_model\n",
    "from sklearn.linear_model import Lasso\n",
    "\n",
    "reg = linear_model.LinearRegression()\n",
    "reg.fit(X_train,y_train)\n",
    "names = X_train.columns\n",
    "lasso = Lasso(alpha=0.1)\n",
    "lasso_coef = lasso.fit(X,y).coef_\n",
    "\n",
    "\n",
    "\n",
    "\n",
    "fig, ax1 = plt.subplots(1,1)\n",
    "\n",
    "plt.plot(range(len(names)), lasso_coef, )\n",
    "plt.tight_layout()\n",
    "plt.title('Important Coefficients')\n",
    "ax1.set_xticks(range(len(names)))\n",
    "ax1.set_xticklabels(names, minor=False, rotation=50)"
   ]
  },
  {
   "cell_type": "code",
   "execution_count": null,
   "metadata": {
    "collapsed": false
   },
   "outputs": [],
   "source": []
  },
  {
   "cell_type": "code",
   "execution_count": null,
   "metadata": {
    "collapsed": true
   },
   "outputs": [],
   "source": []
  },
  {
   "cell_type": "code",
   "execution_count": 608,
   "metadata": {
    "collapsed": false
   },
   "outputs": [
    {
     "name": "stdout",
     "output_type": "stream",
     "text": [
      "0.903225806452\n",
      "             precision    recall  f1-score   support\n",
      "\n",
      "          0       0.67      0.50      0.57         4\n",
      "          1       0.93      0.96      0.95        27\n",
      "\n",
      "avg / total       0.89      0.90      0.90        31\n",
      "\n"
     ]
    }
   ],
   "source": [
    "clf = RandomForestClassifier()\n",
    "clf.fit(Xtrain,ytrain)\n",
    "y_pred = clf.predict(Xtest)\n",
    "print(clf.score(Xtest, ytest))\n",
    "print (classification_report(ytest, y_pred))"
   ]
  },
  {
   "cell_type": "code",
   "execution_count": null,
   "metadata": {
    "collapsed": false
   },
   "outputs": [],
   "source": []
  },
  {
   "cell_type": "code",
   "execution_count": null,
   "metadata": {
    "collapsed": true
   },
   "outputs": [],
   "source": []
  },
  {
   "cell_type": "code",
   "execution_count": 456,
   "metadata": {
    "collapsed": true
   },
   "outputs": [],
   "source": []
  },
  {
   "cell_type": "code",
   "execution_count": null,
   "metadata": {
    "collapsed": false
   },
   "outputs": [],
   "source": []
  },
  {
   "cell_type": "code",
   "execution_count": null,
   "metadata": {
    "collapsed": true
   },
   "outputs": [],
   "source": []
  },
  {
   "cell_type": "code",
   "execution_count": null,
   "metadata": {
    "collapsed": false
   },
   "outputs": [],
   "source": []
  },
  {
   "cell_type": "code",
   "execution_count": null,
   "metadata": {
    "collapsed": false
   },
   "outputs": [],
   "source": []
  },
  {
   "cell_type": "code",
   "execution_count": 464,
   "metadata": {
    "collapsed": true
   },
   "outputs": [],
   "source": [
    "from sklearn import svm"
   ]
  },
  {
   "cell_type": "code",
   "execution_count": 610,
   "metadata": {
    "collapsed": false
   },
   "outputs": [
    {
     "name": "stdout",
     "output_type": "stream",
     "text": [
      "0.935483870968\n",
      "             precision    recall  f1-score   support\n",
      "\n",
      "          0       1.00      0.50      0.67         4\n",
      "          1       0.93      1.00      0.96        27\n",
      "\n",
      "avg / total       0.94      0.94      0.93        31\n",
      "\n"
     ]
    }
   ],
   "source": [
    "clf  = svm.SVC()\n",
    "clf.fit(Xtrain, ytrain)\n",
    "y_pred = clf.predict(Xtest)\n",
    "print(clf.score(Xtest, ytest))\n",
    "print (classification_report(ytest, y_pred))"
   ]
  },
  {
   "cell_type": "code",
   "execution_count": 547,
   "metadata": {
    "collapsed": false
   },
   "outputs": [
    {
     "name": "stdout",
     "output_type": "stream",
     "text": [
      "0.823529411765\n",
      "             precision    recall  f1-score   support\n",
      "\n",
      "          0       0.00      0.00      0.00         1\n",
      "          1       0.93      0.88      0.90        16\n",
      "\n",
      "avg / total       0.88      0.82      0.85        17\n",
      "\n"
     ]
    }
   ],
   "source": [
    "svc = svm.SVC(kernel='linear')\n",
    "svc.fit(X_train, y_train)\n",
    "y_pred = svc.predict(X_test)\n",
    "print(svc.score(X_test, y_test))\n",
    "print (classification_report(y_test, y_pred))"
   ]
  },
  {
   "cell_type": "code",
   "execution_count": 611,
   "metadata": {
    "collapsed": false
   },
   "outputs": [
    {
     "name": "stdout",
     "output_type": "stream",
     "text": [
      "0.875\n",
      "             precision    recall  f1-score   support\n",
      "\n",
      "          0       0.00      0.00      0.00         1\n",
      "          1       0.93      0.93      0.93        15\n",
      "\n",
      "avg / total       0.88      0.88      0.88        16\n",
      "\n"
     ]
    }
   ],
   "source": [
    "svc = svm.SVC(kernel='poly')\n",
    "svc.fit(X_train, y_train)\n",
    "y_pred = svc.predict(X_test)\n",
    "print(svc.score(X_test, y_test))\n",
    "print (classification_report(y_test, y_pred))"
   ]
  },
  {
   "cell_type": "code",
   "execution_count": null,
   "metadata": {
    "collapsed": true
   },
   "outputs": [],
   "source": []
  },
  {
   "cell_type": "code",
   "execution_count": 572,
   "metadata": {
    "collapsed": false
   },
   "outputs": [
    {
     "name": "stdout",
     "output_type": "stream",
     "text": [
      "{'C': 1, 'gamma': 0.07}\n",
      "0.950980392157\n"
     ]
    }
   ],
   "source": [
    "param_grid = {'C': [0.01, 0.1, 1, 10, 100], 'gamma': [0.001, 0.005, 0.01, 0.07]}\n",
    "svc = svm.SVC(kernel='rbf')\n",
    "svc_cv = GridSearchCV(svc, param_grid, cv=5)\n",
    "svc_cv.fit(X,Y)\n",
    "print(svc_cv.best_params_)\n",
    "print(svc_cv.best_score_)"
   ]
  },
  {
   "cell_type": "code",
   "execution_count": 573,
   "metadata": {
    "collapsed": false
   },
   "outputs": [
    {
     "name": "stdout",
     "output_type": "stream",
     "text": [
      "{'C': 0.1, 'gamma': 0.001}\n",
      "0.93137254902\n"
     ]
    }
   ],
   "source": [
    "param_grid = {'C': [0.01, 0.1, 1, 10, 100], 'gamma': [0.001, 0.005, 0.01, 0.07]}\n",
    "svc = svm.SVC(kernel='linear')\n",
    "svc_cv = GridSearchCV(svc, param_grid, cv=5)\n",
    "svc_cv.fit(X,Y)\n",
    "print(svc_cv.best_params_)\n",
    "print(svc_cv.best_score_)"
   ]
  },
  {
   "cell_type": "code",
   "execution_count": 574,
   "metadata": {
    "collapsed": false
   },
   "outputs": [
    {
     "name": "stdout",
     "output_type": "stream",
     "text": [
      "{'C': 1, 'gamma': 0.07}\n",
      "0.941176470588\n"
     ]
    }
   ],
   "source": [
    "param_grid = {'C': [0.01, 0.1, 1, 10, 100], 'gamma': [0.001, 0.005, 0.01, 0.07]}\n",
    "svc = svm.SVC(kernel='poly')\n",
    "svc_cv = GridSearchCV(svc, param_grid, cv=5)\n",
    "svc_cv.fit(X,Y)\n",
    "print(svc_cv.best_params_)\n",
    "print(svc_cv.best_score_)"
   ]
  },
  {
   "cell_type": "code",
   "execution_count": 582,
   "metadata": {
    "collapsed": false
   },
   "outputs": [
    {
     "name": "stdout",
     "output_type": "stream",
     "text": [
      "{'kernel': 'rbf', 'C': 1, 'gamma': 0.07}\n",
      "0.950980392157\n"
     ]
    }
   ],
   "source": [
    "param_grid = {'C': [0.0001,0.01, 0.1, 1, 10, 100], 'gamma': [0.001, 0.005, 0.01, 0.05, 0.07], 'kernel':['linear','rbf','poly']}\n",
    "svc = svm.SVC(kernel='linear')\n",
    "svc_cv = GridSearchCV(svc, param_grid, cv=5)\n",
    "svc_cv.fit(X,Y)\n",
    "print(svc_cv.best_params_)\n",
    "print(svc_cv.best_score_)"
   ]
  },
  {
   "cell_type": "code",
   "execution_count": 612,
   "metadata": {
    "collapsed": false
   },
   "outputs": [
    {
     "name": "stdout",
     "output_type": "stream",
     "text": [
      "0.935483870968\n",
      "             precision    recall  f1-score   support\n",
      "\n",
      "          0       1.00      0.50      0.67         4\n",
      "          1       0.93      1.00      0.96        27\n",
      "\n",
      "avg / total       0.94      0.94      0.93        31\n",
      "\n"
     ]
    }
   ],
   "source": [
    "svc = svm.SVC(kernel='rbf', gamma=0.07, C=1.0)\n",
    "\n",
    "svc.fit(Xtrain, ytrain)\n",
    "y_pred = svc.predict(Xtest)\n",
    "print(svc.score(Xtest, ytest))\n",
    "print (classification_report(ytest, y_pred))"
   ]
  },
  {
   "cell_type": "code",
   "execution_count": 507,
   "metadata": {
    "collapsed": false
   },
   "outputs": [],
   "source": []
  },
  {
   "cell_type": "code",
   "execution_count": null,
   "metadata": {
    "collapsed": false
   },
   "outputs": [],
   "source": []
  },
  {
   "cell_type": "code",
   "execution_count": null,
   "metadata": {
    "collapsed": false
   },
   "outputs": [],
   "source": []
  },
  {
   "cell_type": "code",
   "execution_count": null,
   "metadata": {
    "collapsed": false
   },
   "outputs": [],
   "source": []
  },
  {
   "cell_type": "code",
   "execution_count": null,
   "metadata": {
    "collapsed": false
   },
   "outputs": [],
   "source": []
  },
  {
   "cell_type": "code",
   "execution_count": 470,
   "metadata": {
    "collapsed": true
   },
   "outputs": [],
   "source": [
    "from sklearn.metrics import roc_curve"
   ]
  },
  {
   "cell_type": "code",
   "execution_count": 613,
   "metadata": {
    "collapsed": false
   },
   "outputs": [],
   "source": [
    "y_pred_prob = svc.predict(Xtest)"
   ]
  },
  {
   "cell_type": "code",
   "execution_count": 614,
   "metadata": {
    "collapsed": false
   },
   "outputs": [
    {
     "data": {
      "text/plain": [
       "<matplotlib.text.Text at 0x11ec94e50>"
      ]
     },
     "execution_count": 614,
     "metadata": {},
     "output_type": "execute_result"
    },
    {
     "data": {
      "image/png": "[encoded data removed]",
      "text/plain": [
       "<matplotlib.figure.Figure at 0x11ee717d0>"
      ]
     },
     "metadata": {},
     "output_type": "display_data"
    }
   ],
   "source": [
    "fpr, tpr, thresholds = roc_curve(ytest, y_pred_prob)\n",
    "plt.plot([0,1], [0,1], 'k--')\n",
    "plt.plot(fpr, tpr, label='SVM')\n",
    "plt.xlabel('False Positive Rate')\n",
    "plt.ylabel('True Positive Rate')"
   ]
  },
  {
   "cell_type": "code",
   "execution_count": null,
   "metadata": {
    "collapsed": true
   },
   "outputs": [],
   "source": []
  },
  {
   "cell_type": "code",
   "execution_count": null,
   "metadata": {
    "collapsed": true
   },
   "outputs": [],
   "source": []
  }
 ],
 "metadata": {
  "anaconda-cloud": {},
  "kernelspec": {
   "display_name": "Python [default]",
   "language": "python",
   "name": "python2"
  },
  "language_info": {
   "codemirror_mode": {
    "name": "ipython",
    "version": 2
   },
   "file_extension": ".py",
   "mimetype": "text/x-python",
   "name": "python",
   "nbconvert_exporter": "python",
   "pygments_lexer": "ipython2",
   "version": "2.7.12"
  }
 },
 "nbformat": 4,
 "nbformat_minor": 1
}

{
 "cells": [
  {
   "cell_type": "code",
   "execution_count": 233,
   "metadata": {},
   "outputs": [],
   "source": [
    "import pandas as pd\n",
    "import numpy as np\n",
    "import matplotlib.pyplot as plt\n",
    "%matplotlib inline\n",
    "import seaborn as sns\n",
    "sns.set()\n",
    "sns.set_style('whitegrid')\n",
    "sns.set_context('notebook')\n",
    "sns.set_palette('husl')\n",
    "plt.style.context('ggplot')\n",
    "\n",
    "\n",
    "from scipy import stats\n",
    "import statsmodels.api as sm\n",
    "\n",
    "import math"
   ]
  },
  {
   "cell_type": "code",
   "execution_count": null,
   "metadata": {},
   "outputs": [],
   "source": [
    "(0.07002801120448177+1) /2 common language effect"
   ]
  },
  {
   "cell_type": "code",
   "execution_count": null,
   "metadata": {},
   "outputs": [],
   "source": []
  },
  {
   "cell_type": "code",
   "execution_count": 234,
   "metadata": {
    "collapsed": true
   },
   "outputs": [],
   "source": [
    "df_99 = pd.read_csv('Trial_99_Cleaned')\n",
    "df_51 = pd.read_csv('Trial_051_Cleaned')"
   ]
  },
  {
   "cell_type": "code",
   "execution_count": 544,
   "metadata": {},
   "outputs": [],
   "source": [
    "def cohensH (p1, p2):\n",
    "    \"\"\"calculates Cohen's h where it measures the distance between two proportions \"\"\"\n",
    "    phi1 = 2 * np.arcsin(np.sqrt(p1))\n",
    "    phi2 = 2 * np.arcsin(np.sqrt(p2))\n",
    "    h = abs(phi1 - phi2)\n",
    "    return h\n",
    "\n",
    "def Ucrit (N1, N2):\n",
    "    \"\"\"calculates the UCRIT for comparison after the Mann-Whitney U test \"\"\"\n",
    "    mean = 0.5 * N1 * N2\n",
    "    STD = np.sqrt(((N1 * N2) *((N1+N2) + 1))/12)\n",
    "    UCRIT = mean - (1.96 * STD) - 0.5\n",
    "    return UCRIT\n",
    "\n",
    "def rankbis (U, n1, n2):\n",
    "    \"\"\"calculates the rank biserial correlation \"\"\"\n",
    "    M = len(n1)\n",
    "    N = len(n2)\n",
    "    r = 1-((2 * U) / (M*N))\n",
    "    CLES = (r+1) /2\n",
    "    print('Rank Biserial Correlation = {}'.format(r))\n",
    "    print ('CLES = {}'.format(CLES))\n",
    "\n",
    "def manntest (df1, df2):\n",
    "    \"\"\"Calculates the U-statistic and p-value. Also compares U with Ucrit to test for signifance.\"\"\"\n",
    "    U,p = stats.mannwhitneyu(df1, df2, alternative='two-sided')\n",
    "    print ('U = {}'.format(U))\n",
    "    \n",
    "    N1 = len(df1)\n",
    "    N2 = len(df2)\n",
    "    mean = 0.5 * N1 * N2\n",
    "    STD = np.sqrt(((N1 * N2) *((N1+N2) + 1))/12)\n",
    "    Z = (U-mean) / STD\n",
    "    p_val = stats.norm.sf(abs(Z))*2 \n",
    "    \n",
    "    print ('pval = {}'. format(p_val))\n",
    "    \n",
    "    UCRIT = Ucrit(len(df1), len(df2))\n",
    "    \n",
    "    #calculates the rankbis\n",
    "    r = 1-((2 * U) / (N1*N2))\n",
    "    CLES = (r+1) /2\n",
    "    print('Rank Biserial Correlation = {}'.format(r))\n",
    "    print ('CLES = {}'.format(CLES))\n",
    "    \n",
    "    \n",
    "    if U <= UCRIT:\n",
    "        print ('Statistically Significant')\n",
    "    else:\n",
    "        print ('Not Statistically Significant')\n",
    "    \n",
    "    print ('UCRIT = {}'.format(UCRIT))\n",
    "    \n",
    "    "
   ]
  },
  {
   "cell_type": "code",
   "execution_count": 236,
   "metadata": {
    "collapsed": true
   },
   "outputs": [],
   "source": [
    "def permutation_sample(data1, data2):\n",
    "    \"\"\"Generate a permutation sample from two data sets.\"\"\"\n",
    "\n",
    "    # Concatenate the data sets: data\n",
    "    data = np.concatenate((data1,data2))\n",
    "\n",
    "    # Permute the concatenated array: permuted_data\n",
    "    permuted_data = np.random.permutation(data)\n",
    "\n",
    "    # Split the permuted array into two: perm_sample_1, perm_sample_2\n",
    "    perm_sample_1 = permuted_data[:len(data1)]\n",
    "    perm_sample_2 = permuted_data[len(data1):]\n",
    "\n",
    "    return perm_sample_1, perm_sample_2\n",
    "\n",
    "def draw_perm_reps(data_1, data_2, func, size=1):\n",
    "    \"\"\"Generate multiple permutation replicates.\"\"\"\n",
    "\n",
    "    # Initialize array of replicates: perm_replicates\n",
    "    perm_replicates = np.empty(size)\n",
    "\n",
    "    for i in range(size):\n",
    "        # Generate permutation sample\n",
    "        perm_sample_1, perm_sample_2 = permutation_sample(data_1,data_2)\n",
    "\n",
    "        # Compute the test statistic\n",
    "        perm_replicates[i] = func(perm_sample_1, perm_sample_2)\n",
    "\n",
    "    return perm_replicates\n",
    "\n",
    "def prop_diff (data1, data2):\n",
    "    \"\"\"calculates the difference in proportions\"\"\"\n",
    "    count_1 = len([values for values in data1 if values=='High'])\n",
    "\n",
    "    total_1 = len(data1)\n",
    "    \n",
    "    count_2 = len([values for values in data2 if values=='High'])\n",
    "    \n",
    "    total_2 = len(data2)\n",
    "    \n",
    "    p1 = count_1 / total_1\n",
    "    p2 = count_2 / total_2\n",
    "    \n",
    "    diff_prop = p1 - p2\n",
    "    \n",
    "    return diff_prop\n",
    "\n",
    "def get_verduration (df, time):\n",
    "    return df[df.Version_Duration==time]\n",
    "\n",
    "def get_crosstab (df):\n",
    "    return pd.crosstab(index=df['Overall_Exp_Rating'], columns=df['Version'], margins=True)"
   ]
  },
  {
   "cell_type": "code",
   "execution_count": 237,
   "metadata": {},
   "outputs": [],
   "source": [
    "def twomeans (data1, data2, col1, col2):\n",
    "    diff_means = data1[col1].mean() - data2[col2].mean()\n",
    "    \n",
    "    s1 = data1[col1].std()\n",
    "    s2 = data2[col2].std()\n",
    "    \n",
    "    n1 = len(data1[col1])\n",
    "    n2 = len(data2[col2])\n",
    "    \n",
    "    SEM  = np.sqrt(((s1**2)/n1) + ((s2**2)/n2))\n",
    "    CI = diff_means - 1.96 * SEM, diff_means + 1.96 * SEM\n",
    "    \n",
    "    ttest = stats.ttest_ind(data1[col1], data2[col2])\n",
    "    mw = stats.mannwhitneyu(data1[col1], data2[col2])\n",
    "    \n",
    "    print ('Mean Difference = {}'.format(diff_means)) \n",
    "    print ('CI = {}'.format(CI))\n",
    "    print ('SEM = {}'.format(SEM))\n",
    "    \n",
    "    print (ttest)\n",
    "    print (mw)"
   ]
  },
  {
   "cell_type": "code",
   "execution_count": 523,
   "metadata": {},
   "outputs": [],
   "source": [
    "def twoporZtest (x1,x2, n1, n2):\n",
    "    p1 = x1 / n1\n",
    "    p2 = x2 / n2\n",
    "    \n",
    "    p_hat = (x1 + x2) / (n1 + n2)\n",
    "    SEM = np.sqrt(p_hat* (1-p_hat) * ((1/n1) + (1/n2)))\n",
    "    z = (p1-p2) / SEM\n",
    "    p_val = stats.norm.sf(abs(z))\n",
    "    diff_prop = p1-p2\n",
    "    m = 1.96 * np.sqrt(  ((p1 * (1-p1))/n1)  +   ((p2 * (1-p2))/n2)    )\n",
    "    CI = (diff_prop - m), (diff_prop + m)\n",
    "    CH = cohensH(p1,p2)\n",
    "    \n",
    "    print (\"z: {}\".format(z))\n",
    "    print (\"p-value: {}\".format(p_val))\n",
    "    print (\"CI: {}\".format(CI))\n",
    "    print (\"proportion difference: {}\".format(diff_prop))\n",
    "    print (\"p1: {}\".format(p1))\n",
    "    print (\"p2: {}\".format(p2))\n",
    "    print ('Cohens H = {}'.format(CH))\n"
   ]
  },
  {
   "cell_type": "code",
   "execution_count": 521,
   "metadata": {
    "collapsed": true
   },
   "outputs": [],
   "source": [
    "def logodds(num1,num2,dem1,dem2):\n",
    "    ODDS  = (num1/num2) / (dem1/dem2)\n",
    "    logodds = np.log(ODDS)\n",
    "    print ('log odds ratio = {}'.format(logodds))\n",
    "    \n",
    "def conttable(crosstab):\n",
    "    \"\"\"creates a contingency table and tests for independence among the categorical variables, then returns the \n",
    "    pearson r residuals. Also returns the pvalue of the ordinal association between the two \"\"\"\n",
    "    table = sm.stats.Table(crosstab)\n",
    "    \n",
    "    print (\"Original Table\")\n",
    "    print (table.table_orig)\n",
    "    print (\"--------------\")\n",
    "    print (\"Fitted Values\")\n",
    "    print(table.fittedvalues)\n",
    "    print (\"--------------\")\n",
    "    print ('Pearon Residuals')\n",
    "    print(table.resid_pearson)\n",
    "    result = table.test_ordinal_association()\n",
    "    print (\"--------------\")\n",
    "    print (\"pvalue = {}\".format(result.pvalue))\n",
    "    print ('statistic = {}'.format(result.statistic))\n",
    "    \n",
    "    \n"
   ]
  },
  {
   "cell_type": "markdown",
   "metadata": {},
   "source": [
    "## Comparing Overall Experience Between the Two Trials\n",
    "\n",
    "\n",
    "$H_o$: The proportion of users from Trial 99 and Trial 51 are no different\n",
    "\n",
    "$H_A$: The proportion of users from trial 51 is higher than trial 99."
   ]
  },
  {
   "cell_type": "code",
   "execution_count": null,
   "metadata": {
    "collapsed": true
   },
   "outputs": [],
   "source": []
  },
  {
   "cell_type": "code",
   "execution_count": 240,
   "metadata": {
    "collapsed": true
   },
   "outputs": [],
   "source": [
    "df_99['Version'] = 'Version 99'\n",
    "df_51['Version'] = 'Version 51'"
   ]
  },
  {
   "cell_type": "code",
   "execution_count": 241,
   "metadata": {},
   "outputs": [
    {
     "data": {
      "text/html": [
       "<div>\n",
       "<style>\n",
       "    .dataframe thead tr:only-child th {\n",
       "        text-align: right;\n",
       "    }\n",
       "\n",
       "    .dataframe thead th {\n",
       "        text-align: left;\n",
       "    }\n",
       "\n",
       "    .dataframe tbody tr th {\n",
       "        vertical-align: top;\n",
       "    }\n",
       "</style>\n",
       "<table border=\"1\" class=\"dataframe\">\n",
       "  <thead>\n",
       "    <tr style=\"text-align: right;\">\n",
       "      <th>Overall_Experience</th>\n",
       "      <th>Awful</th>\n",
       "      <th>Excellent</th>\n",
       "      <th>Good</th>\n",
       "      <th>No effect</th>\n",
       "      <th>Not good</th>\n",
       "      <th>All</th>\n",
       "    </tr>\n",
       "    <tr>\n",
       "      <th>Version_Duration</th>\n",
       "      <th></th>\n",
       "      <th></th>\n",
       "      <th></th>\n",
       "      <th></th>\n",
       "      <th></th>\n",
       "      <th></th>\n",
       "    </tr>\n",
       "  </thead>\n",
       "  <tbody>\n",
       "    <tr>\n",
       "      <th>1 day</th>\n",
       "      <td>2</td>\n",
       "      <td>12</td>\n",
       "      <td>26</td>\n",
       "      <td>2</td>\n",
       "      <td>0</td>\n",
       "      <td>42</td>\n",
       "    </tr>\n",
       "    <tr>\n",
       "      <th>1 weeks</th>\n",
       "      <td>2</td>\n",
       "      <td>16</td>\n",
       "      <td>18</td>\n",
       "      <td>2</td>\n",
       "      <td>2</td>\n",
       "      <td>40</td>\n",
       "    </tr>\n",
       "    <tr>\n",
       "      <th>2 weeks</th>\n",
       "      <td>0</td>\n",
       "      <td>13</td>\n",
       "      <td>16</td>\n",
       "      <td>1</td>\n",
       "      <td>1</td>\n",
       "      <td>31</td>\n",
       "    </tr>\n",
       "    <tr>\n",
       "      <th>3 weeks</th>\n",
       "      <td>0</td>\n",
       "      <td>10</td>\n",
       "      <td>9</td>\n",
       "      <td>1</td>\n",
       "      <td>0</td>\n",
       "      <td>20</td>\n",
       "    </tr>\n",
       "    <tr>\n",
       "      <th>All</th>\n",
       "      <td>4</td>\n",
       "      <td>51</td>\n",
       "      <td>69</td>\n",
       "      <td>6</td>\n",
       "      <td>3</td>\n",
       "      <td>133</td>\n",
       "    </tr>\n",
       "  </tbody>\n",
       "</table>\n",
       "</div>"
      ],
      "text/plain": [
       "Overall_Experience  Awful  Excellent  Good  No effect  Not good  All\n",
       "Version_Duration                                                    \n",
       "1 day                   2         12    26          2         0   42\n",
       "1 weeks                 2         16    18          2         2   40\n",
       "2 weeks                 0         13    16          1         1   31\n",
       "3 weeks                 0         10     9          1         0   20\n",
       "All                     4         51    69          6         3  133"
      ]
     },
     "execution_count": 241,
     "metadata": {},
     "output_type": "execute_result"
    }
   ],
   "source": [
    "# Version 51\n",
    "pd.crosstab(index=df_51['Version_Duration'], columns=df_51['Overall_Experience'], margins=True)"
   ]
  },
  {
   "cell_type": "code",
   "execution_count": 242,
   "metadata": {},
   "outputs": [
    {
     "data": {
      "text/html": [
       "<div>\n",
       "<style>\n",
       "    .dataframe thead tr:only-child th {\n",
       "        text-align: right;\n",
       "    }\n",
       "\n",
       "    .dataframe thead th {\n",
       "        text-align: left;\n",
       "    }\n",
       "\n",
       "    .dataframe tbody tr th {\n",
       "        vertical-align: top;\n",
       "    }\n",
       "</style>\n",
       "<table border=\"1\" class=\"dataframe\">\n",
       "  <thead>\n",
       "    <tr style=\"text-align: right;\">\n",
       "      <th>Overall_Experience</th>\n",
       "      <th>Awful</th>\n",
       "      <th>Excellent</th>\n",
       "      <th>Good</th>\n",
       "      <th>No effect</th>\n",
       "      <th>Not good</th>\n",
       "      <th>All</th>\n",
       "    </tr>\n",
       "    <tr>\n",
       "      <th>Version_Duration</th>\n",
       "      <th></th>\n",
       "      <th></th>\n",
       "      <th></th>\n",
       "      <th></th>\n",
       "      <th></th>\n",
       "      <th></th>\n",
       "    </tr>\n",
       "  </thead>\n",
       "  <tbody>\n",
       "    <tr>\n",
       "      <th>1 day</th>\n",
       "      <td>0</td>\n",
       "      <td>9</td>\n",
       "      <td>29</td>\n",
       "      <td>1</td>\n",
       "      <td>0</td>\n",
       "      <td>39</td>\n",
       "    </tr>\n",
       "    <tr>\n",
       "      <th>1 weeks</th>\n",
       "      <td>1</td>\n",
       "      <td>9</td>\n",
       "      <td>16</td>\n",
       "      <td>1</td>\n",
       "      <td>3</td>\n",
       "      <td>30</td>\n",
       "    </tr>\n",
       "    <tr>\n",
       "      <th>2 weeks</th>\n",
       "      <td>0</td>\n",
       "      <td>7</td>\n",
       "      <td>11</td>\n",
       "      <td>1</td>\n",
       "      <td>1</td>\n",
       "      <td>20</td>\n",
       "    </tr>\n",
       "    <tr>\n",
       "      <th>3 weeks</th>\n",
       "      <td>0</td>\n",
       "      <td>3</td>\n",
       "      <td>8</td>\n",
       "      <td>2</td>\n",
       "      <td>0</td>\n",
       "      <td>13</td>\n",
       "    </tr>\n",
       "    <tr>\n",
       "      <th>All</th>\n",
       "      <td>1</td>\n",
       "      <td>28</td>\n",
       "      <td>64</td>\n",
       "      <td>5</td>\n",
       "      <td>4</td>\n",
       "      <td>102</td>\n",
       "    </tr>\n",
       "  </tbody>\n",
       "</table>\n",
       "</div>"
      ],
      "text/plain": [
       "Overall_Experience  Awful  Excellent  Good  No effect  Not good  All\n",
       "Version_Duration                                                    \n",
       "1 day                   0          9    29          1         0   39\n",
       "1 weeks                 1          9    16          1         3   30\n",
       "2 weeks                 0          7    11          1         1   20\n",
       "3 weeks                 0          3     8          2         0   13\n",
       "All                     1         28    64          5         4  102"
      ]
     },
     "execution_count": 242,
     "metadata": {},
     "output_type": "execute_result"
    }
   ],
   "source": [
    "#trial 99\n",
    "pd.crosstab(index=df_99['Version_Duration'], columns=df_99['Overall_Experience'], margins=True)"
   ]
  },
  {
   "cell_type": "code",
   "execution_count": 243,
   "metadata": {},
   "outputs": [],
   "source": [
    "t99 = df_99[['Overall_Experience','Version_Duration']]\n",
    "t51 = df_51[['Overall_Experience', 'Version_Duration']]"
   ]
  },
  {
   "cell_type": "code",
   "execution_count": 244,
   "metadata": {},
   "outputs": [],
   "source": [
    "ver_51 = pd.DataFrame(t51)"
   ]
  },
  {
   "cell_type": "code",
   "execution_count": 245,
   "metadata": {},
   "outputs": [],
   "source": [
    "ver_51['Version'] = 'Version 51'"
   ]
  },
  {
   "cell_type": "code",
   "execution_count": 246,
   "metadata": {},
   "outputs": [],
   "source": [
    "ver_99 = pd.DataFrame(t99)\n",
    "ver_99['Version'] = 'Version 99'"
   ]
  },
  {
   "cell_type": "code",
   "execution_count": 247,
   "metadata": {},
   "outputs": [],
   "source": [
    "a = pd.concat([ver_51, ver_99])"
   ]
  },
  {
   "cell_type": "code",
   "execution_count": null,
   "metadata": {},
   "outputs": [],
   "source": []
  },
  {
   "cell_type": "code",
   "execution_count": 248,
   "metadata": {},
   "outputs": [
    {
     "data": {
      "text/html": [
       "<div>\n",
       "<style>\n",
       "    .dataframe thead tr:only-child th {\n",
       "        text-align: right;\n",
       "    }\n",
       "\n",
       "    .dataframe thead th {\n",
       "        text-align: left;\n",
       "    }\n",
       "\n",
       "    .dataframe tbody tr th {\n",
       "        vertical-align: top;\n",
       "    }\n",
       "</style>\n",
       "<table border=\"1\" class=\"dataframe\">\n",
       "  <thead>\n",
       "    <tr>\n",
       "      <th>Version</th>\n",
       "      <th colspan=\"5\" halign=\"left\">Version 51</th>\n",
       "      <th colspan=\"5\" halign=\"left\">Version 99</th>\n",
       "      <th>All</th>\n",
       "    </tr>\n",
       "    <tr>\n",
       "      <th>Overall_Experience</th>\n",
       "      <th>Awful</th>\n",
       "      <th>Excellent</th>\n",
       "      <th>Good</th>\n",
       "      <th>No effect</th>\n",
       "      <th>Not good</th>\n",
       "      <th>Awful</th>\n",
       "      <th>Excellent</th>\n",
       "      <th>Good</th>\n",
       "      <th>No effect</th>\n",
       "      <th>Not good</th>\n",
       "      <th></th>\n",
       "    </tr>\n",
       "    <tr>\n",
       "      <th>Version_Duration</th>\n",
       "      <th></th>\n",
       "      <th></th>\n",
       "      <th></th>\n",
       "      <th></th>\n",
       "      <th></th>\n",
       "      <th></th>\n",
       "      <th></th>\n",
       "      <th></th>\n",
       "      <th></th>\n",
       "      <th></th>\n",
       "      <th></th>\n",
       "    </tr>\n",
       "  </thead>\n",
       "  <tbody>\n",
       "    <tr>\n",
       "      <th>1 day</th>\n",
       "      <td>2</td>\n",
       "      <td>12</td>\n",
       "      <td>26</td>\n",
       "      <td>2</td>\n",
       "      <td>0</td>\n",
       "      <td>0</td>\n",
       "      <td>9</td>\n",
       "      <td>29</td>\n",
       "      <td>1</td>\n",
       "      <td>0</td>\n",
       "      <td>81</td>\n",
       "    </tr>\n",
       "    <tr>\n",
       "      <th>1 weeks</th>\n",
       "      <td>2</td>\n",
       "      <td>16</td>\n",
       "      <td>18</td>\n",
       "      <td>2</td>\n",
       "      <td>2</td>\n",
       "      <td>1</td>\n",
       "      <td>9</td>\n",
       "      <td>16</td>\n",
       "      <td>1</td>\n",
       "      <td>3</td>\n",
       "      <td>70</td>\n",
       "    </tr>\n",
       "    <tr>\n",
       "      <th>2 weeks</th>\n",
       "      <td>0</td>\n",
       "      <td>13</td>\n",
       "      <td>16</td>\n",
       "      <td>1</td>\n",
       "      <td>1</td>\n",
       "      <td>0</td>\n",
       "      <td>7</td>\n",
       "      <td>11</td>\n",
       "      <td>1</td>\n",
       "      <td>1</td>\n",
       "      <td>51</td>\n",
       "    </tr>\n",
       "    <tr>\n",
       "      <th>3 weeks</th>\n",
       "      <td>0</td>\n",
       "      <td>10</td>\n",
       "      <td>9</td>\n",
       "      <td>1</td>\n",
       "      <td>0</td>\n",
       "      <td>0</td>\n",
       "      <td>3</td>\n",
       "      <td>8</td>\n",
       "      <td>2</td>\n",
       "      <td>0</td>\n",
       "      <td>33</td>\n",
       "    </tr>\n",
       "    <tr>\n",
       "      <th>All</th>\n",
       "      <td>4</td>\n",
       "      <td>51</td>\n",
       "      <td>69</td>\n",
       "      <td>6</td>\n",
       "      <td>3</td>\n",
       "      <td>1</td>\n",
       "      <td>28</td>\n",
       "      <td>64</td>\n",
       "      <td>5</td>\n",
       "      <td>4</td>\n",
       "      <td>235</td>\n",
       "    </tr>\n",
       "  </tbody>\n",
       "</table>\n",
       "</div>"
      ],
      "text/plain": [
       "Version            Version 51                                   Version 99  \\\n",
       "Overall_Experience      Awful Excellent Good No effect Not good      Awful   \n",
       "Version_Duration                                                             \n",
       "1 day                       2        12   26         2        0          0   \n",
       "1 weeks                     2        16   18         2        2          1   \n",
       "2 weeks                     0        13   16         1        1          0   \n",
       "3 weeks                     0        10    9         1        0          0   \n",
       "All                         4        51   69         6        3          1   \n",
       "\n",
       "Version                                               All  \n",
       "Overall_Experience Excellent Good No effect Not good       \n",
       "Version_Duration                                           \n",
       "1 day                      9   29         1        0   81  \n",
       "1 weeks                    9   16         1        3   70  \n",
       "2 weeks                    7   11         1        1   51  \n",
       "3 weeks                    3    8         2        0   33  \n",
       "All                       28   64         5        4  235  "
      ]
     },
     "execution_count": 248,
     "metadata": {},
     "output_type": "execute_result"
    }
   ],
   "source": [
    "pd.crosstab( index=a['Version_Duration'], columns=[a['Version'],a['Overall_Experience']], margins=True)"
   ]
  },
  {
   "cell_type": "code",
   "execution_count": null,
   "metadata": {
    "collapsed": true
   },
   "outputs": [],
   "source": []
  },
  {
   "cell_type": "code",
   "execution_count": null,
   "metadata": {},
   "outputs": [],
   "source": []
  },
  {
   "cell_type": "code",
   "execution_count": null,
   "metadata": {},
   "outputs": [],
   "source": []
  },
  {
   "cell_type": "code",
   "execution_count": 249,
   "metadata": {
    "collapsed": true
   },
   "outputs": [],
   "source": [
    "#mapping the Overall experience column by binary values of high or low rating given. \n",
    "rating = {'Excellent': 'High',\n",
    "          'Good':'High',\n",
    "          'No effect': 'Low',\n",
    "          'Not good':'Low',\n",
    "          'Awful': \"Low\"}"
   ]
  },
  {
   "cell_type": "markdown",
   "metadata": {},
   "source": [
    "### Testing to see which trial version of users tend to give a higher or lower overall experience score\n",
    "\n",
    "$\\hat{p}_{1}$ = The proportion of Trial 99 Users that gave the Nootropic a high overall experience rating\n",
    "\n",
    "$\\hat{p}_{2}$ = The proportion of Trial 51 Users that gave the Nootropic a high overall experience rating\n",
    "\n",
    "\n",
    "$H_o$: $\\hat{p}_{1}$ = $\\hat{p}_{2}$\n",
    "\n",
    "$H_A$: $\\hat{p}_{1}$ < $\\hat{p}_{2}$\n",
    "\n",
    "The overall experience between both trials were separated into its four survey collection periods at day 1, week 1, week 2, and week 3 making the samples within the two trial versions independent. Since the data is ordinal, the data was divided into binary variables where the \"Excellent\" and \"Good\" responses are considered to be a \"High\" rating. \"No effect\", \"Not good\", and \"Awful\" is categorizd as a \"Low\" rating for the user's overall experience. Proportions of high ratings across the four version durations were calculated and compared between the two trial versions using a difference in proportions to determine which one has higher ratings. \n",
    "\n",
    "\n",
    "### Day 1: \n",
    "97.43% of Trial 99 users (out of 39 ratings) gave the nootropic a high rating after using the drug for on day. 90.47% of Trial 51 users rated the version high. Because both of the samples have fewer number of failures following the CLT condition does not meet, the samples have to be simulated. Under the Randomization test, a total of 81 \"cards\" was divided up into 76 \"high\"s and 5 \"lows\". The 81 \"cards\" was then randomized and shuffled into the two trial groups consisting of size 39 for Trial 99 and size 42 for Trial 51. The observed proportion difference is 0.0695. From the simulated replicates, a p-value of 0.3579 was calcuated. Because the p-value is less than 0.05, the null hypothesis is not rejected and can conclude there is no statistical difference between the proportion of high overall experience ratings of the two trial versions on day 1. "
   ]
  },
  {
   "cell_type": "code",
   "execution_count": null,
   "metadata": {
    "collapsed": true
   },
   "outputs": [],
   "source": []
  },
  {
   "cell_type": "code",
   "execution_count": null,
   "metadata": {
    "collapsed": true
   },
   "outputs": [],
   "source": []
  },
  {
   "cell_type": "code",
   "execution_count": 250,
   "metadata": {},
   "outputs": [],
   "source": [
    "df_99['Overall_Exp_Rating']= df_99['Overall_Experience'].map(rating)"
   ]
  },
  {
   "cell_type": "code",
   "execution_count": null,
   "metadata": {
    "collapsed": true
   },
   "outputs": [],
   "source": []
  },
  {
   "cell_type": "code",
   "execution_count": 251,
   "metadata": {
    "collapsed": true
   },
   "outputs": [],
   "source": [
    "df_51['Overall_Exp_Rating'] = df_51['Overall_Experience'].map(rating)"
   ]
  },
  {
   "cell_type": "code",
   "execution_count": 252,
   "metadata": {},
   "outputs": [
    {
     "data": {
      "text/html": [
       "<div>\n",
       "<style>\n",
       "    .dataframe thead tr:only-child th {\n",
       "        text-align: right;\n",
       "    }\n",
       "\n",
       "    .dataframe thead th {\n",
       "        text-align: left;\n",
       "    }\n",
       "\n",
       "    .dataframe tbody tr th {\n",
       "        vertical-align: top;\n",
       "    }\n",
       "</style>\n",
       "<table border=\"1\" class=\"dataframe\">\n",
       "  <thead>\n",
       "    <tr style=\"text-align: right;\">\n",
       "      <th>Overall_Exp_Rating</th>\n",
       "      <th>High</th>\n",
       "      <th>Low</th>\n",
       "      <th>All</th>\n",
       "    </tr>\n",
       "    <tr>\n",
       "      <th>Version_Duration</th>\n",
       "      <th></th>\n",
       "      <th></th>\n",
       "      <th></th>\n",
       "    </tr>\n",
       "  </thead>\n",
       "  <tbody>\n",
       "    <tr>\n",
       "      <th>1 day</th>\n",
       "      <td>38</td>\n",
       "      <td>4</td>\n",
       "      <td>42</td>\n",
       "    </tr>\n",
       "    <tr>\n",
       "      <th>1 weeks</th>\n",
       "      <td>34</td>\n",
       "      <td>6</td>\n",
       "      <td>40</td>\n",
       "    </tr>\n",
       "    <tr>\n",
       "      <th>2 weeks</th>\n",
       "      <td>29</td>\n",
       "      <td>2</td>\n",
       "      <td>31</td>\n",
       "    </tr>\n",
       "    <tr>\n",
       "      <th>3 weeks</th>\n",
       "      <td>19</td>\n",
       "      <td>1</td>\n",
       "      <td>20</td>\n",
       "    </tr>\n",
       "    <tr>\n",
       "      <th>All</th>\n",
       "      <td>120</td>\n",
       "      <td>13</td>\n",
       "      <td>133</td>\n",
       "    </tr>\n",
       "  </tbody>\n",
       "</table>\n",
       "</div>"
      ],
      "text/plain": [
       "Overall_Exp_Rating  High  Low  All\n",
       "Version_Duration                  \n",
       "1 day                 38    4   42\n",
       "1 weeks               34    6   40\n",
       "2 weeks               29    2   31\n",
       "3 weeks               19    1   20\n",
       "All                  120   13  133"
      ]
     },
     "execution_count": 252,
     "metadata": {},
     "output_type": "execute_result"
    }
   ],
   "source": [
    "#version 51\n",
    "pd.crosstab(index=df_51['Version_Duration'], columns=df_51['Overall_Exp_Rating'], margins=True)"
   ]
  },
  {
   "cell_type": "code",
   "execution_count": 253,
   "metadata": {},
   "outputs": [
    {
     "data": {
      "text/html": [
       "<div>\n",
       "<style>\n",
       "    .dataframe thead tr:only-child th {\n",
       "        text-align: right;\n",
       "    }\n",
       "\n",
       "    .dataframe thead th {\n",
       "        text-align: left;\n",
       "    }\n",
       "\n",
       "    .dataframe tbody tr th {\n",
       "        vertical-align: top;\n",
       "    }\n",
       "</style>\n",
       "<table border=\"1\" class=\"dataframe\">\n",
       "  <thead>\n",
       "    <tr style=\"text-align: right;\">\n",
       "      <th>Overall_Exp_Rating</th>\n",
       "      <th>High</th>\n",
       "      <th>Low</th>\n",
       "      <th>All</th>\n",
       "    </tr>\n",
       "    <tr>\n",
       "      <th>Version_Duration</th>\n",
       "      <th></th>\n",
       "      <th></th>\n",
       "      <th></th>\n",
       "    </tr>\n",
       "  </thead>\n",
       "  <tbody>\n",
       "    <tr>\n",
       "      <th>1 day</th>\n",
       "      <td>38</td>\n",
       "      <td>1</td>\n",
       "      <td>39</td>\n",
       "    </tr>\n",
       "    <tr>\n",
       "      <th>1 weeks</th>\n",
       "      <td>25</td>\n",
       "      <td>5</td>\n",
       "      <td>30</td>\n",
       "    </tr>\n",
       "    <tr>\n",
       "      <th>2 weeks</th>\n",
       "      <td>18</td>\n",
       "      <td>2</td>\n",
       "      <td>20</td>\n",
       "    </tr>\n",
       "    <tr>\n",
       "      <th>3 weeks</th>\n",
       "      <td>11</td>\n",
       "      <td>2</td>\n",
       "      <td>13</td>\n",
       "    </tr>\n",
       "    <tr>\n",
       "      <th>All</th>\n",
       "      <td>92</td>\n",
       "      <td>10</td>\n",
       "      <td>102</td>\n",
       "    </tr>\n",
       "  </tbody>\n",
       "</table>\n",
       "</div>"
      ],
      "text/plain": [
       "Overall_Exp_Rating  High  Low  All\n",
       "Version_Duration                  \n",
       "1 day                 38    1   39\n",
       "1 weeks               25    5   30\n",
       "2 weeks               18    2   20\n",
       "3 weeks               11    2   13\n",
       "All                   92   10  102"
      ]
     },
     "execution_count": 253,
     "metadata": {},
     "output_type": "execute_result"
    }
   ],
   "source": [
    "#version 99\n",
    "pd.crosstab(index=df_99['Version_Duration'], columns=df_99['Overall_Exp_Rating'], margins=True)"
   ]
  },
  {
   "cell_type": "code",
   "execution_count": 254,
   "metadata": {
    "collapsed": true
   },
   "outputs": [],
   "source": [
    "a['Overall_Exp_Rating']= a['Overall_Experience'].map(rating)"
   ]
  },
  {
   "cell_type": "code",
   "execution_count": 255,
   "metadata": {},
   "outputs": [
    {
     "data": {
      "text/html": [
       "<div>\n",
       "<style>\n",
       "    .dataframe thead tr:only-child th {\n",
       "        text-align: right;\n",
       "    }\n",
       "\n",
       "    .dataframe thead th {\n",
       "        text-align: left;\n",
       "    }\n",
       "\n",
       "    .dataframe tbody tr th {\n",
       "        vertical-align: top;\n",
       "    }\n",
       "</style>\n",
       "<table border=\"1\" class=\"dataframe\">\n",
       "  <thead>\n",
       "    <tr style=\"text-align: right;\">\n",
       "      <th>Version</th>\n",
       "      <th>Version 51</th>\n",
       "      <th>Version 99</th>\n",
       "      <th>All</th>\n",
       "    </tr>\n",
       "    <tr>\n",
       "      <th>Overall_Exp_Rating</th>\n",
       "      <th></th>\n",
       "      <th></th>\n",
       "      <th></th>\n",
       "    </tr>\n",
       "  </thead>\n",
       "  <tbody>\n",
       "    <tr>\n",
       "      <th>High</th>\n",
       "      <td>38</td>\n",
       "      <td>38</td>\n",
       "      <td>76</td>\n",
       "    </tr>\n",
       "    <tr>\n",
       "      <th>Low</th>\n",
       "      <td>4</td>\n",
       "      <td>1</td>\n",
       "      <td>5</td>\n",
       "    </tr>\n",
       "    <tr>\n",
       "      <th>All</th>\n",
       "      <td>42</td>\n",
       "      <td>39</td>\n",
       "      <td>81</td>\n",
       "    </tr>\n",
       "  </tbody>\n",
       "</table>\n",
       "</div>"
      ],
      "text/plain": [
       "Version             Version 51  Version 99  All\n",
       "Overall_Exp_Rating                             \n",
       "High                        38          38   76\n",
       "Low                          4           1    5\n",
       "All                         42          39   81"
      ]
     },
     "execution_count": 255,
     "metadata": {},
     "output_type": "execute_result"
    }
   ],
   "source": [
    "day_1 = a[a.Version_Duration=='1 day']\n",
    "pd.crosstab(index=day_1['Overall_Exp_Rating'], columns=day_1['Version'], margins=True)"
   ]
  },
  {
   "cell_type": "code",
   "execution_count": 256,
   "metadata": {},
   "outputs": [
    {
     "data": {
      "text/html": [
       "<div>\n",
       "<style>\n",
       "    .dataframe thead tr:only-child th {\n",
       "        text-align: right;\n",
       "    }\n",
       "\n",
       "    .dataframe thead th {\n",
       "        text-align: left;\n",
       "    }\n",
       "\n",
       "    .dataframe tbody tr th {\n",
       "        vertical-align: top;\n",
       "    }\n",
       "</style>\n",
       "<table border=\"1\" class=\"dataframe\">\n",
       "  <thead>\n",
       "    <tr style=\"text-align: right;\">\n",
       "      <th>Version</th>\n",
       "      <th>Version 51</th>\n",
       "      <th>Version 99</th>\n",
       "    </tr>\n",
       "    <tr>\n",
       "      <th>Overall_Exp_Rating</th>\n",
       "      <th></th>\n",
       "      <th></th>\n",
       "    </tr>\n",
       "  </thead>\n",
       "  <tbody>\n",
       "    <tr>\n",
       "      <th>High</th>\n",
       "      <td>0.904762</td>\n",
       "      <td>0.974359</td>\n",
       "    </tr>\n",
       "    <tr>\n",
       "      <th>Low</th>\n",
       "      <td>0.095238</td>\n",
       "      <td>0.025641</td>\n",
       "    </tr>\n",
       "  </tbody>\n",
       "</table>\n",
       "</div>"
      ],
      "text/plain": [
       "Version             Version 51  Version 99\n",
       "Overall_Exp_Rating                        \n",
       "High                  0.904762    0.974359\n",
       "Low                   0.095238    0.025641"
      ]
     },
     "execution_count": 256,
     "metadata": {},
     "output_type": "execute_result"
    }
   ],
   "source": [
    "pd.crosstab(index=day_1['Overall_Exp_Rating'], columns=day_1['Version']).apply(lambda x: x/x.sum(), axis=0)"
   ]
  },
  {
   "cell_type": "code",
   "execution_count": 257,
   "metadata": {},
   "outputs": [
    {
     "name": "stdout",
     "output_type": "stream",
     "text": [
      "h = 0.3058146493528078\n"
     ]
    }
   ],
   "source": [
    "cohensH(0.974359,0.904762)"
   ]
  },
  {
   "cell_type": "code",
   "execution_count": 258,
   "metadata": {},
   "outputs": [],
   "source": [
    "permuted_data = np.random.permutation(day_1['Overall_Exp_Rating'])"
   ]
  },
  {
   "cell_type": "code",
   "execution_count": 259,
   "metadata": {},
   "outputs": [
    {
     "data": {
      "text/plain": [
       "(array(['High', 'Low'], dtype=object), array([76,  5], dtype=int64))"
      ]
     },
     "execution_count": 259,
     "metadata": {},
     "output_type": "execute_result"
    }
   ],
   "source": [
    "np.unique((np.random.permutation(day_1['Overall_Exp_Rating'])), return_counts=True)"
   ]
  },
  {
   "cell_type": "code",
   "execution_count": null,
   "metadata": {
    "collapsed": true
   },
   "outputs": [],
   "source": []
  },
  {
   "cell_type": "code",
   "execution_count": 260,
   "metadata": {},
   "outputs": [
    {
     "data": {
      "text/plain": [
       "39"
      ]
     },
     "execution_count": 260,
     "metadata": {},
     "output_type": "execute_result"
    }
   ],
   "source": [
    "len(permuted_data[:len(day_1[day_1.Version=='Version 99'][['Version']])]) #version 99, group 1"
   ]
  },
  {
   "cell_type": "code",
   "execution_count": 261,
   "metadata": {},
   "outputs": [
    {
     "data": {
      "text/plain": [
       "42"
      ]
     },
     "execution_count": 261,
     "metadata": {},
     "output_type": "execute_result"
    }
   ],
   "source": [
    "len(permuted_data[len(day_1[day_1.Version=='Version 99'][['Version']]):]) #version 51, group 2"
   ]
  },
  {
   "cell_type": "code",
   "execution_count": null,
   "metadata": {
    "collapsed": true
   },
   "outputs": [],
   "source": []
  },
  {
   "cell_type": "code",
   "execution_count": 262,
   "metadata": {
    "collapsed": true
   },
   "outputs": [],
   "source": [
    "d99 = df_99[df_99.Version_Duration=='1 day']['Overall_Exp_Rating']\n",
    "d51 = df_51[df_51.Version_Duration=='1 day']['Overall_Exp_Rating']"
   ]
  },
  {
   "cell_type": "code",
   "execution_count": 263,
   "metadata": {},
   "outputs": [
    {
     "data": {
      "text/plain": [
       "(array(['High', 'High', 'High', 'High', 'High', 'High', 'High', 'High',\n",
       "        'High', 'High', 'High', 'High', 'High', 'High', 'High', 'High',\n",
       "        'High', 'High', 'High', 'High', 'High', 'High', 'High', 'High',\n",
       "        'High', 'High', 'High', 'High', 'High', 'High', 'High', 'High',\n",
       "        'High', 'High', 'High', 'High', 'High', 'High', 'High'], dtype=object),\n",
       " array(['High', 'High', 'High', 'High', 'High', 'High', 'Low', 'High',\n",
       "        'High', 'High', 'High', 'High', 'High', 'High', 'High', 'High',\n",
       "        'High', 'High', 'Low', 'Low', 'High', 'High', 'Low', 'High', 'High',\n",
       "        'High', 'High', 'High', 'High', 'High', 'High', 'High', 'High',\n",
       "        'High', 'High', 'High', 'High', 'High', 'Low', 'High', 'High',\n",
       "        'High'], dtype=object))"
      ]
     },
     "execution_count": 263,
     "metadata": {},
     "output_type": "execute_result"
    }
   ],
   "source": [
    "permutation_sample(d99, d51)"
   ]
  },
  {
   "cell_type": "code",
   "execution_count": null,
   "metadata": {
    "collapsed": true
   },
   "outputs": [],
   "source": []
  },
  {
   "cell_type": "code",
   "execution_count": null,
   "metadata": {},
   "outputs": [],
   "source": []
  },
  {
   "cell_type": "code",
   "execution_count": 264,
   "metadata": {},
   "outputs": [
    {
     "data": {
      "text/plain": [
       "0.06959706959706957"
      ]
     },
     "execution_count": 264,
     "metadata": {},
     "output_type": "execute_result"
    }
   ],
   "source": [
    "obs = prop_diff(d99, d51)\n",
    "obs\n",
    "# original data "
   ]
  },
  {
   "cell_type": "code",
   "execution_count": 265,
   "metadata": {},
   "outputs": [],
   "source": [
    "reps = draw_perm_reps(d99, d51, prop_diff, size=1000)"
   ]
  },
  {
   "cell_type": "code",
   "execution_count": 266,
   "metadata": {},
   "outputs": [
    {
     "data": {
      "text/plain": [
       "Text(0.5,1,'Simulated Data for Day 1')"
      ]
     },
     "execution_count": 266,
     "metadata": {},
     "output_type": "execute_result"
    },
    {
     "data": {
      "image/png": "[encoded data removed]",
      "text/plain": [
       "<matplotlib.figure.Figure at 0x19e4b0549e8>"
      ]
     },
     "metadata": {},
     "output_type": "display_data"
    }
   ],
   "source": [
    "plt.hist(reps)\n",
    "\n",
    "l = plt.axvline(obs,color='b', linewidth=2)\n",
    "#ll = plt.axvline(-obs,color='b', linewidth=2)\n",
    "plt.legend([l],['observed = {0:f}'.format(obs)], loc=2)\n",
    "\n",
    "plt.title('Simulated Data for Day 1')\n"
   ]
  },
  {
   "cell_type": "code",
   "execution_count": 267,
   "metadata": {},
   "outputs": [
    {
     "data": {
      "text/plain": [
       "0.192"
      ]
     },
     "execution_count": 267,
     "metadata": {},
     "output_type": "execute_result"
    }
   ],
   "source": [
    "p = np.sum((reps) >= obs) / len(reps)\n",
    "p"
   ]
  },
  {
   "cell_type": "code",
   "execution_count": 268,
   "metadata": {},
   "outputs": [
    {
     "data": {
      "text/plain": [
       "array([-0.07999084,  0.11904762])"
      ]
     },
     "execution_count": 268,
     "metadata": {},
     "output_type": "execute_result"
    }
   ],
   "source": [
    "np.percentile(reps, [2.5, 97.5])"
   ]
  },
  {
   "cell_type": "code",
   "execution_count": null,
   "metadata": {
    "collapsed": true
   },
   "outputs": [],
   "source": []
  },
  {
   "cell_type": "code",
   "execution_count": 269,
   "metadata": {},
   "outputs": [],
   "source": [
    "df_overall_exp = pd.concat([t99,t51])\n",
    "df_overall_exp['Overall_Exp_Rating'] = df_overall_exp['Overall_Experience'].map(rating)"
   ]
  },
  {
   "cell_type": "code",
   "execution_count": 270,
   "metadata": {},
   "outputs": [],
   "source": [
    "#week 1\n",
    "\n",
    "d99_week1 = df_99[df_99.Version_Duration=='1 weeks']['Overall_Exp_Rating']\n",
    "d51_week1 = df_51[df_51.Version_Duration=='1 weeks']['Overall_Exp_Rating']\n"
   ]
  },
  {
   "cell_type": "code",
   "execution_count": 271,
   "metadata": {},
   "outputs": [
    {
     "data": {
      "text/html": [
       "<div>\n",
       "<style>\n",
       "    .dataframe thead tr:only-child th {\n",
       "        text-align: right;\n",
       "    }\n",
       "\n",
       "    .dataframe thead th {\n",
       "        text-align: left;\n",
       "    }\n",
       "\n",
       "    .dataframe tbody tr th {\n",
       "        vertical-align: top;\n",
       "    }\n",
       "</style>\n",
       "<table border=\"1\" class=\"dataframe\">\n",
       "  <thead>\n",
       "    <tr style=\"text-align: right;\">\n",
       "      <th>Version</th>\n",
       "      <th>Version 51</th>\n",
       "      <th>Version 99</th>\n",
       "      <th>All</th>\n",
       "    </tr>\n",
       "    <tr>\n",
       "      <th>Overall_Exp_Rating</th>\n",
       "      <th></th>\n",
       "      <th></th>\n",
       "      <th></th>\n",
       "    </tr>\n",
       "  </thead>\n",
       "  <tbody>\n",
       "    <tr>\n",
       "      <th>High</th>\n",
       "      <td>34</td>\n",
       "      <td>25</td>\n",
       "      <td>59</td>\n",
       "    </tr>\n",
       "    <tr>\n",
       "      <th>Low</th>\n",
       "      <td>6</td>\n",
       "      <td>5</td>\n",
       "      <td>11</td>\n",
       "    </tr>\n",
       "    <tr>\n",
       "      <th>All</th>\n",
       "      <td>40</td>\n",
       "      <td>30</td>\n",
       "      <td>70</td>\n",
       "    </tr>\n",
       "  </tbody>\n",
       "</table>\n",
       "</div>"
      ],
      "text/plain": [
       "Version             Version 51  Version 99  All\n",
       "Overall_Exp_Rating                             \n",
       "High                        34          25   59\n",
       "Low                          6           5   11\n",
       "All                         40          30   70"
      ]
     },
     "execution_count": 271,
     "metadata": {},
     "output_type": "execute_result"
    }
   ],
   "source": [
    "week1 = df_overall_exp[df_overall_exp.Version_Duration=='1 weeks']\n",
    "pd.crosstab(index=week1['Overall_Exp_Rating'], columns=week1['Version'], margins=True)"
   ]
  },
  {
   "cell_type": "code",
   "execution_count": 272,
   "metadata": {},
   "outputs": [
    {
     "data": {
      "text/html": [
       "<div>\n",
       "<style>\n",
       "    .dataframe thead tr:only-child th {\n",
       "        text-align: right;\n",
       "    }\n",
       "\n",
       "    .dataframe thead th {\n",
       "        text-align: left;\n",
       "    }\n",
       "\n",
       "    .dataframe tbody tr th {\n",
       "        vertical-align: top;\n",
       "    }\n",
       "</style>\n",
       "<table border=\"1\" class=\"dataframe\">\n",
       "  <thead>\n",
       "    <tr style=\"text-align: right;\">\n",
       "      <th>Version</th>\n",
       "      <th>Version 51</th>\n",
       "      <th>Version 99</th>\n",
       "    </tr>\n",
       "    <tr>\n",
       "      <th>Overall_Exp_Rating</th>\n",
       "      <th></th>\n",
       "      <th></th>\n",
       "    </tr>\n",
       "  </thead>\n",
       "  <tbody>\n",
       "    <tr>\n",
       "      <th>High</th>\n",
       "      <td>0.85</td>\n",
       "      <td>0.833333</td>\n",
       "    </tr>\n",
       "    <tr>\n",
       "      <th>Low</th>\n",
       "      <td>0.15</td>\n",
       "      <td>0.166667</td>\n",
       "    </tr>\n",
       "  </tbody>\n",
       "</table>\n",
       "</div>"
      ],
      "text/plain": [
       "Version             Version 51  Version 99\n",
       "Overall_Exp_Rating                        \n",
       "High                      0.85    0.833333\n",
       "Low                       0.15    0.166667"
      ]
     },
     "execution_count": 272,
     "metadata": {},
     "output_type": "execute_result"
    }
   ],
   "source": [
    "pd.crosstab(index=week1['Overall_Exp_Rating'], columns=week1['Version']).apply(lambda x: x/x.sum(), axis=0)"
   ]
  },
  {
   "cell_type": "code",
   "execution_count": 273,
   "metadata": {},
   "outputs": [
    {
     "name": "stdout",
     "output_type": "stream",
     "text": [
      "h = 0.045678784619920254\n"
     ]
    }
   ],
   "source": [
    "cohensH(0.83333,0.85)"
   ]
  },
  {
   "cell_type": "code",
   "execution_count": 274,
   "metadata": {},
   "outputs": [],
   "source": [
    "w1 = get_verduration(df_overall_exp, '1 weeks')"
   ]
  },
  {
   "cell_type": "code",
   "execution_count": 275,
   "metadata": {},
   "outputs": [
    {
     "data": {
      "text/html": [
       "<div>\n",
       "<style>\n",
       "    .dataframe thead tr:only-child th {\n",
       "        text-align: right;\n",
       "    }\n",
       "\n",
       "    .dataframe thead th {\n",
       "        text-align: left;\n",
       "    }\n",
       "\n",
       "    .dataframe tbody tr th {\n",
       "        vertical-align: top;\n",
       "    }\n",
       "</style>\n",
       "<table border=\"1\" class=\"dataframe\">\n",
       "  <thead>\n",
       "    <tr style=\"text-align: right;\">\n",
       "      <th>Version</th>\n",
       "      <th>Version 51</th>\n",
       "      <th>Version 99</th>\n",
       "      <th>All</th>\n",
       "    </tr>\n",
       "    <tr>\n",
       "      <th>Overall_Exp_Rating</th>\n",
       "      <th></th>\n",
       "      <th></th>\n",
       "      <th></th>\n",
       "    </tr>\n",
       "  </thead>\n",
       "  <tbody>\n",
       "    <tr>\n",
       "      <th>High</th>\n",
       "      <td>34</td>\n",
       "      <td>25</td>\n",
       "      <td>59</td>\n",
       "    </tr>\n",
       "    <tr>\n",
       "      <th>Low</th>\n",
       "      <td>6</td>\n",
       "      <td>5</td>\n",
       "      <td>11</td>\n",
       "    </tr>\n",
       "    <tr>\n",
       "      <th>All</th>\n",
       "      <td>40</td>\n",
       "      <td>30</td>\n",
       "      <td>70</td>\n",
       "    </tr>\n",
       "  </tbody>\n",
       "</table>\n",
       "</div>"
      ],
      "text/plain": [
       "Version             Version 51  Version 99  All\n",
       "Overall_Exp_Rating                             \n",
       "High                        34          25   59\n",
       "Low                          6           5   11\n",
       "All                         40          30   70"
      ]
     },
     "execution_count": 275,
     "metadata": {},
     "output_type": "execute_result"
    }
   ],
   "source": [
    "get_crosstab(w1)"
   ]
  },
  {
   "cell_type": "code",
   "execution_count": 276,
   "metadata": {},
   "outputs": [
    {
     "data": {
      "text/plain": [
       "(array(['High', 'High', 'High', 'High', 'High', 'High', 'High', 'High',\n",
       "        'High', 'Low', 'High', 'High', 'High', 'High', 'High', 'High',\n",
       "        'Low', 'Low', 'High', 'High', 'High', 'High', 'High', 'High',\n",
       "        'High', 'High', 'High', 'High', 'High', 'High'], dtype=object),\n",
       " array(['High', 'High', 'High', 'High', 'High', 'Low', 'High', 'High',\n",
       "        'High', 'High', 'High', 'Low', 'High', 'High', 'Low', 'High',\n",
       "        'High', 'High', 'High', 'Low', 'High', 'High', 'Low', 'High',\n",
       "        'High', 'High', 'High', 'High', 'High', 'High', 'High', 'High',\n",
       "        'High', 'High', 'High', 'High', 'High', 'Low', 'Low', 'Low'], dtype=object))"
      ]
     },
     "execution_count": 276,
     "metadata": {},
     "output_type": "execute_result"
    }
   ],
   "source": [
    "permutation_sample(d99_week1, d51_week1)"
   ]
  },
  {
   "cell_type": "code",
   "execution_count": 277,
   "metadata": {},
   "outputs": [
    {
     "data": {
      "text/plain": [
       "-0.016666666666666607"
      ]
     },
     "execution_count": 277,
     "metadata": {},
     "output_type": "execute_result"
    }
   ],
   "source": [
    "obs_week1 = prop_diff(d99_week1, d51_week1)\n",
    "obs_week1"
   ]
  },
  {
   "cell_type": "code",
   "execution_count": 278,
   "metadata": {
    "collapsed": true
   },
   "outputs": [],
   "source": [
    "reps_week1 = draw_perm_reps(d99_week1, d51_week1, prop_diff, size=1000)"
   ]
  },
  {
   "cell_type": "code",
   "execution_count": 279,
   "metadata": {},
   "outputs": [
    {
     "data": {
      "text/plain": [
       "Text(0.5,1,'Simulated Data for Day week1')"
      ]
     },
     "execution_count": 279,
     "metadata": {},
     "output_type": "execute_result"
    },
    {
     "data": {
      "image/png": "[encoded data removed]",
      "text/plain": [
       "<matplotlib.figure.Figure at 0x19e4b0ebdd8>"
      ]
     },
     "metadata": {},
     "output_type": "display_data"
    }
   ],
   "source": [
    "plt.hist(reps_week1)\n",
    "\n",
    "l = plt.axvline(obs_week1,color='b', linewidth=2)\n",
    "#ll = plt.axvline(-obs,color='b', linewidth=2)\n",
    "plt.legend([l],['observed = {0:f}'.format(obs_week1)], loc=2)\n",
    "\n",
    "plt.title('Simulated Data for Day week1')\n"
   ]
  },
  {
   "cell_type": "code",
   "execution_count": 280,
   "metadata": {},
   "outputs": [
    {
     "data": {
      "text/plain": [
       "0.73399999999999999"
      ]
     },
     "execution_count": 280,
     "metadata": {},
     "output_type": "execute_result"
    }
   ],
   "source": [
    "np.sum((reps_week1) >= obs_week1) / len(reps_week1)"
   ]
  },
  {
   "cell_type": "code",
   "execution_count": 281,
   "metadata": {
    "collapsed": true
   },
   "outputs": [],
   "source": [
    "#week 2"
   ]
  },
  {
   "cell_type": "code",
   "execution_count": null,
   "metadata": {
    "collapsed": true
   },
   "outputs": [],
   "source": []
  },
  {
   "cell_type": "code",
   "execution_count": 282,
   "metadata": {},
   "outputs": [
    {
     "data": {
      "text/html": [
       "<div>\n",
       "<style>\n",
       "    .dataframe thead tr:only-child th {\n",
       "        text-align: right;\n",
       "    }\n",
       "\n",
       "    .dataframe thead th {\n",
       "        text-align: left;\n",
       "    }\n",
       "\n",
       "    .dataframe tbody tr th {\n",
       "        vertical-align: top;\n",
       "    }\n",
       "</style>\n",
       "<table border=\"1\" class=\"dataframe\">\n",
       "  <thead>\n",
       "    <tr style=\"text-align: right;\">\n",
       "      <th>Version</th>\n",
       "      <th>Version 51</th>\n",
       "      <th>Version 99</th>\n",
       "      <th>All</th>\n",
       "    </tr>\n",
       "    <tr>\n",
       "      <th>Overall_Exp_Rating</th>\n",
       "      <th></th>\n",
       "      <th></th>\n",
       "      <th></th>\n",
       "    </tr>\n",
       "  </thead>\n",
       "  <tbody>\n",
       "    <tr>\n",
       "      <th>High</th>\n",
       "      <td>29</td>\n",
       "      <td>18</td>\n",
       "      <td>47</td>\n",
       "    </tr>\n",
       "    <tr>\n",
       "      <th>Low</th>\n",
       "      <td>2</td>\n",
       "      <td>2</td>\n",
       "      <td>4</td>\n",
       "    </tr>\n",
       "    <tr>\n",
       "      <th>All</th>\n",
       "      <td>31</td>\n",
       "      <td>20</td>\n",
       "      <td>51</td>\n",
       "    </tr>\n",
       "  </tbody>\n",
       "</table>\n",
       "</div>"
      ],
      "text/plain": [
       "Version             Version 51  Version 99  All\n",
       "Overall_Exp_Rating                             \n",
       "High                        29          18   47\n",
       "Low                          2           2    4\n",
       "All                         31          20   51"
      ]
     },
     "execution_count": 282,
     "metadata": {},
     "output_type": "execute_result"
    }
   ],
   "source": [
    "w2 = get_verduration(df_overall_exp, '2 weeks')\n",
    "get_crosstab(w2)"
   ]
  },
  {
   "cell_type": "code",
   "execution_count": 283,
   "metadata": {},
   "outputs": [
    {
     "name": "stdout",
     "output_type": "stream",
     "text": [
      "h = 0.010831107774752269\n"
     ]
    }
   ],
   "source": [
    "cohensH((18/20),(28/31))"
   ]
  },
  {
   "cell_type": "code",
   "execution_count": 284,
   "metadata": {
    "collapsed": true
   },
   "outputs": [],
   "source": [
    "d99_week2 = df_99[df_99.Version_Duration=='2 weeks']['Overall_Exp_Rating']\n",
    "d51_week2 = df_51[df_51.Version_Duration=='2 weeks']['Overall_Exp_Rating']"
   ]
  },
  {
   "cell_type": "code",
   "execution_count": 285,
   "metadata": {},
   "outputs": [
    {
     "data": {
      "text/plain": [
       "(array(['High', 'High', 'Low', 'High', 'High', 'High', 'High', 'High',\n",
       "        'High', 'High', 'High', 'High', 'High', 'High', 'High', 'High',\n",
       "        'High', 'High', 'High', 'Low'], dtype=object),\n",
       " array(['High', 'High', 'High', 'High', 'High', 'High', 'High', 'High',\n",
       "        'Low', 'High', 'High', 'High', 'High', 'High', 'High', 'High',\n",
       "        'High', 'High', 'High', 'High', 'High', 'Low', 'High', 'High',\n",
       "        'High', 'High', 'High', 'High', 'High', 'High', 'High'], dtype=object))"
      ]
     },
     "execution_count": 285,
     "metadata": {},
     "output_type": "execute_result"
    }
   ],
   "source": [
    "permutation_sample(d99_week2, d51_week2)"
   ]
  },
  {
   "cell_type": "code",
   "execution_count": 286,
   "metadata": {},
   "outputs": [
    {
     "data": {
      "text/plain": [
       "-0.03548387096774186"
      ]
     },
     "execution_count": 286,
     "metadata": {},
     "output_type": "execute_result"
    }
   ],
   "source": [
    "obs_week2 = prop_diff(d99_week2, d51_week2)\n",
    "obs_week2\n"
   ]
  },
  {
   "cell_type": "code",
   "execution_count": 287,
   "metadata": {
    "collapsed": true
   },
   "outputs": [],
   "source": [
    "reps_week2 = draw_perm_reps(d99_week2, d51_week2, prop_diff, size=1000)"
   ]
  },
  {
   "cell_type": "code",
   "execution_count": 288,
   "metadata": {},
   "outputs": [
    {
     "data": {
      "text/plain": [
       "Text(0.5,1,'Simulated Data for Day week2')"
      ]
     },
     "execution_count": 288,
     "metadata": {},
     "output_type": "execute_result"
    },
    {
     "data": {
      "image/png": "[encoded data removed]",
      "text/plain": [
       "<matplotlib.figure.Figure at 0x19e4b0d1390>"
      ]
     },
     "metadata": {},
     "output_type": "display_data"
    }
   ],
   "source": [
    "plt.hist(reps_week2)\n",
    "\n",
    "l = plt.axvline(obs_week2,color='b', linewidth=2)\n",
    "#ll = plt.axvline(-obs,color='b', linewidth=2)\n",
    "plt.legend([l],['observed = {0:f}'.format(obs_week2)], loc=2)\n",
    "\n",
    "plt.title('Simulated Data for Day week2')\n"
   ]
  },
  {
   "cell_type": "code",
   "execution_count": 289,
   "metadata": {},
   "outputs": [
    {
     "data": {
      "text/plain": [
       "0.84399999999999997"
      ]
     },
     "execution_count": 289,
     "metadata": {},
     "output_type": "execute_result"
    }
   ],
   "source": [
    "np.sum((reps_week2) >= obs_week2) / len(reps_week2)"
   ]
  },
  {
   "cell_type": "code",
   "execution_count": 290,
   "metadata": {
    "collapsed": true
   },
   "outputs": [],
   "source": [
    "#week 3"
   ]
  },
  {
   "cell_type": "code",
   "execution_count": 291,
   "metadata": {},
   "outputs": [
    {
     "data": {
      "text/html": [
       "<div>\n",
       "<style>\n",
       "    .dataframe thead tr:only-child th {\n",
       "        text-align: right;\n",
       "    }\n",
       "\n",
       "    .dataframe thead th {\n",
       "        text-align: left;\n",
       "    }\n",
       "\n",
       "    .dataframe tbody tr th {\n",
       "        vertical-align: top;\n",
       "    }\n",
       "</style>\n",
       "<table border=\"1\" class=\"dataframe\">\n",
       "  <thead>\n",
       "    <tr style=\"text-align: right;\">\n",
       "      <th>Version</th>\n",
       "      <th>Version 51</th>\n",
       "      <th>Version 99</th>\n",
       "      <th>All</th>\n",
       "    </tr>\n",
       "    <tr>\n",
       "      <th>Overall_Exp_Rating</th>\n",
       "      <th></th>\n",
       "      <th></th>\n",
       "      <th></th>\n",
       "    </tr>\n",
       "  </thead>\n",
       "  <tbody>\n",
       "    <tr>\n",
       "      <th>High</th>\n",
       "      <td>19</td>\n",
       "      <td>11</td>\n",
       "      <td>30</td>\n",
       "    </tr>\n",
       "    <tr>\n",
       "      <th>Low</th>\n",
       "      <td>1</td>\n",
       "      <td>2</td>\n",
       "      <td>3</td>\n",
       "    </tr>\n",
       "    <tr>\n",
       "      <th>All</th>\n",
       "      <td>20</td>\n",
       "      <td>13</td>\n",
       "      <td>33</td>\n",
       "    </tr>\n",
       "  </tbody>\n",
       "</table>\n",
       "</div>"
      ],
      "text/plain": [
       "Version             Version 51  Version 99  All\n",
       "Overall_Exp_Rating                             \n",
       "High                        19          11   30\n",
       "Low                          1           2    3\n",
       "All                         20          13   33"
      ]
     },
     "execution_count": 291,
     "metadata": {},
     "output_type": "execute_result"
    }
   ],
   "source": [
    "w3 = get_verduration(df_overall_exp, '3 weeks')\n",
    "get_crosstab(w3)"
   ]
  },
  {
   "cell_type": "code",
   "execution_count": 292,
   "metadata": {},
   "outputs": [
    {
     "name": "stdout",
     "output_type": "stream",
     "text": [
      "h = 0.3550873371359633\n"
     ]
    }
   ],
   "source": [
    "cohensH((11/13),(19/20))"
   ]
  },
  {
   "cell_type": "code",
   "execution_count": 293,
   "metadata": {
    "collapsed": true
   },
   "outputs": [],
   "source": [
    "d99_week3 = df_99[df_99.Version_Duration=='3 weeks']['Overall_Exp_Rating']\n",
    "d51_week3 = df_51[df_51.Version_Duration=='3 weeks']['Overall_Exp_Rating']"
   ]
  },
  {
   "cell_type": "code",
   "execution_count": 294,
   "metadata": {},
   "outputs": [
    {
     "data": {
      "text/plain": [
       "-0.10384615384615381"
      ]
     },
     "execution_count": 294,
     "metadata": {},
     "output_type": "execute_result"
    }
   ],
   "source": [
    "obs_week3 = prop_diff(d99_week3, d51_week3)\n",
    "obs_week3\n"
   ]
  },
  {
   "cell_type": "code",
   "execution_count": 295,
   "metadata": {
    "collapsed": true
   },
   "outputs": [],
   "source": [
    "reps_week3 = draw_perm_reps(d99_week3, d51_week3, prop_diff, size=1000)"
   ]
  },
  {
   "cell_type": "code",
   "execution_count": 296,
   "metadata": {},
   "outputs": [
    {
     "data": {
      "text/plain": [
       "Text(0.5,1,'Simulated Data for Day week3')"
      ]
     },
     "execution_count": 296,
     "metadata": {},
     "output_type": "execute_result"
    },
    {
     "data": {
      "image/png": "[encoded data removed]",
      "text/plain": [
       "<matplotlib.figure.Figure at 0x19e4b1e14e0>"
      ]
     },
     "metadata": {},
     "output_type": "display_data"
    }
   ],
   "source": [
    "plt.hist(reps_week3)\n",
    "\n",
    "l = plt.axvline(obs_week3,color='b', linewidth=2)\n",
    "#ll = plt.axvline(-obs,color='b', linewidth=2)\n",
    "plt.legend([l],['observed = {0:f}'.format(obs_week3)], loc=2)\n",
    "\n",
    "plt.title('Simulated Data for Day week3')\n"
   ]
  },
  {
   "cell_type": "code",
   "execution_count": 297,
   "metadata": {},
   "outputs": [
    {
     "data": {
      "text/plain": [
       "0.94899999999999995"
      ]
     },
     "execution_count": 297,
     "metadata": {},
     "output_type": "execute_result"
    }
   ],
   "source": [
    "np.sum((reps_week3) >= obs_week3) / len(reps_week3)"
   ]
  },
  {
   "cell_type": "code",
   "execution_count": 298,
   "metadata": {
    "collapsed": true
   },
   "outputs": [],
   "source": [
    "#simulate all data without weekly restrictions"
   ]
  },
  {
   "cell_type": "code",
   "execution_count": null,
   "metadata": {
    "collapsed": true
   },
   "outputs": [],
   "source": []
  },
  {
   "cell_type": "code",
   "execution_count": 299,
   "metadata": {},
   "outputs": [],
   "source": [
    "reps = draw_perm_reps(df_99['Overall_Exp_Rating'], df_51['Overall_Exp_Rating'], prop_diff, size=1000)"
   ]
  },
  {
   "cell_type": "code",
   "execution_count": 300,
   "metadata": {},
   "outputs": [
    {
     "data": {
      "text/plain": [
       "-0.0002948547840188054"
      ]
     },
     "execution_count": 300,
     "metadata": {},
     "output_type": "execute_result"
    }
   ],
   "source": [
    "observed = prop_diff(df_99['Overall_Exp_Rating'], df_51['Overall_Exp_Rating'])\n",
    "observed"
   ]
  },
  {
   "cell_type": "code",
   "execution_count": null,
   "metadata": {},
   "outputs": [],
   "source": []
  },
  {
   "cell_type": "code",
   "execution_count": 301,
   "metadata": {},
   "outputs": [
    {
     "data": {
      "text/plain": [
       "Text(0.5,1,'Simulated Data')"
      ]
     },
     "execution_count": 301,
     "metadata": {},
     "output_type": "execute_result"
    },
    {
     "data": {
      "image/png": "[encoded data removed]",
      "text/plain": [
       "<matplotlib.figure.Figure at 0x19e4b1f9940>"
      ]
     },
     "metadata": {},
     "output_type": "display_data"
    }
   ],
   "source": [
    "plt.hist(reps)\n",
    "\n",
    "l = plt.axvline(observed,color='b', linewidth=2)\n",
    "#ll = plt.axvline(-obs,color='b', linewidth=2)\n",
    "plt.legend([l],['observed = {0:f}'.format(observed)], loc=2)\n",
    "\n",
    "plt.title('Simulated Data')\n"
   ]
  },
  {
   "cell_type": "code",
   "execution_count": 302,
   "metadata": {},
   "outputs": [
    {
     "data": {
      "text/plain": [
       "0.60399999999999998"
      ]
     },
     "execution_count": 302,
     "metadata": {},
     "output_type": "execute_result"
    }
   ],
   "source": [
    "np.sum((reps) >= observed) / len(reps)"
   ]
  },
  {
   "cell_type": "markdown",
   "metadata": {},
   "source": [
    "# Mann Whitney U test\n",
    "\n",
    "$H_o$:The populations are Equal\n",
    "\n",
    "$H_A$: The two populations are not equal"
   ]
  },
  {
   "cell_type": "code",
   "execution_count": 303,
   "metadata": {
    "collapsed": true
   },
   "outputs": [],
   "source": [
    "#changing the overall experience rating score into numeric number\n",
    "\n",
    "exp_numeric_rating={'Excellent': 5, 'Good':4, 'No effect': 3, 'Not good': 4, 'Awful': 1}\n",
    "df_99['Overall_Exp_Numeric'] = df_99['Overall_Experience'].map(exp_numeric_rating)"
   ]
  },
  {
   "cell_type": "code",
   "execution_count": null,
   "metadata": {},
   "outputs": [],
   "source": []
  },
  {
   "cell_type": "code",
   "execution_count": null,
   "metadata": {},
   "outputs": [],
   "source": []
  },
  {
   "cell_type": "code",
   "execution_count": 304,
   "metadata": {
    "collapsed": true
   },
   "outputs": [],
   "source": [
    "df_51['Overall_Exp_Numeric'] = df_51['Overall_Experience'].map(exp_numeric_rating)"
   ]
  },
  {
   "cell_type": "code",
   "execution_count": null,
   "metadata": {},
   "outputs": [],
   "source": []
  },
  {
   "cell_type": "code",
   "execution_count": 305,
   "metadata": {},
   "outputs": [
    {
     "data": {
      "text/plain": [
       "MannwhitneyuResult(statistic=6175.0, pvalue=0.17457538531248362)"
      ]
     },
     "execution_count": 305,
     "metadata": {},
     "output_type": "execute_result"
    }
   ],
   "source": [
    "stats.mannwhitneyu(df_99['Overall_Exp_Numeric'], df_51['Overall_Exp_Numeric'], alternative='two-sided')"
   ]
  },
  {
   "cell_type": "code",
   "execution_count": 306,
   "metadata": {},
   "outputs": [
    {
     "data": {
      "text/plain": [
       "Ttest_indResult(statistic=-0.56357365136352078, pvalue=0.5735863071518823)"
      ]
     },
     "execution_count": 306,
     "metadata": {},
     "output_type": "execute_result"
    }
   ],
   "source": [
    "stats.ttest_ind(df_99['Overall_Exp_Numeric'].dropna(), df_51['Overall_Exp_Numeric'].dropna(), equal_var=False)"
   ]
  },
  {
   "cell_type": "code",
   "execution_count": null,
   "metadata": {},
   "outputs": [],
   "source": []
  },
  {
   "cell_type": "code",
   "execution_count": 307,
   "metadata": {},
   "outputs": [
    {
     "data": {
      "text/plain": [
       "-0.05204186937933031"
      ]
     },
     "execution_count": 307,
     "metadata": {},
     "output_type": "execute_result"
    }
   ],
   "source": [
    "diff_means = df_99['Overall_Exp_Numeric'].mean() - df_51['Overall_Exp_Numeric'].mean()\n",
    "diff_means"
   ]
  },
  {
   "cell_type": "code",
   "execution_count": 308,
   "metadata": {},
   "outputs": [],
   "source": [
    "s1 = df_99['Overall_Exp_Numeric'].std()\n",
    "s2 = df_51['Overall_Exp_Numeric'].std()\n",
    "\n",
    "n1 = len(df_99['Overall_Exp_Numeric'])\n",
    "n2 = len(df_51['Overall_Exp_Numeric'])"
   ]
  },
  {
   "cell_type": "code",
   "execution_count": 309,
   "metadata": {},
   "outputs": [],
   "source": [
    "SEM  = np.sqrt(((s1**2)/n1) + ((s2**2)/n2))"
   ]
  },
  {
   "cell_type": "code",
   "execution_count": 310,
   "metadata": {},
   "outputs": [
    {
     "data": {
      "text/plain": [
       "(-0.23303341101138084, 0.12894967225272022)"
      ]
     },
     "execution_count": 310,
     "metadata": {},
     "output_type": "execute_result"
    }
   ],
   "source": [
    "diff_means - 1.96 * SEM,diff_means + 1.96 * SEM"
   ]
  },
  {
   "cell_type": "code",
   "execution_count": 311,
   "metadata": {},
   "outputs": [
    {
     "name": "stdout",
     "output_type": "stream",
     "text": [
      "Mean Difference = -0.05204186937933031\n",
      "CI = (-0.23303341101138084, 0.12894967225272022)\n",
      "SEM = 0.09234262328165843\n",
      "Ttest_indResult(statistic=-0.54445718897259732, pvalue=0.58664757576870363)\n",
      "MannwhitneyuResult(statistic=6175.0, pvalue=0.087287692656241811)\n"
     ]
    }
   ],
   "source": [
    "twomeans(df_99, df_51, 'Overall_Exp_Numeric', 'Overall_Exp_Numeric')"
   ]
  },
  {
   "cell_type": "code",
   "execution_count": 312,
   "metadata": {},
   "outputs": [
    {
     "name": "stdout",
     "output_type": "stream",
     "text": [
      "U = 6175.0\n",
      "pval = 0.23915674737606363\n",
      "Not Statistically Significant\n",
      "UCRIT = 5770.111143482901\n"
     ]
    }
   ],
   "source": [
    "manntest(df_99['Overall_Exp_Numeric'], df_51['Overall_Exp_Numeric']) # converted to ordinal scale \n"
   ]
  },
  {
   "cell_type": "code",
   "execution_count": 313,
   "metadata": {},
   "outputs": [
    {
     "data": {
      "text/plain": [
       "102"
      ]
     },
     "execution_count": 313,
     "metadata": {},
     "output_type": "execute_result"
    }
   ],
   "source": [
    "len(df_99['Overall_Exp_Numeric'].dropna())"
   ]
  },
  {
   "cell_type": "code",
   "execution_count": 314,
   "metadata": {},
   "outputs": [
    {
     "data": {
      "text/plain": [
       "133"
      ]
     },
     "execution_count": 314,
     "metadata": {},
     "output_type": "execute_result"
    }
   ],
   "source": [
    "len(df_51['Overall_Exp_Numeric'].dropna())"
   ]
  },
  {
   "cell_type": "code",
   "execution_count": 315,
   "metadata": {},
   "outputs": [
    {
     "name": "stdout",
     "output_type": "stream",
     "text": [
      "Rank Biserial Correlation = 0.07002801120448177\n"
     ]
    }
   ],
   "source": [
    "rankbis(6308.0,df_99['Overall_Exp_Numeric'].dropna(), df_51['Overall_Exp_Numeric'].dropna()) # converted to \n",
    "#close to one, so there is some overlap"
   ]
  },
  {
   "cell_type": "code",
   "execution_count": 316,
   "metadata": {},
   "outputs": [
    {
     "data": {
      "text/plain": [
       "0.5350140056022409"
      ]
     },
     "execution_count": 316,
     "metadata": {},
     "output_type": "execute_result"
    }
   ],
   "source": [
    "(0.07002801120448177+1) /2 #common language effect"
   ]
  },
  {
   "cell_type": "code",
   "execution_count": 317,
   "metadata": {},
   "outputs": [
    {
     "data": {
      "text/plain": [
       "0.4649859943977591"
      ]
     },
     "execution_count": 317,
     "metadata": {},
     "output_type": "execute_result"
    }
   ],
   "source": [
    "6308/(133*102) #probabilistic effect size."
   ]
  },
  {
   "cell_type": "code",
   "execution_count": 318,
   "metadata": {},
   "outputs": [
    {
     "name": "stdout",
     "output_type": "stream",
     "text": [
      "h = 0.0009922151297061532\n"
     ]
    }
   ],
   "source": [
    "cohensH((92/102), (120/133)) #cohen's h! less than 0.20"
   ]
  },
  {
   "cell_type": "code",
   "execution_count": 319,
   "metadata": {},
   "outputs": [
    {
     "data": {
      "text/plain": [
       "Text(0.5,1,'Average Overall Experience Over Time')"
      ]
     },
     "execution_count": 319,
     "metadata": {},
     "output_type": "execute_result"
    },
    {
     "data": {
      "image/png": "[encoded data removed]",
      "text/plain": [
       "<matplotlib.figure.Figure at 0x19e4adf25f8>"
      ]
     },
     "metadata": {},
     "output_type": "display_data"
    }
   ],
   "source": [
    "df_99.groupby(['Version_Duration'])['Overall_Exp_Numeric'].mean().plot()\n",
    "df_51.groupby(['Version_Duration'])['Overall_Exp_Numeric'].mean().plot()\n",
    "plt.legend(['Trial 99','Trial 51'])\n",
    "plt.title('Average Overall Experience Over Time')"
   ]
  },
  {
   "cell_type": "code",
   "execution_count": null,
   "metadata": {
    "collapsed": true
   },
   "outputs": [],
   "source": []
  },
  {
   "cell_type": "code",
   "execution_count": null,
   "metadata": {},
   "outputs": [],
   "source": []
  },
  {
   "cell_type": "code",
   "execution_count": null,
   "metadata": {},
   "outputs": [],
   "source": []
  },
  {
   "cell_type": "code",
   "execution_count": null,
   "metadata": {
    "collapsed": true
   },
   "outputs": [],
   "source": []
  },
  {
   "cell_type": "code",
   "execution_count": 320,
   "metadata": {},
   "outputs": [
    {
     "data": {
      "text/html": [
       "<div>\n",
       "<style>\n",
       "    .dataframe thead tr:only-child th {\n",
       "        text-align: right;\n",
       "    }\n",
       "\n",
       "    .dataframe thead th {\n",
       "        text-align: left;\n",
       "    }\n",
       "\n",
       "    .dataframe tbody tr th {\n",
       "        vertical-align: top;\n",
       "    }\n",
       "</style>\n",
       "<table border=\"1\" class=\"dataframe\">\n",
       "  <thead>\n",
       "    <tr style=\"text-align: right;\">\n",
       "      <th>Version</th>\n",
       "      <th>Version 51</th>\n",
       "      <th>Version 99</th>\n",
       "      <th>All</th>\n",
       "    </tr>\n",
       "    <tr>\n",
       "      <th>Overall_Exp_Rating</th>\n",
       "      <th></th>\n",
       "      <th></th>\n",
       "      <th></th>\n",
       "    </tr>\n",
       "  </thead>\n",
       "  <tbody>\n",
       "    <tr>\n",
       "      <th>High</th>\n",
       "      <td>120</td>\n",
       "      <td>92</td>\n",
       "      <td>212</td>\n",
       "    </tr>\n",
       "    <tr>\n",
       "      <th>Low</th>\n",
       "      <td>13</td>\n",
       "      <td>10</td>\n",
       "      <td>23</td>\n",
       "    </tr>\n",
       "    <tr>\n",
       "      <th>All</th>\n",
       "      <td>133</td>\n",
       "      <td>102</td>\n",
       "      <td>235</td>\n",
       "    </tr>\n",
       "  </tbody>\n",
       "</table>\n",
       "</div>"
      ],
      "text/plain": [
       "Version             Version 51  Version 99  All\n",
       "Overall_Exp_Rating                             \n",
       "High                       120          92  212\n",
       "Low                         13          10   23\n",
       "All                        133         102  235"
      ]
     },
     "execution_count": 320,
     "metadata": {},
     "output_type": "execute_result"
    }
   ],
   "source": [
    "pd.crosstab(index=df_overall_exp.Overall_Exp_Rating, columns=df_overall_exp.Version, margins=True)"
   ]
  },
  {
   "cell_type": "code",
   "execution_count": 321,
   "metadata": {},
   "outputs": [
    {
     "name": "stdout",
     "output_type": "stream",
     "text": [
      "h = 0.0009922151297061532\n"
     ]
    }
   ],
   "source": [
    "cohensH(0.9019607843137255,0.9022556390977443 )"
   ]
  },
  {
   "cell_type": "code",
   "execution_count": 322,
   "metadata": {},
   "outputs": [
    {
     "name": "stdout",
     "output_type": "stream",
     "text": [
      "log odds ratio = -0.0033389012655145986\n"
     ]
    }
   ],
   "source": [
    "logodds(92,10,120,13)"
   ]
  },
  {
   "cell_type": "code",
   "execution_count": null,
   "metadata": {
    "collapsed": true
   },
   "outputs": [],
   "source": []
  },
  {
   "cell_type": "code",
   "execution_count": 323,
   "metadata": {},
   "outputs": [
    {
     "name": "stdout",
     "output_type": "stream",
     "text": [
      "z: -0.007539389277952073\n",
      "p-value: 0.4969922473432886\n",
      "CI: (-0.076961232978621716, 0.076371523410584105)\n",
      "proportion difference: -0.0002948547840188054\n",
      "p1: 0.9019607843137255\n",
      "p2: 0.9022556390977443\n"
     ]
    }
   ],
   "source": [
    "twoporZtest(92, 120, 102, 133)"
   ]
  },
  {
   "cell_type": "code",
   "execution_count": 324,
   "metadata": {},
   "outputs": [
    {
     "name": "stdout",
     "output_type": "stream",
     "text": [
      "h = 0.0009922151297061532\n"
     ]
    }
   ],
   "source": [
    "cohensH(0.9019607843137255,0.9022556390977443)"
   ]
  },
  {
   "cell_type": "code",
   "execution_count": 325,
   "metadata": {},
   "outputs": [
    {
     "data": {
      "text/html": [
       "<div>\n",
       "<style>\n",
       "    .dataframe thead tr:only-child th {\n",
       "        text-align: right;\n",
       "    }\n",
       "\n",
       "    .dataframe thead th {\n",
       "        text-align: left;\n",
       "    }\n",
       "\n",
       "    .dataframe tbody tr th {\n",
       "        vertical-align: top;\n",
       "    }\n",
       "</style>\n",
       "<table border=\"1\" class=\"dataframe\">\n",
       "  <thead>\n",
       "    <tr style=\"text-align: right;\">\n",
       "      <th>Version</th>\n",
       "      <th>Version 51</th>\n",
       "      <th>Version 99</th>\n",
       "    </tr>\n",
       "    <tr>\n",
       "      <th>Overall_Exp_Rating</th>\n",
       "      <th></th>\n",
       "      <th></th>\n",
       "    </tr>\n",
       "  </thead>\n",
       "  <tbody>\n",
       "    <tr>\n",
       "      <th>High</th>\n",
       "      <td>120</td>\n",
       "      <td>92</td>\n",
       "    </tr>\n",
       "    <tr>\n",
       "      <th>Low</th>\n",
       "      <td>13</td>\n",
       "      <td>10</td>\n",
       "    </tr>\n",
       "  </tbody>\n",
       "</table>\n",
       "</div>"
      ],
      "text/plain": [
       "Version             Version 51  Version 99\n",
       "Overall_Exp_Rating                        \n",
       "High                       120          92\n",
       "Low                         13          10"
      ]
     },
     "execution_count": 325,
     "metadata": {},
     "output_type": "execute_result"
    }
   ],
   "source": [
    "cont_table = pd.crosstab(index=df_overall_exp.Overall_Exp_Rating, columns=df_overall_exp.Version)\n",
    "cont_table"
   ]
  },
  {
   "cell_type": "code",
   "execution_count": 326,
   "metadata": {},
   "outputs": [
    {
     "data": {
      "text/plain": [
       "(0.04576611796223172,\n",
       " 0.83060151197595922,\n",
       " 1,\n",
       " array([[ 119.98297872,   92.01702128],\n",
       "        [  13.01702128,    9.98297872]]))"
      ]
     },
     "execution_count": 326,
     "metadata": {},
     "output_type": "execute_result"
    }
   ],
   "source": [
    "stats.chi2_contingency(cont_table)"
   ]
  },
  {
   "cell_type": "code",
   "execution_count": 327,
   "metadata": {},
   "outputs": [
    {
     "data": {
      "text/plain": [
       "(1.0033444816053512, 1.0)"
      ]
     },
     "execution_count": 327,
     "metadata": {},
     "output_type": "execute_result"
    }
   ],
   "source": [
    "stats.fisher_exact(cont_table) #if expected frequency is less than 5"
   ]
  },
  {
   "cell_type": "code",
   "execution_count": null,
   "metadata": {},
   "outputs": [],
   "source": []
  },
  {
   "cell_type": "code",
   "execution_count": null,
   "metadata": {
    "collapsed": true
   },
   "outputs": [],
   "source": []
  },
  {
   "cell_type": "code",
   "execution_count": 328,
   "metadata": {},
   "outputs": [],
   "source": [
    "numeric_map = {'Excellent': 5, 'Good': 4, 'No effect':3 ,'Not good':2, 'Awful':1}\n"
   ]
  },
  {
   "cell_type": "code",
   "execution_count": null,
   "metadata": {},
   "outputs": [],
   "source": []
  },
  {
   "cell_type": "code",
   "execution_count": null,
   "metadata": {},
   "outputs": [],
   "source": []
  },
  {
   "cell_type": "code",
   "execution_count": null,
   "metadata": {},
   "outputs": [],
   "source": []
  },
  {
   "cell_type": "markdown",
   "metadata": {},
   "source": [
    "# Sleep Quality"
   ]
  },
  {
   "cell_type": "code",
   "execution_count": 329,
   "metadata": {},
   "outputs": [],
   "source": [
    "s99 = df_99[['Sleep_Quality','Overall_Exp_Rating', 'Version', 'Version_Duration']]\n",
    "s51 = df_51[['Sleep_Quality','Overall_Exp_Rating', 'Version', 'Version_Duration']]\n",
    "sleep_df = pd.concat([s99, s51])"
   ]
  },
  {
   "cell_type": "code",
   "execution_count": 330,
   "metadata": {},
   "outputs": [
    {
     "data": {
      "text/html": [
       "<div>\n",
       "<style>\n",
       "    .dataframe thead tr:only-child th {\n",
       "        text-align: right;\n",
       "    }\n",
       "\n",
       "    .dataframe thead th {\n",
       "        text-align: left;\n",
       "    }\n",
       "\n",
       "    .dataframe tbody tr th {\n",
       "        vertical-align: top;\n",
       "    }\n",
       "</style>\n",
       "<table border=\"1\" class=\"dataframe\">\n",
       "  <thead>\n",
       "    <tr style=\"text-align: right;\">\n",
       "      <th>Sleep_Quality</th>\n",
       "      <th>Excellent</th>\n",
       "      <th>OK</th>\n",
       "      <th>Poor</th>\n",
       "      <th>All</th>\n",
       "    </tr>\n",
       "    <tr>\n",
       "      <th>Overall_Exp_Rating</th>\n",
       "      <th></th>\n",
       "      <th></th>\n",
       "      <th></th>\n",
       "      <th></th>\n",
       "    </tr>\n",
       "  </thead>\n",
       "  <tbody>\n",
       "    <tr>\n",
       "      <th>High</th>\n",
       "      <td>46</td>\n",
       "      <td>40</td>\n",
       "      <td>4</td>\n",
       "      <td>90</td>\n",
       "    </tr>\n",
       "    <tr>\n",
       "      <th>Low</th>\n",
       "      <td>1</td>\n",
       "      <td>9</td>\n",
       "      <td>0</td>\n",
       "      <td>10</td>\n",
       "    </tr>\n",
       "    <tr>\n",
       "      <th>All</th>\n",
       "      <td>47</td>\n",
       "      <td>49</td>\n",
       "      <td>4</td>\n",
       "      <td>100</td>\n",
       "    </tr>\n",
       "  </tbody>\n",
       "</table>\n",
       "</div>"
      ],
      "text/plain": [
       "Sleep_Quality       Excellent  OK  Poor  All\n",
       "Overall_Exp_Rating                          \n",
       "High                       46  40     4   90\n",
       "Low                         1   9     0   10\n",
       "All                        47  49     4  100"
      ]
     },
     "execution_count": 330,
     "metadata": {},
     "output_type": "execute_result"
    }
   ],
   "source": [
    "sq = pd.crosstab(index=df_99.Overall_Exp_Rating, columns=df_99.Sleep_Quality, margins=True) # trial 99\n",
    "sq"
   ]
  },
  {
   "cell_type": "code",
   "execution_count": 505,
   "metadata": {},
   "outputs": [],
   "source": [
    "table = sm.stats.Table(sq)"
   ]
  },
  {
   "cell_type": "code",
   "execution_count": 506,
   "metadata": {},
   "outputs": [
    {
     "name": "stdout",
     "output_type": "stream",
     "text": [
      "Sleep_Quality       Excellent  OK  Poor  All\n",
      "Overall_Exp_Rating                          \n",
      "High                       46  40     4   90\n",
      "Low                         1   9     0   10\n",
      "All                        47  49     4  100\n"
     ]
    }
   ],
   "source": [
    "print(table.table_orig)"
   ]
  },
  {
   "cell_type": "code",
   "execution_count": 507,
   "metadata": {},
   "outputs": [
    {
     "name": "stdout",
     "output_type": "stream",
     "text": [
      "Sleep_Quality       Excellent         OK      Poor         All\n",
      "Overall_Exp_Rating                                            \n",
      "High                42.810345  44.603448  4.258621   90.327586\n",
      "Low                  5.174877   5.391626  0.514778   10.918719\n",
      "All                 47.514778  49.504926  4.726601  100.253695\n"
     ]
    }
   ],
   "source": [
    "print(table.fittedvalues)"
   ]
  },
  {
   "cell_type": "code",
   "execution_count": 508,
   "metadata": {},
   "outputs": [
    {
     "name": "stdout",
     "output_type": "stream",
     "text": [
      "Sleep_Quality       Excellent        OK      Poor       All\n",
      "Overall_Exp_Rating                                         \n",
      "High                 0.563912 -0.614419  0.116968  0.018141\n",
      "Low                 -1.615447  1.769335 -0.020598 -0.126718\n",
      "All                 -0.002144 -0.000700 -0.104229  0.024599\n"
     ]
    }
   ],
   "source": [
    "print(table.resid_pearson)"
   ]
  },
  {
   "cell_type": "code",
   "execution_count": 509,
   "metadata": {},
   "outputs": [
    {
     "name": "stdout",
     "output_type": "stream",
     "text": [
      "0.892530877743\n"
     ]
    }
   ],
   "source": [
    "result = table.test_ordinal_association()\n",
    "print (result.pvalue)"
   ]
  },
  {
   "cell_type": "code",
   "execution_count": 510,
   "metadata": {},
   "outputs": [
    {
     "name": "stdout",
     "output_type": "stream",
     "text": [
      "762.0 758.615763547 25.0494095381\n"
     ]
    }
   ],
   "source": [
    "print (result.statistic, result.null_mean, result.null_sd)"
   ]
  },
  {
   "cell_type": "code",
   "execution_count": 511,
   "metadata": {},
   "outputs": [
    {
     "name": "stdout",
     "output_type": "stream",
     "text": [
      "log odds ratio = 2.241676339907053\n"
     ]
    }
   ],
   "source": [
    "logodds(46,1,44,9)"
   ]
  },
  {
   "cell_type": "code",
   "execution_count": 512,
   "metadata": {},
   "outputs": [
    {
     "name": "stdout",
     "output_type": "stream",
     "text": [
      "Sleep_Quality       Excellent  OK  Poor\n",
      "Overall_Exp_Rating                     \n",
      "High                       46  64     9\n",
      "Low                         1   8     4\n"
     ]
    }
   ],
   "source": [
    "sq51 = pd.crosstab(index=df_51.Overall_Exp_Rating, columns=df_51.Sleep_Quality)\n",
    "table = sm.stats.Table(sq51)\n",
    "\n",
    "print (table.table_orig)"
   ]
  },
  {
   "cell_type": "code",
   "execution_count": 513,
   "metadata": {},
   "outputs": [
    {
     "name": "stdout",
     "output_type": "stream",
     "text": [
      "Sleep_Quality       Excellent         OK       Poor\n",
      "Overall_Exp_Rating                                 \n",
      "High                42.371212  64.909091  11.719697\n",
      "Low                  4.628788   7.090909   1.280303\n"
     ]
    }
   ],
   "source": [
    "print (table.fittedvalues)"
   ]
  },
  {
   "cell_type": "code",
   "execution_count": 514,
   "metadata": {},
   "outputs": [
    {
     "name": "stdout",
     "output_type": "stream",
     "text": [
      "Sleep_Quality       Excellent        OK      Poor\n",
      "Overall_Exp_Rating                               \n",
      "High                 0.557476 -0.112838 -0.794442\n",
      "Low                 -1.686662  0.341394  2.403611\n"
     ]
    }
   ],
   "source": [
    "print (table.resid_pearson)"
   ]
  },
  {
   "cell_type": "code",
   "execution_count": 515,
   "metadata": {},
   "outputs": [
    {
     "name": "stdout",
     "output_type": "stream",
     "text": [
      "0.00302629111994\n"
     ]
    }
   ],
   "source": [
    "result = table.test_ordinal_association()\n",
    "print (result.pvalue)"
   ]
  },
  {
   "cell_type": "code",
   "execution_count": 516,
   "metadata": {},
   "outputs": [
    {
     "name": "stdout",
     "output_type": "stream",
     "text": [
      "16.0\n"
     ]
    }
   ],
   "source": [
    "print (result.statistic)"
   ]
  },
  {
   "cell_type": "code",
   "execution_count": 517,
   "metadata": {},
   "outputs": [
    {
     "name": "stdout",
     "output_type": "stream",
     "text": [
      "log odds ratio = 2.023088605128704\n"
     ]
    }
   ],
   "source": [
    "logodds(46,1,73,12)"
   ]
  },
  {
   "cell_type": "code",
   "execution_count": 340,
   "metadata": {},
   "outputs": [
    {
     "data": {
      "text/html": [
       "<div>\n",
       "<style>\n",
       "    .dataframe thead tr:only-child th {\n",
       "        text-align: right;\n",
       "    }\n",
       "\n",
       "    .dataframe thead th {\n",
       "        text-align: left;\n",
       "    }\n",
       "\n",
       "    .dataframe tbody tr th {\n",
       "        vertical-align: top;\n",
       "    }\n",
       "</style>\n",
       "<table border=\"1\" class=\"dataframe\">\n",
       "  <thead>\n",
       "    <tr style=\"text-align: right;\">\n",
       "      <th>Version</th>\n",
       "      <th>Version 51</th>\n",
       "      <th>Version 99</th>\n",
       "      <th>All</th>\n",
       "    </tr>\n",
       "    <tr>\n",
       "      <th>Sleep_Quality</th>\n",
       "      <th></th>\n",
       "      <th></th>\n",
       "      <th></th>\n",
       "    </tr>\n",
       "  </thead>\n",
       "  <tbody>\n",
       "    <tr>\n",
       "      <th>Excellent</th>\n",
       "      <td>47</td>\n",
       "      <td>47</td>\n",
       "      <td>94</td>\n",
       "    </tr>\n",
       "    <tr>\n",
       "      <th>OK</th>\n",
       "      <td>72</td>\n",
       "      <td>49</td>\n",
       "      <td>121</td>\n",
       "    </tr>\n",
       "    <tr>\n",
       "      <th>Poor</th>\n",
       "      <td>13</td>\n",
       "      <td>4</td>\n",
       "      <td>17</td>\n",
       "    </tr>\n",
       "    <tr>\n",
       "      <th>All</th>\n",
       "      <td>132</td>\n",
       "      <td>100</td>\n",
       "      <td>232</td>\n",
       "    </tr>\n",
       "  </tbody>\n",
       "</table>\n",
       "</div>"
      ],
      "text/plain": [
       "Version        Version 51  Version 99  All\n",
       "Sleep_Quality                             \n",
       "Excellent              47          47   94\n",
       "OK                     72          49  121\n",
       "Poor                   13           4   17\n",
       "All                   132         100  232"
      ]
     },
     "execution_count": 340,
     "metadata": {},
     "output_type": "execute_result"
    }
   ],
   "source": [
    "pd.crosstab(index=sleep_df.Sleep_Quality, columns=sleep_df.Version, margins=True)"
   ]
  },
  {
   "cell_type": "code",
   "execution_count": 520,
   "metadata": {},
   "outputs": [
    {
     "name": "stdout",
     "output_type": "stream",
     "text": [
      "log odds ratio = 0.47235934293819454\n"
     ]
    }
   ],
   "source": [
    "logodds(47,53,47,85) #logodds between the two versions for excellent and non excellent"
   ]
  },
  {
   "cell_type": "code",
   "execution_count": 341,
   "metadata": {},
   "outputs": [
    {
     "name": "stdout",
     "output_type": "stream",
     "text": [
      "z: 1.7506583240065035\n",
      "p-value: 0.04000239114295406\n",
      "CI: (-0.013505537747437207, 0.241384325626225)\n",
      "proportion difference: 0.1139393939393939\n",
      "p1: 0.47\n",
      "p2: 0.3560606060606061\n"
     ]
    }
   ],
   "source": [
    "#excellent between the two\n",
    "twoporZtest(47, 47, 100, 132)"
   ]
  },
  {
   "cell_type": "code",
   "execution_count": 342,
   "metadata": {},
   "outputs": [
    {
     "name": "stdout",
     "output_type": "stream",
     "text": [
      "h = 0.23197506043912686\n"
     ]
    }
   ],
   "source": [
    "cohensH((47/100), (47/132))"
   ]
  },
  {
   "cell_type": "code",
   "execution_count": 343,
   "metadata": {},
   "outputs": [
    {
     "name": "stdout",
     "output_type": "stream",
     "text": [
      "z: -0.837363320547788\n",
      "p-value: 0.20119418834113206\n",
      "CI: (-0.18513023996920283, 0.074221149060111985)\n",
      "proportion difference: -0.05545454545454542\n",
      "p1: 0.49\n",
      "p2: 0.5454545454545454\n"
     ]
    }
   ],
   "source": [
    "#ok\n",
    "\n",
    "twoporZtest(49, 72, 100, 132)"
   ]
  },
  {
   "cell_type": "code",
   "execution_count": 519,
   "metadata": {},
   "outputs": [
    {
     "name": "stdout",
     "output_type": "stream",
     "text": [
      "h = 0.11103611161080584\n"
     ]
    }
   ],
   "source": [
    "cohensH(0.49,0.5454545454545454)"
   ]
  },
  {
   "cell_type": "code",
   "execution_count": 344,
   "metadata": {},
   "outputs": [
    {
     "name": "stdout",
     "output_type": "stream",
     "text": [
      "z: -1.6928973943202785\n",
      "p-value: 0.04523749970302936\n",
      "CI: (-0.1221959457563685, 0.0052262487866715293)\n",
      "proportion difference: -0.05848484848484848\n",
      "p1: 0.04\n",
      "p2: 0.09848484848484848\n"
     ]
    }
   ],
   "source": [
    "#Poor\n",
    "twoporZtest(4, 13, 100, 132)"
   ]
  },
  {
   "cell_type": "code",
   "execution_count": 518,
   "metadata": {},
   "outputs": [
    {
     "name": "stdout",
     "output_type": "stream",
     "text": [
      "h = 0.23571761980822387\n"
     ]
    }
   ],
   "source": [
    "cohensH(0.04,0.09848484848484848)"
   ]
  },
  {
   "cell_type": "code",
   "execution_count": 345,
   "metadata": {
    "collapsed": true
   },
   "outputs": [],
   "source": [
    "def prop_diff_exl (data1, data2):\n",
    "    \"\"\"calculates the difference in proportions\"\"\"\n",
    "    count_1 = len([values for values in data1 if values=='Excellent'])\n",
    "\n",
    "    total_1 = len(data1)\n",
    "    \n",
    "    count_2 = len([values for values in data2 if values=='Excellent'])\n",
    "    \n",
    "    total_2 = len(data2)\n",
    "    \n",
    "    p1 = count_1 / total_1\n",
    "    p2 = count_2 / total_2\n",
    "    \n",
    "    diff_prop = p1 - p2\n",
    "    \n",
    "    return diff_prop"
   ]
  },
  {
   "cell_type": "code",
   "execution_count": null,
   "metadata": {
    "collapsed": true
   },
   "outputs": [],
   "source": []
  },
  {
   "cell_type": "code",
   "execution_count": 346,
   "metadata": {},
   "outputs": [],
   "source": [
    "exl = {'Excellent':'Excellent','OK': 'Not Excellent', 'Poor': 'Not Excellent'}\n",
    "ss99 = s99['Sleep_Quality'].map(exl)\n",
    "ss51 = s51['Sleep_Quality'].map(exl)\n",
    "sleep_reps = draw_perm_reps(ss99, ss51, prop_diff_exl ,size=1000)"
   ]
  },
  {
   "cell_type": "code",
   "execution_count": null,
   "metadata": {},
   "outputs": [],
   "source": []
  },
  {
   "cell_type": "code",
   "execution_count": 347,
   "metadata": {},
   "outputs": [
    {
     "data": {
      "text/plain": [
       "0.10740085507887365"
      ]
     },
     "execution_count": 347,
     "metadata": {},
     "output_type": "execute_result"
    }
   ],
   "source": [
    "excellent = prop_diff_exl(ss99, ss51)\n",
    "excellent"
   ]
  },
  {
   "cell_type": "code",
   "execution_count": null,
   "metadata": {},
   "outputs": [],
   "source": []
  },
  {
   "cell_type": "code",
   "execution_count": 348,
   "metadata": {},
   "outputs": [
    {
     "data": {
      "text/plain": [
       "Text(0.5,1,'Simulated Data for Sleep Quality For the Proportions of Excellent Raters')"
      ]
     },
     "execution_count": 348,
     "metadata": {},
     "output_type": "execute_result"
    },
    {
     "data": {
      "image/png": "[encoded data removed]",
      "text/plain": [
       "<matplotlib.figure.Figure at 0x19e4ac64978>"
      ]
     },
     "metadata": {},
     "output_type": "display_data"
    }
   ],
   "source": [
    "plt.hist(sleep_reps)\n",
    "\n",
    "\n",
    "plt.hist(sleep_reps)\n",
    "\n",
    "l = plt.axvline(excellent,color='b', linewidth=2)\n",
    "#ll = plt.axvline(-obs,color='b', linewidth=2)\n",
    "plt.legend([l],['observed = {0:f}'.format(excellent)], loc=2)\n",
    "\n",
    "plt.title('Simulated Data for Sleep Quality For the Proportions of Excellent Raters')\n"
   ]
  },
  {
   "cell_type": "code",
   "execution_count": 349,
   "metadata": {},
   "outputs": [
    {
     "data": {
      "text/plain": [
       "0.071999999999999995"
      ]
     },
     "execution_count": 349,
     "metadata": {},
     "output_type": "execute_result"
    }
   ],
   "source": [
    "np.sum((sleep_reps) >= excellent) / len(sleep_reps)"
   ]
  },
  {
   "cell_type": "code",
   "execution_count": null,
   "metadata": {
    "collapsed": true
   },
   "outputs": [],
   "source": []
  },
  {
   "cell_type": "code",
   "execution_count": 350,
   "metadata": {},
   "outputs": [],
   "source": [
    "sleep_rating = {'Excellent': 3, 'OK': 2, 'Poor': 1}\n",
    "sleep_df['Sleep_Quality_Score'] = sleep_df['Sleep_Quality'].map(sleep_rating)"
   ]
  },
  {
   "cell_type": "code",
   "execution_count": 492,
   "metadata": {},
   "outputs": [
    {
     "data": {
      "text/html": [
       "<div>\n",
       "<style>\n",
       "    .dataframe thead tr:only-child th {\n",
       "        text-align: right;\n",
       "    }\n",
       "\n",
       "    .dataframe thead th {\n",
       "        text-align: left;\n",
       "    }\n",
       "\n",
       "    .dataframe tbody tr th {\n",
       "        vertical-align: top;\n",
       "    }\n",
       "</style>\n",
       "<table border=\"1\" class=\"dataframe\">\n",
       "  <thead>\n",
       "    <tr style=\"text-align: right;\">\n",
       "      <th>Version</th>\n",
       "      <th>Version 51</th>\n",
       "      <th>Version 99</th>\n",
       "    </tr>\n",
       "    <tr>\n",
       "      <th>Version_Duration</th>\n",
       "      <th></th>\n",
       "      <th></th>\n",
       "    </tr>\n",
       "  </thead>\n",
       "  <tbody>\n",
       "    <tr>\n",
       "      <th>1 day</th>\n",
       "      <td>2.170732</td>\n",
       "      <td>2.405405</td>\n",
       "    </tr>\n",
       "    <tr>\n",
       "      <th>1 weeks</th>\n",
       "      <td>2.275000</td>\n",
       "      <td>2.433333</td>\n",
       "    </tr>\n",
       "    <tr>\n",
       "      <th>2 weeks</th>\n",
       "      <td>2.322581</td>\n",
       "      <td>2.450000</td>\n",
       "    </tr>\n",
       "    <tr>\n",
       "      <th>3 weeks</th>\n",
       "      <td>2.300000</td>\n",
       "      <td>2.461538</td>\n",
       "    </tr>\n",
       "  </tbody>\n",
       "</table>\n",
       "</div>"
      ],
      "text/plain": [
       "Version           Version 51  Version 99\n",
       "Version_Duration                        \n",
       "1 day               2.170732    2.405405\n",
       "1 weeks             2.275000    2.433333\n",
       "2 weeks             2.322581    2.450000\n",
       "3 weeks             2.300000    2.461538"
      ]
     },
     "execution_count": 492,
     "metadata": {},
     "output_type": "execute_result"
    }
   ],
   "source": [
    "s = pd.crosstab(index=sleep_df.Version_Duration, columns=sleep_df.Version, values=sleep_df.Sleep_Quality_Score, aggfunc='mean')\n",
    "s"
   ]
  },
  {
   "cell_type": "code",
   "execution_count": 493,
   "metadata": {},
   "outputs": [
    {
     "data": {
      "text/plain": [
       "<matplotlib.axes._subplots.AxesSubplot at 0x19e4ac70470>"
      ]
     },
     "execution_count": 493,
     "metadata": {},
     "output_type": "execute_result"
    },
    {
     "data": {
      "image/png": "[encoded data removed]",
      "text/plain": [
       "<matplotlib.figure.Figure at 0x19e4ac03eb8>"
      ]
     },
     "metadata": {},
     "output_type": "display_data"
    }
   ],
   "source": [
    "s.plot()"
   ]
  },
  {
   "cell_type": "code",
   "execution_count": null,
   "metadata": {},
   "outputs": [],
   "source": []
  },
  {
   "cell_type": "code",
   "execution_count": null,
   "metadata": {},
   "outputs": [],
   "source": []
  },
  {
   "cell_type": "code",
   "execution_count": 353,
   "metadata": {},
   "outputs": [],
   "source": [
    "x = sleep_df[sleep_df.Version=='Version 99']['Sleep_Quality_Score'].dropna()\n",
    "y = sleep_df[sleep_df.Version=='Version 51']['Sleep_Quality_Score'].dropna()"
   ]
  },
  {
   "cell_type": "code",
   "execution_count": null,
   "metadata": {},
   "outputs": [],
   "source": []
  },
  {
   "cell_type": "code",
   "execution_count": 354,
   "metadata": {},
   "outputs": [
    {
     "data": {
      "text/plain": [
       "Ttest_indResult(statistic=2.1815022814071678, pvalue=0.030197167815845312)"
      ]
     },
     "execution_count": 354,
     "metadata": {},
     "output_type": "execute_result"
    }
   ],
   "source": [
    "stats.ttest_ind(x,y, equal_var=False)"
   ]
  },
  {
   "cell_type": "code",
   "execution_count": 355,
   "metadata": {},
   "outputs": [
    {
     "data": {
      "text/plain": [
       "MannwhitneyuResult(statistic=7526.5, pvalue=0.039754857558115302)"
      ]
     },
     "execution_count": 355,
     "metadata": {},
     "output_type": "execute_result"
    }
   ],
   "source": [
    "stats.mannwhitneyu(x,y, alternative='two-sided')"
   ]
  },
  {
   "cell_type": "code",
   "execution_count": 356,
   "metadata": {},
   "outputs": [
    {
     "name": "stdout",
     "output_type": "stream",
     "text": [
      "U = 7526.5\n",
      "pval = 0.06723731829991199\n",
      "Not Statistically Significant\n",
      "UCRIT = 5607.228827386384\n"
     ]
    }
   ],
   "source": [
    "manntest(x,y)"
   ]
  },
  {
   "cell_type": "code",
   "execution_count": 497,
   "metadata": {},
   "outputs": [
    {
     "name": "stdout",
     "output_type": "stream",
     "text": [
      "Rank Biserial Correlation = -0.14037878787878788\n",
      "CLES = 0.42981060606060606\n"
     ]
    }
   ],
   "source": [
    "rankbis(7526.5, x,y)"
   ]
  },
  {
   "cell_type": "code",
   "execution_count": 357,
   "metadata": {},
   "outputs": [
    {
     "data": {
      "image/png": "[encoded data removed]",
      "text/plain": [
       "<matplotlib.figure.Figure at 0x19e49be4080>"
      ]
     },
     "metadata": {},
     "output_type": "display_data"
    }
   ],
   "source": [
    "plt.hist(x, label='99', alpha=0.5)\n",
    "plt.hist(y, label='51', alpha=0.5)\n",
    "plt.legend()\n",
    "plt.show()"
   ]
  },
  {
   "cell_type": "markdown",
   "metadata": {},
   "source": [
    "## Focus Attention and Concentration"
   ]
  },
  {
   "cell_type": "code",
   "execution_count": 524,
   "metadata": {},
   "outputs": [
    {
     "name": "stdout",
     "output_type": "stream",
     "text": [
      "Original Table\n",
      "Focus_Atten_Concen  Improved  Less good  No effect\n",
      "Overall_Exp_Rating                                \n",
      "High                      74          2         15\n",
      "Low                        2          2          6\n",
      "--------------\n",
      "Fitted Values\n",
      "Focus_Atten_Concen   Improved  Less good  No effect\n",
      "Overall_Exp_Rating                                 \n",
      "High                68.475248    3.60396  18.920792\n",
      "Low                  7.524752    0.39604   2.079208\n",
      "--------------\n",
      "Pearon Residuals\n",
      "Focus_Atten_Concen  Improved  Less good  No effect\n",
      "Overall_Exp_Rating                                \n",
      "High                0.667646  -0.844897  -0.901372\n",
      "Low                -2.014034   2.548733   2.719098\n",
      "--------------\n",
      "pvalue = 0.00012154464459632272\n",
      "statistic = 14.0\n"
     ]
    }
   ],
   "source": [
    "FAC99 = pd.crosstab(index=df_99.Overall_Exp_Rating, columns=df_99.Focus_Atten_Concen)\n",
    "conttable(FAC99)"
   ]
  },
  {
   "cell_type": "code",
   "execution_count": 359,
   "metadata": {},
   "outputs": [
    {
     "name": "stdout",
     "output_type": "stream",
     "text": [
      "log odds ratio = 2.8571461102678444\n"
     ]
    }
   ],
   "source": [
    "logodds(74,2,17,8) # combine less good and no effect together"
   ]
  },
  {
   "cell_type": "code",
   "execution_count": 525,
   "metadata": {},
   "outputs": [
    {
     "name": "stdout",
     "output_type": "stream",
     "text": [
      "Original Table\n",
      "Focus_Atten_Concen  Improved  Less good  No effect\n",
      "Overall_Exp_Rating                                \n",
      "High                     111          0          8\n",
      "Low                        1          5          7\n",
      "--------------\n",
      "Fitted Values\n",
      "Focus_Atten_Concen    Improved  Less good  No effect\n",
      "Overall_Exp_Rating                                  \n",
      "High                100.862963   5.355556  14.281481\n",
      "Low                  12.137037   0.644444   1.718519\n",
      "--------------\n",
      "Pearon Residuals\n",
      "Focus_Atten_Concen  Improved  Less good  No effect\n",
      "Overall_Exp_Rating                                \n",
      "High                1.059144  -2.098151  -1.529863\n",
      "Low                -3.053264   6.048479   4.410238\n",
      "--------------\n",
      "pvalue = 6.877911093829427e-12\n",
      "statistic = 20.5\n"
     ]
    }
   ],
   "source": [
    "FAC51 = pd.crosstab(index=df_51.Overall_Exp_Rating, columns=df_51.Focus_Atten_Concen)\n",
    "conttable(FAC51)"
   ]
  },
  {
   "cell_type": "code",
   "execution_count": 361,
   "metadata": {},
   "outputs": [
    {
     "name": "stdout",
     "output_type": "stream",
     "text": [
      "log odds ratio = 5.1149953094204985\n"
     ]
    }
   ],
   "source": [
    "logodds(111,1, 8, 12)"
   ]
  },
  {
   "cell_type": "code",
   "execution_count": 362,
   "metadata": {},
   "outputs": [],
   "source": [
    "f99 = df_99[['Focus_Atten_Concen','Overall_Exp_Rating', 'Version', 'Version_Duration']]\n",
    "f51 = df_51[['Focus_Atten_Concen','Overall_Exp_Rating', 'Version', 'Version_Duration']]\n",
    "f_df = pd.concat([f99, f51])"
   ]
  },
  {
   "cell_type": "code",
   "execution_count": 363,
   "metadata": {},
   "outputs": [
    {
     "data": {
      "text/html": [
       "<div>\n",
       "<style>\n",
       "    .dataframe thead tr:only-child th {\n",
       "        text-align: right;\n",
       "    }\n",
       "\n",
       "    .dataframe thead th {\n",
       "        text-align: left;\n",
       "    }\n",
       "\n",
       "    .dataframe tbody tr th {\n",
       "        vertical-align: top;\n",
       "    }\n",
       "</style>\n",
       "<table border=\"1\" class=\"dataframe\">\n",
       "  <thead>\n",
       "    <tr style=\"text-align: right;\">\n",
       "      <th>Version</th>\n",
       "      <th>Version 51</th>\n",
       "      <th>Version 99</th>\n",
       "      <th>All</th>\n",
       "    </tr>\n",
       "    <tr>\n",
       "      <th>Focus_Atten_Concen</th>\n",
       "      <th></th>\n",
       "      <th></th>\n",
       "      <th></th>\n",
       "    </tr>\n",
       "  </thead>\n",
       "  <tbody>\n",
       "    <tr>\n",
       "      <th>Improved</th>\n",
       "      <td>112</td>\n",
       "      <td>76</td>\n",
       "      <td>188</td>\n",
       "    </tr>\n",
       "    <tr>\n",
       "      <th>Less good</th>\n",
       "      <td>5</td>\n",
       "      <td>4</td>\n",
       "      <td>9</td>\n",
       "    </tr>\n",
       "    <tr>\n",
       "      <th>No effect</th>\n",
       "      <td>15</td>\n",
       "      <td>21</td>\n",
       "      <td>36</td>\n",
       "    </tr>\n",
       "    <tr>\n",
       "      <th>All</th>\n",
       "      <td>132</td>\n",
       "      <td>101</td>\n",
       "      <td>233</td>\n",
       "    </tr>\n",
       "  </tbody>\n",
       "</table>\n",
       "</div>"
      ],
      "text/plain": [
       "Version             Version 51  Version 99  All\n",
       "Focus_Atten_Concen                             \n",
       "Improved                   112          76  188\n",
       "Less good                    5           4    9\n",
       "No effect                   15          21   36\n",
       "All                        132         101  233"
      ]
     },
     "execution_count": 363,
     "metadata": {},
     "output_type": "execute_result"
    }
   ],
   "source": [
    "pd.crosstab(index=f_df.Focus_Atten_Concen, columns=f_df.Version, margins=True)"
   ]
  },
  {
   "cell_type": "code",
   "execution_count": 536,
   "metadata": {},
   "outputs": [
    {
     "name": "stdout",
     "output_type": "stream",
     "text": [
      "log odds ratio = -0.6109090823229731\n"
     ]
    }
   ],
   "source": [
    " logodds(76,25,112,20) #combined less and no effect together"
   ]
  },
  {
   "cell_type": "code",
   "execution_count": 530,
   "metadata": {},
   "outputs": [
    {
     "name": "stdout",
     "output_type": "stream",
     "text": [
      "z: -1.8397342607448173\n",
      "p-value: 0.03290363050050351\n",
      "CI: (-0.20005676678369366, 0.0080375648635015867)\n",
      "proportion difference: -0.09600960096009603\n",
      "p1: 0.7524752475247525\n",
      "p2: 0.8484848484848485\n",
      "Cohens H = 0.241838388468532\n"
     ]
    }
   ],
   "source": [
    "#improved\n",
    "twoporZtest(76, 112, 101, 132)"
   ]
  },
  {
   "cell_type": "code",
   "execution_count": 365,
   "metadata": {},
   "outputs": [
    {
     "name": "stdout",
     "output_type": "stream",
     "text": [
      "h = 0.241838388468532\n"
     ]
    }
   ],
   "source": [
    "cohensH((76/101), (112/132))"
   ]
  },
  {
   "cell_type": "code",
   "execution_count": 531,
   "metadata": {},
   "outputs": [
    {
     "name": "stdout",
     "output_type": "stream",
     "text": [
      "z: 0.06771936547468269\n",
      "p-value: 0.47300451663924803\n",
      "CI: (-0.048348120008156407, 0.051798465042659857)\n",
      "proportion difference: 0.0017251725172517246\n",
      "p1: 0.039603960396039604\n",
      "p2: 0.03787878787878788\n",
      "Cohens H = 0.00894028026166116\n"
     ]
    }
   ],
   "source": [
    "#less good\n",
    "twoporZtest(4, 5, 101, 132)"
   ]
  },
  {
   "cell_type": "code",
   "execution_count": 532,
   "metadata": {},
   "outputs": [
    {
     "name": "stdout",
     "output_type": "stream",
     "text": [
      "z: 1.973245959687659\n",
      "p-value: 0.024233773261684487\n",
      "CI: (-0.0016083696115250928, 0.19017722649721364)\n",
      "proportion difference: 0.09428442844284428\n",
      "p1: 0.2079207920792079\n",
      "p2: 0.11363636363636363\n",
      "Cohens H = 0.2592838983315384\n"
     ]
    }
   ],
   "source": [
    "#no effect\n",
    "twoporZtest(21, 15, 101, 132)"
   ]
  },
  {
   "cell_type": "code",
   "execution_count": null,
   "metadata": {
    "collapsed": true
   },
   "outputs": [],
   "source": []
  },
  {
   "cell_type": "code",
   "execution_count": null,
   "metadata": {},
   "outputs": [],
   "source": []
  },
  {
   "cell_type": "code",
   "execution_count": null,
   "metadata": {
    "collapsed": true
   },
   "outputs": [],
   "source": []
  },
  {
   "cell_type": "code",
   "execution_count": null,
   "metadata": {},
   "outputs": [],
   "source": []
  },
  {
   "cell_type": "code",
   "execution_count": 368,
   "metadata": {
    "collapsed": true
   },
   "outputs": [],
   "source": [
    "rating_3 = {'Improved':3, 'Less good':2, 'No effect':1}"
   ]
  },
  {
   "cell_type": "code",
   "execution_count": 369,
   "metadata": {},
   "outputs": [],
   "source": [
    "f_df['FAC_Rating'] = f_df['Focus_Atten_Concen'].map(rating_3)\n",
    "\n",
    "f_df99 = f_df[f_df.Version=='Version 99']['FAC_Rating'].dropna()\n",
    "f_df51 = f_df[f_df.Version=='Version 51']['FAC_Rating'].dropna()\n"
   ]
  },
  {
   "cell_type": "code",
   "execution_count": 370,
   "metadata": {},
   "outputs": [
    {
     "data": {
      "text/plain": [
       "MannwhitneyuResult(statistic=6003.5, pvalue=0.058503882463414224)"
      ]
     },
     "execution_count": 370,
     "metadata": {},
     "output_type": "execute_result"
    }
   ],
   "source": [
    "stats.mannwhitneyu(f_df99, f_df51, alternative='two-sided')"
   ]
  },
  {
   "cell_type": "code",
   "execution_count": null,
   "metadata": {},
   "outputs": [],
   "source": []
  },
  {
   "cell_type": "code",
   "execution_count": null,
   "metadata": {},
   "outputs": [],
   "source": []
  },
  {
   "cell_type": "code",
   "execution_count": 371,
   "metadata": {},
   "outputs": [
    {
     "data": {
      "text/plain": [
       "MannwhitneyuResult(statistic=6003.5, pvalue=0.058313718015346579)"
      ]
     },
     "execution_count": 371,
     "metadata": {},
     "output_type": "execute_result"
    }
   ],
   "source": [
    "stats.mannwhitneyu(f_df99, f_df51, alternative='two-sided', use_continuity=False)"
   ]
  },
  {
   "cell_type": "code",
   "execution_count": 372,
   "metadata": {},
   "outputs": [
    {
     "name": "stdout",
     "output_type": "stream",
     "text": [
      "U = 6003.5\n",
      "pval = 0.1938292062240934\n",
      "Not Statistically Significant\n",
      "UCRIT = 5666.14214697637\n"
     ]
    }
   ],
   "source": [
    "manntest(f_df99, f_df51)"
   ]
  },
  {
   "cell_type": "code",
   "execution_count": 535,
   "metadata": {},
   "outputs": [
    {
     "name": "stdout",
     "output_type": "stream",
     "text": [
      "Rank Biserial Correlation = 0.09938493849384944\n",
      "CLES = 0.5496924692469247\n"
     ]
    }
   ],
   "source": [
    "rankbis(6003.5, f_df99, f_df51)"
   ]
  },
  {
   "cell_type": "code",
   "execution_count": 373,
   "metadata": {},
   "outputs": [
    {
     "data": {
      "text/html": [
       "<div>\n",
       "<style>\n",
       "    .dataframe thead tr:only-child th {\n",
       "        text-align: right;\n",
       "    }\n",
       "\n",
       "    .dataframe thead th {\n",
       "        text-align: left;\n",
       "    }\n",
       "\n",
       "    .dataframe tbody tr th {\n",
       "        vertical-align: top;\n",
       "    }\n",
       "</style>\n",
       "<table border=\"1\" class=\"dataframe\">\n",
       "  <thead>\n",
       "    <tr style=\"text-align: right;\">\n",
       "      <th>Version</th>\n",
       "      <th>Version 51</th>\n",
       "      <th>Version 99</th>\n",
       "    </tr>\n",
       "    <tr>\n",
       "      <th>Version_Duration</th>\n",
       "      <th></th>\n",
       "      <th></th>\n",
       "    </tr>\n",
       "  </thead>\n",
       "  <tbody>\n",
       "    <tr>\n",
       "      <th>1 day</th>\n",
       "      <td>2.658537</td>\n",
       "      <td>2.526316</td>\n",
       "    </tr>\n",
       "    <tr>\n",
       "      <th>1 weeks</th>\n",
       "      <td>2.725000</td>\n",
       "      <td>2.533333</td>\n",
       "    </tr>\n",
       "    <tr>\n",
       "      <th>2 weeks</th>\n",
       "      <td>2.870968</td>\n",
       "      <td>2.600000</td>\n",
       "    </tr>\n",
       "    <tr>\n",
       "      <th>3 weeks</th>\n",
       "      <td>2.700000</td>\n",
       "      <td>2.538462</td>\n",
       "    </tr>\n",
       "  </tbody>\n",
       "</table>\n",
       "</div>"
      ],
      "text/plain": [
       "Version           Version 51  Version 99\n",
       "Version_Duration                        \n",
       "1 day               2.658537    2.526316\n",
       "1 weeks             2.725000    2.533333\n",
       "2 weeks             2.870968    2.600000\n",
       "3 weeks             2.700000    2.538462"
      ]
     },
     "execution_count": 373,
     "metadata": {},
     "output_type": "execute_result"
    }
   ],
   "source": [
    "pd.crosstab(index=f_df.Version_Duration, columns=f_df.Version, values=f_df.FAC_Rating, aggfunc=np.mean)"
   ]
  },
  {
   "cell_type": "code",
   "execution_count": 374,
   "metadata": {},
   "outputs": [
    {
     "data": {
      "text/plain": [
       "<matplotlib.axes._subplots.AxesSubplot at 0x19e4acfe8d0>"
      ]
     },
     "execution_count": 374,
     "metadata": {},
     "output_type": "execute_result"
    },
    {
     "data": {
      "image/png": "[encoded data removed]",
      "text/plain": [
       "<matplotlib.figure.Figure at 0x19e4ac5bd68>"
      ]
     },
     "metadata": {},
     "output_type": "display_data"
    }
   ],
   "source": [
    "pd.crosstab(index=f_df.Version_Duration, columns=f_df.Version, values=f_df.FAC_Rating, aggfunc=np.mean).plot()"
   ]
  },
  {
   "cell_type": "code",
   "execution_count": 375,
   "metadata": {},
   "outputs": [
    {
     "data": {
      "text/plain": [
       "Ttest_indResult(statistic=-1.916320121376307, pvalue=0.056849328234860476)"
      ]
     },
     "execution_count": 375,
     "metadata": {},
     "output_type": "execute_result"
    }
   ],
   "source": [
    "stats.ttest_ind(f_df[f_df.Version=='Version 99']['FAC_Rating'].dropna(), f_df[f_df.Version=='Version 51']['FAC_Rating'].dropna(), equal_var=False)"
   ]
  },
  {
   "cell_type": "code",
   "execution_count": 376,
   "metadata": {},
   "outputs": [
    {
     "data": {
      "text/plain": [
       "Version\n",
       "Version 51    0.652182\n",
       "Version 99    0.818838\n",
       "Name: FAC_Rating, dtype: float64"
      ]
     },
     "execution_count": 376,
     "metadata": {},
     "output_type": "execute_result"
    }
   ],
   "source": [
    "f_df.groupby(['Version'])['FAC_Rating'].std()"
   ]
  },
  {
   "cell_type": "code",
   "execution_count": 377,
   "metadata": {},
   "outputs": [
    {
     "data": {
      "text/plain": [
       "Version\n",
       "Version 51    3.0\n",
       "Version 99    3.0\n",
       "Name: FAC_Rating, dtype: float64"
      ]
     },
     "execution_count": 377,
     "metadata": {},
     "output_type": "execute_result"
    }
   ],
   "source": [
    "f_df.groupby(['Version'])['FAC_Rating'].median()"
   ]
  },
  {
   "cell_type": "code",
   "execution_count": null,
   "metadata": {},
   "outputs": [],
   "source": []
  },
  {
   "cell_type": "markdown",
   "metadata": {},
   "source": [
    "## Memory"
   ]
  },
  {
   "cell_type": "code",
   "execution_count": 537,
   "metadata": {},
   "outputs": [
    {
     "name": "stdout",
     "output_type": "stream",
     "text": [
      "Original Table\n",
      "Memory              Improved  Less good  No effect\n",
      "Overall_Exp_Rating                                \n",
      "High                      29          2         60\n",
      "Low                        1          0          9\n",
      "--------------\n",
      "Fitted Values\n",
      "Memory               Improved  Less good  No effect\n",
      "Overall_Exp_Rating                                 \n",
      "High                27.572115   2.668269  62.259615\n",
      "Low                  3.427885   0.331731   7.740385\n",
      "--------------\n",
      "Pearon Residuals\n",
      "Memory              Improved  Less good  No effect\n",
      "Overall_Exp_Rating                                \n",
      "High                0.367152  -0.103012  -0.223005\n",
      "Low                -1.041281   0.292154   0.632465\n",
      "--------------\n",
      "pvalue = 0.2080012607588264\n",
      "statistic = 19.5\n"
     ]
    }
   ],
   "source": [
    "MEM99 = pd.crosstab(index=df_99.Overall_Exp_Rating, columns=df_99.Memory)\n",
    "conttable(MEM99)"
   ]
  },
  {
   "cell_type": "code",
   "execution_count": 379,
   "metadata": {},
   "outputs": [
    {
     "name": "stdout",
     "output_type": "stream",
     "text": [
      "log odds ratio = 1.4373860222776018\n"
     ]
    }
   ],
   "source": [
    "logodds(29, 1, 62, 9)"
   ]
  },
  {
   "cell_type": "code",
   "execution_count": 538,
   "metadata": {},
   "outputs": [
    {
     "name": "stdout",
     "output_type": "stream",
     "text": [
      "Original Table\n",
      "Memory              Improved  Less good  No effect\n",
      "Overall_Exp_Rating                                \n",
      "High                      73          1         45\n",
      "Low                        1          2         10\n",
      "--------------\n",
      "Fitted Values\n",
      "Memory               Improved  Less good  No effect\n",
      "Overall_Exp_Rating                                 \n",
      "High                66.712121   2.704545  49.583333\n",
      "Low                  7.287879   0.295455   5.416667\n",
      "--------------\n",
      "Pearon Residuals\n",
      "Memory              Improved  Less good  No effect\n",
      "Overall_Exp_Rating                                \n",
      "High                0.769842  -1.036481  -0.650899\n",
      "Low                -2.329183   3.135908   1.969316\n",
      "--------------\n",
      "pvalue = 0.0012183520438823947\n",
      "statistic = 22.0\n"
     ]
    }
   ],
   "source": [
    "MEM51 = pd.crosstab(index=df_51.Overall_Exp_Rating, columns=df_51.Memory)\n",
    "conttable(MEM51)"
   ]
  },
  {
   "cell_type": "code",
   "execution_count": 381,
   "metadata": {},
   "outputs": [
    {
     "name": "stdout",
     "output_type": "stream",
     "text": [
      "log odds ratio = 2.9467246944472962\n"
     ]
    }
   ],
   "source": [
    "logodds (73, 1, 46, 12)"
   ]
  },
  {
   "cell_type": "code",
   "execution_count": 382,
   "metadata": {
    "collapsed": true
   },
   "outputs": [],
   "source": [
    "m99 = df_99[['Memory','Overall_Exp_Rating', 'Version', 'Version_Duration']]\n",
    "m51 = df_51[['Memory','Overall_Exp_Rating', 'Version', 'Version_Duration']]\n",
    "m_df = pd.concat([m99, m51])"
   ]
  },
  {
   "cell_type": "code",
   "execution_count": 383,
   "metadata": {},
   "outputs": [
    {
     "data": {
      "text/html": [
       "<div>\n",
       "<style>\n",
       "    .dataframe thead tr:only-child th {\n",
       "        text-align: right;\n",
       "    }\n",
       "\n",
       "    .dataframe thead th {\n",
       "        text-align: left;\n",
       "    }\n",
       "\n",
       "    .dataframe tbody tr th {\n",
       "        vertical-align: top;\n",
       "    }\n",
       "</style>\n",
       "<table border=\"1\" class=\"dataframe\">\n",
       "  <thead>\n",
       "    <tr style=\"text-align: right;\">\n",
       "      <th>Version</th>\n",
       "      <th>Version 51</th>\n",
       "      <th>Version 99</th>\n",
       "      <th>All</th>\n",
       "    </tr>\n",
       "    <tr>\n",
       "      <th>Memory</th>\n",
       "      <th></th>\n",
       "      <th></th>\n",
       "      <th></th>\n",
       "    </tr>\n",
       "  </thead>\n",
       "  <tbody>\n",
       "    <tr>\n",
       "      <th>Improved</th>\n",
       "      <td>74</td>\n",
       "      <td>30</td>\n",
       "      <td>104</td>\n",
       "    </tr>\n",
       "    <tr>\n",
       "      <th>Less good</th>\n",
       "      <td>3</td>\n",
       "      <td>2</td>\n",
       "      <td>5</td>\n",
       "    </tr>\n",
       "    <tr>\n",
       "      <th>No effect</th>\n",
       "      <td>55</td>\n",
       "      <td>69</td>\n",
       "      <td>124</td>\n",
       "    </tr>\n",
       "    <tr>\n",
       "      <th>All</th>\n",
       "      <td>132</td>\n",
       "      <td>101</td>\n",
       "      <td>233</td>\n",
       "    </tr>\n",
       "  </tbody>\n",
       "</table>\n",
       "</div>"
      ],
      "text/plain": [
       "Version    Version 51  Version 99  All\n",
       "Memory                                \n",
       "Improved           74          30  104\n",
       "Less good           3           2    5\n",
       "No effect          55          69  124\n",
       "All               132         101  233"
      ]
     },
     "execution_count": 383,
     "metadata": {},
     "output_type": "execute_result"
    }
   ],
   "source": [
    "pd.crosstab(index=m_df.Memory, columns=m_df.Version, margins=True)"
   ]
  },
  {
   "cell_type": "code",
   "execution_count": 546,
   "metadata": {},
   "outputs": [
    {
     "name": "stdout",
     "output_type": "stream",
     "text": [
      "log odds ratio = 0.08881789043552389\n"
     ]
    }
   ],
   "source": [
    "logodds(99,71,74,58)"
   ]
  },
  {
   "cell_type": "code",
   "execution_count": 539,
   "metadata": {},
   "outputs": [
    {
     "name": "stdout",
     "output_type": "stream",
     "text": [
      "z: -5.148328644106801\n",
      "p-value: 1.3140886172733486e-07\n",
      "CI: (-0.49295087194869325, -0.2265413475435262)\n",
      "proportion difference: -0.3597461097461097\n",
      "p1: 0.40540540540540543\n",
      "p2: 0.7651515151515151\n",
      "Cohens H = 0.7492943112346768\n"
     ]
    }
   ],
   "source": [
    "#improved\n",
    "twoporZtest(30, 101, 74, 132)"
   ]
  },
  {
   "cell_type": "code",
   "execution_count": 540,
   "metadata": {},
   "outputs": [
    {
     "name": "stdout",
     "output_type": "stream",
     "text": [
      "z: -0.39663432606659044\n",
      "p-value: 0.34581856796867205\n",
      "CI: (-0.63680874959462863, 0.43983905262493161)\n",
      "proportion difference: -0.09848484848484851\n",
      "p1: 0.6666666666666666\n",
      "p2: 0.7651515151515151\n",
      "Cohens H = 0.21912104386015474\n"
     ]
    }
   ],
   "source": [
    "#less good\n",
    "twoporZtest(2, 101, 3, 132)"
   ]
  },
  {
   "cell_type": "code",
   "execution_count": 542,
   "metadata": {},
   "outputs": [
    {
     "name": "stdout",
     "output_type": "stream",
     "text": [
      "z: 4.040186600596896\n",
      "p-value: 2.670434533358601e-05\n",
      "CI: (0.14278243501003396, 0.39022086531999911)\n",
      "proportion difference: 0.26650165016501653\n",
      "p1: 0.6831683168316832\n",
      "p2: 0.4166666666666667\n",
      "Cohens H = 0.5425169722035501\n"
     ]
    }
   ],
   "source": [
    "#no effect\n",
    "twoporZtest(69, 55, 101, 132) # significant "
   ]
  },
  {
   "cell_type": "code",
   "execution_count": 387,
   "metadata": {},
   "outputs": [],
   "source": [
    "m_df['Memory_Rating'] = m_df['Memory'].map(rating_3)\n"
   ]
  },
  {
   "cell_type": "code",
   "execution_count": 388,
   "metadata": {},
   "outputs": [],
   "source": [
    "m_df99 = m_df[m_df.Version=='Version 99']['Memory_Rating'].dropna()\n",
    "m_df51 = m_df[m_df.Version=='Version 51']['Memory_Rating'].dropna()"
   ]
  },
  {
   "cell_type": "code",
   "execution_count": 545,
   "metadata": {},
   "outputs": [
    {
     "name": "stdout",
     "output_type": "stream",
     "text": [
      "U = 4860.5\n",
      "pval = 0.0003985321899022679\n",
      "Rank Biserial Correlation = 0.2708520852085209\n",
      "CLES = 0.6354260426042604\n",
      "Statistically Significant\n",
      "UCRIT = 5666.14214697637\n"
     ]
    }
   ],
   "source": [
    "manntest(m_df99, m_df51)"
   ]
  },
  {
   "cell_type": "code",
   "execution_count": null,
   "metadata": {
    "collapsed": true
   },
   "outputs": [],
   "source": []
  },
  {
   "cell_type": "code",
   "execution_count": 390,
   "metadata": {},
   "outputs": [
    {
     "data": {
      "text/plain": [
       "Text(0.5,1,'Comparison of Memory over Time')"
      ]
     },
     "execution_count": 390,
     "metadata": {},
     "output_type": "execute_result"
    },
    {
     "data": {
      "image/png": "[encoded data removed]",
      "text/plain": [
       "<matplotlib.figure.Figure at 0x19e4b2d5278>"
      ]
     },
     "metadata": {},
     "output_type": "display_data"
    }
   ],
   "source": [
    "pd.crosstab(index=m_df.Version_Duration, columns=m_df.Version, values=m_df.Memory_Rating, aggfunc=np.mean).plot()\n",
    "plt.title('Comparison of Memory over Time')"
   ]
  },
  {
   "cell_type": "code",
   "execution_count": 391,
   "metadata": {},
   "outputs": [
    {
     "data": {
      "text/plain": [
       "Ttest_indResult(statistic=-4.2422683179857499, pvalue=3.2494071858880809e-05)"
      ]
     },
     "execution_count": 391,
     "metadata": {},
     "output_type": "execute_result"
    }
   ],
   "source": [
    "stats.ttest_ind(m_df99, m_df51, equal_var=False)"
   ]
  },
  {
   "cell_type": "code",
   "execution_count": 392,
   "metadata": {},
   "outputs": [
    {
     "data": {
      "text/plain": [
       "(0.9161909956957992, 0.9817617421942415)"
      ]
     },
     "execution_count": 392,
     "metadata": {},
     "output_type": "execute_result"
    }
   ],
   "source": [
    "m_df99.std(), m_df51.std()"
   ]
  },
  {
   "cell_type": "code",
   "execution_count": 393,
   "metadata": {},
   "outputs": [
    {
     "data": {
      "text/plain": [
       "(1.613861386138614, 2.143939393939394)"
      ]
     },
     "execution_count": 393,
     "metadata": {},
     "output_type": "execute_result"
    }
   ],
   "source": [
    "m_df99.mean(), m_df51.mean()"
   ]
  },
  {
   "cell_type": "code",
   "execution_count": 394,
   "metadata": {},
   "outputs": [
    {
     "data": {
      "text/plain": [
       "(1.0, 3.0)"
      ]
     },
     "execution_count": 394,
     "metadata": {},
     "output_type": "execute_result"
    }
   ],
   "source": [
    "m_df99.median(), m_df51.median()"
   ]
  },
  {
   "cell_type": "code",
   "execution_count": null,
   "metadata": {
    "collapsed": true
   },
   "outputs": [],
   "source": []
  },
  {
   "cell_type": "code",
   "execution_count": null,
   "metadata": {},
   "outputs": [],
   "source": []
  },
  {
   "cell_type": "markdown",
   "metadata": {},
   "source": [
    "## Drive, Passion and Motivation"
   ]
  },
  {
   "cell_type": "code",
   "execution_count": 547,
   "metadata": {},
   "outputs": [
    {
     "name": "stdout",
     "output_type": "stream",
     "text": [
      "Original Table\n",
      "Drive_Passion_Motivation  Improved  Less good  No effect\n",
      "Overall_Exp_Rating                                      \n",
      "High                            68          2         21\n",
      "Low                              0          3          7\n",
      "--------------\n",
      "Fitted Values\n",
      "Drive_Passion_Motivation   Improved  Less good  No effect\n",
      "Overall_Exp_Rating                                       \n",
      "High                      61.370192   5.336538  25.793269\n",
      "Low                        7.629808   0.663462   3.206731\n",
      "--------------\n",
      "Pearon Residuals\n",
      "Drive_Passion_Motivation  Improved  Less good  No effect\n",
      "Overall_Exp_Rating                                      \n",
      "High                      0.910121  -1.227888  -0.845347\n",
      "Low                      -2.581196   3.482417   2.397490\n",
      "--------------\n",
      "pvalue = 6.65991952248062e-05\n",
      "statistic = 18.5\n"
     ]
    }
   ],
   "source": [
    "DAM99 = pd.crosstab(index=df_99.Overall_Exp_Rating, columns =df_99.Drive_Passion_Motivation)\n",
    "conttable(DAM99)"
   ]
  },
  {
   "cell_type": "code",
   "execution_count": null,
   "metadata": {},
   "outputs": [],
   "source": []
  },
  {
   "cell_type": "code",
   "execution_count": 548,
   "metadata": {},
   "outputs": [
    {
     "name": "stdout",
     "output_type": "stream",
     "text": [
      "Original Table\n",
      "Drive_Passion_Motivation  Improved  Less good  No effect\n",
      "Overall_Exp_Rating                                      \n",
      "High                           100          0         19\n",
      "Low                              0          5          8\n",
      "--------------\n",
      "Fitted Values\n",
      "Drive_Passion_Motivation   Improved  Less good  No effect\n",
      "Overall_Exp_Rating                                       \n",
      "High                      90.151852   5.355556  24.992593\n",
      "Low                       10.848148   0.644444   3.007407\n",
      "--------------\n",
      "Pearon Residuals\n",
      "Drive_Passion_Motivation  Improved  Less good  No effect\n",
      "Overall_Exp_Rating                                      \n",
      "High                      1.089872  -2.098151  -1.098681\n",
      "Low                      -3.141846   6.048479   3.167242\n",
      "--------------\n",
      "pvalue = 7.166390498238819e-08\n",
      "statistic = 22.5\n"
     ]
    }
   ],
   "source": [
    "DAM51 = pd.crosstab(index=df_51.Overall_Exp_Rating, columns =df_51.Drive_Passion_Motivation)\n",
    "conttable(DAM51)"
   ]
  },
  {
   "cell_type": "code",
   "execution_count": 397,
   "metadata": {},
   "outputs": [],
   "source": [
    "dam99 = df_99[['Drive_Passion_Motivation','Overall_Exp_Rating', 'Version', 'Version_Duration']]\n",
    "dam51 = df_51[['Drive_Passion_Motivation','Overall_Exp_Rating', 'Version', 'Version_Duration']]\n",
    "DAM_df = pd.concat([dam99, dam51])"
   ]
  },
  {
   "cell_type": "code",
   "execution_count": 398,
   "metadata": {},
   "outputs": [
    {
     "data": {
      "text/html": [
       "<div>\n",
       "<style>\n",
       "    .dataframe thead tr:only-child th {\n",
       "        text-align: right;\n",
       "    }\n",
       "\n",
       "    .dataframe thead th {\n",
       "        text-align: left;\n",
       "    }\n",
       "\n",
       "    .dataframe tbody tr th {\n",
       "        vertical-align: top;\n",
       "    }\n",
       "</style>\n",
       "<table border=\"1\" class=\"dataframe\">\n",
       "  <thead>\n",
       "    <tr style=\"text-align: right;\">\n",
       "      <th>Version</th>\n",
       "      <th>Version 51</th>\n",
       "      <th>Version 99</th>\n",
       "      <th>All</th>\n",
       "    </tr>\n",
       "    <tr>\n",
       "      <th>Drive_Passion_Motivation</th>\n",
       "      <th></th>\n",
       "      <th></th>\n",
       "      <th></th>\n",
       "    </tr>\n",
       "  </thead>\n",
       "  <tbody>\n",
       "    <tr>\n",
       "      <th>Improved</th>\n",
       "      <td>100</td>\n",
       "      <td>68</td>\n",
       "      <td>168</td>\n",
       "    </tr>\n",
       "    <tr>\n",
       "      <th>Less good</th>\n",
       "      <td>5</td>\n",
       "      <td>5</td>\n",
       "      <td>10</td>\n",
       "    </tr>\n",
       "    <tr>\n",
       "      <th>No effect</th>\n",
       "      <td>27</td>\n",
       "      <td>28</td>\n",
       "      <td>55</td>\n",
       "    </tr>\n",
       "    <tr>\n",
       "      <th>All</th>\n",
       "      <td>132</td>\n",
       "      <td>101</td>\n",
       "      <td>233</td>\n",
       "    </tr>\n",
       "  </tbody>\n",
       "</table>\n",
       "</div>"
      ],
      "text/plain": [
       "Version                   Version 51  Version 99  All\n",
       "Drive_Passion_Motivation                             \n",
       "Improved                         100          68  168\n",
       "Less good                          5           5   10\n",
       "No effect                         27          28   55\n",
       "All                              132         101  233"
      ]
     },
     "execution_count": 398,
     "metadata": {},
     "output_type": "execute_result"
    }
   ],
   "source": [
    "pd.crosstab(index=DAM_df.Drive_Passion_Motivation, columns=DAM_df.Version, margins=True)"
   ]
  },
  {
   "cell_type": "code",
   "execution_count": 552,
   "metadata": {},
   "outputs": [
    {
     "name": "stdout",
     "output_type": "stream",
     "text": [
      "log odds ratio = -1.0943138479078953\n"
     ]
    }
   ],
   "source": [
    "logodds(68,65,100,32)"
   ]
  },
  {
   "cell_type": "code",
   "execution_count": 549,
   "metadata": {},
   "outputs": [
    {
     "name": "stdout",
     "output_type": "stream",
     "text": [
      "z: -1.4219531906523224\n",
      "p-value: 0.07751992012207995\n",
      "CI: (-0.20140638315018378, 0.032789521464015259)\n",
      "proportion difference: -0.08430843084308426\n",
      "p1: 0.6732673267326733\n",
      "p2: 0.7575757575757576\n",
      "Cohens H = 0.1873100985470122\n"
     ]
    }
   ],
   "source": [
    "#improved\n",
    "twoporZtest(68, 100, 101, 132)"
   ]
  },
  {
   "cell_type": "code",
   "execution_count": 400,
   "metadata": {},
   "outputs": [
    {
     "name": "stdout",
     "output_type": "stream",
     "text": [
      "h = 0.18731009854688097\n"
     ]
    }
   ],
   "source": [
    "cohensH(0.673267326733,0.757575757576)"
   ]
  },
  {
   "cell_type": "code",
   "execution_count": 550,
   "metadata": {},
   "outputs": [
    {
     "name": "stdout",
     "output_type": "stream",
     "text": [
      "z: 0.433919906894386\n",
      "p-value: 0.33217330168871045\n",
      "CI: (-0.041762671259978332, 0.065014996492501587)\n",
      "proportion difference: 0.011626162616261627\n",
      "p1: 0.04950495049504951\n",
      "p2: 0.03787878787878788\n",
      "Cohens H = 0.05700030352119412\n"
     ]
    }
   ],
   "source": [
    "#less good\n",
    "twoporZtest(5, 5, 101, 132)"
   ]
  },
  {
   "cell_type": "code",
   "execution_count": 551,
   "metadata": {},
   "outputs": [
    {
     "name": "stdout",
     "output_type": "stream",
     "text": [
      "z: 1.2946808944020367\n",
      "p-value: 0.09771516671159058\n",
      "CI: (-0.03847776466508615, 0.18384230111873154)\n",
      "proportion difference: 0.0726822682268227\n",
      "p1: 0.27722772277227725\n",
      "p2: 0.20454545454545456\n",
      "Cohens H = 0.170402815657672\n"
     ]
    }
   ],
   "source": [
    "#no effect\n",
    "twoporZtest(28, 27, 101, 132)"
   ]
  },
  {
   "cell_type": "code",
   "execution_count": 403,
   "metadata": {},
   "outputs": [],
   "source": [
    "DAM_df['DAM_Rating'] = DAM_df['Drive_Passion_Motivation'].map(rating_3)"
   ]
  },
  {
   "cell_type": "code",
   "execution_count": 404,
   "metadata": {},
   "outputs": [],
   "source": [
    "dm99 = DAM_df[DAM_df.Version=='Version 99']['DAM_Rating'].dropna()\n",
    "dm51 = DAM_df[DAM_df.Version=='Version 51']['DAM_Rating'].dropna()\n"
   ]
  },
  {
   "cell_type": "code",
   "execution_count": null,
   "metadata": {},
   "outputs": [],
   "source": []
  },
  {
   "cell_type": "code",
   "execution_count": 553,
   "metadata": {},
   "outputs": [
    {
     "name": "stdout",
     "output_type": "stream",
     "text": [
      "U = 6101.5\n",
      "pval = 0.2682373199591319\n",
      "Rank Biserial Correlation = 0.08468346834683471\n",
      "CLES = 0.5423417341734174\n",
      "Not Statistically Significant\n",
      "UCRIT = 5666.14214697637\n"
     ]
    }
   ],
   "source": [
    "manntest(dm99, dm51)\n"
   ]
  },
  {
   "cell_type": "code",
   "execution_count": null,
   "metadata": {},
   "outputs": [],
   "source": []
  },
  {
   "cell_type": "code",
   "execution_count": null,
   "metadata": {},
   "outputs": [],
   "source": []
  },
  {
   "cell_type": "code",
   "execution_count": 406,
   "metadata": {},
   "outputs": [
    {
     "data": {
      "text/html": [
       "<div>\n",
       "<style>\n",
       "    .dataframe thead tr:only-child th {\n",
       "        text-align: right;\n",
       "    }\n",
       "\n",
       "    .dataframe thead th {\n",
       "        text-align: left;\n",
       "    }\n",
       "\n",
       "    .dataframe tbody tr th {\n",
       "        vertical-align: top;\n",
       "    }\n",
       "</style>\n",
       "<table border=\"1\" class=\"dataframe\">\n",
       "  <thead>\n",
       "    <tr style=\"text-align: right;\">\n",
       "      <th>Version</th>\n",
       "      <th>Version 51</th>\n",
       "      <th>Version 99</th>\n",
       "    </tr>\n",
       "    <tr>\n",
       "      <th>Version_Duration</th>\n",
       "      <th></th>\n",
       "      <th></th>\n",
       "    </tr>\n",
       "  </thead>\n",
       "  <tbody>\n",
       "    <tr>\n",
       "      <th>1 day</th>\n",
       "      <td>2.439024</td>\n",
       "      <td>2.394737</td>\n",
       "    </tr>\n",
       "    <tr>\n",
       "      <th>1 weeks</th>\n",
       "      <td>2.600000</td>\n",
       "      <td>2.300000</td>\n",
       "    </tr>\n",
       "    <tr>\n",
       "      <th>2 weeks</th>\n",
       "      <td>2.612903</td>\n",
       "      <td>2.550000</td>\n",
       "    </tr>\n",
       "    <tr>\n",
       "      <th>3 weeks</th>\n",
       "      <td>2.600000</td>\n",
       "      <td>2.384615</td>\n",
       "    </tr>\n",
       "  </tbody>\n",
       "</table>\n",
       "</div>"
      ],
      "text/plain": [
       "Version           Version 51  Version 99\n",
       "Version_Duration                        \n",
       "1 day               2.439024    2.394737\n",
       "1 weeks             2.600000    2.300000\n",
       "2 weeks             2.612903    2.550000\n",
       "3 weeks             2.600000    2.384615"
      ]
     },
     "execution_count": 406,
     "metadata": {},
     "output_type": "execute_result"
    }
   ],
   "source": [
    "pd.crosstab(index=DAM_df.Version_Duration, columns=DAM_df.Version, values=DAM_df.DAM_Rating, aggfunc=np.mean)"
   ]
  },
  {
   "cell_type": "code",
   "execution_count": 407,
   "metadata": {},
   "outputs": [
    {
     "data": {
      "text/plain": [
       "<matplotlib.axes._subplots.AxesSubplot at 0x19e4b358358>"
      ]
     },
     "execution_count": 407,
     "metadata": {},
     "output_type": "execute_result"
    },
    {
     "data": {
      "image/png": "[encoded data removed]",
      "text/plain": [
       "<matplotlib.figure.Figure at 0x19e499c8ef0>"
      ]
     },
     "metadata": {},
     "output_type": "display_data"
    }
   ],
   "source": [
    "pd.crosstab(index=DAM_df.Version_Duration, columns=DAM_df.Version, values=DAM_df.DAM_Rating, aggfunc=np.mean).plot()"
   ]
  },
  {
   "cell_type": "code",
   "execution_count": 408,
   "metadata": {},
   "outputs": [
    {
     "data": {
      "text/plain": [
       "Ttest_indResult(statistic=-1.379755495256465, pvalue=0.16917210084612946)"
      ]
     },
     "execution_count": 408,
     "metadata": {},
     "output_type": "execute_result"
    }
   ],
   "source": [
    "stats.ttest_ind(dm99, dm51, equal_var=False)"
   ]
  },
  {
   "cell_type": "code",
   "execution_count": 409,
   "metadata": {},
   "outputs": [
    {
     "data": {
      "text/plain": [
       "Version\n",
       "Version 51    0.813196\n",
       "Version 99    0.895312\n",
       "Name: DAM_Rating, dtype: float64"
      ]
     },
     "execution_count": 409,
     "metadata": {},
     "output_type": "execute_result"
    }
   ],
   "source": [
    "DAM_df.groupby(['Version'])['DAM_Rating'].std()"
   ]
  },
  {
   "cell_type": "code",
   "execution_count": 410,
   "metadata": {},
   "outputs": [
    {
     "data": {
      "text/plain": [
       "Version\n",
       "Version 51    2.55303\n",
       "Version 99    2.39604\n",
       "Name: DAM_Rating, dtype: float64"
      ]
     },
     "execution_count": 410,
     "metadata": {},
     "output_type": "execute_result"
    }
   ],
   "source": [
    "DAM_df.groupby(['Version'])['DAM_Rating'].mean()"
   ]
  },
  {
   "cell_type": "code",
   "execution_count": null,
   "metadata": {},
   "outputs": [],
   "source": []
  },
  {
   "cell_type": "markdown",
   "metadata": {},
   "source": [
    "## Physical Energy"
   ]
  },
  {
   "cell_type": "code",
   "execution_count": 554,
   "metadata": {},
   "outputs": [
    {
     "name": "stdout",
     "output_type": "stream",
     "text": [
      "Original Table\n",
      "Physical_Energy     Improved  Less good  No effect\n",
      "Overall_Exp_Rating                                \n",
      "High                      69          0         22\n",
      "Low                        0          7          3\n",
      "--------------\n",
      "Fitted Values\n",
      "Physical_Energy      Improved  Less good  No effect\n",
      "Overall_Exp_Rating                                 \n",
      "High                62.259615   7.115385     23.125\n",
      "Low                  7.740385   0.884615      2.875\n",
      "--------------\n",
      "Pearon Residuals\n",
      "Physical_Energy     Improved  Less good  No effect\n",
      "Overall_Exp_Rating                                \n",
      "High                0.917611  -2.480024  -0.129969\n",
      "Low                -2.602438   7.033603   0.368605\n",
      "--------------\n",
      "pvalue = 0.00454941523852239\n",
      "statistic = 14.5\n"
     ]
    }
   ],
   "source": [
    "PE99 = pd.crosstab(index=df_99.Overall_Exp_Rating, columns=df_99.Physical_Energy)\n",
    "conttable(PE99)"
   ]
  },
  {
   "cell_type": "code",
   "execution_count": null,
   "metadata": {
    "collapsed": true
   },
   "outputs": [],
   "source": []
  },
  {
   "cell_type": "code",
   "execution_count": 555,
   "metadata": {},
   "outputs": [
    {
     "name": "stdout",
     "output_type": "stream",
     "text": [
      "Original Table\n",
      "Physical_Energy     Improved  Less good  No effect\n",
      "Overall_Exp_Rating                                \n",
      "High                      89          2         28\n",
      "Low                        1          6          6\n",
      "--------------\n",
      "Fitted Values\n",
      "Physical_Energy      Improved  Less good  No effect\n",
      "Overall_Exp_Rating                                 \n",
      "High                81.136364   7.212121  30.651515\n",
      "Low                  8.863636   0.787879   3.348485\n",
      "--------------\n",
      "Pearon Residuals\n",
      "Physical_Energy     Improved  Less good  No effect\n",
      "Overall_Exp_Rating                                \n",
      "High                0.873003  -1.940810  -0.478926\n",
      "Low                -2.641298   5.871983   1.449005\n",
      "--------------\n",
      "pvalue = 0.0004459307006580982\n",
      "statistic = 18.0\n"
     ]
    }
   ],
   "source": [
    "PE51 = pd.crosstab(index=df_51.Overall_Exp_Rating, columns=df_51.Physical_Energy)\n",
    "conttable(PE51)"
   ]
  },
  {
   "cell_type": "code",
   "execution_count": 413,
   "metadata": {},
   "outputs": [
    {
     "name": "stdout",
     "output_type": "stream",
     "text": [
      "log odds ratio = 3.572345637857985\n"
     ]
    }
   ],
   "source": [
    "logodds(89, 1, 30, 12)"
   ]
  },
  {
   "cell_type": "code",
   "execution_count": 414,
   "metadata": {
    "collapsed": true
   },
   "outputs": [],
   "source": [
    "PE99 = df_99[['Physical_Energy','Overall_Exp_Rating', 'Version', 'Version_Duration']]\n",
    "PE51 = df_51[['Physical_Energy','Overall_Exp_Rating', 'Version', 'Version_Duration']]\n",
    "PE_df = pd.concat([PE99, PE51])"
   ]
  },
  {
   "cell_type": "code",
   "execution_count": 415,
   "metadata": {},
   "outputs": [
    {
     "data": {
      "text/html": [
       "<div>\n",
       "<style>\n",
       "    .dataframe thead tr:only-child th {\n",
       "        text-align: right;\n",
       "    }\n",
       "\n",
       "    .dataframe thead th {\n",
       "        text-align: left;\n",
       "    }\n",
       "\n",
       "    .dataframe tbody tr th {\n",
       "        vertical-align: top;\n",
       "    }\n",
       "</style>\n",
       "<table border=\"1\" class=\"dataframe\">\n",
       "  <thead>\n",
       "    <tr style=\"text-align: right;\">\n",
       "      <th>Version</th>\n",
       "      <th>Version 51</th>\n",
       "      <th>Version 99</th>\n",
       "      <th>All</th>\n",
       "    </tr>\n",
       "    <tr>\n",
       "      <th>Physical_Energy</th>\n",
       "      <th></th>\n",
       "      <th></th>\n",
       "      <th></th>\n",
       "    </tr>\n",
       "  </thead>\n",
       "  <tbody>\n",
       "    <tr>\n",
       "      <th>Improved</th>\n",
       "      <td>90</td>\n",
       "      <td>69</td>\n",
       "      <td>159</td>\n",
       "    </tr>\n",
       "    <tr>\n",
       "      <th>Less good</th>\n",
       "      <td>8</td>\n",
       "      <td>7</td>\n",
       "      <td>15</td>\n",
       "    </tr>\n",
       "    <tr>\n",
       "      <th>No effect</th>\n",
       "      <td>34</td>\n",
       "      <td>25</td>\n",
       "      <td>59</td>\n",
       "    </tr>\n",
       "    <tr>\n",
       "      <th>All</th>\n",
       "      <td>132</td>\n",
       "      <td>101</td>\n",
       "      <td>233</td>\n",
       "    </tr>\n",
       "  </tbody>\n",
       "</table>\n",
       "</div>"
      ],
      "text/plain": [
       "Version          Version 51  Version 99  All\n",
       "Physical_Energy                             \n",
       "Improved                 90          69  159\n",
       "Less good                 8           7   15\n",
       "No effect                34          25   59\n",
       "All                     132         101  233"
      ]
     },
     "execution_count": 415,
     "metadata": {},
     "output_type": "execute_result"
    }
   ],
   "source": [
    "pd.crosstab(index=PE_df.Physical_Energy, columns=PE_df.Version, margins=True)"
   ]
  },
  {
   "cell_type": "code",
   "execution_count": 556,
   "metadata": {},
   "outputs": [
    {
     "name": "stdout",
     "output_type": "stream",
     "text": [
      "log odds ratio = 0.006230549750636163\n"
     ]
    }
   ],
   "source": [
    "logodds(69,32,90,42)"
   ]
  },
  {
   "cell_type": "code",
   "execution_count": 557,
   "metadata": {},
   "outputs": [
    {
     "name": "stdout",
     "output_type": "stream",
     "text": [
      "z: 0.02193756350935466\n",
      "p-value: 0.49124888031524233\n",
      "CI: (-0.11925859157495103, 0.12195886160195393)\n",
      "proportion difference: 0.0013501350135014523\n",
      "p1: 0.6831683168316832\n",
      "p2: 0.6818181818181818\n",
      "Cohens H = 0.0029003590235348042\n"
     ]
    }
   ],
   "source": [
    "#improved\n",
    "twoporZtest(69, 90, 101, 132)"
   ]
  },
  {
   "cell_type": "code",
   "execution_count": 558,
   "metadata": {},
   "outputs": [
    {
     "name": "stdout",
     "output_type": "stream",
     "text": [
      "z: 0.2681726113030757\n",
      "p-value: 0.3942832280491163\n",
      "CI: (-0.05541116631266986, 0.072812906486687271)\n",
      "proportion difference: 0.008700870087008705\n",
      "p1: 0.06930693069306931\n",
      "p2: 0.06060606060606061\n",
      "Cohens H = 0.03532395205073602\n"
     ]
    }
   ],
   "source": [
    "#less good\n",
    "twoporZtest(7, 8, 101, 132)"
   ]
  },
  {
   "cell_type": "code",
   "execution_count": 559,
   "metadata": {},
   "outputs": [
    {
     "name": "stdout",
     "output_type": "stream",
     "text": [
      "z: -0.17483745512560744\n",
      "p-value: 0.4306036783321098\n",
      "CI: (-0.12252217012598454, 0.10242015992496445)\n",
      "proportion difference: -0.010051005100510046\n",
      "p1: 0.24752475247524752\n",
      "p2: 0.25757575757575757\n",
      "Cohens H = 0.023134690799326396\n"
     ]
    }
   ],
   "source": [
    "#no effect\n",
    "twoporZtest(25,34, 101, 132)"
   ]
  },
  {
   "cell_type": "code",
   "execution_count": null,
   "metadata": {
    "collapsed": true
   },
   "outputs": [],
   "source": []
  },
  {
   "cell_type": "code",
   "execution_count": 419,
   "metadata": {
    "collapsed": true
   },
   "outputs": [],
   "source": [
    "PE_df['PE_Rating'] = PE_df['Physical_Energy'].map(rating_3)"
   ]
  },
  {
   "cell_type": "code",
   "execution_count": 420,
   "metadata": {},
   "outputs": [],
   "source": [
    "pe99 = PE_df[PE_df.Version=='Version 99']['PE_Rating'].dropna()\n",
    "pe51 = PE_df[PE_df.Version=='Version 51']['PE_Rating'].dropna()"
   ]
  },
  {
   "cell_type": "code",
   "execution_count": 560,
   "metadata": {},
   "outputs": [
    {
     "name": "stdout",
     "output_type": "stream",
     "text": [
      "U = 6694.0\n",
      "pval = 0.9562059715780701\n",
      "Rank Biserial Correlation = -0.0042004200420042714\n",
      "CLES = 0.49789978997899786\n",
      "Not Statistically Significant\n",
      "UCRIT = 5666.14214697637\n"
     ]
    }
   ],
   "source": [
    "manntest(pe99, pe51)"
   ]
  },
  {
   "cell_type": "code",
   "execution_count": null,
   "metadata": {},
   "outputs": [],
   "source": []
  },
  {
   "cell_type": "code",
   "execution_count": 422,
   "metadata": {},
   "outputs": [
    {
     "data": {
      "text/plain": [
       "<matplotlib.axes._subplots.AxesSubplot at 0x19e4b37ecc0>"
      ]
     },
     "execution_count": 422,
     "metadata": {},
     "output_type": "execute_result"
    },
    {
     "data": {
      "image/png": "[encoded data removed]",
      "text/plain": [
       "<matplotlib.figure.Figure at 0x19e4b378ba8>"
      ]
     },
     "metadata": {},
     "output_type": "display_data"
    }
   ],
   "source": [
    "pd.crosstab(index=PE_df.Version_Duration, columns=PE_df.Version, values=PE_df.PE_Rating, aggfunc=np.mean).plot()"
   ]
  },
  {
   "cell_type": "code",
   "execution_count": 423,
   "metadata": {},
   "outputs": [],
   "source": [
    "def STATtest (df1, df2, col):\n",
    "    \"\"\"automates finding the statistical tests but does not do cliffsdelta, cohensH, or twoproportion ztest\"\"\"\n",
    "    table99 = pd.crosstab(index=df1.Overall_Exp_Rating, columns=df1[col])\n",
    "    table51 = pd.crosstab(index=df2.Overall_Exp_Rating, columns=df2[col])\n",
    "    \n",
    "    print ('--------------------Trial 99----------------------')\n",
    "    print (conttable(table99))\n",
    "    print ('                                          ')\n",
    "    print ('                                          ')\n",
    "\n",
    "    print ('--------------------Trial 51----------------------')\n",
    "    print (conttable(table51))\n",
    "    \n",
    "    \n",
    "    df99 = df1[[col,'Overall_Exp_Rating', 'Version', 'Version_Duration']]\n",
    "    df51 = df2[[col,'Overall_Exp_Rating', 'Version', 'Version_Duration']]\n",
    "    df = pd.concat([df99, df51])\n",
    "    tab = pd.crosstab(index=df[col], columns=df.Version, margins=True)\n",
    "    print ('                                          ')\n",
    "    print ('                                          ')\n",
    "    print (tab)\n",
    "    \n",
    "    df['Rating'] = df[col].map(rating_3)\n",
    "    \n",
    "    t99 = df[df.Version=='Version 99']['Rating'].dropna()\n",
    "    t51 = df[df.Version=='Version 51']['Rating'].dropna()\n",
    "    \n",
    "    print ('                                          ')\n",
    "    print ('                                          ')\n",
    "    \n",
    "    print (manntest(t99,t51))\n",
    "    \n",
    "    mean_OT = pd.crosstab(index=df.Version_Duration, columns=df.Version, values=df.Rating, aggfunc=np.mean)\n",
    "    mean_OT.plot()\n",
    "    plt.title(str(col)+ ' ' + 'Over Time')\n",
    "    print (stats.ttest_ind(t99, t51, equal_var=False))"
   ]
  },
  {
   "cell_type": "markdown",
   "metadata": {},
   "source": [
    "# Capacity for Productivity\n"
   ]
  },
  {
   "cell_type": "code",
   "execution_count": 561,
   "metadata": {},
   "outputs": [
    {
     "name": "stdout",
     "output_type": "stream",
     "text": [
      "--------------------Trial 99----------------------\n",
      "Original Table\n",
      "Capacity_Productivity  Improved  Less good  No effect\n",
      "Overall_Exp_Rating                                   \n",
      "High                         63          0         28\n",
      "Low                           0          2          8\n",
      "--------------\n",
      "Fitted Values\n",
      "Capacity_Productivity   Improved  Less good  No effect\n",
      "Overall_Exp_Rating                                    \n",
      "High                   56.923077   2.668269  32.908654\n",
      "Low                     7.076923   0.331731   4.091346\n",
      "--------------\n",
      "Pearon Residuals\n",
      "Capacity_Productivity  Improved  Less good  No effect\n",
      "Overall_Exp_Rating                                   \n",
      "High                   0.871723  -1.327390  -0.768513\n",
      "Low                   -2.472296   3.764613   2.179580\n",
      "--------------\n",
      "pvalue = 0.0003233846395441866\n",
      "statistic = 19.5\n",
      "None\n",
      "                                          \n",
      "                                          \n",
      "--------------------Trial 51----------------------\n",
      "Original Table\n",
      "Capacity_Productivity  Improved  Less good  No effect\n",
      "Overall_Exp_Rating                                   \n",
      "High                        102          0         16\n",
      "Low                           1          6          6\n",
      "--------------\n",
      "Fitted Values\n",
      "Capacity_Productivity   Improved  Less good  No effect\n",
      "Overall_Exp_Rating                                    \n",
      "High                   92.746269   6.242537  20.511194\n",
      "Low                    11.253731   0.757463   2.488806\n",
      "--------------\n",
      "Pearon Residuals\n",
      "Capacity_Productivity  Improved  Less good  No effect\n",
      "Overall_Exp_Rating                                   \n",
      "High                   1.012797  -2.298388  -0.885683\n",
      "Low                   -2.907519   6.598165   2.542601\n",
      "--------------\n",
      "pvalue = 5.814708146023424e-07\n",
      "statistic = 19.5\n",
      "None\n",
      "                                          \n",
      "                                          \n",
      "Version                Version 51  Version 99  All\n",
      "Capacity_Productivity                             \n",
      "Improved                      103          63  166\n",
      "Less good                       6           2    8\n",
      "No effect                      22          36   58\n",
      "All                           131         101  232\n",
      "                                          \n",
      "                                          \n",
      "U = 5454.5\n",
      "pval = 0.021986775375371886\n",
      "Rank Biserial Correlation = 0.1754969390068778\n",
      "CLES = 0.587748469503439\n",
      "Statistically Significant\n",
      "UCRIT = 5621.564343771241\n",
      "None\n",
      "Ttest_indResult(statistic=-3.0223963511622154, pvalue=0.0028602012240139456)\n"
     ]
    },
    {
     "data": {
      "image/png": "[encoded data removed]",
      "text/plain": [
       "<matplotlib.figure.Figure at 0x19e4b5f3b00>"
      ]
     },
     "metadata": {},
     "output_type": "display_data"
    }
   ],
   "source": [
    "STATtest(df_99,df_51,'Capacity_Productivity')"
   ]
  },
  {
   "cell_type": "code",
   "execution_count": 425,
   "metadata": {},
   "outputs": [
    {
     "name": "stdout",
     "output_type": "stream",
     "text": [
      "log odds ratio = 4.33729074083249\n"
     ]
    }
   ],
   "source": [
    "logodds(102, 1, 16, 12) #only for trial 51 is viable"
   ]
  },
  {
   "cell_type": "code",
   "execution_count": 562,
   "metadata": {},
   "outputs": [
    {
     "name": "stdout",
     "output_type": "stream",
     "text": [
      "log odds ratio = -0.7969759113892848\n"
     ]
    }
   ],
   "source": [
    "logodds(63,38,103,28)"
   ]
  },
  {
   "cell_type": "code",
   "execution_count": 563,
   "metadata": {},
   "outputs": [
    {
     "name": "stdout",
     "output_type": "stream",
     "text": [
      "z: -2.719944897259361\n",
      "p-value: 0.0032646397842822205\n",
      "CI: (-0.28020261600223278, -0.044791715491985282)\n",
      "proportion difference: -0.16249716574710904\n",
      "p1: 0.6237623762376238\n",
      "p2: 0.7862595419847328\n",
      "Cohens H = 0.35945036085658866\n"
     ]
    }
   ],
   "source": [
    "#improved\n",
    "twoporZtest(63, 103, 101, 131)"
   ]
  },
  {
   "cell_type": "code",
   "execution_count": 427,
   "metadata": {},
   "outputs": [
    {
     "name": "stdout",
     "output_type": "stream",
     "text": [
      "h = 0.35945036085646365\n"
     ]
    }
   ],
   "source": [
    "cohensH(0.623762376238, 0.786259541985)"
   ]
  },
  {
   "cell_type": "code",
   "execution_count": 564,
   "metadata": {},
   "outputs": [
    {
     "name": "stdout",
     "output_type": "stream",
     "text": [
      "z: -0.9938718332210543\n",
      "p-value: 0.16014263439454418\n",
      "CI: (-0.16800328008751136, 0.05402852383325997)\n",
      "proportion difference: -0.056987378127125704\n",
      "p1: 0.21782178217821782\n",
      "p2: 0.2748091603053435\n",
      "Cohens H = 0.13246068567355862\n"
     ]
    }
   ],
   "source": [
    "#less good\n",
    "twoporZtest(22, 36, 101, 131)"
   ]
  },
  {
   "cell_type": "code",
   "execution_count": 565,
   "metadata": {},
   "outputs": [
    {
     "name": "stdout",
     "output_type": "stream",
     "text": [
      "z: -1.0760615109519795\n",
      "p-value: 0.1409498738439498\n",
      "CI: (-0.07094270285664879, 0.018943609817573887)\n",
      "proportion difference: -0.02599954651953745\n",
      "p1: 0.019801980198019802\n",
      "p2: 0.04580152671755725\n",
      "Cohens H = 0.1489862004590029\n"
     ]
    }
   ],
   "source": [
    "#no effect\n",
    "twoporZtest(2, 6, 101, 131)"
   ]
  },
  {
   "cell_type": "code",
   "execution_count": null,
   "metadata": {
    "collapsed": true
   },
   "outputs": [],
   "source": []
  },
  {
   "cell_type": "markdown",
   "metadata": {},
   "source": [
    "## Decisiveness"
   ]
  },
  {
   "cell_type": "code",
   "execution_count": 566,
   "metadata": {},
   "outputs": [
    {
     "name": "stdout",
     "output_type": "stream",
     "text": [
      "--------------------Trial 99----------------------\n",
      "Original Table\n",
      "Decisiveness        Improved  Less good  No effect\n",
      "Overall_Exp_Rating                                \n",
      "High                      55          0         36\n",
      "Low                        1          1          8\n",
      "--------------\n",
      "Fitted Values\n",
      "Decisiveness         Improved  Less good  No effect\n",
      "Overall_Exp_Rating                                 \n",
      "High                50.697115   1.778846  40.024038\n",
      "Low                  6.302885   0.221154   4.975962\n",
      "--------------\n",
      "Pearon Residuals\n",
      "Decisiveness        Improved  Less good  No effect\n",
      "Overall_Exp_Rating                                \n",
      "High                0.674544  -0.958847  -0.557032\n",
      "Low                -1.913077   2.719387   1.579800\n",
      "--------------\n",
      "pvalue = 0.008430701062821568\n",
      "statistic = 18.5\n",
      "None\n",
      "                                          \n",
      "                                          \n",
      "--------------------Trial 51----------------------\n",
      "Original Table\n",
      "Decisiveness        Improved  Less good  No effect\n",
      "Overall_Exp_Rating                                \n",
      "High                      93          0         26\n",
      "Low                        1          3          9\n",
      "--------------\n",
      "Fitted Values\n",
      "Decisiveness         Improved  Less good  No effect\n",
      "Overall_Exp_Rating                                 \n",
      "High                84.796296    3.57037  32.133333\n",
      "Low                 10.203704    0.42963   3.866667\n",
      "--------------\n",
      "Pearon Residuals\n",
      "Decisiveness        Improved  Less good  No effect\n",
      "Overall_Exp_Rating                                \n",
      "High                0.945182  -1.624928  -0.993774\n",
      "Low                -2.724741   4.684289   2.864818\n",
      "--------------\n",
      "pvalue = 6.878546851373271e-06\n",
      "statistic = 22.5\n",
      "None\n",
      "                                          \n",
      "                                          \n",
      "Version       Version 51  Version 99  All\n",
      "Decisiveness                             \n",
      "Improved              94          56  150\n",
      "Less good              3           1    4\n",
      "No effect             35          44   79\n",
      "All                  132         101  233\n",
      "                                          \n",
      "                                          \n",
      "U = 5566.5\n",
      "pval = 0.03105207575934811\n",
      "Rank Biserial Correlation = 0.16494149414941495\n",
      "CLES = 0.5824707470747075\n",
      "Statistically Significant\n",
      "UCRIT = 5666.14214697637\n",
      "None\n",
      "Ttest_indResult(statistic=-2.6194123152479225, pvalue=0.0094776793049993601)\n"
     ]
    },
    {
     "data": {
      "image/png": "[encoded data removed]",
      "text/plain": [
       "<matplotlib.figure.Figure at 0x19e4b51c8d0>"
      ]
     },
     "metadata": {},
     "output_type": "display_data"
    }
   ],
   "source": [
    "STATtest(df_99, df_51, 'Decisiveness')"
   ]
  },
  {
   "cell_type": "code",
   "execution_count": 570,
   "metadata": {},
   "outputs": [
    {
     "name": "stdout",
     "output_type": "stream",
     "text": [
      "log odds ratio = -0.6357261271912381\n"
     ]
    }
   ],
   "source": [
    "logodds(56,45,94,40) #overall"
   ]
  },
  {
   "cell_type": "code",
   "execution_count": 571,
   "metadata": {},
   "outputs": [
    {
     "name": "stdout",
     "output_type": "stream",
     "text": [
      "log odds ratio = 2.6210388241125804\n"
     ]
    }
   ],
   "source": [
    "logodds(55,1,36,9) #trial 99"
   ]
  },
  {
   "cell_type": "code",
   "execution_count": 572,
   "metadata": {},
   "outputs": [
    {
     "name": "stdout",
     "output_type": "stream",
     "text": [
      "log odds ratio = 3.7594096049197745\n"
     ]
    }
   ],
   "source": [
    "logodds(93,1,26,12)"
   ]
  },
  {
   "cell_type": "code",
   "execution_count": 567,
   "metadata": {},
   "outputs": [
    {
     "name": "stdout",
     "output_type": "stream",
     "text": [
      "z: -2.490452964931643\n",
      "p-value: 0.006379019061133564\n",
      "CI: (-0.28161081487546041, -0.033720718277854889)\n",
      "proportion difference: -0.15766576657665765\n",
      "p1: 0.5544554455445545\n",
      "p2: 0.7121212121212122\n",
      "Cohens H = 0.32899777062396063\n"
     ]
    }
   ],
   "source": [
    "#improved \n",
    "twoporZtest(56, 94, 101, 132)"
   ]
  },
  {
   "cell_type": "code",
   "execution_count": 432,
   "metadata": {},
   "outputs": [
    {
     "name": "stdout",
     "output_type": "stream",
     "text": [
      "h = 0.32899777062259594\n"
     ]
    }
   ],
   "source": [
    "cohensH(0.554455445545,0.712121212121)"
   ]
  },
  {
   "cell_type": "code",
   "execution_count": 568,
   "metadata": {},
   "outputs": [
    {
     "name": "stdout",
     "output_type": "stream",
     "text": [
      "z: -0.7469278993675201\n",
      "p-value: 0.2275535420122961\n",
      "CI: (-0.04475216337007213, 0.01909959811354648)\n",
      "proportion difference: -0.012826282628262827\n",
      "p1: 0.009900990099009901\n",
      "p2: 0.022727272727272728\n",
      "Cohens H = 0.10332796897210744\n"
     ]
    }
   ],
   "source": [
    "#less good|\n",
    "twoporZtest(1, 3, 101, 132)"
   ]
  },
  {
   "cell_type": "code",
   "execution_count": 569,
   "metadata": {},
   "outputs": [
    {
     "name": "stdout",
     "output_type": "stream",
     "text": [
      "z: 2.7243056913397066\n",
      "p-value: 0.003221841717406967\n",
      "CI: (0.047927815917733527, 0.29305628249210747)\n",
      "proportion difference: 0.1704920492049205\n",
      "p1: 0.43564356435643564\n",
      "p2: 0.26515151515151514\n",
      "Cohens H = 0.3598765519900462\n"
     ]
    }
   ],
   "source": [
    "#no effect\n",
    "twoporZtest(44, 35, 101, 132)"
   ]
  },
  {
   "cell_type": "code",
   "execution_count": 435,
   "metadata": {},
   "outputs": [
    {
     "data": {
      "text/plain": [
       "Index(['Start_Date', 'End_Date', 'Last_Name', 'Version_Duration',\n",
       "       'Sleep_Quality', 'Overall_Experience', 'Focus_Atten_Concen', 'Memory',\n",
       "       'Drive_Passion_Motivation', 'Physical_Energy', 'Capacity_Productivity',\n",
       "       'Decisiveness', 'Verbal_Fluency_Word_Recall', 'Creativity_Insight',\n",
       "       'InterpersonalCapability_Empathy', 'Emotional_Stability',\n",
       "       'Euphoria_Joy_Happiness', 'Estimated_Effect_Duration',\n",
       "       'Upper_Effect_Duration', 'Lower_Effect_Duration',\n",
       "       'Current_User_Comparison', 'User_Status', 'Version',\n",
       "       'Overall_Exp_Rating', 'Overall_Exp_Numeric'],\n",
       "      dtype='object')"
      ]
     },
     "execution_count": 435,
     "metadata": {},
     "output_type": "execute_result"
    }
   ],
   "source": [
    "df_99.columns"
   ]
  },
  {
   "cell_type": "markdown",
   "metadata": {},
   "source": [
    "## Verbal Fluency Word Recall"
   ]
  },
  {
   "cell_type": "code",
   "execution_count": 573,
   "metadata": {},
   "outputs": [
    {
     "name": "stdout",
     "output_type": "stream",
     "text": [
      "--------------------Trial 99----------------------\n",
      "Original Table\n",
      "Verbal_Fluency_Word_Recall  Improved  Less good  No effect\n",
      "Overall_Exp_Rating                                        \n",
      "High                              32          6         53\n",
      "Low                                2          0          7\n",
      "--------------\n",
      "Fitted Values\n",
      "Verbal_Fluency_Word_Recall   Improved  Less good  No effect\n",
      "Overall_Exp_Rating                                         \n",
      "High                        31.432039   6.286408  54.781553\n",
      "Low                          3.567961   0.713592   6.218447\n",
      "--------------\n",
      "Pearon Residuals\n",
      "Verbal_Fluency_Word_Recall  Improved  Less good  No effect\n",
      "Overall_Exp_Rating                                        \n",
      "High                        0.190489   0.085189  -0.173149\n",
      "Low                        -0.565386  -0.252849   0.513920\n",
      "--------------\n",
      "pvalue = 0.41387369032306986\n",
      "statistic = 15.5\n",
      "None\n",
      "                                          \n",
      "                                          \n",
      "--------------------Trial 51----------------------\n",
      "Original Table\n",
      "Verbal_Fluency_Word_Recall  Improved  Less good  No effect\n",
      "Overall_Exp_Rating                                        \n",
      "High                              59          3         54\n",
      "Low                                0          4          9\n",
      "--------------\n",
      "Fitted Values\n",
      "Verbal_Fluency_Word_Recall   Improved  Less good  No effect\n",
      "Overall_Exp_Rating                                         \n",
      "High                        53.409091   7.121212  56.969697\n",
      "Low                          6.590909   0.878788   7.030303\n",
      "--------------\n",
      "Pearon Residuals\n",
      "Verbal_Fluency_Word_Recall  Improved  Less good  No effect\n",
      "Overall_Exp_Rating                                        \n",
      "High                        0.833440  -1.356991  -0.327206\n",
      "Low                        -2.372518   3.862886   0.931444\n",
      "--------------\n",
      "pvalue = 0.014272279032821382\n",
      "statistic = 23.5\n",
      "None\n",
      "                                          \n",
      "                                          \n",
      "Version                     Version 51  Version 99  All\n",
      "Verbal_Fluency_Word_Recall                             \n",
      "Improved                            59          34   93\n",
      "Less good                            7           6   13\n",
      "No effect                           63          60  123\n",
      "All                                129         100  229\n",
      "                                          \n",
      "                                          \n",
      "U = 5672.0\n",
      "pval = 0.11766986471256616\n",
      "Rank Biserial Correlation = 0.12062015503875967\n",
      "CLES = 0.5603100775193799\n",
      "Not Statistically Significant\n",
      "UCRIT = 5474.904904588578\n",
      "None\n",
      "Ttest_indResult(statistic=-1.7995120901008352, pvalue=0.073328762868716785)\n"
     ]
    },
    {
     "data": {
      "image/png": "[encoded data removed]",
      "text/plain": [
       "<matplotlib.figure.Figure at 0x19e4b596d30>"
      ]
     },
     "metadata": {},
     "output_type": "display_data"
    }
   ],
   "source": [
    "STATtest(df_99, df_51, 'Verbal_Fluency_Word_Recall')"
   ]
  },
  {
   "cell_type": "code",
   "execution_count": 437,
   "metadata": {},
   "outputs": [
    {
     "name": "stdout",
     "output_type": "stream",
     "text": [
      "log odds ratio = 0.6409614273893751\n"
     ]
    }
   ],
   "source": [
    "logodds(32, 2, 59, 7) # trial 99\n"
   ]
  },
  {
   "cell_type": "code",
   "execution_count": 576,
   "metadata": {},
   "outputs": [
    {
     "name": "stdout",
     "output_type": "stream",
     "text": [
      "log odds ratio = -0.49233641926662464\n"
     ]
    }
   ],
   "source": [
    "logodds(34,66,59,70) #in general"
   ]
  },
  {
   "cell_type": "code",
   "execution_count": 577,
   "metadata": {},
   "outputs": [
    {
     "name": "stdout",
     "output_type": "stream",
     "text": [
      "z: -1.7936505404486083\n",
      "p-value: 0.036434482130218784\n",
      "CI: (-0.24390041442278676, 0.0091717322522442135)\n",
      "proportion difference: -0.11736434108527127\n",
      "p1: 0.34\n",
      "p2: 0.4573643410852713\n",
      "Cohens H = 0.24035449243612783\n"
     ]
    }
   ],
   "source": [
    "#improved\n",
    "twoporZtest(34,59, 100, 129)"
   ]
  },
  {
   "cell_type": "code",
   "execution_count": 578,
   "metadata": {},
   "outputs": [
    {
     "data": {
      "text/plain": [
       "0.24035449243558338"
      ]
     },
     "execution_count": 578,
     "metadata": {},
     "output_type": "execute_result"
    }
   ],
   "source": [
    "cohensH(0.34,0.457364341085 )"
   ]
  },
  {
   "cell_type": "code",
   "execution_count": 579,
   "metadata": {},
   "outputs": [
    {
     "name": "stdout",
     "output_type": "stream",
     "text": [
      "z: 0.1860613012849853\n",
      "p-value: 0.42619834452333377\n",
      "CI: (-0.055049544504304875, 0.066522412721359142)\n",
      "proportion difference: 0.00573643410852713\n",
      "p1: 0.06\n",
      "p2: 0.05426356589147287\n",
      "Cohens H = 0.0247234769986312\n"
     ]
    }
   ],
   "source": [
    "#less good\n",
    "twoporZtest(6,7, 100, 129)"
   ]
  },
  {
   "cell_type": "code",
   "execution_count": 580,
   "metadata": {},
   "outputs": [
    {
     "name": "stdout",
     "output_type": "stream",
     "text": [
      "z: 1.680273158309565\n",
      "p-value: 0.0464520905002362\n",
      "CI: (-0.017448716625135557, 0.24070453057862393)\n",
      "proportion difference: 0.11162790697674418\n",
      "p1: 0.6\n",
      "p2: 0.4883720930232558\n",
      "Cohens H = 0.22461583150564124\n"
     ]
    }
   ],
   "source": [
    "#no effect\n",
    "twoporZtest(60, 63, 100, 129)"
   ]
  },
  {
   "cell_type": "code",
   "execution_count": null,
   "metadata": {
    "collapsed": true
   },
   "outputs": [],
   "source": []
  },
  {
   "cell_type": "code",
   "execution_count": 442,
   "metadata": {},
   "outputs": [
    {
     "data": {
      "text/plain": [
       "Index(['Start_Date', 'End_Date', 'Last_Name', 'Version_Duration',\n",
       "       'Sleep_Quality', 'Overall_Experience', 'Focus_Atten_Concen', 'Memory',\n",
       "       'Drive_Passion_Motivation', 'Physical_Energy', 'Capacity_Productivity',\n",
       "       'Decisiveness', 'Verbal_Fluency_Word_Recall', 'Creativity_Insight',\n",
       "       'InterpersonalCapability_Empathy', 'Emotional_Stability',\n",
       "       'Euphoria_Joy_Happiness', 'Estimated_Effect_Duration',\n",
       "       'Upper_Effect_Duration', 'Lower_Effect_Duration',\n",
       "       'Current_User_Comparison', 'User_Status', 'Version',\n",
       "       'Overall_Exp_Rating', 'Overall_Exp_Numeric'],\n",
       "      dtype='object')"
      ]
     },
     "execution_count": 442,
     "metadata": {},
     "output_type": "execute_result"
    }
   ],
   "source": [
    "df_99.columns"
   ]
  },
  {
   "cell_type": "markdown",
   "metadata": {},
   "source": [
    "## Creativity Insight"
   ]
  },
  {
   "cell_type": "code",
   "execution_count": 581,
   "metadata": {},
   "outputs": [
    {
     "name": "stdout",
     "output_type": "stream",
     "text": [
      "--------------------Trial 99----------------------\n",
      "Original Table\n",
      "Creativity_Insight  Improved  No effect\n",
      "Overall_Exp_Rating                     \n",
      "High                      50         41\n",
      "Low                        1          9\n",
      "--------------\n",
      "Fitted Values\n",
      "Creativity_Insight   Improved  No effect\n",
      "Overall_Exp_Rating                      \n",
      "High                45.950495  45.049505\n",
      "Low                  5.049505   4.950495\n",
      "--------------\n",
      "Pearon Residuals\n",
      "Creativity_Insight  Improved  No effect\n",
      "Overall_Exp_Rating                     \n",
      "High                0.597388  -0.603333\n",
      "Low                -1.802094   1.820026\n",
      "--------------\n",
      "pvalue = 0.00725455965226939\n",
      "statistic = 9.0\n",
      "None\n",
      "                                          \n",
      "                                          \n",
      "--------------------Trial 51----------------------\n",
      "Original Table\n",
      "Creativity_Insight  Improved  Less good  No effect\n",
      "Overall_Exp_Rating                                \n",
      "High                      71          0         47\n",
      "Low                        0          3          9\n",
      "--------------\n",
      "Fitted Values\n",
      "Creativity_Insight   Improved  Less good  No effect\n",
      "Overall_Exp_Rating                                 \n",
      "High                64.691729   3.593985  51.214286\n",
      "Low                  7.308271   0.406015   5.785714\n",
      "--------------\n",
      "Pearon Residuals\n",
      "Creativity_Insight  Improved  Less good  No effect\n",
      "Overall_Exp_Rating                                \n",
      "High                0.846472  -1.632037  -0.519015\n",
      "Low                -2.518428   4.855647   1.544176\n",
      "--------------\n",
      "pvalue = 0.0020945634516405876\n",
      "statistic = 22.5\n",
      "None\n",
      "                                          \n",
      "                                          \n",
      "Version             Version 51  Version 99  All\n",
      "Creativity_Insight                             \n",
      "Improved                    71          51  122\n",
      "Less good                    3           0    3\n",
      "No effect                   56          50  106\n",
      "All                        130         101  231\n",
      "                                          \n",
      "                                          \n",
      "U = 6219.5\n",
      "pval = 0.49287425362503257\n",
      "Rank Biserial Correlation = 0.05262757044935262\n",
      "CLES = 0.5263137852246763\n",
      "Not Statistically Significant\n",
      "UCRIT = 5576.989314150644\n",
      "None\n",
      "Ttest_indResult(statistic=-0.79809163427995633, pvalue=0.42570600006937886)\n"
     ]
    },
    {
     "data": {
      "image/png": "[encoded data removed]",
      "text/plain": [
       "<matplotlib.figure.Figure at 0x19e4b5579b0>"
      ]
     },
     "metadata": {},
     "output_type": "display_data"
    }
   ],
   "source": [
    "STATtest(df_99, df_51, 'Creativity_Insight')"
   ]
  },
  {
   "cell_type": "code",
   "execution_count": 582,
   "metadata": {},
   "outputs": [
    {
     "name": "stdout",
     "output_type": "stream",
     "text": [
      "log odds ratio = 2.3956755160600576\n"
     ]
    }
   ],
   "source": [
    "logodds(50,1,41,9) #trial 99"
   ]
  },
  {
   "cell_type": "code",
   "execution_count": 583,
   "metadata": {},
   "outputs": [
    {
     "name": "stdout",
     "output_type": "stream",
     "text": [
      "log odds ratio = -0.1653398058394162\n"
     ]
    }
   ],
   "source": [
    "logodds(51,50,71,59)"
   ]
  },
  {
   "cell_type": "code",
   "execution_count": 584,
   "metadata": {},
   "outputs": [
    {
     "name": "stdout",
     "output_type": "stream",
     "text": [
      "z: -0.6222683720233742\n",
      "p-value: 0.2668827072596184\n",
      "CI: (-0.17094433406594478, 0.088537631857262489)\n",
      "proportion difference: -0.041203351104341146\n",
      "p1: 0.504950495049505\n",
      "p2: 0.5461538461538461\n",
      "Cohens H = 0.08253813348043137\n"
     ]
    }
   ],
   "source": [
    "#improved\n",
    "twoporZtest(51, 71, 101, 130)"
   ]
  },
  {
   "cell_type": "code",
   "execution_count": 585,
   "metadata": {},
   "outputs": [
    {
     "data": {
      "text/plain": [
       "0.082538133479750586"
      ]
     },
     "execution_count": 585,
     "metadata": {},
     "output_type": "execute_result"
    }
   ],
   "source": [
    "cohensH(0.50495049505,0.546153846154)"
   ]
  },
  {
   "cell_type": "code",
   "execution_count": 586,
   "metadata": {},
   "outputs": [
    {
     "name": "stdout",
     "output_type": "stream",
     "text": [
      "z: -1.5366968624174264\n",
      "p-value: 0.06218377991237078\n",
      "CI: (-0.048887845810570402, 0.0027339996567242453)\n",
      "proportion difference: -0.023076923076923078\n",
      "p1: 0.0\n",
      "p2: 0.023076923076923078\n",
      "Cohens H = 0.3050026597947112\n"
     ]
    }
   ],
   "source": [
    "#less good\n",
    "twoporZtest(0, 3, 101, 130)"
   ]
  },
  {
   "cell_type": "code",
   "execution_count": 587,
   "metadata": {},
   "outputs": [
    {
     "name": "stdout",
     "output_type": "stream",
     "text": [
      "z: 0.9725414818907152\n",
      "p-value: 0.16539061928753312\n",
      "CI: (-0.065157112920155774, 0.19371766128268428)\n",
      "proportion difference: 0.06428027418126425\n",
      "p1: 0.49504950495049505\n",
      "p2: 0.4307692307692308\n",
      "Cohens H = 0.1290066690744649\n"
     ]
    }
   ],
   "source": [
    "#no effect\n",
    "twoporZtest(50, 56, 101, 130)"
   ]
  },
  {
   "cell_type": "code",
   "execution_count": null,
   "metadata": {},
   "outputs": [],
   "source": []
  },
  {
   "cell_type": "markdown",
   "metadata": {},
   "source": [
    "# Interpersonal Capability and Empathy"
   ]
  },
  {
   "cell_type": "code",
   "execution_count": 588,
   "metadata": {},
   "outputs": [
    {
     "name": "stdout",
     "output_type": "stream",
     "text": [
      "--------------------Trial 99----------------------\n",
      "Original Table\n",
      "InterpersonalCapability_Empathy  Improved  Less good  No effect\n",
      "Overall_Exp_Rating                                             \n",
      "High                                   40          1         49\n",
      "Low                                     1          1          8\n",
      "--------------\n",
      "Fitted Values\n",
      "InterpersonalCapability_Empathy  Improved  Less good  No effect\n",
      "Overall_Exp_Rating                                             \n",
      "High                                 36.9        1.8       51.3\n",
      "Low                                   4.1        0.2        5.7\n",
      "--------------\n",
      "Pearon Residuals\n",
      "InterpersonalCapability_Empathy  Improved  Less good  No effect\n",
      "Overall_Exp_Rating                                             \n",
      "High                             0.510327  -0.596285  -0.321121\n",
      "Low                             -1.530981   1.788854   0.963364\n",
      "--------------\n",
      "pvalue = 0.06676339758620556\n",
      "statistic = 17.0\n",
      "None\n",
      "                                          \n",
      "                                          \n",
      "--------------------Trial 51----------------------\n",
      "Original Table\n",
      "InterpersonalCapability_Empathy  Improved  Less good  No effect\n",
      "Overall_Exp_Rating                                             \n",
      "High                                   63          7         49\n",
      "Low                                     1          3          9\n",
      "--------------\n",
      "Fitted Values\n",
      "InterpersonalCapability_Empathy  Improved  Less good  No effect\n",
      "Overall_Exp_Rating                                             \n",
      "High                             57.69697   9.015152  52.287879\n",
      "Low                               6.30303   0.984848   5.712121\n",
      "--------------\n",
      "Pearon Residuals\n",
      "InterpersonalCapability_Empathy  Improved  Less good  No effect\n",
      "Overall_Exp_Rating                                             \n",
      "High                             0.698148  -0.671152  -0.454690\n",
      "Low                             -2.112270   2.030594   1.375679\n",
      "--------------\n",
      "pvalue = 0.009233367900486388\n",
      "statistic = 21.0\n",
      "None\n",
      "                                          \n",
      "                                          \n",
      "Version                          Version 51  Version 99  All\n",
      "InterpersonalCapability_Empathy                             \n",
      "Improved                                 64          41  105\n",
      "Less good                                10           2   12\n",
      "No effect                                58          57  115\n",
      "All                                     132         100  232\n",
      "                                          \n",
      "                                          \n",
      "U = 5879.0\n",
      "pval = 0.15439809405541507\n",
      "Rank Biserial Correlation = 0.10924242424242425\n",
      "CLES = 0.5546212121212122\n",
      "Not Statistically Significant\n",
      "UCRIT = 5607.228827386384\n",
      "None\n",
      "Ttest_indResult(statistic=-1.5908117875766816, pvalue=0.11314730643566173)\n"
     ]
    },
    {
     "data": {
      "image/png": "[encoded data removed]",
      "text/plain": [
       "<matplotlib.figure.Figure at 0x19e4b77fa58>"
      ]
     },
     "metadata": {},
     "output_type": "display_data"
    }
   ],
   "source": [
    "STATtest(df_99, df_51, 'InterpersonalCapability_Empathy')"
   ]
  },
  {
   "cell_type": "code",
   "execution_count": 449,
   "metadata": {},
   "outputs": [
    {
     "name": "stdout",
     "output_type": "stream",
     "text": [
      "log odds ratio = 1.9740810260220096\n"
     ]
    }
   ],
   "source": [
    "#trial 99 \n",
    "logodds(40, 1, 50, 9)"
   ]
  },
  {
   "cell_type": "code",
   "execution_count": 450,
   "metadata": {},
   "outputs": [
    {
     "name": "stdout",
     "output_type": "stream",
     "text": [
      "log odds ratio = 2.6026896854443837\n"
     ]
    }
   ],
   "source": [
    "logodds(63, 1, 56, 12) # trial 51"
   ]
  },
  {
   "cell_type": "code",
   "execution_count": 589,
   "metadata": {},
   "outputs": [
    {
     "name": "stdout",
     "output_type": "stream",
     "text": [
      "log odds ratio = -0.3033407553849767\n"
     ]
    }
   ],
   "source": [
    "logodds(41,59,64,68)"
   ]
  },
  {
   "cell_type": "code",
   "execution_count": 590,
   "metadata": {},
   "outputs": [
    {
     "name": "stdout",
     "output_type": "stream",
     "text": [
      "z: -1.1342726528136473\n",
      "p-value: 0.12834009835399646\n",
      "CI: (-0.20354155707587548, 0.053844587378905712)\n",
      "proportion difference: -0.07484848484848489\n",
      "p1: 0.41\n",
      "p2: 0.48484848484848486\n",
      "Cohens H = 0.15067878128036094\n"
     ]
    }
   ],
   "source": [
    "#improved\n",
    "twoporZtest(41, 64, 100, 132)"
   ]
  },
  {
   "cell_type": "code",
   "execution_count": 591,
   "metadata": {},
   "outputs": [
    {
     "data": {
      "text/plain": [
       "0.15067878127939061"
      ]
     },
     "execution_count": 591,
     "metadata": {},
     "output_type": "execute_result"
    }
   ],
   "source": [
    "cohensH(0.41,0.484848484848 )"
   ]
  },
  {
   "cell_type": "code",
   "execution_count": 592,
   "metadata": {},
   "outputs": [
    {
     "name": "stdout",
     "output_type": "stream",
     "text": [
      "z: -1.899034600806338\n",
      "p-value: 0.02877996339232921\n",
      "CI: (-0.10858465415612792, -0.0029304973590235858)\n",
      "proportion difference: -0.055757575757575756\n",
      "p1: 0.02\n",
      "p2: 0.07575757575757576\n",
      "Cohens H = 0.27388652053107143\n"
     ]
    }
   ],
   "source": [
    "#less good\n",
    "twoporZtest(2, 10, 100, 132) #significant "
   ]
  },
  {
   "cell_type": "code",
   "execution_count": 593,
   "metadata": {},
   "outputs": [
    {
     "name": "stdout",
     "output_type": "stream",
     "text": [
      "z: 1.970391100442233\n",
      "p-value: 0.02439678237507343\n",
      "CI: (0.0018247692907987223, 0.2593873519213224)\n",
      "proportion difference: 0.13060606060606056\n",
      "p1: 0.57\n",
      "p2: 0.4393939393939394\n",
      "Cohens H = 0.26197233139953613\n"
     ]
    }
   ],
   "source": [
    "#no effect\n",
    "twoporZtest(57, 58, 100, 132) # significant"
   ]
  },
  {
   "cell_type": "code",
   "execution_count": 594,
   "metadata": {},
   "outputs": [
    {
     "data": {
      "text/plain": [
       "0.261972331399414"
      ]
     },
     "execution_count": 594,
     "metadata": {},
     "output_type": "execute_result"
    }
   ],
   "source": [
    "cohensH(0.57, 0.439393939394)"
   ]
  },
  {
   "cell_type": "code",
   "execution_count": null,
   "metadata": {},
   "outputs": [],
   "source": []
  },
  {
   "cell_type": "markdown",
   "metadata": {},
   "source": [
    "## Emotional Stability"
   ]
  },
  {
   "cell_type": "code",
   "execution_count": 596,
   "metadata": {},
   "outputs": [
    {
     "name": "stdout",
     "output_type": "stream",
     "text": [
      "--------------------Trial 99----------------------\n",
      "Original Table\n",
      "Emotional_Stability  Improved  Less good  No effect\n",
      "Overall_Exp_Rating                                 \n",
      "High                       51          6         34\n",
      "Low                         0          4          6\n",
      "--------------\n",
      "Fitted Values\n",
      "Emotional_Stability  Improved  Less good  No effect\n",
      "Overall_Exp_Rating                                 \n",
      "High                    46.25   9.783654  36.466346\n",
      "Low                      5.75   1.216346   4.533654\n",
      "--------------\n",
      "Pearon Residuals\n",
      "Emotional_Stability  Improved  Less good  No effect\n",
      "Overall_Exp_Rating                                 \n",
      "High                 0.771975  -1.049801  -0.325622\n",
      "Low                 -2.189401   2.977342   0.923498\n",
      "--------------\n",
      "pvalue = 0.016866759182394733\n",
      "statistic = 17.5\n",
      "None\n",
      "                                          \n",
      "                                          \n",
      "--------------------Trial 51----------------------\n",
      "Original Table\n",
      "Emotional_Stability  Improved  Less good  No effect\n",
      "Overall_Exp_Rating                                 \n",
      "High                       71          4         44\n",
      "Low                         1          3          9\n",
      "--------------\n",
      "Fitted Values\n",
      "Emotional_Stability   Improved  Less good  No effect\n",
      "Overall_Exp_Rating                                  \n",
      "High                 64.909091   6.310606  47.780303\n",
      "Low                   7.090909   0.689394   5.219697\n",
      "--------------\n",
      "Pearon Residuals\n",
      "Emotional_Stability  Improved  Less good  No effect\n",
      "Overall_Exp_Rating                                 \n",
      "High                 0.756013  -0.919794  -0.546893\n",
      "Low                 -2.287342   2.782865   1.654642\n",
      "--------------\n",
      "pvalue = 0.002838826481165399\n",
      "statistic = 21.0\n",
      "None\n",
      "                                          \n",
      "                                          \n",
      "Version              Version 51  Version 99  All\n",
      "Emotional_Stability                             \n",
      "Improved                     72          51  123\n",
      "Less good                     7          10   17\n",
      "No effect                    53          40   93\n",
      "All                         132         101  233\n",
      "                                          \n",
      "                                          \n",
      "U = 6521.0\n",
      "pval = 0.7761171801369199\n",
      "Rank Biserial Correlation = 0.021752175217521708\n",
      "CLES = 0.5108760876087608\n",
      "Not Statistically Significant\n",
      "UCRIT = 5666.14214697637\n",
      "None\n",
      "Ttest_indResult(statistic=-0.27725489338688919, pvalue=0.78184789752405881)\n"
     ]
    },
    {
     "data": {
      "image/png": "[encoded data removed]",
      "text/plain": [
       "<matplotlib.figure.Figure at 0x19e4c88e3c8>"
      ]
     },
     "metadata": {},
     "output_type": "display_data"
    }
   ],
   "source": [
    "STATtest(df_99, df_51, 'Emotional_Stability')"
   ]
  },
  {
   "cell_type": "code",
   "execution_count": 457,
   "metadata": {},
   "outputs": [
    {
     "name": "stdout",
     "output_type": "stream",
     "text": [
      "log odds ratio = 2.8763855159214247\n"
     ]
    }
   ],
   "source": [
    "#trial 51\n",
    "logodds(71, 1, 48, 12)"
   ]
  },
  {
   "cell_type": "code",
   "execution_count": 597,
   "metadata": {},
   "outputs": [
    {
     "name": "stdout",
     "output_type": "stream",
     "text": [
      "log odds ratio = -0.1625189294977748\n"
     ]
    }
   ],
   "source": [
    "logodds(51,50,72,60)"
   ]
  },
  {
   "cell_type": "code",
   "execution_count": 598,
   "metadata": {},
   "outputs": [
    {
     "name": "stdout",
     "output_type": "stream",
     "text": [
      "z: -0.6137269147915507\n",
      "p-value: 0.2696978998459714\n",
      "CI: (-0.16982383266657147, 0.088815731856490554)\n",
      "proportion difference: -0.04050405040504046\n",
      "p1: 0.504950495049505\n",
      "p2: 0.5454545454545454\n",
      "Cohens H = 0.08113362616624409\n"
     ]
    }
   ],
   "source": [
    "#improved\n",
    "twoporZtest(51, 72, 101, 132)"
   ]
  },
  {
   "cell_type": "code",
   "execution_count": 599,
   "metadata": {},
   "outputs": [
    {
     "name": "stdout",
     "output_type": "stream",
     "text": [
      "z: 1.3373326455476262\n",
      "p-value: 0.09055703970736018\n",
      "CI: (-0.023694945360822943, 0.1156541412804149)\n",
      "proportion difference: 0.04597959795979598\n",
      "p1: 0.09900990099009901\n",
      "p2: 0.05303030303030303\n",
      "Cohens H = 0.1754563096653966\n"
     ]
    }
   ],
   "source": [
    "#less good\n",
    "twoporZtest(10, 7, 101, 132)"
   ]
  },
  {
   "cell_type": "code",
   "execution_count": 600,
   "metadata": {},
   "outputs": [
    {
     "name": "stdout",
     "output_type": "stream",
     "text": [
      "z: -0.08457610410435772\n",
      "p-value: 0.4662991985735196\n",
      "CI: (-0.13232707571037183, 0.12137598060086097)\n",
      "proportion difference: -0.005475547554755433\n",
      "p1: 0.39603960396039606\n",
      "p2: 0.4015151515151515\n",
      "Cohens H = 0.011182713406479694\n"
     ]
    }
   ],
   "source": [
    "#no effect\n",
    "twoporZtest(40,53, 101, 132)"
   ]
  },
  {
   "cell_type": "markdown",
   "metadata": {},
   "source": [
    "## Euphoria Joy and Happiness "
   ]
  },
  {
   "cell_type": "code",
   "execution_count": 601,
   "metadata": {},
   "outputs": [
    {
     "name": "stdout",
     "output_type": "stream",
     "text": [
      "--------------------Trial 99----------------------\n",
      "Original Table\n",
      "Euphoria_Joy_Happiness  Improved  Less good  No effect\n",
      "Overall_Exp_Rating                                    \n",
      "High                          48          1         42\n",
      "Low                            0          4          6\n",
      "--------------\n",
      "Fitted Values\n",
      "Euphoria_Joy_Happiness   Improved  Less good  No effect\n",
      "Overall_Exp_Rating                                     \n",
      "High                    43.581731   5.336538  43.581731\n",
      "Low                      5.418269   0.663462   5.418269\n",
      "--------------\n",
      "Pearon Residuals\n",
      "Euphoria_Joy_Happiness  Improved  Less good  No effect\n",
      "Overall_Exp_Rating                                    \n",
      "High                    0.745007  -1.660771  -0.163858\n",
      "Low                    -2.112915   4.710117   0.464717\n",
      "--------------\n",
      "pvalue = 0.054438673608368265\n",
      "statistic = 17.5\n",
      "None\n",
      "                                          \n",
      "                                          \n",
      "--------------------Trial 51----------------------\n",
      "Original Table\n",
      "Euphoria_Joy_Happiness  Improved  Less good  No effect\n",
      "Overall_Exp_Rating                                    \n",
      "High                          71          2         46\n",
      "Low                            1          4          8\n",
      "--------------\n",
      "Fitted Values\n",
      "Euphoria_Joy_Happiness   Improved  Less good  No effect\n",
      "Overall_Exp_Rating                                     \n",
      "High                    64.909091   5.409091  48.681818\n",
      "Low                      7.090909   0.590909   5.318182\n",
      "--------------\n",
      "Pearon Residuals\n",
      "Euphoria_Joy_Happiness  Improved  Less good  No effect\n",
      "Overall_Exp_Rating                                    \n",
      "High                    0.756013  -1.465806  -0.384367\n",
      "Low                    -2.287342   4.434843   1.162914\n",
      "--------------\n",
      "pvalue = 0.008321164536191904\n",
      "statistic = 20.0\n",
      "None\n",
      "                                          \n",
      "                                          \n",
      "Version                 Version 51  Version 99  All\n",
      "Euphoria_Joy_Happiness                             \n",
      "Improved                        72          48  120\n",
      "Less good                        6           5   11\n",
      "No effect                       54          48  102\n",
      "All                            132         101  233\n",
      "                                          \n",
      "                                          \n",
      "U = 6189.0\n",
      "pval = 0.34951999908531717\n",
      "Rank Biserial Correlation = 0.07155715571557153\n",
      "CLES = 0.5357785778577857\n",
      "Not Statistically Significant\n",
      "UCRIT = 5666.14214697637\n",
      "None\n",
      "Ttest_indResult(statistic=-1.0568090885899575, pvalue=0.29178817902179838)\n"
     ]
    },
    {
     "data": {
      "image/png": "[encoded data removed]",
      "text/plain": [
       "<matplotlib.figure.Figure at 0x19e4c88e400>"
      ]
     },
     "metadata": {},
     "output_type": "display_data"
    }
   ],
   "source": [
    "STATtest(df_99, df_51, 'Euphoria_Joy_Happiness')"
   ]
  },
  {
   "cell_type": "code",
   "execution_count": 462,
   "metadata": {},
   "outputs": [
    {
     "name": "stdout",
     "output_type": "stream",
     "text": [
      "log odds ratio = 2.8763855159214247\n"
     ]
    }
   ],
   "source": [
    "#trial 51\n",
    "logodds(71, 1, 48, 12)"
   ]
  },
  {
   "cell_type": "code",
   "execution_count": 602,
   "metadata": {},
   "outputs": [
    {
     "name": "stdout",
     "output_type": "stream",
     "text": [
      "log odds ratio = -0.07232066157962613\n"
     ]
    }
   ],
   "source": [
    "logodds(48,43,72,60)"
   ]
  },
  {
   "cell_type": "code",
   "execution_count": 603,
   "metadata": {},
   "outputs": [
    {
     "name": "stdout",
     "output_type": "stream",
     "text": [
      "z: -1.0626159048658297\n",
      "p-value: 0.1439780856403311\n",
      "CI: (-0.19944027636599024, 0.059026234961849861)\n",
      "proportion difference: -0.07020702070207019\n",
      "p1: 0.4752475247524752\n",
      "p2: 0.5454545454545454\n",
      "Cohens H = 0.14055997149310873\n"
     ]
    }
   ],
   "source": [
    "#improved\n",
    "twoporZtest(48, 72, 101, 132)"
   ]
  },
  {
   "cell_type": "code",
   "execution_count": 604,
   "metadata": {},
   "outputs": [
    {
     "name": "stdout",
     "output_type": "stream",
     "text": [
      "z: 0.1444612066299303\n",
      "p-value: 0.44256814384987475\n",
      "CI: (-0.051198775584814948, 0.059299585665823051)\n",
      "proportion difference: 0.0040504050405040515\n",
      "p1: 0.04950495049504951\n",
      "p2: 0.045454545454545456\n",
      "Cohens H = 0.019050349164413116\n"
     ]
    }
   ],
   "source": [
    "#less good\n",
    "twoporZtest(5, 6, 101, 132)"
   ]
  },
  {
   "cell_type": "code",
   "execution_count": 605,
   "metadata": {},
   "outputs": [
    {
     "name": "stdout",
     "output_type": "stream",
     "text": [
      "z: 1.008702644567192\n",
      "p-value: 0.15655863155495608\n",
      "CI: (-0.06237681845500781, 0.19469004977814003)\n",
      "proportion difference: 0.06615661566156611\n",
      "p1: 0.4752475247524752\n",
      "p2: 0.4090909090909091\n",
      "Cohens H = 0.13330994353721515\n"
     ]
    }
   ],
   "source": [
    "#no effect\n",
    "twoporZtest(48, 54, 101, 132)"
   ]
  },
  {
   "cell_type": "code",
   "execution_count": null,
   "metadata": {},
   "outputs": [],
   "source": []
  },
  {
   "cell_type": "markdown",
   "metadata": {},
   "source": [
    "## Finding the duration effect of the Nootropic for both trials"
   ]
  },
  {
   "cell_type": "code",
   "execution_count": 467,
   "metadata": {
    "collapsed": true
   },
   "outputs": [],
   "source": [
    "rating_4 = {'<2':1, '2-4': 2, '4-8':3, '8+':4}"
   ]
  },
  {
   "cell_type": "code",
   "execution_count": 468,
   "metadata": {
    "collapsed": true
   },
   "outputs": [],
   "source": [
    "def STATtest_two (df1, df2, col, rating):\n",
    "    \"\"\"automates finding the statistical tests but does not do cliffsdelta, cohensH, or twoproportion ztest\"\"\"\n",
    "    table99 = pd.crosstab(index=df1.Overall_Exp_Rating, columns=df1[col])\n",
    "    table51 = pd.crosstab(index=df2.Overall_Exp_Rating, columns=df2[col])\n",
    "    \n",
    "    print ('--------------------Trial 99----------------------')\n",
    "    print (conttable(table99))\n",
    "    print ('                                          ')\n",
    "    print ('                                          ')\n",
    "\n",
    "    print ('--------------------Trial 51----------------------')\n",
    "    print (conttable(table51))\n",
    "    \n",
    "    \n",
    "    df99 = df1[[col,'Overall_Exp_Rating', 'Version', 'Version_Duration']]\n",
    "    df51 = df2[[col,'Overall_Exp_Rating', 'Version', 'Version_Duration']]\n",
    "    df = pd.concat([df99, df51])\n",
    "    tab = pd.crosstab(index=df[col], columns=df.Version, margins=True)\n",
    "    print ('                                          ')\n",
    "    print ('                                          ')\n",
    "    print (tab)\n",
    "    \n",
    "    df['Rating'] = df[col].map(rating_4)\n",
    "    \n",
    "    t99 = df[df.Version=='Version 99']['Rating'].dropna()\n",
    "    t51 = df[df.Version=='Version 51']['Rating'].dropna()\n",
    "    \n",
    "    print ('                                          ')\n",
    "    print ('                                          ')\n",
    "    \n",
    "    print (manntest(t99,t51))\n",
    "    \n",
    "    mean_OT = pd.crosstab(index=df.Version_Duration, columns=df.Version, values=df.Rating, aggfunc=np.mean)\n",
    "    mean_OT.plot()\n",
    "    plt.title(str(col)+ ' ' + 'Over Time')\n",
    "    print (stats.ttest_ind(t99, t51, equal_var=False))"
   ]
  },
  {
   "cell_type": "code",
   "execution_count": 606,
   "metadata": {},
   "outputs": [
    {
     "name": "stdout",
     "output_type": "stream",
     "text": [
      "--------------------Trial 99----------------------\n",
      "Original Table\n",
      "Estimated_Effect_Duration  2-4  4-8  8+  <2\n",
      "Overall_Exp_Rating                         \n",
      "High                        10   54  23   4\n",
      "Low                          2    1   3   4\n",
      "--------------\n",
      "Fitted Values\n",
      "Estimated_Effect_Duration        2-4        4-8         8+        <2\n",
      "Overall_Exp_Rating                                                  \n",
      "High                       10.811881  49.554455  23.425743  7.207921\n",
      "Low                         1.188119   5.445545   2.574257  0.792079\n",
      "--------------\n",
      "Pearon Residuals\n",
      "Estimated_Effect_Duration       2-4       4-8        8+        <2\n",
      "Overall_Exp_Rating                                               \n",
      "High                      -0.246912  0.631515 -0.087963 -1.194864\n",
      "Low                        0.744839 -1.905041  0.265351  3.604453\n",
      "--------------\n",
      "pvalue = 0.010166222753988654\n",
      "statistic = 19.0\n",
      "None\n",
      "                                          \n",
      "                                          \n",
      "--------------------Trial 51----------------------\n",
      "Original Table\n",
      "Estimated_Effect_Duration  2-4  4-8  8+  <2\n",
      "Overall_Exp_Rating                         \n",
      "High                        16   58  29  13\n",
      "Low                          0    4   2   2\n",
      "--------------\n",
      "Fitted Values\n",
      "Estimated_Effect_Duration        2-4        4-8    8+     <2\n",
      "Overall_Exp_Rating                                          \n",
      "High                       15.671875  58.078125  29.5  14.75\n",
      "Low                         1.328125   4.921875   2.5   1.25\n",
      "--------------\n",
      "Pearon Residuals\n",
      "Estimated_Effect_Duration       2-4       4-8   8+        <2\n",
      "Overall_Exp_Rating                                          \n",
      "High                       0.209187  0.055358  0.0 -0.325472\n",
      "Low                       -0.718582 -0.190160  0.0  1.118034\n",
      "--------------\n",
      "pvalue = 0.20678731337344025\n",
      "statistic = 17.0\n",
      "None\n",
      "                                          \n",
      "                                          \n",
      "Version                    Version 51  Version 99  All\n",
      "Estimated_Effect_Duration                             \n",
      "2-4                                16          12   28\n",
      "4-8                                62          55  117\n",
      "8+                                 31          26   57\n",
      "<2                                 15           8   23\n",
      "All                               124         101  225\n",
      "                                          \n",
      "                                          \n",
      "U = 6567.0\n",
      "pval = 0.5299991376783191\n",
      "Rank Biserial Correlation = -0.048706483551580915\n",
      "CLES = 0.47564675822420954\n",
      "Not Statistically Significant\n",
      "UCRIT = 5309.600283713317\n",
      "None\n",
      "Ttest_indResult(statistic=0.86045480283668629, pvalue=0.39047288578302086)\n"
     ]
    },
    {
     "data": {
      "image/png": "[encoded data removed]",
      "text/plain": [
       "<matplotlib.figure.Figure at 0x19e4c992c50>"
      ]
     },
     "metadata": {},
     "output_type": "display_data"
    }
   ],
   "source": [
    "STATtest_two(df_99, df_51, 'Estimated_Effect_Duration', rating_4)"
   ]
  },
  {
   "cell_type": "code",
   "execution_count": 470,
   "metadata": {},
   "outputs": [
    {
     "data": {
      "text/plain": [
       "8.0     55\n",
       "12.0    26\n",
       "4.0     12\n",
       "2.0      8\n",
       "Name: Upper_Effect_Duration, dtype: int64"
      ]
     },
     "execution_count": 470,
     "metadata": {},
     "output_type": "execute_result"
    }
   ],
   "source": [
    "df_99.Upper_Effect_Duration.value_counts()"
   ]
  },
  {
   "cell_type": "code",
   "execution_count": 471,
   "metadata": {},
   "outputs": [
    {
     "data": {
      "text/plain": [
       "4-8    55\n",
       "8+     26\n",
       "2-4    12\n",
       "<2      8\n",
       "Name: Estimated_Effect_Duration, dtype: int64"
      ]
     },
     "execution_count": 471,
     "metadata": {},
     "output_type": "execute_result"
    }
   ],
   "source": [
    "df_99.Estimated_Effect_Duration.value_counts()"
   ]
  },
  {
   "cell_type": "code",
   "execution_count": 608,
   "metadata": {},
   "outputs": [
    {
     "name": "stdout",
     "output_type": "stream",
     "text": [
      "z: -0.2310029736365\n",
      "p-value: 0.40865624593867383\n",
      "CI: (-0.09661401683956744, 0.076173263086772802)\n",
      "proportion difference: -0.010220376876397319\n",
      "p1: 0.1188118811881188\n",
      "p2: 0.12903225806451613\n",
      "Cohens H = 0.03102463805389377\n"
     ]
    }
   ],
   "source": [
    "twoporZtest(12,16,101,124) #2-4"
   ]
  },
  {
   "cell_type": "code",
   "execution_count": 609,
   "metadata": {},
   "outputs": [
    {
     "name": "stdout",
     "output_type": "stream",
     "text": [
      "z: 0.6653484046867426\n",
      "p-value: 0.2529138386864769\n",
      "CI: (-0.086512579480816809, 0.175621490371906)\n",
      "proportion difference: 0.044554455445544594\n",
      "p1: 0.5445544554455446\n",
      "p2: 0.5\n",
      "Cohens H = 0.08922726096970823\n"
     ]
    }
   ],
   "source": [
    "twoporZtest(55,62,101,124) #4-8"
   ]
  },
  {
   "cell_type": "code",
   "execution_count": 610,
   "metadata": {},
   "outputs": [
    {
     "name": "stdout",
     "output_type": "stream",
     "text": [
      "z: 0.12738274678217293\n",
      "p-value: 0.4493187355334844\n",
      "CI: (-0.1069406783572628, 0.12179216350577766)\n",
      "proportion difference: 0.007425742574257432\n",
      "p1: 0.25742574257425743\n",
      "p2: 0.25\n",
      "Cohens H = 0.0170657743644842\n"
     ]
    }
   ],
   "source": [
    "twoporZtest(26,31,101,124) #8+"
   ]
  },
  {
   "cell_type": "code",
   "execution_count": 611,
   "metadata": {},
   "outputs": [
    {
     "name": "stdout",
     "output_type": "stream",
     "text": [
      "z: -1.0284467633050718\n",
      "p-value: 0.15186986045057527\n",
      "CI: (-0.11965979225549324, 0.036140149968683907)\n",
      "proportion difference: -0.041759821143404666\n",
      "p1: 0.07920792079207921\n",
      "p2: 0.12096774193548387\n",
      "Cohens H = 0.1398692396096659\n"
     ]
    }
   ],
   "source": [
    "twoporZtest(8,15,101,124) #less than two"
   ]
  },
  {
   "cell_type": "code",
   "execution_count": 472,
   "metadata": {},
   "outputs": [
    {
     "data": {
      "text/plain": [
       "8.0"
      ]
     },
     "execution_count": 472,
     "metadata": {},
     "output_type": "execute_result"
    }
   ],
   "source": [
    "df_99.Upper_Effect_Duration.median()"
   ]
  },
  {
   "cell_type": "code",
   "execution_count": 473,
   "metadata": {},
   "outputs": [
    {
     "data": {
      "text/plain": [
       "4.0"
      ]
     },
     "execution_count": 473,
     "metadata": {},
     "output_type": "execute_result"
    }
   ],
   "source": [
    "df_99.Lower_Effect_Duration.median()"
   ]
  },
  {
   "cell_type": "code",
   "execution_count": 474,
   "metadata": {},
   "outputs": [
    {
     "data": {
      "text/plain": [
       "8.0"
      ]
     },
     "execution_count": 474,
     "metadata": {},
     "output_type": "execute_result"
    }
   ],
   "source": [
    "df_51.Upper_Effect_Duration.median()"
   ]
  },
  {
   "cell_type": "code",
   "execution_count": 475,
   "metadata": {},
   "outputs": [
    {
     "data": {
      "text/plain": [
       "4.0"
      ]
     },
     "execution_count": 475,
     "metadata": {},
     "output_type": "execute_result"
    }
   ],
   "source": [
    "df_51.Lower_Effect_Duration.median()"
   ]
  },
  {
   "cell_type": "code",
   "execution_count": null,
   "metadata": {},
   "outputs": [],
   "source": []
  },
  {
   "cell_type": "markdown",
   "metadata": {},
   "source": [
    "## Current_User_Comparison"
   ]
  },
  {
   "cell_type": "code",
   "execution_count": 614,
   "metadata": {},
   "outputs": [],
   "source": [
    "rating_5 = {'I am not a XNootropic user':0, 'This is less good than XNootropic':1,\n",
    "           'This is less good than XNootropic':2, 'This is better than XNootropic':3}"
   ]
  },
  {
   "cell_type": "code",
   "execution_count": null,
   "metadata": {},
   "outputs": [],
   "source": []
  },
  {
   "cell_type": "code",
   "execution_count": 476,
   "metadata": {},
   "outputs": [
    {
     "data": {
      "text/html": [
       "<div>\n",
       "<style>\n",
       "    .dataframe thead tr:only-child th {\n",
       "        text-align: right;\n",
       "    }\n",
       "\n",
       "    .dataframe thead th {\n",
       "        text-align: left;\n",
       "    }\n",
       "\n",
       "    .dataframe tbody tr th {\n",
       "        vertical-align: top;\n",
       "    }\n",
       "</style>\n",
       "<table border=\"1\" class=\"dataframe\">\n",
       "  <thead>\n",
       "    <tr style=\"text-align: right;\">\n",
       "      <th>Version</th>\n",
       "      <th>Version 51</th>\n",
       "      <th>Version 99</th>\n",
       "      <th>All</th>\n",
       "    </tr>\n",
       "    <tr>\n",
       "      <th>Current_User_Comparison</th>\n",
       "      <th></th>\n",
       "      <th></th>\n",
       "      <th></th>\n",
       "    </tr>\n",
       "  </thead>\n",
       "  <tbody>\n",
       "    <tr>\n",
       "      <th>I am not a XNootropic user</th>\n",
       "      <td>33</td>\n",
       "      <td>37</td>\n",
       "      <td>70</td>\n",
       "    </tr>\n",
       "    <tr>\n",
       "      <th>This is about the same as XNootropic</th>\n",
       "      <td>30</td>\n",
       "      <td>31</td>\n",
       "      <td>61</td>\n",
       "    </tr>\n",
       "    <tr>\n",
       "      <th>This is better than XNootropic</th>\n",
       "      <td>42</td>\n",
       "      <td>25</td>\n",
       "      <td>67</td>\n",
       "    </tr>\n",
       "    <tr>\n",
       "      <th>This is less good than XNootropic</th>\n",
       "      <td>24</td>\n",
       "      <td>7</td>\n",
       "      <td>31</td>\n",
       "    </tr>\n",
       "    <tr>\n",
       "      <th>All</th>\n",
       "      <td>129</td>\n",
       "      <td>100</td>\n",
       "      <td>229</td>\n",
       "    </tr>\n",
       "  </tbody>\n",
       "</table>\n",
       "</div>"
      ],
      "text/plain": [
       "Version                               Version 51  Version 99  All\n",
       "Current_User_Comparison                                          \n",
       "I am not a XNootropic user                    33          37   70\n",
       "This is about the same as XNootropic          30          31   61\n",
       "This is better than XNootropic                42          25   67\n",
       "This is less good than XNootropic             24           7   31\n",
       "All                                          129         100  229"
      ]
     },
     "execution_count": 476,
     "metadata": {},
     "output_type": "execute_result"
    }
   ],
   "source": [
    "CUC99 = df_99[['Current_User_Comparison','Overall_Exp_Rating', 'Version', 'Version_Duration']]\n",
    "CUC51 = df_51[['Current_User_Comparison','Overall_Exp_Rating', 'Version', 'Version_Duration']]\n",
    "CUC_df = pd.concat([CUC99, CUC51])\n",
    "pd.crosstab(index=CUC_df['Current_User_Comparison'], columns=CUC_df.Version, margins=True)\n"
   ]
  },
  {
   "cell_type": "code",
   "execution_count": 477,
   "metadata": {},
   "outputs": [
    {
     "name": "stdout",
     "output_type": "stream",
     "text": [
      "z: 1.3148276119505742\n",
      "p-value: 0.0942839226731369\n",
      "CI: (-0.038885848187334746, 0.19376956911756732)\n",
      "proportion difference: 0.07744186046511628\n",
      "p1: 0.31\n",
      "p2: 0.23255813953488372\n"
     ]
    }
   ],
   "source": [
    "twoporZtest(31, 30, 100, 129) #this is about the same"
   ]
  },
  {
   "cell_type": "code",
   "execution_count": 478,
   "metadata": {},
   "outputs": [
    {
     "name": "stdout",
     "output_type": "stream",
     "text": [
      "z: -1.2469027796773762\n",
      "p-value: 0.10621657370311366\n",
      "CI: (-0.19280768623251576, 0.041644895534841311)\n",
      "proportion difference: -0.07558139534883723\n",
      "p1: 0.25\n",
      "p2: 0.32558139534883723\n"
     ]
    }
   ],
   "source": [
    "#this is better\n",
    "twoporZtest(25, 42, 100, 129)"
   ]
  },
  {
   "cell_type": "code",
   "execution_count": 479,
   "metadata": {},
   "outputs": [
    {
     "name": "stdout",
     "output_type": "stream",
     "text": [
      "z: -2.545840811990483\n",
      "p-value: 0.005450744465765644\n",
      "CI: (-0.19977547334715101, -0.032317549908662938)\n",
      "proportion difference: -0.11604651162790697\n",
      "p1: 0.07\n",
      "p2: 0.18604651162790697\n"
     ]
    }
   ],
   "source": [
    "#this is less than good\n",
    "twoporZtest(7,24, 100, 129) # only statistically significant "
   ]
  },
  {
   "cell_type": "code",
   "execution_count": 480,
   "metadata": {},
   "outputs": [
    {
     "name": "stdout",
     "output_type": "stream",
     "text": [
      "h = 0.356408652264551\n"
     ]
    }
   ],
   "source": [
    "cohensH(0.07, 0.186046511628)"
   ]
  },
  {
   "cell_type": "code",
   "execution_count": 612,
   "metadata": {},
   "outputs": [
    {
     "data": {
      "text/plain": [
       "5"
      ]
     },
     "execution_count": 612,
     "metadata": {},
     "output_type": "execute_result"
    }
   ],
   "source": [
    "5"
   ]
  },
  {
   "cell_type": "code",
   "execution_count": null,
   "metadata": {
    "collapsed": true
   },
   "outputs": [],
   "source": []
  }
 ],
 "metadata": {
  "anaconda-cloud": {},
  "kernelspec": {
   "display_name": "Python 3",
   "language": "python",
   "name": "python3"
  },
  "language_info": {
   "codemirror_mode": {
    "name": "ipython",
    "version": 3
   },
   "file_extension": ".py",
   "mimetype": "text/x-python",
   "name": "python",
   "nbconvert_exporter": "python",
   "pygments_lexer": "ipython3",
   "version": "3.6.3"
  }
 },
 "nbformat": 4,
 "nbformat_minor": 1
}

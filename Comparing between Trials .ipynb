{
 "cells": [
  {
   "cell_type": "code",
   "execution_count": 217,
   "metadata": {
    "collapsed": true
   },
   "outputs": [],
   "source": [
    "import pandas as pd\n",
    "import numpy as np\n",
    "import matplotlib.pyplot as plt\n",
    "%matplotlib inline\n",
    "import seaborn as sns\n",
    "sns.set()\n",
    "sns.set_style('whitegrid')\n",
    "sns.set_context('notebook')\n",
    "sns.set_palette('husl')\n",
    "plt.style.context('ggplot')\n",
    "\n",
    "\n",
    "from scipy import stats\n",
    "import statsmodels.api as sm\n",
    "\n",
    "from __future__ import division\n",
    "import math"
   ]
  },
  {
   "cell_type": "code",
   "execution_count": null,
   "metadata": {
    "collapsed": false
   },
   "outputs": [],
   "source": []
  },
  {
   "cell_type": "code",
   "execution_count": null,
   "metadata": {
    "collapsed": false
   },
   "outputs": [],
   "source": []
  },
  {
   "cell_type": "code",
   "execution_count": 218,
   "metadata": {
    "collapsed": true
   },
   "outputs": [],
   "source": [
    "df_99 = pd.read_csv('Trial_99_Cleaned')\n",
    "df_51 = pd.read_csv('Trial_051_Cleaned')"
   ]
  },
  {
   "cell_type": "code",
   "execution_count": 493,
   "metadata": {
    "collapsed": false
   },
   "outputs": [],
   "source": [
    "def cohensH (p1, p2):\n",
    "    \"\"\"calculates Cohen's h where it measures the distance between two proportions \"\"\"\n",
    "    phi1 = 2 * np.arcsin(np.sqrt(p1))\n",
    "    phi2 = 2 * np.arcsin(np.sqrt(p2))\n",
    "    h = abs(phi1 - phi2)\n",
    "    print ('h = {}'.format(h))\n",
    "\n",
    "def Ucrit (N1, N2):\n",
    "    \"\"\"calculates the UCRIT for comparison after the Mann-Whitney U test \"\"\"\n",
    "    mean = 0.5 * N1 * N2\n",
    "    STD = np.sqrt(((N1 * N2) *((N1+N2) + 1))/12)\n",
    "    UCRIT = mean - (1.96 * STD) - 0.5\n",
    "    return UCRIT\n",
    "\n",
    "def cliffsdelta (U, n1, n2):\n",
    "    \"\"\"calculates Cliff's Delta which measures how valus in one distribution are larger than the other \"\"\"\n",
    "    M = len(n1)\n",
    "    N = len(n2)\n",
    "    cdelta = (2 * U) / (M*N)\n",
    "    print('Cliffs Delta = {}'.format(cdelta))\n",
    "\n",
    "def manntest (df1, df2):\n",
    "    \"\"\"Calculates the U-statistic and p-value. Also compares U with Ucrit to test for signifance.\"\"\"\n",
    "    U,p = stats.mannwhitneyu(df1, df2, alternative='two-sided')\n",
    "    print ('U = {}'.format(U))\n",
    "    \n",
    "    N1 = len(df1)\n",
    "    N2 = len(df2)\n",
    "    mean = 0.5 * N1 * N2\n",
    "    STD = np.sqrt(((N1 * N2) *((N1+N2) + 1))/12)\n",
    "    Z = (U-mean) / STD\n",
    "    p_val = stats.norm.sf(abs(Z))*2 \n",
    "    \n",
    "    print ('pval = {}'. format(p_val))\n",
    "    \n",
    "    UCRIT = Ucrit(len(df1), len(df2))\n",
    "    \n",
    "    if U <= UCRIT:\n",
    "        print ('Statistically Significant')\n",
    "    else:\n",
    "        print ('Not Statistically Significant')\n",
    "    \n",
    "    print ('UCRIT = {}'.format(UCRIT))"
   ]
  },
  {
   "cell_type": "code",
   "execution_count": 220,
   "metadata": {
    "collapsed": true
   },
   "outputs": [],
   "source": [
    "def permutation_sample(data1, data2):\n",
    "    \"\"\"Generate a permutation sample from two data sets.\"\"\"\n",
    "\n",
    "    # Concatenate the data sets: data\n",
    "    data = np.concatenate((data1,data2))\n",
    "\n",
    "    # Permute the concatenated array: permuted_data\n",
    "    permuted_data = np.random.permutation(data)\n",
    "\n",
    "    # Split the permuted array into two: perm_sample_1, perm_sample_2\n",
    "    perm_sample_1 = permuted_data[:len(data1)]\n",
    "    perm_sample_2 = permuted_data[len(data1):]\n",
    "\n",
    "    return perm_sample_1, perm_sample_2\n",
    "\n",
    "def draw_perm_reps(data_1, data_2, func, size=1):\n",
    "    \"\"\"Generate multiple permutation replicates.\"\"\"\n",
    "\n",
    "    # Initialize array of replicates: perm_replicates\n",
    "    perm_replicates = np.empty(size)\n",
    "\n",
    "    for i in range(size):\n",
    "        # Generate permutation sample\n",
    "        perm_sample_1, perm_sample_2 = permutation_sample(data_1,data_2)\n",
    "\n",
    "        # Compute the test statistic\n",
    "        perm_replicates[i] = func(perm_sample_1, perm_sample_2)\n",
    "\n",
    "    return perm_replicates\n",
    "\n",
    "def prop_diff (data1, data2):\n",
    "    \"\"\"calculates the difference in proportions\"\"\"\n",
    "    count_1 = len([values for values in data1 if values=='High'])\n",
    "\n",
    "    total_1 = len(data1)\n",
    "    \n",
    "    count_2 = len([values for values in data2 if values=='High'])\n",
    "    \n",
    "    total_2 = len(data2)\n",
    "    \n",
    "    p1 = count_1 / total_1\n",
    "    p2 = count_2 / total_2\n",
    "    \n",
    "    diff_prop = p1 - p2\n",
    "    \n",
    "    return diff_prop\n",
    "\n",
    "def get_verduration (df, time):\n",
    "    return df[df.Version_Duration==time]\n",
    "\n",
    "def get_crosstab (df):\n",
    "    return pd.crosstab(index=df['Overall_Exp_Rating'], columns=df['Version'], margins=True)"
   ]
  },
  {
   "cell_type": "code",
   "execution_count": 221,
   "metadata": {
    "collapsed": true
   },
   "outputs": [],
   "source": [
    "def twomeans (data1, data2, col1, col2):\n",
    "    diff_means = data1[col1].mean() - data2[col2].mean()\n",
    "    \n",
    "    s1 = data1[col1].std()\n",
    "    s2 = data2[col2].std()\n",
    "    \n",
    "    n1 = len(data1[col1])\n",
    "    n2 = len(data2[col2])\n",
    "    \n",
    "    SEM  = np.sqrt(((s1**2)/n1) + ((s2**2)/n2))\n",
    "    CI = diff_means - 1.96 * SEM, diff_means + 1.96 * SEM\n",
    "    \n",
    "    ttest = stats.ttest_ind(data1[col1], data2[col2])\n",
    "    mw = stats.mannwhitneyu(data1[col1], data2[col2])\n",
    "    \n",
    "    print ('Mean Difference = {}'.format(diff_means)) \n",
    "    print ('CI = {}'.format(CI))\n",
    "    print ('SEM = {}'.format(SEM))\n",
    "    \n",
    "    print ttest\n",
    "    print mw"
   ]
  },
  {
   "cell_type": "code",
   "execution_count": 222,
   "metadata": {
    "collapsed": true
   },
   "outputs": [],
   "source": [
    "def twoporZtest (x1,x2, n1, n2):\n",
    "    p1 = x1 / n1\n",
    "    p2 = x2 / n2\n",
    "    \n",
    "    p_hat = (x1 + x2) / (n1 + n2)\n",
    "    SEM = np.sqrt(p_hat* (1-p_hat) * ((1/n1) + (1/n2)))\n",
    "    z = (p1-p2) / SEM\n",
    "    p_val = stats.norm.sf(abs(z))\n",
    "    diff_prop = p1-p2\n",
    "    m = 1.96 * np.sqrt(  ((p1 * (1-p1))/n1)  +   ((p2 * (1-p2))/n2)    )\n",
    "    CI = (diff_prop - m), (diff_prop + m)\n",
    "    \n",
    "    print (\"z: {}\".format(z))\n",
    "    print (\"p-value: {}\".format(p_val))\n",
    "    print (\"CI: {}\".format(CI))\n",
    "    print (\"proportion difference: {}\".format(diff_prop))\n",
    "    print (\"p1: {}\".format(p1))\n",
    "    print (\"p2: {}\".format(p2))\n"
   ]
  },
  {
   "cell_type": "code",
   "execution_count": 223,
   "metadata": {
    "collapsed": true
   },
   "outputs": [],
   "source": [
    "def logodds(num1,num2,dem1,dem2):\n",
    "    ODDS  = (num1/num2) / (dem1/dem2)\n",
    "    logodds = np.log(ODDS)\n",
    "    print ('log odds ratio = {}'.format(logodds))\n",
    "    \n",
    "def conttable(crosstab):\n",
    "    \"\"\"creates a contingency table and tests for independence among the categorical variables, then returns the \n",
    "    pearson r residuals. Also returns the pvalue of the ordinal association between the two \"\"\"\n",
    "    table = sm.stats.Table(crosstab)\n",
    "    \n",
    "    print (\"Original Table\")\n",
    "    print (table.table_orig)\n",
    "    print (\"--------------\")\n",
    "    print (\"Fitted Values\")\n",
    "    print(table.fittedvalues)\n",
    "    print (\"--------------\")\n",
    "    print ('Pearon Residuals')\n",
    "    print(table.resid_pearson)\n",
    "    result = table.test_ordinal_association()\n",
    "    print (\"--------------\")\n",
    "    print (\"pvalue = {}\".format(result.pvalue))\n",
    "    \n",
    "    \n"
   ]
  },
  {
   "cell_type": "markdown",
   "metadata": {},
   "source": [
    "## Comparing Overall Experience Between the Two Trials\n",
    "\n",
    "\n",
    "\n",
    "$H_o$: The proportion of users from trial 51 is higher than trial 99"
   ]
  },
  {
   "cell_type": "code",
   "execution_count": null,
   "metadata": {
    "collapsed": true
   },
   "outputs": [],
   "source": []
  },
  {
   "cell_type": "code",
   "execution_count": 224,
   "metadata": {
    "collapsed": true
   },
   "outputs": [],
   "source": [
    "df_99['Version'] = 'Version 99'\n",
    "df_51['Version'] = 'Version 51'"
   ]
  },
  {
   "cell_type": "code",
   "execution_count": 225,
   "metadata": {
    "collapsed": false
   },
   "outputs": [
    {
     "data": {
      "text/html": [
       "<div>\n",
       "<table border=\"1\" class=\"dataframe\">\n",
       "  <thead>\n",
       "    <tr style=\"text-align: right;\">\n",
       "      <th>Overall_Experience</th>\n",
       "      <th>Awful</th>\n",
       "      <th>Excellent</th>\n",
       "      <th>Good</th>\n",
       "      <th>No effect</th>\n",
       "      <th>Not good</th>\n",
       "      <th>All</th>\n",
       "    </tr>\n",
       "    <tr>\n",
       "      <th>Version_Duration</th>\n",
       "      <th></th>\n",
       "      <th></th>\n",
       "      <th></th>\n",
       "      <th></th>\n",
       "      <th></th>\n",
       "      <th></th>\n",
       "    </tr>\n",
       "  </thead>\n",
       "  <tbody>\n",
       "    <tr>\n",
       "      <th>1 day</th>\n",
       "      <td>2</td>\n",
       "      <td>12</td>\n",
       "      <td>26</td>\n",
       "      <td>2</td>\n",
       "      <td>0</td>\n",
       "      <td>42</td>\n",
       "    </tr>\n",
       "    <tr>\n",
       "      <th>1 weeks</th>\n",
       "      <td>2</td>\n",
       "      <td>16</td>\n",
       "      <td>18</td>\n",
       "      <td>2</td>\n",
       "      <td>2</td>\n",
       "      <td>40</td>\n",
       "    </tr>\n",
       "    <tr>\n",
       "      <th>2 weeks</th>\n",
       "      <td>0</td>\n",
       "      <td>13</td>\n",
       "      <td>16</td>\n",
       "      <td>1</td>\n",
       "      <td>1</td>\n",
       "      <td>31</td>\n",
       "    </tr>\n",
       "    <tr>\n",
       "      <th>3 weeks</th>\n",
       "      <td>0</td>\n",
       "      <td>10</td>\n",
       "      <td>9</td>\n",
       "      <td>1</td>\n",
       "      <td>0</td>\n",
       "      <td>20</td>\n",
       "    </tr>\n",
       "    <tr>\n",
       "      <th>All</th>\n",
       "      <td>4</td>\n",
       "      <td>51</td>\n",
       "      <td>69</td>\n",
       "      <td>6</td>\n",
       "      <td>3</td>\n",
       "      <td>133</td>\n",
       "    </tr>\n",
       "  </tbody>\n",
       "</table>\n",
       "</div>"
      ],
      "text/plain": [
       "Overall_Experience  Awful  Excellent  Good  No effect  Not good  All\n",
       "Version_Duration                                                    \n",
       "1 day                   2         12    26          2         0   42\n",
       "1 weeks                 2         16    18          2         2   40\n",
       "2 weeks                 0         13    16          1         1   31\n",
       "3 weeks                 0         10     9          1         0   20\n",
       "All                     4         51    69          6         3  133"
      ]
     },
     "execution_count": 225,
     "metadata": {},
     "output_type": "execute_result"
    }
   ],
   "source": [
    "# Version 51\n",
    "pd.crosstab(index=df_51['Version_Duration'], columns=df_51['Overall_Experience'], margins=True)"
   ]
  },
  {
   "cell_type": "code",
   "execution_count": 226,
   "metadata": {
    "collapsed": false
   },
   "outputs": [
    {
     "data": {
      "text/html": [
       "<div>\n",
       "<table border=\"1\" class=\"dataframe\">\n",
       "  <thead>\n",
       "    <tr style=\"text-align: right;\">\n",
       "      <th>Overall_Experience</th>\n",
       "      <th>Awful</th>\n",
       "      <th>Excellent</th>\n",
       "      <th>Good</th>\n",
       "      <th>No effect</th>\n",
       "      <th>Not good</th>\n",
       "      <th>All</th>\n",
       "    </tr>\n",
       "    <tr>\n",
       "      <th>Version_Duration</th>\n",
       "      <th></th>\n",
       "      <th></th>\n",
       "      <th></th>\n",
       "      <th></th>\n",
       "      <th></th>\n",
       "      <th></th>\n",
       "    </tr>\n",
       "  </thead>\n",
       "  <tbody>\n",
       "    <tr>\n",
       "      <th>1 day</th>\n",
       "      <td>0</td>\n",
       "      <td>9</td>\n",
       "      <td>29</td>\n",
       "      <td>1</td>\n",
       "      <td>0</td>\n",
       "      <td>39</td>\n",
       "    </tr>\n",
       "    <tr>\n",
       "      <th>1 weeks</th>\n",
       "      <td>1</td>\n",
       "      <td>9</td>\n",
       "      <td>16</td>\n",
       "      <td>1</td>\n",
       "      <td>3</td>\n",
       "      <td>30</td>\n",
       "    </tr>\n",
       "    <tr>\n",
       "      <th>2 weeks</th>\n",
       "      <td>0</td>\n",
       "      <td>7</td>\n",
       "      <td>11</td>\n",
       "      <td>1</td>\n",
       "      <td>1</td>\n",
       "      <td>20</td>\n",
       "    </tr>\n",
       "    <tr>\n",
       "      <th>3 weeks</th>\n",
       "      <td>0</td>\n",
       "      <td>3</td>\n",
       "      <td>8</td>\n",
       "      <td>2</td>\n",
       "      <td>0</td>\n",
       "      <td>13</td>\n",
       "    </tr>\n",
       "    <tr>\n",
       "      <th>All</th>\n",
       "      <td>1</td>\n",
       "      <td>28</td>\n",
       "      <td>64</td>\n",
       "      <td>5</td>\n",
       "      <td>4</td>\n",
       "      <td>102</td>\n",
       "    </tr>\n",
       "  </tbody>\n",
       "</table>\n",
       "</div>"
      ],
      "text/plain": [
       "Overall_Experience  Awful  Excellent  Good  No effect  Not good  All\n",
       "Version_Duration                                                    \n",
       "1 day                   0          9    29          1         0   39\n",
       "1 weeks                 1          9    16          1         3   30\n",
       "2 weeks                 0          7    11          1         1   20\n",
       "3 weeks                 0          3     8          2         0   13\n",
       "All                     1         28    64          5         4  102"
      ]
     },
     "execution_count": 226,
     "metadata": {},
     "output_type": "execute_result"
    }
   ],
   "source": [
    "#trial 99\n",
    "pd.crosstab(index=df_99['Version_Duration'], columns=df_99['Overall_Experience'], margins=True)"
   ]
  },
  {
   "cell_type": "code",
   "execution_count": 227,
   "metadata": {
    "collapsed": false
   },
   "outputs": [],
   "source": [
    "t99 = df_99[['Overall_Experience','Version_Duration']]\n",
    "t51 = df_51[['Overall_Experience', 'Version_Duration']]"
   ]
  },
  {
   "cell_type": "code",
   "execution_count": 228,
   "metadata": {
    "collapsed": false
   },
   "outputs": [],
   "source": [
    "ver_51 = pd.DataFrame(t51)"
   ]
  },
  {
   "cell_type": "code",
   "execution_count": 229,
   "metadata": {
    "collapsed": false
   },
   "outputs": [],
   "source": [
    "ver_51['Version'] = 'Version 51'"
   ]
  },
  {
   "cell_type": "code",
   "execution_count": 230,
   "metadata": {
    "collapsed": false
   },
   "outputs": [],
   "source": [
    "ver_99 = pd.DataFrame(t99)\n",
    "ver_99['Version'] = 'Version 99'"
   ]
  },
  {
   "cell_type": "code",
   "execution_count": 231,
   "metadata": {
    "collapsed": false
   },
   "outputs": [],
   "source": [
    "a = pd.concat([ver_51, ver_99])"
   ]
  },
  {
   "cell_type": "code",
   "execution_count": 232,
   "metadata": {
    "collapsed": false
   },
   "outputs": [
    {
     "data": {
      "text/html": [
       "<div>\n",
       "<table border=\"1\" class=\"dataframe\">\n",
       "  <thead>\n",
       "    <tr>\n",
       "      <th>Version</th>\n",
       "      <th colspan=\"5\" halign=\"left\">Version 51</th>\n",
       "      <th colspan=\"5\" halign=\"left\">Version 99</th>\n",
       "      <th>All</th>\n",
       "    </tr>\n",
       "    <tr>\n",
       "      <th>Overall_Experience</th>\n",
       "      <th>Awful</th>\n",
       "      <th>Excellent</th>\n",
       "      <th>Good</th>\n",
       "      <th>No effect</th>\n",
       "      <th>Not good</th>\n",
       "      <th>Awful</th>\n",
       "      <th>Excellent</th>\n",
       "      <th>Good</th>\n",
       "      <th>No effect</th>\n",
       "      <th>Not good</th>\n",
       "      <th></th>\n",
       "    </tr>\n",
       "    <tr>\n",
       "      <th>Version_Duration</th>\n",
       "      <th></th>\n",
       "      <th></th>\n",
       "      <th></th>\n",
       "      <th></th>\n",
       "      <th></th>\n",
       "      <th></th>\n",
       "      <th></th>\n",
       "      <th></th>\n",
       "      <th></th>\n",
       "      <th></th>\n",
       "      <th></th>\n",
       "    </tr>\n",
       "  </thead>\n",
       "  <tbody>\n",
       "    <tr>\n",
       "      <th>1 day</th>\n",
       "      <td>2</td>\n",
       "      <td>12</td>\n",
       "      <td>26</td>\n",
       "      <td>2</td>\n",
       "      <td>0</td>\n",
       "      <td>0</td>\n",
       "      <td>9</td>\n",
       "      <td>29</td>\n",
       "      <td>1</td>\n",
       "      <td>0</td>\n",
       "      <td>81</td>\n",
       "    </tr>\n",
       "    <tr>\n",
       "      <th>1 weeks</th>\n",
       "      <td>2</td>\n",
       "      <td>16</td>\n",
       "      <td>18</td>\n",
       "      <td>2</td>\n",
       "      <td>2</td>\n",
       "      <td>1</td>\n",
       "      <td>9</td>\n",
       "      <td>16</td>\n",
       "      <td>1</td>\n",
       "      <td>3</td>\n",
       "      <td>70</td>\n",
       "    </tr>\n",
       "    <tr>\n",
       "      <th>2 weeks</th>\n",
       "      <td>0</td>\n",
       "      <td>13</td>\n",
       "      <td>16</td>\n",
       "      <td>1</td>\n",
       "      <td>1</td>\n",
       "      <td>0</td>\n",
       "      <td>7</td>\n",
       "      <td>11</td>\n",
       "      <td>1</td>\n",
       "      <td>1</td>\n",
       "      <td>51</td>\n",
       "    </tr>\n",
       "    <tr>\n",
       "      <th>3 weeks</th>\n",
       "      <td>0</td>\n",
       "      <td>10</td>\n",
       "      <td>9</td>\n",
       "      <td>1</td>\n",
       "      <td>0</td>\n",
       "      <td>0</td>\n",
       "      <td>3</td>\n",
       "      <td>8</td>\n",
       "      <td>2</td>\n",
       "      <td>0</td>\n",
       "      <td>33</td>\n",
       "    </tr>\n",
       "    <tr>\n",
       "      <th>All</th>\n",
       "      <td>4</td>\n",
       "      <td>51</td>\n",
       "      <td>69</td>\n",
       "      <td>6</td>\n",
       "      <td>3</td>\n",
       "      <td>1</td>\n",
       "      <td>28</td>\n",
       "      <td>64</td>\n",
       "      <td>5</td>\n",
       "      <td>4</td>\n",
       "      <td>235</td>\n",
       "    </tr>\n",
       "  </tbody>\n",
       "</table>\n",
       "</div>"
      ],
      "text/plain": [
       "Version            Version 51                                   Version 99  \\\n",
       "Overall_Experience      Awful Excellent Good No effect Not good      Awful   \n",
       "Version_Duration                                                             \n",
       "1 day                       2        12   26         2        0          0   \n",
       "1 weeks                     2        16   18         2        2          1   \n",
       "2 weeks                     0        13   16         1        1          0   \n",
       "3 weeks                     0        10    9         1        0          0   \n",
       "All                         4        51   69         6        3          1   \n",
       "\n",
       "Version                                               All  \n",
       "Overall_Experience Excellent Good No effect Not good       \n",
       "Version_Duration                                           \n",
       "1 day                      9   29         1        0   81  \n",
       "1 weeks                    9   16         1        3   70  \n",
       "2 weeks                    7   11         1        1   51  \n",
       "3 weeks                    3    8         2        0   33  \n",
       "All                       28   64         5        4  235  "
      ]
     },
     "execution_count": 232,
     "metadata": {},
     "output_type": "execute_result"
    }
   ],
   "source": [
    "pd.crosstab( index=a['Version_Duration'], columns=[a['Version'],a['Overall_Experience']], margins=True)"
   ]
  },
  {
   "cell_type": "code",
   "execution_count": 233,
   "metadata": {
    "collapsed": true
   },
   "outputs": [],
   "source": [
    "#mapping the Overall experience column by binary values of high or low rating given. \n",
    "rating = {'Excellent': 'High',\n",
    "          'Good':'High',\n",
    "          'No effect': 'Low',\n",
    "          'Not good':'Low',\n",
    "          'Awful': \"Low\"}"
   ]
  },
  {
   "cell_type": "markdown",
   "metadata": {},
   "source": [
    "### Testing to see which trial version of users tend to give a higher or lower overall experience score\n",
    "\n",
    "$\\hat{p}_{1}$ = The proportion of Trial 99 Users that gave the Nootropic a high overall experience rating\n",
    "\n",
    "$\\hat{p}_{2}$ = The proportion of Trial 51 Users that gave the Nootropic a high overall experience rating\n",
    "\n",
    "\n",
    "$H_o$: $\\hat{p}_{1}$ = $\\hat{p}_{2}$\n",
    "\n",
    "$H_A$: $\\hat{p}_{1}$ < $\\hat{p}_{2}$\n",
    "\n",
    "The overall experience between both trials were separated into its four survey collection periods at day 1, week 1, week 2, and week 3 making the samples within the two trial versions independent. Since the data is ordinal, the data was divided into binary variables where the \"Excellent\" and \"Good\" responses are considered to be a \"High\" rating. \"No effect\", \"Not good\", and \"Awful\" is categorizd as a \"Low\" rating for the user's overall experience. Proportions of high ratings across the four version durations were calculated and compared between the two trial versions using a difference in proportions to determine which one has higher ratings. \n",
    "\n",
    "\n",
    "### Day 1: \n",
    "97.43% of Trial 99 users (out of 39 ratings) gave the nootropic a high rating after using the drug for on day. 90.47% of Trial 51 users rated the version high. Because both of the samples have fewer number of failures following the CLT condition does not meet, the samples have to be simulated. Under the Randomization test, a total of 81 \"cards\" was divided up into 76 \"high\"s and 5 \"lows\". The 81 \"cards\" was then randomized and shuffled into the two trial groups consisting of size 39 for Trial 99 and size 42 for Trial 51. The observed proportion difference is 0.0695. From the simulated replicates, a p-value of 0.3579 was calcuated. Because the p-value is less than 0.05, the null hypothesis is not rejected and can conclude there is no statistical difference between the proportion of high overall experience ratings of the two trial versions on day 1. "
   ]
  },
  {
   "cell_type": "code",
   "execution_count": 234,
   "metadata": {
    "collapsed": false
   },
   "outputs": [],
   "source": [
    "df_99['Overall_Exp_Rating']= df_99['Overall_Experience'].map(rating)"
   ]
  },
  {
   "cell_type": "code",
   "execution_count": 235,
   "metadata": {
    "collapsed": true
   },
   "outputs": [],
   "source": [
    "df_51['Overall_Exp_Rating'] = df_51['Overall_Experience'].map(rating)"
   ]
  },
  {
   "cell_type": "code",
   "execution_count": 236,
   "metadata": {
    "collapsed": false
   },
   "outputs": [
    {
     "data": {
      "text/html": [
       "<div>\n",
       "<table border=\"1\" class=\"dataframe\">\n",
       "  <thead>\n",
       "    <tr style=\"text-align: right;\">\n",
       "      <th>Overall_Exp_Rating</th>\n",
       "      <th>High</th>\n",
       "      <th>Low</th>\n",
       "      <th>All</th>\n",
       "    </tr>\n",
       "    <tr>\n",
       "      <th>Version_Duration</th>\n",
       "      <th></th>\n",
       "      <th></th>\n",
       "      <th></th>\n",
       "    </tr>\n",
       "  </thead>\n",
       "  <tbody>\n",
       "    <tr>\n",
       "      <th>1 day</th>\n",
       "      <td>38</td>\n",
       "      <td>4</td>\n",
       "      <td>42</td>\n",
       "    </tr>\n",
       "    <tr>\n",
       "      <th>1 weeks</th>\n",
       "      <td>34</td>\n",
       "      <td>6</td>\n",
       "      <td>40</td>\n",
       "    </tr>\n",
       "    <tr>\n",
       "      <th>2 weeks</th>\n",
       "      <td>29</td>\n",
       "      <td>2</td>\n",
       "      <td>31</td>\n",
       "    </tr>\n",
       "    <tr>\n",
       "      <th>3 weeks</th>\n",
       "      <td>19</td>\n",
       "      <td>1</td>\n",
       "      <td>20</td>\n",
       "    </tr>\n",
       "    <tr>\n",
       "      <th>All</th>\n",
       "      <td>120</td>\n",
       "      <td>13</td>\n",
       "      <td>133</td>\n",
       "    </tr>\n",
       "  </tbody>\n",
       "</table>\n",
       "</div>"
      ],
      "text/plain": [
       "Overall_Exp_Rating  High  Low  All\n",
       "Version_Duration                  \n",
       "1 day                 38    4   42\n",
       "1 weeks               34    6   40\n",
       "2 weeks               29    2   31\n",
       "3 weeks               19    1   20\n",
       "All                  120   13  133"
      ]
     },
     "execution_count": 236,
     "metadata": {},
     "output_type": "execute_result"
    }
   ],
   "source": [
    "#version 51\n",
    "pd.crosstab(index=df_51['Version_Duration'], columns=df_51['Overall_Exp_Rating'], margins=True)"
   ]
  },
  {
   "cell_type": "code",
   "execution_count": 237,
   "metadata": {
    "collapsed": false
   },
   "outputs": [
    {
     "data": {
      "text/html": [
       "<div>\n",
       "<table border=\"1\" class=\"dataframe\">\n",
       "  <thead>\n",
       "    <tr style=\"text-align: right;\">\n",
       "      <th>Overall_Exp_Rating</th>\n",
       "      <th>High</th>\n",
       "      <th>Low</th>\n",
       "      <th>All</th>\n",
       "    </tr>\n",
       "    <tr>\n",
       "      <th>Version_Duration</th>\n",
       "      <th></th>\n",
       "      <th></th>\n",
       "      <th></th>\n",
       "    </tr>\n",
       "  </thead>\n",
       "  <tbody>\n",
       "    <tr>\n",
       "      <th>1 day</th>\n",
       "      <td>38</td>\n",
       "      <td>1</td>\n",
       "      <td>39</td>\n",
       "    </tr>\n",
       "    <tr>\n",
       "      <th>1 weeks</th>\n",
       "      <td>25</td>\n",
       "      <td>5</td>\n",
       "      <td>30</td>\n",
       "    </tr>\n",
       "    <tr>\n",
       "      <th>2 weeks</th>\n",
       "      <td>18</td>\n",
       "      <td>2</td>\n",
       "      <td>20</td>\n",
       "    </tr>\n",
       "    <tr>\n",
       "      <th>3 weeks</th>\n",
       "      <td>11</td>\n",
       "      <td>2</td>\n",
       "      <td>13</td>\n",
       "    </tr>\n",
       "    <tr>\n",
       "      <th>All</th>\n",
       "      <td>92</td>\n",
       "      <td>10</td>\n",
       "      <td>102</td>\n",
       "    </tr>\n",
       "  </tbody>\n",
       "</table>\n",
       "</div>"
      ],
      "text/plain": [
       "Overall_Exp_Rating  High  Low  All\n",
       "Version_Duration                  \n",
       "1 day                 38    1   39\n",
       "1 weeks               25    5   30\n",
       "2 weeks               18    2   20\n",
       "3 weeks               11    2   13\n",
       "All                   92   10  102"
      ]
     },
     "execution_count": 237,
     "metadata": {},
     "output_type": "execute_result"
    }
   ],
   "source": [
    "#version 99\n",
    "pd.crosstab(index=df_99['Version_Duration'], columns=df_99['Overall_Exp_Rating'], margins=True)"
   ]
  },
  {
   "cell_type": "code",
   "execution_count": 238,
   "metadata": {
    "collapsed": true
   },
   "outputs": [],
   "source": [
    "a['Overall_Exp_Rating']= a['Overall_Experience'].map(rating)"
   ]
  },
  {
   "cell_type": "code",
   "execution_count": 239,
   "metadata": {
    "collapsed": false
   },
   "outputs": [
    {
     "data": {
      "text/html": [
       "<div>\n",
       "<table border=\"1\" class=\"dataframe\">\n",
       "  <thead>\n",
       "    <tr style=\"text-align: right;\">\n",
       "      <th>Version</th>\n",
       "      <th>Version 51</th>\n",
       "      <th>Version 99</th>\n",
       "      <th>All</th>\n",
       "    </tr>\n",
       "    <tr>\n",
       "      <th>Overall_Exp_Rating</th>\n",
       "      <th></th>\n",
       "      <th></th>\n",
       "      <th></th>\n",
       "    </tr>\n",
       "  </thead>\n",
       "  <tbody>\n",
       "    <tr>\n",
       "      <th>High</th>\n",
       "      <td>38</td>\n",
       "      <td>38</td>\n",
       "      <td>76</td>\n",
       "    </tr>\n",
       "    <tr>\n",
       "      <th>Low</th>\n",
       "      <td>4</td>\n",
       "      <td>1</td>\n",
       "      <td>5</td>\n",
       "    </tr>\n",
       "    <tr>\n",
       "      <th>All</th>\n",
       "      <td>42</td>\n",
       "      <td>39</td>\n",
       "      <td>81</td>\n",
       "    </tr>\n",
       "  </tbody>\n",
       "</table>\n",
       "</div>"
      ],
      "text/plain": [
       "Version             Version 51  Version 99  All\n",
       "Overall_Exp_Rating                             \n",
       "High                        38          38   76\n",
       "Low                          4           1    5\n",
       "All                         42          39   81"
      ]
     },
     "execution_count": 239,
     "metadata": {},
     "output_type": "execute_result"
    }
   ],
   "source": [
    "day_1 = a[a.Version_Duration=='1 day']\n",
    "pd.crosstab(index=day_1['Overall_Exp_Rating'], columns=day_1['Version'], margins=True)"
   ]
  },
  {
   "cell_type": "code",
   "execution_count": 240,
   "metadata": {
    "collapsed": false
   },
   "outputs": [
    {
     "data": {
      "text/html": [
       "<div>\n",
       "<table border=\"1\" class=\"dataframe\">\n",
       "  <thead>\n",
       "    <tr style=\"text-align: right;\">\n",
       "      <th>Version</th>\n",
       "      <th>Version 51</th>\n",
       "      <th>Version 99</th>\n",
       "    </tr>\n",
       "    <tr>\n",
       "      <th>Overall_Exp_Rating</th>\n",
       "      <th></th>\n",
       "      <th></th>\n",
       "    </tr>\n",
       "  </thead>\n",
       "  <tbody>\n",
       "    <tr>\n",
       "      <th>High</th>\n",
       "      <td>0.904762</td>\n",
       "      <td>0.974359</td>\n",
       "    </tr>\n",
       "    <tr>\n",
       "      <th>Low</th>\n",
       "      <td>0.095238</td>\n",
       "      <td>0.025641</td>\n",
       "    </tr>\n",
       "  </tbody>\n",
       "</table>\n",
       "</div>"
      ],
      "text/plain": [
       "Version             Version 51  Version 99\n",
       "Overall_Exp_Rating                        \n",
       "High                  0.904762    0.974359\n",
       "Low                   0.095238    0.025641"
      ]
     },
     "execution_count": 240,
     "metadata": {},
     "output_type": "execute_result"
    }
   ],
   "source": [
    "pd.crosstab(index=day_1['Overall_Exp_Rating'], columns=day_1['Version']).apply(lambda x: x/x.sum(), axis=0)"
   ]
  },
  {
   "cell_type": "code",
   "execution_count": 241,
   "metadata": {
    "collapsed": false
   },
   "outputs": [],
   "source": [
    "permuted_data = np.random.permutation(day_1['Overall_Exp_Rating'])"
   ]
  },
  {
   "cell_type": "code",
   "execution_count": 242,
   "metadata": {
    "collapsed": false
   },
   "outputs": [
    {
     "data": {
      "text/plain": [
       "(array(['High', 'Low'], dtype=object), array([76,  5]))"
      ]
     },
     "execution_count": 242,
     "metadata": {},
     "output_type": "execute_result"
    }
   ],
   "source": [
    "np.unique((np.random.permutation(day_1['Overall_Exp_Rating'])), return_counts=True)"
   ]
  },
  {
   "cell_type": "code",
   "execution_count": null,
   "metadata": {
    "collapsed": true
   },
   "outputs": [],
   "source": []
  },
  {
   "cell_type": "code",
   "execution_count": 243,
   "metadata": {
    "collapsed": false
   },
   "outputs": [
    {
     "data": {
      "text/plain": [
       "39"
      ]
     },
     "execution_count": 243,
     "metadata": {},
     "output_type": "execute_result"
    }
   ],
   "source": [
    "len(permuted_data[:len(day_1[day_1.Version=='Version 99'][['Version']])]) #version 99, group 1"
   ]
  },
  {
   "cell_type": "code",
   "execution_count": 244,
   "metadata": {
    "collapsed": false
   },
   "outputs": [
    {
     "data": {
      "text/plain": [
       "42"
      ]
     },
     "execution_count": 244,
     "metadata": {},
     "output_type": "execute_result"
    }
   ],
   "source": [
    "len(permuted_data[len(day_1[day_1.Version=='Version 99'][['Version']]):]) #version 51, group 2"
   ]
  },
  {
   "cell_type": "code",
   "execution_count": null,
   "metadata": {
    "collapsed": true
   },
   "outputs": [],
   "source": []
  },
  {
   "cell_type": "code",
   "execution_count": 245,
   "metadata": {
    "collapsed": true
   },
   "outputs": [],
   "source": [
    "d99 = df_99[df_99.Version_Duration=='1 day']['Overall_Exp_Rating']\n",
    "d51 = df_51[df_51.Version_Duration=='1 day']['Overall_Exp_Rating']"
   ]
  },
  {
   "cell_type": "code",
   "execution_count": 246,
   "metadata": {
    "collapsed": false
   },
   "outputs": [
    {
     "data": {
      "text/plain": [
       "(array(['High', 'High', 'High', 'High', 'High', 'High', 'Low', 'Low',\n",
       "        'High', 'High', 'High', 'High', 'High', 'High', 'High', 'High',\n",
       "        'High', 'High', 'High', 'Low', 'High', 'High', 'High', 'Low',\n",
       "        'High', 'High', 'High', 'High', 'High', 'High', 'High', 'High',\n",
       "        'High', 'High', 'High', 'High', 'High', 'High', 'High'], dtype=object),\n",
       " array(['High', 'High', 'High', 'High', 'High', 'High', 'High', 'High',\n",
       "        'High', 'High', 'Low', 'High', 'High', 'High', 'High', 'High',\n",
       "        'High', 'High', 'High', 'High', 'High', 'High', 'High', 'High',\n",
       "        'High', 'High', 'High', 'High', 'High', 'High', 'High', 'High',\n",
       "        'High', 'High', 'High', 'High', 'High', 'High', 'High', 'High',\n",
       "        'High', 'High'], dtype=object))"
      ]
     },
     "execution_count": 246,
     "metadata": {},
     "output_type": "execute_result"
    }
   ],
   "source": [
    "permutation_sample(d99, d51)"
   ]
  },
  {
   "cell_type": "code",
   "execution_count": null,
   "metadata": {
    "collapsed": true
   },
   "outputs": [],
   "source": []
  },
  {
   "cell_type": "code",
   "execution_count": null,
   "metadata": {
    "collapsed": false
   },
   "outputs": [],
   "source": []
  },
  {
   "cell_type": "code",
   "execution_count": 247,
   "metadata": {
    "collapsed": false
   },
   "outputs": [
    {
     "data": {
      "text/plain": [
       "0.06959706959706957"
      ]
     },
     "execution_count": 247,
     "metadata": {},
     "output_type": "execute_result"
    }
   ],
   "source": [
    "obs = prop_diff(d99, d51)\n",
    "obs\n",
    "# original data "
   ]
  },
  {
   "cell_type": "code",
   "execution_count": 248,
   "metadata": {
    "collapsed": false
   },
   "outputs": [],
   "source": [
    "reps = draw_perm_reps(d99, d51, prop_diff, size=1000)"
   ]
  },
  {
   "cell_type": "code",
   "execution_count": 249,
   "metadata": {
    "collapsed": false
   },
   "outputs": [
    {
     "data": {
      "text/plain": [
       "<matplotlib.text.Text at 0x11f7cb810>"
      ]
     },
     "execution_count": 249,
     "metadata": {},
     "output_type": "execute_result"
    },
    {
     "data": {
      "image/png": "[encoded data removed]",
      "text/plain": [
       "<matplotlib.figure.Figure at 0x11f7742d0>"
      ]
     },
     "metadata": {},
     "output_type": "display_data"
    }
   ],
   "source": [
    "plt.hist(reps)\n",
    "\n",
    "l = plt.axvline(obs,color='b', linewidth=2)\n",
    "#ll = plt.axvline(-obs,color='b', linewidth=2)\n",
    "plt.legend([l],['observed = {0:f}'.format(obs)], loc=2)\n",
    "\n",
    "plt.title('Simulated Data for Day 1')\n"
   ]
  },
  {
   "cell_type": "code",
   "execution_count": 250,
   "metadata": {
    "collapsed": false
   },
   "outputs": [
    {
     "data": {
      "text/plain": [
       "0.17899999999999999"
      ]
     },
     "execution_count": 250,
     "metadata": {},
     "output_type": "execute_result"
    }
   ],
   "source": [
    "p = np.sum((reps) >= obs) / len(reps)\n",
    "p"
   ]
  },
  {
   "cell_type": "code",
   "execution_count": 251,
   "metadata": {
    "collapsed": false
   },
   "outputs": [
    {
     "data": {
      "text/plain": [
       "array([-0.12820513,  0.11904762])"
      ]
     },
     "execution_count": 251,
     "metadata": {},
     "output_type": "execute_result"
    }
   ],
   "source": [
    "np.percentile(reps, [2.5, 97.5])"
   ]
  },
  {
   "cell_type": "code",
   "execution_count": null,
   "metadata": {
    "collapsed": true
   },
   "outputs": [],
   "source": []
  },
  {
   "cell_type": "code",
   "execution_count": 252,
   "metadata": {
    "collapsed": false
   },
   "outputs": [],
   "source": [
    "df_overall_exp = pd.concat([t99,t51])\n",
    "df_overall_exp['Overall_Exp_Rating'] = df_overall_exp['Overall_Experience'].map(rating)"
   ]
  },
  {
   "cell_type": "code",
   "execution_count": 253,
   "metadata": {
    "collapsed": false
   },
   "outputs": [],
   "source": [
    "#week 1\n",
    "\n",
    "d99_week1 = df_99[df_99.Version_Duration=='1 weeks']['Overall_Exp_Rating']\n",
    "d51_week1 = df_51[df_51.Version_Duration=='1 weeks']['Overall_Exp_Rating']\n"
   ]
  },
  {
   "cell_type": "code",
   "execution_count": 254,
   "metadata": {
    "collapsed": false
   },
   "outputs": [
    {
     "data": {
      "text/html": [
       "<div>\n",
       "<table border=\"1\" class=\"dataframe\">\n",
       "  <thead>\n",
       "    <tr style=\"text-align: right;\">\n",
       "      <th>Version</th>\n",
       "      <th>Version 51</th>\n",
       "      <th>Version 99</th>\n",
       "      <th>All</th>\n",
       "    </tr>\n",
       "    <tr>\n",
       "      <th>Overall_Exp_Rating</th>\n",
       "      <th></th>\n",
       "      <th></th>\n",
       "      <th></th>\n",
       "    </tr>\n",
       "  </thead>\n",
       "  <tbody>\n",
       "    <tr>\n",
       "      <th>High</th>\n",
       "      <td>34</td>\n",
       "      <td>25</td>\n",
       "      <td>59</td>\n",
       "    </tr>\n",
       "    <tr>\n",
       "      <th>Low</th>\n",
       "      <td>6</td>\n",
       "      <td>5</td>\n",
       "      <td>11</td>\n",
       "    </tr>\n",
       "    <tr>\n",
       "      <th>All</th>\n",
       "      <td>40</td>\n",
       "      <td>30</td>\n",
       "      <td>70</td>\n",
       "    </tr>\n",
       "  </tbody>\n",
       "</table>\n",
       "</div>"
      ],
      "text/plain": [
       "Version             Version 51  Version 99  All\n",
       "Overall_Exp_Rating                             \n",
       "High                        34          25   59\n",
       "Low                          6           5   11\n",
       "All                         40          30   70"
      ]
     },
     "execution_count": 254,
     "metadata": {},
     "output_type": "execute_result"
    }
   ],
   "source": [
    "week1 = df_overall_exp[df_overall_exp.Version_Duration=='1 weeks']\n",
    "pd.crosstab(index=week1['Overall_Exp_Rating'], columns=week1['Version'], margins=True)"
   ]
  },
  {
   "cell_type": "code",
   "execution_count": 255,
   "metadata": {
    "collapsed": false
   },
   "outputs": [
    {
     "data": {
      "text/html": [
       "<div>\n",
       "<table border=\"1\" class=\"dataframe\">\n",
       "  <thead>\n",
       "    <tr style=\"text-align: right;\">\n",
       "      <th>Version</th>\n",
       "      <th>Version 51</th>\n",
       "      <th>Version 99</th>\n",
       "    </tr>\n",
       "    <tr>\n",
       "      <th>Overall_Exp_Rating</th>\n",
       "      <th></th>\n",
       "      <th></th>\n",
       "    </tr>\n",
       "  </thead>\n",
       "  <tbody>\n",
       "    <tr>\n",
       "      <th>High</th>\n",
       "      <td>0.85</td>\n",
       "      <td>0.833333</td>\n",
       "    </tr>\n",
       "    <tr>\n",
       "      <th>Low</th>\n",
       "      <td>0.15</td>\n",
       "      <td>0.166667</td>\n",
       "    </tr>\n",
       "  </tbody>\n",
       "</table>\n",
       "</div>"
      ],
      "text/plain": [
       "Version             Version 51  Version 99\n",
       "Overall_Exp_Rating                        \n",
       "High                      0.85    0.833333\n",
       "Low                       0.15    0.166667"
      ]
     },
     "execution_count": 255,
     "metadata": {},
     "output_type": "execute_result"
    }
   ],
   "source": [
    "pd.crosstab(index=week1['Overall_Exp_Rating'], columns=week1['Version']).apply(lambda x: x/x.sum(), axis=0)"
   ]
  },
  {
   "cell_type": "code",
   "execution_count": null,
   "metadata": {
    "collapsed": false
   },
   "outputs": [],
   "source": []
  },
  {
   "cell_type": "code",
   "execution_count": 256,
   "metadata": {
    "collapsed": false
   },
   "outputs": [],
   "source": [
    "w1 = get_verduration(df_overall_exp, '1 weeks')"
   ]
  },
  {
   "cell_type": "code",
   "execution_count": 257,
   "metadata": {
    "collapsed": false
   },
   "outputs": [
    {
     "data": {
      "text/html": [
       "<div>\n",
       "<table border=\"1\" class=\"dataframe\">\n",
       "  <thead>\n",
       "    <tr style=\"text-align: right;\">\n",
       "      <th>Version</th>\n",
       "      <th>Version 51</th>\n",
       "      <th>Version 99</th>\n",
       "      <th>All</th>\n",
       "    </tr>\n",
       "    <tr>\n",
       "      <th>Overall_Exp_Rating</th>\n",
       "      <th></th>\n",
       "      <th></th>\n",
       "      <th></th>\n",
       "    </tr>\n",
       "  </thead>\n",
       "  <tbody>\n",
       "    <tr>\n",
       "      <th>High</th>\n",
       "      <td>34</td>\n",
       "      <td>25</td>\n",
       "      <td>59</td>\n",
       "    </tr>\n",
       "    <tr>\n",
       "      <th>Low</th>\n",
       "      <td>6</td>\n",
       "      <td>5</td>\n",
       "      <td>11</td>\n",
       "    </tr>\n",
       "    <tr>\n",
       "      <th>All</th>\n",
       "      <td>40</td>\n",
       "      <td>30</td>\n",
       "      <td>70</td>\n",
       "    </tr>\n",
       "  </tbody>\n",
       "</table>\n",
       "</div>"
      ],
      "text/plain": [
       "Version             Version 51  Version 99  All\n",
       "Overall_Exp_Rating                             \n",
       "High                        34          25   59\n",
       "Low                          6           5   11\n",
       "All                         40          30   70"
      ]
     },
     "execution_count": 257,
     "metadata": {},
     "output_type": "execute_result"
    }
   ],
   "source": [
    "get_crosstab(w1)"
   ]
  },
  {
   "cell_type": "code",
   "execution_count": 258,
   "metadata": {
    "collapsed": false
   },
   "outputs": [
    {
     "data": {
      "text/plain": [
       "(array(['High', 'High', 'High', 'High', 'High', 'Low', 'High', 'High',\n",
       "        'High', 'High', 'High', 'High', 'High', 'High', 'High', 'High',\n",
       "        'High', 'Low', 'High', 'High', 'High', 'High', 'High', 'High',\n",
       "        'High', 'High', 'High', 'Low', 'Low', 'High'], dtype=object),\n",
       " array(['High', 'Low', 'High', 'High', 'High', 'High', 'Low', 'High',\n",
       "        'High', 'High', 'High', 'High', 'High', 'High', 'High', 'High',\n",
       "        'Low', 'High', 'Low', 'High', 'High', 'High', 'High', 'High', 'Low',\n",
       "        'High', 'High', 'High', 'High', 'Low', 'High', 'High', 'High',\n",
       "        'High', 'High', 'High', 'Low', 'High', 'High', 'High'], dtype=object))"
      ]
     },
     "execution_count": 258,
     "metadata": {},
     "output_type": "execute_result"
    }
   ],
   "source": [
    "permutation_sample(d99_week1, d51_week1)"
   ]
  },
  {
   "cell_type": "code",
   "execution_count": 259,
   "metadata": {
    "collapsed": false
   },
   "outputs": [
    {
     "data": {
      "text/plain": [
       "-0.016666666666666607"
      ]
     },
     "execution_count": 259,
     "metadata": {},
     "output_type": "execute_result"
    }
   ],
   "source": [
    "obs_week1 = prop_diff(d99_week1, d51_week1)\n",
    "obs_week1"
   ]
  },
  {
   "cell_type": "code",
   "execution_count": 260,
   "metadata": {
    "collapsed": true
   },
   "outputs": [],
   "source": [
    "reps_week1 = draw_perm_reps(d99_week1, d51_week1, prop_diff, size=1000)"
   ]
  },
  {
   "cell_type": "code",
   "execution_count": 261,
   "metadata": {
    "collapsed": false
   },
   "outputs": [
    {
     "data": {
      "text/plain": [
       "<matplotlib.text.Text at 0x11fbbcdd0>"
      ]
     },
     "execution_count": 261,
     "metadata": {},
     "output_type": "execute_result"
    },
    {
     "data": {
      "image/png": "[encoded data removed]",
      "text/plain": [
       "<matplotlib.figure.Figure at 0x11fa50550>"
      ]
     },
     "metadata": {},
     "output_type": "display_data"
    }
   ],
   "source": [
    "plt.hist(reps_week1)\n",
    "\n",
    "l = plt.axvline(obs_week1,color='b', linewidth=2)\n",
    "#ll = plt.axvline(-obs,color='b', linewidth=2)\n",
    "plt.legend([l],['observed = {0:f}'.format(obs_week1)], loc=2)\n",
    "\n",
    "plt.title('Simulated Data for Day week1')\n"
   ]
  },
  {
   "cell_type": "code",
   "execution_count": 262,
   "metadata": {
    "collapsed": false
   },
   "outputs": [
    {
     "data": {
      "text/plain": [
       "0.71799999999999997"
      ]
     },
     "execution_count": 262,
     "metadata": {},
     "output_type": "execute_result"
    }
   ],
   "source": [
    "np.sum((reps_week1) >= obs_week1) / len(reps_week1)"
   ]
  },
  {
   "cell_type": "code",
   "execution_count": 263,
   "metadata": {
    "collapsed": true
   },
   "outputs": [],
   "source": [
    "#week 2"
   ]
  },
  {
   "cell_type": "code",
   "execution_count": null,
   "metadata": {
    "collapsed": true
   },
   "outputs": [],
   "source": []
  },
  {
   "cell_type": "code",
   "execution_count": 264,
   "metadata": {
    "collapsed": false
   },
   "outputs": [
    {
     "data": {
      "text/html": [
       "<div>\n",
       "<table border=\"1\" class=\"dataframe\">\n",
       "  <thead>\n",
       "    <tr style=\"text-align: right;\">\n",
       "      <th>Version</th>\n",
       "      <th>Version 51</th>\n",
       "      <th>Version 99</th>\n",
       "      <th>All</th>\n",
       "    </tr>\n",
       "    <tr>\n",
       "      <th>Overall_Exp_Rating</th>\n",
       "      <th></th>\n",
       "      <th></th>\n",
       "      <th></th>\n",
       "    </tr>\n",
       "  </thead>\n",
       "  <tbody>\n",
       "    <tr>\n",
       "      <th>High</th>\n",
       "      <td>29</td>\n",
       "      <td>18</td>\n",
       "      <td>47</td>\n",
       "    </tr>\n",
       "    <tr>\n",
       "      <th>Low</th>\n",
       "      <td>2</td>\n",
       "      <td>2</td>\n",
       "      <td>4</td>\n",
       "    </tr>\n",
       "    <tr>\n",
       "      <th>All</th>\n",
       "      <td>31</td>\n",
       "      <td>20</td>\n",
       "      <td>51</td>\n",
       "    </tr>\n",
       "  </tbody>\n",
       "</table>\n",
       "</div>"
      ],
      "text/plain": [
       "Version             Version 51  Version 99  All\n",
       "Overall_Exp_Rating                             \n",
       "High                        29          18   47\n",
       "Low                          2           2    4\n",
       "All                         31          20   51"
      ]
     },
     "execution_count": 264,
     "metadata": {},
     "output_type": "execute_result"
    }
   ],
   "source": [
    "w2 = get_verduration(df_overall_exp, '2 weeks')\n",
    "get_crosstab(w2)"
   ]
  },
  {
   "cell_type": "code",
   "execution_count": 265,
   "metadata": {
    "collapsed": true
   },
   "outputs": [],
   "source": [
    "d99_week2 = df_99[df_99.Version_Duration=='2 weeks']['Overall_Exp_Rating']\n",
    "d51_week2 = df_51[df_51.Version_Duration=='2 weeks']['Overall_Exp_Rating']"
   ]
  },
  {
   "cell_type": "code",
   "execution_count": 266,
   "metadata": {
    "collapsed": false
   },
   "outputs": [
    {
     "data": {
      "text/plain": [
       "(array(['High', 'High', 'High', 'High', 'Low', 'High', 'High', 'High',\n",
       "        'High', 'High', 'High', 'High', 'High', 'High', 'High', 'Low',\n",
       "        'High', 'High', 'High', 'High'], dtype=object),\n",
       " array(['High', 'High', 'High', 'High', 'High', 'High', 'High', 'High',\n",
       "        'High', 'High', 'High', 'High', 'High', 'Low', 'High', 'High',\n",
       "        'High', 'High', 'High', 'High', 'Low', 'High', 'High', 'High',\n",
       "        'High', 'High', 'High', 'High', 'High', 'High', 'High'], dtype=object))"
      ]
     },
     "execution_count": 266,
     "metadata": {},
     "output_type": "execute_result"
    }
   ],
   "source": [
    "permutation_sample(d99_week2, d51_week2)"
   ]
  },
  {
   "cell_type": "code",
   "execution_count": 267,
   "metadata": {
    "collapsed": false
   },
   "outputs": [
    {
     "data": {
      "text/plain": [
       "-0.03548387096774186"
      ]
     },
     "execution_count": 267,
     "metadata": {},
     "output_type": "execute_result"
    }
   ],
   "source": [
    "obs_week2 = prop_diff(d99_week2, d51_week2)\n",
    "obs_week2\n"
   ]
  },
  {
   "cell_type": "code",
   "execution_count": 268,
   "metadata": {
    "collapsed": true
   },
   "outputs": [],
   "source": [
    "reps_week2 = draw_perm_reps(d99_week2, d51_week2, prop_diff, size=1000)"
   ]
  },
  {
   "cell_type": "code",
   "execution_count": 269,
   "metadata": {
    "collapsed": false
   },
   "outputs": [
    {
     "data": {
      "text/plain": [
       "<matplotlib.text.Text at 0x11fe15e10>"
      ]
     },
     "execution_count": 269,
     "metadata": {},
     "output_type": "execute_result"
    },
    {
     "data": {
      "image/png": "[encoded data removed]",
      "text/plain": [
       "<matplotlib.figure.Figure at 0x11f755710>"
      ]
     },
     "metadata": {},
     "output_type": "display_data"
    }
   ],
   "source": [
    "plt.hist(reps_week2)\n",
    "\n",
    "l = plt.axvline(obs_week2,color='b', linewidth=2)\n",
    "#ll = plt.axvline(-obs,color='b', linewidth=2)\n",
    "plt.legend([l],['observed = {0:f}'.format(obs_week2)], loc=2)\n",
    "\n",
    "plt.title('Simulated Data for Day week2')\n"
   ]
  },
  {
   "cell_type": "code",
   "execution_count": 270,
   "metadata": {
    "collapsed": false
   },
   "outputs": [
    {
     "data": {
      "text/plain": [
       "0.84299999999999997"
      ]
     },
     "execution_count": 270,
     "metadata": {},
     "output_type": "execute_result"
    }
   ],
   "source": [
    "np.sum((reps_week2) >= obs_week2) / len(reps_week2)"
   ]
  },
  {
   "cell_type": "code",
   "execution_count": 271,
   "metadata": {
    "collapsed": true
   },
   "outputs": [],
   "source": [
    "#week 3"
   ]
  },
  {
   "cell_type": "code",
   "execution_count": 272,
   "metadata": {
    "collapsed": false
   },
   "outputs": [
    {
     "data": {
      "text/html": [
       "<div>\n",
       "<table border=\"1\" class=\"dataframe\">\n",
       "  <thead>\n",
       "    <tr style=\"text-align: right;\">\n",
       "      <th>Version</th>\n",
       "      <th>Version 51</th>\n",
       "      <th>Version 99</th>\n",
       "      <th>All</th>\n",
       "    </tr>\n",
       "    <tr>\n",
       "      <th>Overall_Exp_Rating</th>\n",
       "      <th></th>\n",
       "      <th></th>\n",
       "      <th></th>\n",
       "    </tr>\n",
       "  </thead>\n",
       "  <tbody>\n",
       "    <tr>\n",
       "      <th>High</th>\n",
       "      <td>19</td>\n",
       "      <td>11</td>\n",
       "      <td>30</td>\n",
       "    </tr>\n",
       "    <tr>\n",
       "      <th>Low</th>\n",
       "      <td>1</td>\n",
       "      <td>2</td>\n",
       "      <td>3</td>\n",
       "    </tr>\n",
       "    <tr>\n",
       "      <th>All</th>\n",
       "      <td>20</td>\n",
       "      <td>13</td>\n",
       "      <td>33</td>\n",
       "    </tr>\n",
       "  </tbody>\n",
       "</table>\n",
       "</div>"
      ],
      "text/plain": [
       "Version             Version 51  Version 99  All\n",
       "Overall_Exp_Rating                             \n",
       "High                        19          11   30\n",
       "Low                          1           2    3\n",
       "All                         20          13   33"
      ]
     },
     "execution_count": 272,
     "metadata": {},
     "output_type": "execute_result"
    }
   ],
   "source": [
    "w3 = get_verduration(df_overall_exp, '3 weeks')\n",
    "get_crosstab(w3)"
   ]
  },
  {
   "cell_type": "code",
   "execution_count": 273,
   "metadata": {
    "collapsed": true
   },
   "outputs": [],
   "source": [
    "d99_week3 = df_99[df_99.Version_Duration=='3 weeks']['Overall_Exp_Rating']\n",
    "d51_week3 = df_51[df_51.Version_Duration=='3 weeks']['Overall_Exp_Rating']"
   ]
  },
  {
   "cell_type": "code",
   "execution_count": 274,
   "metadata": {
    "collapsed": false
   },
   "outputs": [
    {
     "data": {
      "text/plain": [
       "-0.10384615384615381"
      ]
     },
     "execution_count": 274,
     "metadata": {},
     "output_type": "execute_result"
    }
   ],
   "source": [
    "obs_week3 = prop_diff(d99_week3, d51_week3)\n",
    "obs_week3\n"
   ]
  },
  {
   "cell_type": "code",
   "execution_count": 275,
   "metadata": {
    "collapsed": true
   },
   "outputs": [],
   "source": [
    "reps_week3 = draw_perm_reps(d99_week3, d51_week3, prop_diff, size=1000)"
   ]
  },
  {
   "cell_type": "code",
   "execution_count": 276,
   "metadata": {
    "collapsed": false
   },
   "outputs": [
    {
     "data": {
      "text/plain": [
       "<matplotlib.text.Text at 0x11ff29850>"
      ]
     },
     "execution_count": 276,
     "metadata": {},
     "output_type": "execute_result"
    },
    {
     "data": {
      "image/png": "[encoded data removed]",
      "text/plain": [
       "<matplotlib.figure.Figure at 0x11fea5e50>"
      ]
     },
     "metadata": {},
     "output_type": "display_data"
    }
   ],
   "source": [
    "plt.hist(reps_week3)\n",
    "\n",
    "l = plt.axvline(obs_week3,color='b', linewidth=2)\n",
    "#ll = plt.axvline(-obs,color='b', linewidth=2)\n",
    "plt.legend([l],['observed = {0:f}'.format(obs_week3)], loc=2)\n",
    "\n",
    "plt.title('Simulated Data for Day week3')\n"
   ]
  },
  {
   "cell_type": "code",
   "execution_count": 277,
   "metadata": {
    "collapsed": false
   },
   "outputs": [
    {
     "data": {
      "text/plain": [
       "0.95099999999999996"
      ]
     },
     "execution_count": 277,
     "metadata": {},
     "output_type": "execute_result"
    }
   ],
   "source": [
    "np.sum((reps_week3) >= obs_week3) / len(reps_week3)"
   ]
  },
  {
   "cell_type": "code",
   "execution_count": 278,
   "metadata": {
    "collapsed": true
   },
   "outputs": [],
   "source": [
    "#simulate all data without weekly restrictions"
   ]
  },
  {
   "cell_type": "code",
   "execution_count": null,
   "metadata": {
    "collapsed": true
   },
   "outputs": [],
   "source": []
  },
  {
   "cell_type": "code",
   "execution_count": 279,
   "metadata": {
    "collapsed": false
   },
   "outputs": [],
   "source": [
    "reps = draw_perm_reps(df_99['Overall_Exp_Rating'], df_51['Overall_Exp_Rating'], prop_diff, size=1000)"
   ]
  },
  {
   "cell_type": "code",
   "execution_count": 280,
   "metadata": {
    "collapsed": false
   },
   "outputs": [
    {
     "data": {
      "text/plain": [
       "-0.0002948547840188054"
      ]
     },
     "execution_count": 280,
     "metadata": {},
     "output_type": "execute_result"
    }
   ],
   "source": [
    "observed = prop_diff(df_99['Overall_Exp_Rating'], df_51['Overall_Exp_Rating'])\n",
    "observed"
   ]
  },
  {
   "cell_type": "code",
   "execution_count": 281,
   "metadata": {
    "collapsed": false
   },
   "outputs": [
    {
     "data": {
      "text/plain": [
       "<matplotlib.text.Text at 0x12016ea90>"
      ]
     },
     "execution_count": 281,
     "metadata": {},
     "output_type": "execute_result"
    },
    {
     "data": {
      "image/png": "[encoded data removed]",
      "text/plain": [
       "<matplotlib.figure.Figure at 0x11fec2250>"
      ]
     },
     "metadata": {},
     "output_type": "display_data"
    }
   ],
   "source": [
    "plt.hist(reps)\n",
    "\n",
    "l = plt.axvline(observed,color='b', linewidth=2)\n",
    "#ll = plt.axvline(-obs,color='b', linewidth=2)\n",
    "plt.legend([l],['observed = {0:f}'.format(observed)], loc=2)\n",
    "\n",
    "plt.title('Simulated Data')\n"
   ]
  },
  {
   "cell_type": "code",
   "execution_count": 282,
   "metadata": {
    "collapsed": false
   },
   "outputs": [
    {
     "data": {
      "text/plain": [
       "0.59099999999999997"
      ]
     },
     "execution_count": 282,
     "metadata": {},
     "output_type": "execute_result"
    }
   ],
   "source": [
    "np.sum((reps) >= observed) / len(reps)"
   ]
  },
  {
   "cell_type": "markdown",
   "metadata": {},
   "source": [
    "## Tracking the differences between Overall Experience score from day 1 to week 3\n"
   ]
  },
  {
   "cell_type": "code",
   "execution_count": 283,
   "metadata": {
    "collapsed": true
   },
   "outputs": [],
   "source": [
    "#changing the overall experience rating score into numeric number\n",
    "\n",
    "exp_numeric_rating={'Excellent': 5, 'Good':4, 'No effect': 3, 'Not good': 4, 'Awful': 1}\n",
    "df_99['Overall_Exp_Numeric'] = df_99['Overall_Experience'].map(exp_numeric_rating)"
   ]
  },
  {
   "cell_type": "code",
   "execution_count": null,
   "metadata": {
    "collapsed": false
   },
   "outputs": [],
   "source": []
  },
  {
   "cell_type": "code",
   "execution_count": null,
   "metadata": {
    "collapsed": false
   },
   "outputs": [],
   "source": []
  },
  {
   "cell_type": "code",
   "execution_count": 284,
   "metadata": {
    "collapsed": true
   },
   "outputs": [],
   "source": [
    "df_51['Overall_Exp_Numeric'] = df_51['Overall_Experience'].map(exp_numeric_rating)"
   ]
  },
  {
   "cell_type": "code",
   "execution_count": 285,
   "metadata": {
    "collapsed": false
   },
   "outputs": [
    {
     "data": {
      "text/plain": [
       "MannwhitneyuResult(statistic=7717.0, pvalue=0.04080182361790962)"
      ]
     },
     "execution_count": 285,
     "metadata": {},
     "output_type": "execute_result"
    }
   ],
   "source": [
    "stats.mannwhitneyu(df_99['Overall_Experience'], df_51['Overall_Experience'], alternative='two-sided')"
   ]
  },
  {
   "cell_type": "code",
   "execution_count": 286,
   "metadata": {
    "collapsed": false
   },
   "outputs": [
    {
     "data": {
      "text/plain": [
       "MannwhitneyuResult(statistic=6175.0, pvalue=0.17457538531248362)"
      ]
     },
     "execution_count": 286,
     "metadata": {},
     "output_type": "execute_result"
    }
   ],
   "source": [
    "stats.mannwhitneyu(df_99['Overall_Exp_Numeric'], df_51['Overall_Exp_Numeric'], alternative='two-sided')"
   ]
  },
  {
   "cell_type": "code",
   "execution_count": 287,
   "metadata": {
    "collapsed": false
   },
   "outputs": [
    {
     "data": {
      "text/plain": [
       "Ttest_indResult(statistic=-0.56357365136352078, pvalue=0.5735863071518823)"
      ]
     },
     "execution_count": 287,
     "metadata": {},
     "output_type": "execute_result"
    }
   ],
   "source": [
    "stats.ttest_ind(df_99['Overall_Exp_Numeric'], df_51['Overall_Exp_Numeric'], equal_var=False)"
   ]
  },
  {
   "cell_type": "code",
   "execution_count": null,
   "metadata": {
    "collapsed": true
   },
   "outputs": [],
   "source": []
  },
  {
   "cell_type": "code",
   "execution_count": 288,
   "metadata": {
    "collapsed": false
   },
   "outputs": [
    {
     "data": {
      "text/plain": [
       "-0.05204186937933031"
      ]
     },
     "execution_count": 288,
     "metadata": {},
     "output_type": "execute_result"
    }
   ],
   "source": [
    "diff_means = df_99['Overall_Exp_Numeric'].mean() - df_51['Overall_Exp_Numeric'].mean()\n",
    "diff_means"
   ]
  },
  {
   "cell_type": "code",
   "execution_count": 289,
   "metadata": {
    "collapsed": false
   },
   "outputs": [],
   "source": [
    "s1 = df_99['Overall_Exp_Numeric'].std()\n",
    "s2 = df_51['Overall_Exp_Numeric'].std()\n",
    "\n",
    "n1 = len(df_99['Overall_Exp_Numeric'])\n",
    "n2 = len(df_51['Overall_Exp_Numeric'])"
   ]
  },
  {
   "cell_type": "code",
   "execution_count": 290,
   "metadata": {
    "collapsed": false
   },
   "outputs": [],
   "source": [
    "SEM  = np.sqrt(((s1**2)/n1) + ((s2**2)/n2))"
   ]
  },
  {
   "cell_type": "code",
   "execution_count": 291,
   "metadata": {
    "collapsed": false
   },
   "outputs": [
    {
     "data": {
      "text/plain": [
       "(-0.23303341101138084, 0.12894967225272022)"
      ]
     },
     "execution_count": 291,
     "metadata": {},
     "output_type": "execute_result"
    }
   ],
   "source": [
    "diff_means - 1.96 * SEM,diff_means + 1.96 * SEM"
   ]
  },
  {
   "cell_type": "code",
   "execution_count": 292,
   "metadata": {
    "collapsed": false
   },
   "outputs": [
    {
     "name": "stdout",
     "output_type": "stream",
     "text": [
      "Mean Difference = -0.0520418693793\n",
      "CI = (-0.23303341101138084, 0.12894967225272022)\n",
      "SEM = 0.0923426232817\n",
      "Ttest_indResult(statistic=-0.54445718897259732, pvalue=0.58664757576870363)\n",
      "MannwhitneyuResult(statistic=6175.0, pvalue=0.087287692656241811)\n"
     ]
    }
   ],
   "source": [
    "twomeans(df_99, df_51, 'Overall_Exp_Numeric', 'Overall_Exp_Numeric')"
   ]
  },
  {
   "cell_type": "code",
   "execution_count": 293,
   "metadata": {
    "collapsed": false
   },
   "outputs": [
    {
     "name": "stdout",
     "output_type": "stream",
     "text": [
      "U = 6175.0\n",
      "pval = 0.239156747376\n",
      "Not Statistically Significant\n",
      "UCRIT = 5770.11114348\n"
     ]
    }
   ],
   "source": [
    "manntest(df_99['Overall_Exp_Numeric'], df_51['Overall_Exp_Numeric']) # converted to ordinal scale \n"
   ]
  },
  {
   "cell_type": "code",
   "execution_count": null,
   "metadata": {
    "collapsed": false
   },
   "outputs": [],
   "source": []
  },
  {
   "cell_type": "code",
   "execution_count": 294,
   "metadata": {
    "collapsed": false
   },
   "outputs": [
    {
     "name": "stdout",
     "output_type": "stream",
     "text": [
      "Cliffs Delta = 0.910364145658\n"
     ]
    }
   ],
   "source": [
    "cliffsdelta(6175.0,df_99['Overall_Exp_Numeric'], df_51['Overall_Exp_Numeric']) # converted to \n",
    "#close to one, so there is some overlap"
   ]
  },
  {
   "cell_type": "code",
   "execution_count": 295,
   "metadata": {
    "collapsed": false
   },
   "outputs": [
    {
     "data": {
      "text/plain": [
       "0.5688485920684063"
      ]
     },
     "execution_count": 295,
     "metadata": {},
     "output_type": "execute_result"
    }
   ],
   "source": [
    "7717/(133*102) #probabilistic effect size."
   ]
  },
  {
   "cell_type": "code",
   "execution_count": 494,
   "metadata": {
    "collapsed": false
   },
   "outputs": [
    {
     "name": "stdout",
     "output_type": "stream",
     "text": [
      "h = 0.000992215129706\n"
     ]
    }
   ],
   "source": [
    "cohensH((92/102), (120/133)) #cohen's h! less than 0.20"
   ]
  },
  {
   "cell_type": "code",
   "execution_count": 297,
   "metadata": {
    "collapsed": false
   },
   "outputs": [
    {
     "data": {
      "text/plain": [
       "<matplotlib.text.Text at 0x120511210>"
      ]
     },
     "execution_count": 297,
     "metadata": {},
     "output_type": "execute_result"
    },
    {
     "data": {
      "image/png": "[encoded data removed]",
      "text/plain": [
       "<matplotlib.figure.Figure at 0x1200b2990>"
      ]
     },
     "metadata": {},
     "output_type": "display_data"
    }
   ],
   "source": [
    "df_99.groupby(['Version_Duration'])['Overall_Exp_Numeric'].mean().plot()\n",
    "df_51.groupby(['Version_Duration'])['Overall_Exp_Numeric'].mean().plot()\n",
    "plt.legend(['Trial 99','Trial 51'])\n",
    "plt.title('Average Overall Experience Over Time')"
   ]
  },
  {
   "cell_type": "code",
   "execution_count": null,
   "metadata": {
    "collapsed": true
   },
   "outputs": [],
   "source": []
  },
  {
   "cell_type": "code",
   "execution_count": 298,
   "metadata": {
    "collapsed": false
   },
   "outputs": [
    {
     "data": {
      "image/png": "[encoded data removed]",
      "text/plain": [
       "<matplotlib.figure.Figure at 0x11fef0b90>"
      ]
     },
     "metadata": {},
     "output_type": "display_data"
    }
   ],
   "source": [
    "plt.hist(df_99['Overall_Exp_Numeric'], label='99', alpha=0.5)\n",
    "plt.hist(df_51['Overall_Exp_Numeric'], label='51', alpha=0.5)\n",
    "plt.legend()\n",
    "plt.show()"
   ]
  },
  {
   "cell_type": "code",
   "execution_count": null,
   "metadata": {
    "collapsed": false
   },
   "outputs": [],
   "source": []
  },
  {
   "cell_type": "code",
   "execution_count": null,
   "metadata": {
    "collapsed": true
   },
   "outputs": [],
   "source": []
  },
  {
   "cell_type": "code",
   "execution_count": 299,
   "metadata": {
    "collapsed": false
   },
   "outputs": [
    {
     "data": {
      "text/html": [
       "<div>\n",
       "<table border=\"1\" class=\"dataframe\">\n",
       "  <thead>\n",
       "    <tr style=\"text-align: right;\">\n",
       "      <th>Version</th>\n",
       "      <th>Version 51</th>\n",
       "      <th>Version 99</th>\n",
       "      <th>All</th>\n",
       "    </tr>\n",
       "    <tr>\n",
       "      <th>Overall_Exp_Rating</th>\n",
       "      <th></th>\n",
       "      <th></th>\n",
       "      <th></th>\n",
       "    </tr>\n",
       "  </thead>\n",
       "  <tbody>\n",
       "    <tr>\n",
       "      <th>High</th>\n",
       "      <td>120</td>\n",
       "      <td>92</td>\n",
       "      <td>212</td>\n",
       "    </tr>\n",
       "    <tr>\n",
       "      <th>Low</th>\n",
       "      <td>13</td>\n",
       "      <td>10</td>\n",
       "      <td>23</td>\n",
       "    </tr>\n",
       "    <tr>\n",
       "      <th>All</th>\n",
       "      <td>133</td>\n",
       "      <td>102</td>\n",
       "      <td>235</td>\n",
       "    </tr>\n",
       "  </tbody>\n",
       "</table>\n",
       "</div>"
      ],
      "text/plain": [
       "Version             Version 51  Version 99  All\n",
       "Overall_Exp_Rating                             \n",
       "High                       120          92  212\n",
       "Low                         13          10   23\n",
       "All                        133         102  235"
      ]
     },
     "execution_count": 299,
     "metadata": {},
     "output_type": "execute_result"
    }
   ],
   "source": [
    "pd.crosstab(index=df_overall_exp.Overall_Exp_Rating, columns=df_overall_exp.Version, margins=True)"
   ]
  },
  {
   "cell_type": "code",
   "execution_count": 300,
   "metadata": {
    "collapsed": false
   },
   "outputs": [
    {
     "name": "stdout",
     "output_type": "stream",
     "text": [
      "z: -0.00753938927795\n",
      "p-value: 0.496992247343\n",
      "CI: (-0.076961232978621716, 0.076371523410584105)\n",
      "proportion difference: -0.000294854784019\n",
      "p1: 0.901960784314\n",
      "p2: 0.902255639098\n"
     ]
    }
   ],
   "source": [
    "twoporZtest(92, 120, 102, 133)"
   ]
  },
  {
   "cell_type": "code",
   "execution_count": 301,
   "metadata": {
    "collapsed": false
   },
   "outputs": [
    {
     "data": {
      "text/html": [
       "<div>\n",
       "<table border=\"1\" class=\"dataframe\">\n",
       "  <thead>\n",
       "    <tr style=\"text-align: right;\">\n",
       "      <th>Version</th>\n",
       "      <th>Version 51</th>\n",
       "      <th>Version 99</th>\n",
       "    </tr>\n",
       "    <tr>\n",
       "      <th>Overall_Exp_Rating</th>\n",
       "      <th></th>\n",
       "      <th></th>\n",
       "    </tr>\n",
       "  </thead>\n",
       "  <tbody>\n",
       "    <tr>\n",
       "      <th>High</th>\n",
       "      <td>120</td>\n",
       "      <td>92</td>\n",
       "    </tr>\n",
       "    <tr>\n",
       "      <th>Low</th>\n",
       "      <td>13</td>\n",
       "      <td>10</td>\n",
       "    </tr>\n",
       "  </tbody>\n",
       "</table>\n",
       "</div>"
      ],
      "text/plain": [
       "Version             Version 51  Version 99\n",
       "Overall_Exp_Rating                        \n",
       "High                       120          92\n",
       "Low                         13          10"
      ]
     },
     "execution_count": 301,
     "metadata": {},
     "output_type": "execute_result"
    }
   ],
   "source": [
    "cont_table = pd.crosstab(index=df_overall_exp.Overall_Exp_Rating, columns=df_overall_exp.Version)\n",
    "cont_table"
   ]
  },
  {
   "cell_type": "code",
   "execution_count": 302,
   "metadata": {
    "collapsed": false
   },
   "outputs": [
    {
     "data": {
      "text/plain": [
       "(0.04576611796223172,\n",
       " 0.83060151197595922,\n",
       " 1,\n",
       " array([[ 119.98297872,   92.01702128],\n",
       "        [  13.01702128,    9.98297872]]))"
      ]
     },
     "execution_count": 302,
     "metadata": {},
     "output_type": "execute_result"
    }
   ],
   "source": [
    "stats.chi2_contingency(cont_table)"
   ]
  },
  {
   "cell_type": "code",
   "execution_count": 303,
   "metadata": {
    "collapsed": false
   },
   "outputs": [
    {
     "data": {
      "text/plain": [
       "(1.0033444816053512, 1.0)"
      ]
     },
     "execution_count": 303,
     "metadata": {},
     "output_type": "execute_result"
    }
   ],
   "source": [
    "stats.fisher_exact(cont_table) #if expected frequency is less than 5"
   ]
  },
  {
   "cell_type": "code",
   "execution_count": null,
   "metadata": {
    "collapsed": false
   },
   "outputs": [],
   "source": []
  },
  {
   "cell_type": "code",
   "execution_count": null,
   "metadata": {
    "collapsed": true
   },
   "outputs": [],
   "source": []
  },
  {
   "cell_type": "code",
   "execution_count": 304,
   "metadata": {
    "collapsed": false
   },
   "outputs": [],
   "source": [
    "numeric_map = {'Excellent': 5, 'Good': 4, 'No effect':3 ,'Not good':2, 'Awful':1}\n"
   ]
  },
  {
   "cell_type": "code",
   "execution_count": null,
   "metadata": {
    "collapsed": false
   },
   "outputs": [],
   "source": []
  },
  {
   "cell_type": "code",
   "execution_count": null,
   "metadata": {
    "collapsed": false
   },
   "outputs": [],
   "source": []
  },
  {
   "cell_type": "code",
   "execution_count": null,
   "metadata": {
    "collapsed": false
   },
   "outputs": [],
   "source": []
  },
  {
   "cell_type": "markdown",
   "metadata": {},
   "source": [
    "# Sleep Quality"
   ]
  },
  {
   "cell_type": "code",
   "execution_count": 305,
   "metadata": {
    "collapsed": false
   },
   "outputs": [],
   "source": [
    "s99 = df_99[['Sleep_Quality','Overall_Exp_Rating', 'Version', 'Version_Duration']]\n",
    "s51 = df_51[['Sleep_Quality','Overall_Exp_Rating', 'Version', 'Version_Duration']]\n",
    "sleep_df = pd.concat([s99, s51])"
   ]
  },
  {
   "cell_type": "code",
   "execution_count": 306,
   "metadata": {
    "collapsed": false
   },
   "outputs": [
    {
     "data": {
      "text/html": [
       "<div>\n",
       "<table border=\"1\" class=\"dataframe\">\n",
       "  <thead>\n",
       "    <tr style=\"text-align: right;\">\n",
       "      <th>Sleep_Quality</th>\n",
       "      <th>Excellent</th>\n",
       "      <th>OK</th>\n",
       "      <th>Poor</th>\n",
       "      <th>All</th>\n",
       "    </tr>\n",
       "    <tr>\n",
       "      <th>Overall_Exp_Rating</th>\n",
       "      <th></th>\n",
       "      <th></th>\n",
       "      <th></th>\n",
       "      <th></th>\n",
       "    </tr>\n",
       "  </thead>\n",
       "  <tbody>\n",
       "    <tr>\n",
       "      <th>High</th>\n",
       "      <td>46</td>\n",
       "      <td>40</td>\n",
       "      <td>4</td>\n",
       "      <td>90</td>\n",
       "    </tr>\n",
       "    <tr>\n",
       "      <th>Low</th>\n",
       "      <td>1</td>\n",
       "      <td>9</td>\n",
       "      <td>0</td>\n",
       "      <td>10</td>\n",
       "    </tr>\n",
       "    <tr>\n",
       "      <th>All</th>\n",
       "      <td>47</td>\n",
       "      <td>49</td>\n",
       "      <td>4</td>\n",
       "      <td>100</td>\n",
       "    </tr>\n",
       "  </tbody>\n",
       "</table>\n",
       "</div>"
      ],
      "text/plain": [
       "Sleep_Quality       Excellent  OK  Poor  All\n",
       "Overall_Exp_Rating                          \n",
       "High                       46  40     4   90\n",
       "Low                         1   9     0   10\n",
       "All                        47  49     4  100"
      ]
     },
     "execution_count": 306,
     "metadata": {},
     "output_type": "execute_result"
    }
   ],
   "source": [
    "sq = pd.crosstab(index=df_99.Overall_Exp_Rating, columns=df_99.Sleep_Quality, margins=True) # trial 99\n",
    "sq"
   ]
  },
  {
   "cell_type": "code",
   "execution_count": 307,
   "metadata": {
    "collapsed": false
   },
   "outputs": [],
   "source": [
    "table = sm.stats.Table(sq)"
   ]
  },
  {
   "cell_type": "code",
   "execution_count": 308,
   "metadata": {
    "collapsed": false
   },
   "outputs": [
    {
     "name": "stdout",
     "output_type": "stream",
     "text": [
      "Sleep_Quality       Excellent  OK  Poor  All\n",
      "Overall_Exp_Rating                          \n",
      "High                       46  40     4   90\n",
      "Low                         1   9     0   10\n",
      "All                        47  49     4  100\n"
     ]
    }
   ],
   "source": [
    "print(table.table_orig)"
   ]
  },
  {
   "cell_type": "code",
   "execution_count": 309,
   "metadata": {
    "collapsed": false
   },
   "outputs": [
    {
     "name": "stdout",
     "output_type": "stream",
     "text": [
      "Sleep_Quality       Excellent         OK      Poor         All\n",
      "Overall_Exp_Rating                                            \n",
      "High                42.810345  44.603448  4.258621   90.327586\n",
      "Low                  5.174877   5.391626  0.514778   10.918719\n",
      "All                 47.514778  49.504926  4.726601  100.253695\n"
     ]
    }
   ],
   "source": [
    "print(table.fittedvalues)"
   ]
  },
  {
   "cell_type": "code",
   "execution_count": 310,
   "metadata": {
    "collapsed": false
   },
   "outputs": [
    {
     "name": "stdout",
     "output_type": "stream",
     "text": [
      "Sleep_Quality       Excellent        OK      Poor       All\n",
      "Overall_Exp_Rating                                         \n",
      "High                 0.563912 -0.614419  0.116968  0.018141\n",
      "Low                 -1.615447  1.769335 -0.020598 -0.126718\n",
      "All                 -0.002144 -0.000700 -0.104229  0.024599\n"
     ]
    }
   ],
   "source": [
    "print(table.resid_pearson)"
   ]
  },
  {
   "cell_type": "code",
   "execution_count": 311,
   "metadata": {
    "collapsed": false
   },
   "outputs": [
    {
     "name": "stdout",
     "output_type": "stream",
     "text": [
      "0.892530877743\n"
     ]
    }
   ],
   "source": [
    "result = table.test_ordinal_association()\n",
    "print (result.pvalue)"
   ]
  },
  {
   "cell_type": "code",
   "execution_count": 312,
   "metadata": {
    "collapsed": false
   },
   "outputs": [
    {
     "name": "stdout",
     "output_type": "stream",
     "text": [
      "Sleep_Quality       Excellent  OK  Poor\n",
      "Overall_Exp_Rating                     \n",
      "High                       46  64     9\n",
      "Low                         1   8     4\n"
     ]
    }
   ],
   "source": [
    "sq51 = pd.crosstab(index=df_51.Overall_Exp_Rating, columns=df_51.Sleep_Quality)\n",
    "table = sm.stats.Table(sq51)\n",
    "\n",
    "print (table.table_orig)"
   ]
  },
  {
   "cell_type": "code",
   "execution_count": 313,
   "metadata": {
    "collapsed": false
   },
   "outputs": [
    {
     "name": "stdout",
     "output_type": "stream",
     "text": [
      "Sleep_Quality       Excellent         OK       Poor\n",
      "Overall_Exp_Rating                                 \n",
      "High                42.371212  64.909091  11.719697\n",
      "Low                  4.628788   7.090909   1.280303\n"
     ]
    }
   ],
   "source": [
    "print (table.fittedvalues)"
   ]
  },
  {
   "cell_type": "code",
   "execution_count": 314,
   "metadata": {
    "collapsed": false
   },
   "outputs": [
    {
     "name": "stdout",
     "output_type": "stream",
     "text": [
      "Sleep_Quality       Excellent        OK      Poor\n",
      "Overall_Exp_Rating                               \n",
      "High                 0.557476 -0.112838 -0.794442\n",
      "Low                 -1.686662  0.341394  2.403611\n"
     ]
    }
   ],
   "source": [
    "print (table.resid_pearson)"
   ]
  },
  {
   "cell_type": "code",
   "execution_count": 315,
   "metadata": {
    "collapsed": false
   },
   "outputs": [
    {
     "name": "stdout",
     "output_type": "stream",
     "text": [
      "0.00302629111994\n"
     ]
    }
   ],
   "source": [
    "result = table.test_ordinal_association()\n",
    "print (result.pvalue)"
   ]
  },
  {
   "cell_type": "code",
   "execution_count": 316,
   "metadata": {
    "collapsed": false
   },
   "outputs": [
    {
     "data": {
      "text/html": [
       "<div>\n",
       "<table border=\"1\" class=\"dataframe\">\n",
       "  <thead>\n",
       "    <tr style=\"text-align: right;\">\n",
       "      <th>Version</th>\n",
       "      <th>Version 51</th>\n",
       "      <th>Version 99</th>\n",
       "      <th>All</th>\n",
       "    </tr>\n",
       "    <tr>\n",
       "      <th>Sleep_Quality</th>\n",
       "      <th></th>\n",
       "      <th></th>\n",
       "      <th></th>\n",
       "    </tr>\n",
       "  </thead>\n",
       "  <tbody>\n",
       "    <tr>\n",
       "      <th>Excellent</th>\n",
       "      <td>47</td>\n",
       "      <td>47</td>\n",
       "      <td>94</td>\n",
       "    </tr>\n",
       "    <tr>\n",
       "      <th>OK</th>\n",
       "      <td>72</td>\n",
       "      <td>49</td>\n",
       "      <td>121</td>\n",
       "    </tr>\n",
       "    <tr>\n",
       "      <th>Poor</th>\n",
       "      <td>13</td>\n",
       "      <td>4</td>\n",
       "      <td>17</td>\n",
       "    </tr>\n",
       "    <tr>\n",
       "      <th>All</th>\n",
       "      <td>132</td>\n",
       "      <td>100</td>\n",
       "      <td>232</td>\n",
       "    </tr>\n",
       "  </tbody>\n",
       "</table>\n",
       "</div>"
      ],
      "text/plain": [
       "Version        Version 51  Version 99  All\n",
       "Sleep_Quality                             \n",
       "Excellent              47          47   94\n",
       "OK                     72          49  121\n",
       "Poor                   13           4   17\n",
       "All                   132         100  232"
      ]
     },
     "execution_count": 316,
     "metadata": {},
     "output_type": "execute_result"
    }
   ],
   "source": [
    "pd.crosstab(index=sleep_df.Sleep_Quality, columns=sleep_df.Version, margins=True)"
   ]
  },
  {
   "cell_type": "code",
   "execution_count": 317,
   "metadata": {
    "collapsed": false
   },
   "outputs": [
    {
     "name": "stdout",
     "output_type": "stream",
     "text": [
      "z: 1.75065832401\n",
      "p-value: 0.040002391143\n",
      "CI: (-0.013505537747437207, 0.241384325626225)\n",
      "proportion difference: 0.113939393939\n",
      "p1: 0.47\n",
      "p2: 0.356060606061\n"
     ]
    }
   ],
   "source": [
    "#excellent between the two\n",
    "twoporZtest(47, 47, 100, 132)"
   ]
  },
  {
   "cell_type": "code",
   "execution_count": 318,
   "metadata": {
    "collapsed": false
   },
   "outputs": [
    {
     "name": "stdout",
     "output_type": "stream",
     "text": [
      "h = 0.231975060439\n"
     ]
    }
   ],
   "source": [
    "cohensH((47/100), (47/132))"
   ]
  },
  {
   "cell_type": "code",
   "execution_count": 319,
   "metadata": {
    "collapsed": false
   },
   "outputs": [
    {
     "name": "stdout",
     "output_type": "stream",
     "text": [
      "z: -0.837363320548\n",
      "p-value: 0.201194188341\n",
      "CI: (-0.18513023996920283, 0.074221149060111985)\n",
      "proportion difference: -0.0554545454545\n",
      "p1: 0.49\n",
      "p2: 0.545454545455\n"
     ]
    }
   ],
   "source": [
    "#ok\n",
    "\n",
    "twoporZtest(49, 72, 100, 132)"
   ]
  },
  {
   "cell_type": "code",
   "execution_count": 320,
   "metadata": {
    "collapsed": false
   },
   "outputs": [
    {
     "name": "stdout",
     "output_type": "stream",
     "text": [
      "z: -1.69289739432\n",
      "p-value: 0.045237499703\n",
      "CI: (-0.1221959457563685, 0.0052262487866715293)\n",
      "proportion difference: -0.0584848484848\n",
      "p1: 0.04\n",
      "p2: 0.0984848484848\n"
     ]
    }
   ],
   "source": [
    "#Poor\n",
    "twoporZtest(4, 13, 100, 132)"
   ]
  },
  {
   "cell_type": "code",
   "execution_count": 321,
   "metadata": {
    "collapsed": true
   },
   "outputs": [],
   "source": [
    "def prop_diff_exl (data1, data2):\n",
    "    \"\"\"calculates the difference in proportions\"\"\"\n",
    "    count_1 = len([values for values in data1 if values=='Excellent'])\n",
    "\n",
    "    total_1 = len(data1)\n",
    "    \n",
    "    count_2 = len([values for values in data2 if values=='Excellent'])\n",
    "    \n",
    "    total_2 = len(data2)\n",
    "    \n",
    "    p1 = count_1 / total_1\n",
    "    p2 = count_2 / total_2\n",
    "    \n",
    "    diff_prop = p1 - p2\n",
    "    \n",
    "    return diff_prop"
   ]
  },
  {
   "cell_type": "code",
   "execution_count": null,
   "metadata": {
    "collapsed": true
   },
   "outputs": [],
   "source": []
  },
  {
   "cell_type": "code",
   "execution_count": 322,
   "metadata": {
    "collapsed": false
   },
   "outputs": [],
   "source": [
    "exl = {'Excellent':'Excellent','OK': 'Not Excellent', 'Poor': 'Not Excellent'}\n",
    "ss99 = s99['Sleep_Quality'].map(exl)\n",
    "ss51 = s51['Sleep_Quality'].map(exl)\n",
    "sleep_reps = draw_perm_reps(ss99, ss51, prop_diff_exl ,size=1000)"
   ]
  },
  {
   "cell_type": "code",
   "execution_count": null,
   "metadata": {
    "collapsed": false
   },
   "outputs": [],
   "source": []
  },
  {
   "cell_type": "code",
   "execution_count": 323,
   "metadata": {
    "collapsed": false
   },
   "outputs": [
    {
     "data": {
      "text/plain": [
       "0.10740085507887365"
      ]
     },
     "execution_count": 323,
     "metadata": {},
     "output_type": "execute_result"
    }
   ],
   "source": [
    "excellent = prop_diff_exl(ss99, ss51)\n",
    "excellent"
   ]
  },
  {
   "cell_type": "code",
   "execution_count": null,
   "metadata": {
    "collapsed": false
   },
   "outputs": [],
   "source": []
  },
  {
   "cell_type": "code",
   "execution_count": 324,
   "metadata": {
    "collapsed": false
   },
   "outputs": [
    {
     "data": {
      "text/plain": [
       "<matplotlib.text.Text at 0x1207d7e90>"
      ]
     },
     "execution_count": 324,
     "metadata": {},
     "output_type": "execute_result"
    },
    {
     "data": {
      "image/png": "[encoded data removed]",
      "text/plain": [
       "<matplotlib.figure.Figure at 0x12081c4d0>"
      ]
     },
     "metadata": {},
     "output_type": "display_data"
    }
   ],
   "source": [
    "plt.hist(sleep_reps)\n",
    "\n",
    "\n",
    "plt.hist(sleep_reps)\n",
    "\n",
    "l = plt.axvline(excellent,color='b', linewidth=2)\n",
    "#ll = plt.axvline(-obs,color='b', linewidth=2)\n",
    "plt.legend([l],['observed = {0:f}'.format(excellent)], loc=2)\n",
    "\n",
    "plt.title('Simulated Data for Sleep Quality For the Proportions of Excellent Raters')\n"
   ]
  },
  {
   "cell_type": "code",
   "execution_count": 325,
   "metadata": {
    "collapsed": false
   },
   "outputs": [
    {
     "data": {
      "text/plain": [
       "0.062"
      ]
     },
     "execution_count": 325,
     "metadata": {},
     "output_type": "execute_result"
    }
   ],
   "source": [
    "np.sum((sleep_reps) >= excellent) / len(sleep_reps)"
   ]
  },
  {
   "cell_type": "code",
   "execution_count": null,
   "metadata": {
    "collapsed": true
   },
   "outputs": [],
   "source": []
  },
  {
   "cell_type": "code",
   "execution_count": 326,
   "metadata": {
    "collapsed": false
   },
   "outputs": [],
   "source": [
    "sleep_rating = {'Excellent': 3, 'OK': 2, 'Poor': 1}\n",
    "sleep_df['Sleep_Quality_Score'] = sleep_df['Sleep_Quality'].map(sleep_rating)"
   ]
  },
  {
   "cell_type": "code",
   "execution_count": 327,
   "metadata": {
    "collapsed": false
   },
   "outputs": [
    {
     "data": {
      "text/html": [
       "<div>\n",
       "<table border=\"1\" class=\"dataframe\">\n",
       "  <thead>\n",
       "    <tr style=\"text-align: right;\">\n",
       "      <th>Version</th>\n",
       "      <th>Version 51</th>\n",
       "      <th>Version 99</th>\n",
       "    </tr>\n",
       "    <tr>\n",
       "      <th>Version_Duration</th>\n",
       "      <th></th>\n",
       "      <th></th>\n",
       "    </tr>\n",
       "  </thead>\n",
       "  <tbody>\n",
       "    <tr>\n",
       "      <th>1 day</th>\n",
       "      <td>2.170732</td>\n",
       "      <td>2.405405</td>\n",
       "    </tr>\n",
       "    <tr>\n",
       "      <th>1 weeks</th>\n",
       "      <td>2.275000</td>\n",
       "      <td>2.433333</td>\n",
       "    </tr>\n",
       "    <tr>\n",
       "      <th>2 weeks</th>\n",
       "      <td>2.322581</td>\n",
       "      <td>2.450000</td>\n",
       "    </tr>\n",
       "    <tr>\n",
       "      <th>3 weeks</th>\n",
       "      <td>2.300000</td>\n",
       "      <td>2.461538</td>\n",
       "    </tr>\n",
       "  </tbody>\n",
       "</table>\n",
       "</div>"
      ],
      "text/plain": [
       "Version           Version 51  Version 99\n",
       "Version_Duration                        \n",
       "1 day               2.170732    2.405405\n",
       "1 weeks             2.275000    2.433333\n",
       "2 weeks             2.322581    2.450000\n",
       "3 weeks             2.300000    2.461538"
      ]
     },
     "execution_count": 327,
     "metadata": {},
     "output_type": "execute_result"
    }
   ],
   "source": [
    "s = pd.crosstab(index=sleep_df.Version_Duration, columns=sleep_df.Version, values=sleep_df.Sleep_Quality_Score, aggfunc='mean')\n",
    "s"
   ]
  },
  {
   "cell_type": "code",
   "execution_count": 328,
   "metadata": {
    "collapsed": false
   },
   "outputs": [
    {
     "data": {
      "text/plain": [
       "<matplotlib.axes._subplots.AxesSubplot at 0x120832490>"
      ]
     },
     "execution_count": 328,
     "metadata": {},
     "output_type": "execute_result"
    },
    {
     "data": {
      "image/png": "[encoded data removed]",
      "text/plain": [
       "<matplotlib.figure.Figure at 0x11d555e90>"
      ]
     },
     "metadata": {},
     "output_type": "display_data"
    }
   ],
   "source": [
    "s.plot()"
   ]
  },
  {
   "cell_type": "code",
   "execution_count": null,
   "metadata": {
    "collapsed": false
   },
   "outputs": [],
   "source": []
  },
  {
   "cell_type": "code",
   "execution_count": null,
   "metadata": {
    "collapsed": false
   },
   "outputs": [],
   "source": []
  },
  {
   "cell_type": "code",
   "execution_count": 329,
   "metadata": {
    "collapsed": false
   },
   "outputs": [],
   "source": [
    "x = sleep_df[sleep_df.Version=='Version 99']['Sleep_Quality_Score'].dropna()\n",
    "y = sleep_df[sleep_df.Version=='Version 51']['Sleep_Quality_Score'].dropna()"
   ]
  },
  {
   "cell_type": "code",
   "execution_count": null,
   "metadata": {
    "collapsed": false
   },
   "outputs": [],
   "source": []
  },
  {
   "cell_type": "code",
   "execution_count": 330,
   "metadata": {
    "collapsed": false
   },
   "outputs": [
    {
     "data": {
      "text/plain": [
       "Ttest_indResult(statistic=2.1815022814071678, pvalue=0.030197167815845312)"
      ]
     },
     "execution_count": 330,
     "metadata": {},
     "output_type": "execute_result"
    }
   ],
   "source": [
    "stats.ttest_ind(x,y, equal_var=False)"
   ]
  },
  {
   "cell_type": "code",
   "execution_count": 331,
   "metadata": {
    "collapsed": false
   },
   "outputs": [
    {
     "data": {
      "text/plain": [
       "MannwhitneyuResult(statistic=7526.5, pvalue=0.039754857558115302)"
      ]
     },
     "execution_count": 331,
     "metadata": {},
     "output_type": "execute_result"
    }
   ],
   "source": [
    "stats.mannwhitneyu(x,y, alternative='two-sided')"
   ]
  },
  {
   "cell_type": "code",
   "execution_count": 332,
   "metadata": {
    "collapsed": false
   },
   "outputs": [
    {
     "name": "stdout",
     "output_type": "stream",
     "text": [
      "U = 7526.5\n",
      "pval = 0.0672373182999\n",
      "Not Statistically Significant\n",
      "UCRIT = 5607.22882739\n"
     ]
    }
   ],
   "source": [
    "manntest(x,y)"
   ]
  },
  {
   "cell_type": "code",
   "execution_count": 333,
   "metadata": {
    "collapsed": false
   },
   "outputs": [
    {
     "name": "stdout",
     "output_type": "stream",
     "text": [
      "Cliffs Delta = 0.859621212121\n"
     ]
    }
   ],
   "source": [
    "cliffsdelta(5673.5, x,y) #no overlap"
   ]
  },
  {
   "cell_type": "code",
   "execution_count": 334,
   "metadata": {
    "collapsed": false
   },
   "outputs": [
    {
     "data": {
      "image/png": "[encoded data removed]",
      "text/plain": [
       "<matplotlib.figure.Figure at 0x12086f910>"
      ]
     },
     "metadata": {},
     "output_type": "display_data"
    }
   ],
   "source": [
    "plt.hist(x, label='99', alpha=0.5)\n",
    "plt.hist(y, label='51', alpha=0.5)\n",
    "plt.legend()\n",
    "plt.show()"
   ]
  },
  {
   "cell_type": "markdown",
   "metadata": {},
   "source": [
    "## Focus Attention and Concentration"
   ]
  },
  {
   "cell_type": "code",
   "execution_count": 335,
   "metadata": {
    "collapsed": false
   },
   "outputs": [
    {
     "name": "stdout",
     "output_type": "stream",
     "text": [
      "Original Table\n",
      "Focus_Atten_Concen  Improved  Less good  No effect\n",
      "Overall_Exp_Rating                                \n",
      "High                      74          2         15\n",
      "Low                        2          2          6\n",
      "--------------\n",
      "Fitted Values\n",
      "Focus_Atten_Concen   Improved  Less good  No effect\n",
      "Overall_Exp_Rating                                 \n",
      "High                68.475248    3.60396  18.920792\n",
      "Low                  7.524752    0.39604   2.079208\n",
      "--------------\n",
      "Pearon Residuals\n",
      "Focus_Atten_Concen  Improved  Less good  No effect\n",
      "Overall_Exp_Rating                                \n",
      "High                0.667646  -0.844897  -0.901372\n",
      "Low                -2.014034   2.548733   2.719098\n",
      "--------------\n",
      "pvalue = 0.000121544644596\n"
     ]
    }
   ],
   "source": [
    "FAC99 = pd.crosstab(index=df_99.Overall_Exp_Rating, columns=df_99.Focus_Atten_Concen)\n",
    "conttable(FAC99)"
   ]
  },
  {
   "cell_type": "code",
   "execution_count": 336,
   "metadata": {
    "collapsed": false
   },
   "outputs": [
    {
     "name": "stdout",
     "output_type": "stream",
     "text": [
      "log odds ratio = 2.85714611027\n"
     ]
    }
   ],
   "source": [
    "logodds(74,2,17,8) # combine less good and no effect together"
   ]
  },
  {
   "cell_type": "code",
   "execution_count": 337,
   "metadata": {
    "collapsed": false
   },
   "outputs": [
    {
     "name": "stdout",
     "output_type": "stream",
     "text": [
      "Original Table\n",
      "Focus_Atten_Concen  Improved  Less good  No effect\n",
      "Overall_Exp_Rating                                \n",
      "High                     111          0          8\n",
      "Low                        1          5          7\n",
      "--------------\n",
      "Fitted Values\n",
      "Focus_Atten_Concen    Improved  Less good  No effect\n",
      "Overall_Exp_Rating                                  \n",
      "High                100.862963   5.355556  14.281481\n",
      "Low                  12.137037   0.644444   1.718519\n",
      "--------------\n",
      "Pearon Residuals\n",
      "Focus_Atten_Concen  Improved  Less good  No effect\n",
      "Overall_Exp_Rating                                \n",
      "High                1.059144  -2.098151  -1.529863\n",
      "Low                -3.053264   6.048479   4.410238\n",
      "--------------\n",
      "pvalue = 6.87791109383e-12\n"
     ]
    }
   ],
   "source": [
    "FAC51 = pd.crosstab(index=df_51.Overall_Exp_Rating, columns=df_51.Focus_Atten_Concen)\n",
    "conttable(FAC51)"
   ]
  },
  {
   "cell_type": "code",
   "execution_count": 338,
   "metadata": {
    "collapsed": false
   },
   "outputs": [
    {
     "name": "stdout",
     "output_type": "stream",
     "text": [
      "log odds ratio = 5.11499530942\n"
     ]
    }
   ],
   "source": [
    "logodds(111,1, 8, 12)"
   ]
  },
  {
   "cell_type": "code",
   "execution_count": 339,
   "metadata": {
    "collapsed": false
   },
   "outputs": [],
   "source": [
    "f99 = df_99[['Focus_Atten_Concen','Overall_Exp_Rating', 'Version', 'Version_Duration']]\n",
    "f51 = df_51[['Focus_Atten_Concen','Overall_Exp_Rating', 'Version', 'Version_Duration']]\n",
    "f_df = pd.concat([f99, f51])"
   ]
  },
  {
   "cell_type": "code",
   "execution_count": 340,
   "metadata": {
    "collapsed": false
   },
   "outputs": [
    {
     "data": {
      "text/html": [
       "<div>\n",
       "<table border=\"1\" class=\"dataframe\">\n",
       "  <thead>\n",
       "    <tr style=\"text-align: right;\">\n",
       "      <th>Version</th>\n",
       "      <th>Version 51</th>\n",
       "      <th>Version 99</th>\n",
       "      <th>All</th>\n",
       "    </tr>\n",
       "    <tr>\n",
       "      <th>Focus_Atten_Concen</th>\n",
       "      <th></th>\n",
       "      <th></th>\n",
       "      <th></th>\n",
       "    </tr>\n",
       "  </thead>\n",
       "  <tbody>\n",
       "    <tr>\n",
       "      <th>Improved</th>\n",
       "      <td>112</td>\n",
       "      <td>76</td>\n",
       "      <td>188</td>\n",
       "    </tr>\n",
       "    <tr>\n",
       "      <th>Less good</th>\n",
       "      <td>5</td>\n",
       "      <td>4</td>\n",
       "      <td>9</td>\n",
       "    </tr>\n",
       "    <tr>\n",
       "      <th>No effect</th>\n",
       "      <td>15</td>\n",
       "      <td>21</td>\n",
       "      <td>36</td>\n",
       "    </tr>\n",
       "    <tr>\n",
       "      <th>All</th>\n",
       "      <td>132</td>\n",
       "      <td>101</td>\n",
       "      <td>233</td>\n",
       "    </tr>\n",
       "  </tbody>\n",
       "</table>\n",
       "</div>"
      ],
      "text/plain": [
       "Version             Version 51  Version 99  All\n",
       "Focus_Atten_Concen                             \n",
       "Improved                   112          76  188\n",
       "Less good                    5           4    9\n",
       "No effect                   15          21   36\n",
       "All                        132         101  233"
      ]
     },
     "execution_count": 340,
     "metadata": {},
     "output_type": "execute_result"
    }
   ],
   "source": [
    "pd.crosstab(index=f_df.Focus_Atten_Concen, columns=f_df.Version, margins=True)"
   ]
  },
  {
   "cell_type": "code",
   "execution_count": null,
   "metadata": {
    "collapsed": false
   },
   "outputs": [],
   "source": []
  },
  {
   "cell_type": "code",
   "execution_count": 341,
   "metadata": {
    "collapsed": false
   },
   "outputs": [
    {
     "name": "stdout",
     "output_type": "stream",
     "text": [
      "z: -1.83973426074\n",
      "p-value: 0.0329036305005\n",
      "CI: (-0.20005676678369366, 0.0080375648635015867)\n",
      "proportion difference: -0.0960096009601\n",
      "p1: 0.752475247525\n",
      "p2: 0.848484848485\n"
     ]
    }
   ],
   "source": [
    "#improved\n",
    "twoporZtest(76, 112, 101, 132)"
   ]
  },
  {
   "cell_type": "code",
   "execution_count": 495,
   "metadata": {
    "collapsed": false
   },
   "outputs": [
    {
     "name": "stdout",
     "output_type": "stream",
     "text": [
      "h = 0.241838388469\n"
     ]
    }
   ],
   "source": [
    "cohensH((76/101), (112/132))"
   ]
  },
  {
   "cell_type": "code",
   "execution_count": 343,
   "metadata": {
    "collapsed": false
   },
   "outputs": [
    {
     "name": "stdout",
     "output_type": "stream",
     "text": [
      "z: 0.0677193654747\n",
      "p-value: 0.473004516639\n",
      "CI: (-0.048348120008156407, 0.051798465042659857)\n",
      "proportion difference: 0.00172517251725\n",
      "p1: 0.039603960396\n",
      "p2: 0.0378787878788\n"
     ]
    }
   ],
   "source": [
    "#less good\n",
    "twoporZtest(4, 5, 101, 132)"
   ]
  },
  {
   "cell_type": "code",
   "execution_count": 344,
   "metadata": {
    "collapsed": false
   },
   "outputs": [
    {
     "name": "stdout",
     "output_type": "stream",
     "text": [
      "z: 1.97324595969\n",
      "p-value: 0.0242337732617\n",
      "CI: (-0.0016083696115250928, 0.19017722649721364)\n",
      "proportion difference: 0.0942844284428\n",
      "p1: 0.207920792079\n",
      "p2: 0.113636363636\n"
     ]
    }
   ],
   "source": [
    "#no effect\n",
    "#less good\n",
    "twoporZtest(21, 15, 101, 132)"
   ]
  },
  {
   "cell_type": "code",
   "execution_count": null,
   "metadata": {
    "collapsed": true
   },
   "outputs": [],
   "source": []
  },
  {
   "cell_type": "code",
   "execution_count": null,
   "metadata": {
    "collapsed": false
   },
   "outputs": [],
   "source": []
  },
  {
   "cell_type": "code",
   "execution_count": null,
   "metadata": {
    "collapsed": true
   },
   "outputs": [],
   "source": []
  },
  {
   "cell_type": "code",
   "execution_count": null,
   "metadata": {
    "collapsed": false
   },
   "outputs": [],
   "source": []
  },
  {
   "cell_type": "code",
   "execution_count": 345,
   "metadata": {
    "collapsed": true
   },
   "outputs": [],
   "source": [
    "rating_3 = {'Improved':3, 'Less good':2, 'No effect':1}"
   ]
  },
  {
   "cell_type": "code",
   "execution_count": 346,
   "metadata": {
    "collapsed": false
   },
   "outputs": [],
   "source": [
    "f_df['FAC_Rating'] = f_df['Focus_Atten_Concen'].map(rating_3)\n",
    "\n",
    "f_df99 = f_df[f_df.Version=='Version 99']['FAC_Rating'].dropna()\n",
    "f_df51 = f_df[f_df.Version=='Version 51']['FAC_Rating'].dropna()\n"
   ]
  },
  {
   "cell_type": "code",
   "execution_count": 347,
   "metadata": {
    "collapsed": false
   },
   "outputs": [
    {
     "data": {
      "text/plain": [
       "MannwhitneyuResult(statistic=6003.5, pvalue=0.058503882463414224)"
      ]
     },
     "execution_count": 347,
     "metadata": {},
     "output_type": "execute_result"
    }
   ],
   "source": [
    "stats.mannwhitneyu(f_df99, f_df51, alternative='two-sided')"
   ]
  },
  {
   "cell_type": "code",
   "execution_count": null,
   "metadata": {
    "collapsed": false
   },
   "outputs": [],
   "source": []
  },
  {
   "cell_type": "code",
   "execution_count": 348,
   "metadata": {
    "collapsed": false
   },
   "outputs": [
    {
     "name": "stdout",
     "output_type": "stream",
     "text": [
      "pval = 0.193829206224\n"
     ]
    }
   ],
   "source": [
    "Ucrit1(f_df99, f_df51, 6003.5)"
   ]
  },
  {
   "cell_type": "code",
   "execution_count": 349,
   "metadata": {
    "collapsed": false
   },
   "outputs": [
    {
     "data": {
      "text/plain": [
       "MannwhitneyuResult(statistic=6003.5, pvalue=0.058313718015346579)"
      ]
     },
     "execution_count": 349,
     "metadata": {},
     "output_type": "execute_result"
    }
   ],
   "source": [
    "stats.mannwhitneyu(f_df99, f_df51, alternative='two-sided', use_continuity=False)"
   ]
  },
  {
   "cell_type": "code",
   "execution_count": 350,
   "metadata": {
    "collapsed": false
   },
   "outputs": [
    {
     "name": "stdout",
     "output_type": "stream",
     "text": [
      "U = 6003.5\n",
      "pval = 0.193829206224\n",
      "Not Statistically Significant\n",
      "UCRIT = 5666.14214698\n"
     ]
    }
   ],
   "source": [
    "manntest(f_df99, f_df51)"
   ]
  },
  {
   "cell_type": "code",
   "execution_count": 351,
   "metadata": {
    "collapsed": false
   },
   "outputs": [
    {
     "name": "stdout",
     "output_type": "stream",
     "text": [
      "Cliffs Delta = 1.09538552263\n"
     ]
    }
   ],
   "source": [
    "cliffsdelta(7430,df_99['Focus_Atten_Concen'], df_51['Focus_Atten_Concen'] ) "
   ]
  },
  {
   "cell_type": "code",
   "execution_count": 352,
   "metadata": {
    "collapsed": false
   },
   "outputs": [
    {
     "data": {
      "text/html": [
       "<div>\n",
       "<table border=\"1\" class=\"dataframe\">\n",
       "  <thead>\n",
       "    <tr style=\"text-align: right;\">\n",
       "      <th>Version</th>\n",
       "      <th>Version 51</th>\n",
       "      <th>Version 99</th>\n",
       "    </tr>\n",
       "    <tr>\n",
       "      <th>Version_Duration</th>\n",
       "      <th></th>\n",
       "      <th></th>\n",
       "    </tr>\n",
       "  </thead>\n",
       "  <tbody>\n",
       "    <tr>\n",
       "      <th>1 day</th>\n",
       "      <td>2.658537</td>\n",
       "      <td>2.526316</td>\n",
       "    </tr>\n",
       "    <tr>\n",
       "      <th>1 weeks</th>\n",
       "      <td>2.725000</td>\n",
       "      <td>2.533333</td>\n",
       "    </tr>\n",
       "    <tr>\n",
       "      <th>2 weeks</th>\n",
       "      <td>2.870968</td>\n",
       "      <td>2.600000</td>\n",
       "    </tr>\n",
       "    <tr>\n",
       "      <th>3 weeks</th>\n",
       "      <td>2.700000</td>\n",
       "      <td>2.538462</td>\n",
       "    </tr>\n",
       "  </tbody>\n",
       "</table>\n",
       "</div>"
      ],
      "text/plain": [
       "Version           Version 51  Version 99\n",
       "Version_Duration                        \n",
       "1 day               2.658537    2.526316\n",
       "1 weeks             2.725000    2.533333\n",
       "2 weeks             2.870968    2.600000\n",
       "3 weeks             2.700000    2.538462"
      ]
     },
     "execution_count": 352,
     "metadata": {},
     "output_type": "execute_result"
    }
   ],
   "source": [
    "pd.crosstab(index=f_df.Version_Duration, columns=f_df.Version, values=f_df.FAC_Rating, aggfunc=np.mean)"
   ]
  },
  {
   "cell_type": "code",
   "execution_count": 353,
   "metadata": {
    "collapsed": false
   },
   "outputs": [
    {
     "data": {
      "text/plain": [
       "<matplotlib.axes._subplots.AxesSubplot at 0x120e09510>"
      ]
     },
     "execution_count": 353,
     "metadata": {},
     "output_type": "execute_result"
    },
    {
     "data": {
      "image/png": "[encoded data removed]",
      "text/plain": [
       "<matplotlib.figure.Figure at 0x1208e4dd0>"
      ]
     },
     "metadata": {},
     "output_type": "display_data"
    }
   ],
   "source": [
    "pd.crosstab(index=f_df.Version_Duration, columns=f_df.Version, values=f_df.FAC_Rating, aggfunc=np.mean).plot()"
   ]
  },
  {
   "cell_type": "code",
   "execution_count": 354,
   "metadata": {
    "collapsed": false
   },
   "outputs": [
    {
     "data": {
      "text/plain": [
       "Ttest_indResult(statistic=-1.916320121376307, pvalue=0.056849328234860476)"
      ]
     },
     "execution_count": 354,
     "metadata": {},
     "output_type": "execute_result"
    }
   ],
   "source": [
    "stats.ttest_ind(f_df[f_df.Version=='Version 99']['FAC_Rating'].dropna(), f_df[f_df.Version=='Version 51']['FAC_Rating'].dropna(), equal_var=False)"
   ]
  },
  {
   "cell_type": "code",
   "execution_count": 355,
   "metadata": {
    "collapsed": false
   },
   "outputs": [
    {
     "data": {
      "text/plain": [
       "Version\n",
       "Version 51    0.652182\n",
       "Version 99    0.818838\n",
       "Name: FAC_Rating, dtype: float64"
      ]
     },
     "execution_count": 355,
     "metadata": {},
     "output_type": "execute_result"
    }
   ],
   "source": [
    "f_df.groupby(['Version'])['FAC_Rating'].std()"
   ]
  },
  {
   "cell_type": "code",
   "execution_count": 356,
   "metadata": {
    "collapsed": false
   },
   "outputs": [
    {
     "data": {
      "text/plain": [
       "Version\n",
       "Version 51    3.0\n",
       "Version 99    3.0\n",
       "Name: FAC_Rating, dtype: float64"
      ]
     },
     "execution_count": 356,
     "metadata": {},
     "output_type": "execute_result"
    }
   ],
   "source": [
    "f_df.groupby(['Version'])['FAC_Rating'].median()"
   ]
  },
  {
   "cell_type": "code",
   "execution_count": null,
   "metadata": {
    "collapsed": false
   },
   "outputs": [],
   "source": []
  },
  {
   "cell_type": "markdown",
   "metadata": {},
   "source": [
    "## Memory"
   ]
  },
  {
   "cell_type": "code",
   "execution_count": 357,
   "metadata": {
    "collapsed": false
   },
   "outputs": [
    {
     "name": "stdout",
     "output_type": "stream",
     "text": [
      "Original Table\n",
      "Memory              Improved  Less good  No effect\n",
      "Overall_Exp_Rating                                \n",
      "High                      29          2         60\n",
      "Low                        1          0          9\n",
      "--------------\n",
      "Fitted Values\n",
      "Memory               Improved  Less good  No effect\n",
      "Overall_Exp_Rating                                 \n",
      "High                27.572115   2.668269  62.259615\n",
      "Low                  3.427885   0.331731   7.740385\n",
      "--------------\n",
      "Pearon Residuals\n",
      "Memory              Improved  Less good  No effect\n",
      "Overall_Exp_Rating                                \n",
      "High                0.367152  -0.103012  -0.223005\n",
      "Low                -1.041281   0.292154   0.632465\n",
      "--------------\n",
      "pvalue = 0.208001260759\n"
     ]
    }
   ],
   "source": [
    "MEM99 = pd.crosstab(index=df_99.Overall_Exp_Rating, columns=df_99.Memory)\n",
    "conttable(MEM99)"
   ]
  },
  {
   "cell_type": "code",
   "execution_count": 358,
   "metadata": {
    "collapsed": false
   },
   "outputs": [
    {
     "name": "stdout",
     "output_type": "stream",
     "text": [
      "log odds ratio = 1.43738602228\n"
     ]
    }
   ],
   "source": [
    "logodds(29, 1, 62, 9)"
   ]
  },
  {
   "cell_type": "code",
   "execution_count": 359,
   "metadata": {
    "collapsed": false
   },
   "outputs": [
    {
     "name": "stdout",
     "output_type": "stream",
     "text": [
      "Original Table\n",
      "Memory              Improved  Less good  No effect\n",
      "Overall_Exp_Rating                                \n",
      "High                      73          1         45\n",
      "Low                        1          2         10\n",
      "--------------\n",
      "Fitted Values\n",
      "Memory               Improved  Less good  No effect\n",
      "Overall_Exp_Rating                                 \n",
      "High                66.712121   2.704545  49.583333\n",
      "Low                  7.287879   0.295455   5.416667\n",
      "--------------\n",
      "Pearon Residuals\n",
      "Memory              Improved  Less good  No effect\n",
      "Overall_Exp_Rating                                \n",
      "High                0.769842  -1.036481  -0.650899\n",
      "Low                -2.329183   3.135908   1.969316\n",
      "--------------\n",
      "pvalue = 0.00121835204388\n"
     ]
    }
   ],
   "source": [
    "MEM51 = pd.crosstab(index=df_51.Overall_Exp_Rating, columns=df_51.Memory)\n",
    "conttable(MEM51)"
   ]
  },
  {
   "cell_type": "code",
   "execution_count": 360,
   "metadata": {
    "collapsed": false
   },
   "outputs": [
    {
     "name": "stdout",
     "output_type": "stream",
     "text": [
      "log odds ratio = 2.94672469445\n"
     ]
    }
   ],
   "source": [
    "logodds (73, 1, 46, 12)"
   ]
  },
  {
   "cell_type": "code",
   "execution_count": 361,
   "metadata": {
    "collapsed": true
   },
   "outputs": [],
   "source": [
    "m99 = df_99[['Memory','Overall_Exp_Rating', 'Version', 'Version_Duration']]\n",
    "m51 = df_51[['Memory','Overall_Exp_Rating', 'Version', 'Version_Duration']]\n",
    "m_df = pd.concat([m99, m51])"
   ]
  },
  {
   "cell_type": "code",
   "execution_count": 362,
   "metadata": {
    "collapsed": false
   },
   "outputs": [
    {
     "data": {
      "text/html": [
       "<div>\n",
       "<table border=\"1\" class=\"dataframe\">\n",
       "  <thead>\n",
       "    <tr style=\"text-align: right;\">\n",
       "      <th>Version</th>\n",
       "      <th>Version 51</th>\n",
       "      <th>Version 99</th>\n",
       "      <th>All</th>\n",
       "    </tr>\n",
       "    <tr>\n",
       "      <th>Memory</th>\n",
       "      <th></th>\n",
       "      <th></th>\n",
       "      <th></th>\n",
       "    </tr>\n",
       "  </thead>\n",
       "  <tbody>\n",
       "    <tr>\n",
       "      <th>Improved</th>\n",
       "      <td>74</td>\n",
       "      <td>30</td>\n",
       "      <td>104</td>\n",
       "    </tr>\n",
       "    <tr>\n",
       "      <th>Less good</th>\n",
       "      <td>3</td>\n",
       "      <td>2</td>\n",
       "      <td>5</td>\n",
       "    </tr>\n",
       "    <tr>\n",
       "      <th>No effect</th>\n",
       "      <td>55</td>\n",
       "      <td>69</td>\n",
       "      <td>124</td>\n",
       "    </tr>\n",
       "    <tr>\n",
       "      <th>All</th>\n",
       "      <td>132</td>\n",
       "      <td>101</td>\n",
       "      <td>233</td>\n",
       "    </tr>\n",
       "  </tbody>\n",
       "</table>\n",
       "</div>"
      ],
      "text/plain": [
       "Version    Version 51  Version 99  All\n",
       "Memory                                \n",
       "Improved           74          30  104\n",
       "Less good           3           2    5\n",
       "No effect          55          69  124\n",
       "All               132         101  233"
      ]
     },
     "execution_count": 362,
     "metadata": {},
     "output_type": "execute_result"
    }
   ],
   "source": [
    "pd.crosstab(index=m_df.Memory, columns=m_df.Version, margins=True)"
   ]
  },
  {
   "cell_type": "code",
   "execution_count": 363,
   "metadata": {
    "collapsed": false
   },
   "outputs": [
    {
     "name": "stdout",
     "output_type": "stream",
     "text": [
      "z: -5.14832864411\n",
      "p-value: 1.31408861727e-07\n",
      "CI: (-0.49295087194869325, -0.2265413475435262)\n",
      "proportion difference: -0.359746109746\n",
      "p1: 0.405405405405\n",
      "p2: 0.765151515152\n"
     ]
    }
   ],
   "source": [
    "#improved\n",
    "twoporZtest(30, 101, 74, 132)"
   ]
  },
  {
   "cell_type": "code",
   "execution_count": 364,
   "metadata": {
    "collapsed": false
   },
   "outputs": [
    {
     "name": "stdout",
     "output_type": "stream",
     "text": [
      "z: -0.396634326067\n",
      "p-value: 0.345818567969\n",
      "CI: (-0.63680874959462863, 0.43983905262493161)\n",
      "proportion difference: -0.0984848484848\n",
      "p1: 0.666666666667\n",
      "p2: 0.765151515152\n"
     ]
    }
   ],
   "source": [
    "#less good\n",
    "twoporZtest(2, 101, 3, 132)"
   ]
  },
  {
   "cell_type": "code",
   "execution_count": 365,
   "metadata": {
    "collapsed": false
   },
   "outputs": [
    {
     "name": "stdout",
     "output_type": "stream",
     "text": [
      "z: 4.0401866006\n",
      "p-value: 2.67043453336e-05\n",
      "CI: (0.14278243501003396, 0.39022086531999911)\n",
      "proportion difference: 0.266501650165\n",
      "p1: 0.683168316832\n",
      "p2: 0.416666666667\n"
     ]
    }
   ],
   "source": [
    "#no effect\n",
    "twoporZtest(69, 55, 101, 132) # significant "
   ]
  },
  {
   "cell_type": "code",
   "execution_count": 366,
   "metadata": {
    "collapsed": false
   },
   "outputs": [],
   "source": [
    "m_df['Memory_Rating'] = m_df['Memory'].map(rating_3)\n"
   ]
  },
  {
   "cell_type": "code",
   "execution_count": 367,
   "metadata": {
    "collapsed": false
   },
   "outputs": [],
   "source": [
    "m_df99 = m_df[m_df.Version=='Version 99']['Memory_Rating'].dropna()\n",
    "m_df51 = m_df[m_df.Version=='Version 51']['Memory_Rating'].dropna()"
   ]
  },
  {
   "cell_type": "code",
   "execution_count": 368,
   "metadata": {
    "collapsed": false
   },
   "outputs": [
    {
     "name": "stdout",
     "output_type": "stream",
     "text": [
      "U = 4860.5\n",
      "pval = 0.000398532189902\n",
      "Statistically Significant\n",
      "UCRIT = 5666.14214698\n"
     ]
    }
   ],
   "source": [
    "manntest(m_df99, m_df51)"
   ]
  },
  {
   "cell_type": "code",
   "execution_count": 369,
   "metadata": {
    "collapsed": false
   },
   "outputs": [
    {
     "data": {
      "text/plain": [
       "<matplotlib.text.Text at 0x12108a990>"
      ]
     },
     "execution_count": 369,
     "metadata": {},
     "output_type": "execute_result"
    },
    {
     "data": {
      "image/png": "[encoded data removed]",
      "text/plain": [
       "<matplotlib.figure.Figure at 0x120e38190>"
      ]
     },
     "metadata": {},
     "output_type": "display_data"
    }
   ],
   "source": [
    "pd.crosstab(index=m_df.Version_Duration, columns=m_df.Version, values=m_df.Memory_Rating, aggfunc=np.mean).plot()\n",
    "plt.title('Comparison of Memory over Time')"
   ]
  },
  {
   "cell_type": "code",
   "execution_count": 370,
   "metadata": {
    "collapsed": false
   },
   "outputs": [
    {
     "data": {
      "text/plain": [
       "Ttest_indResult(statistic=-4.2422683179857499, pvalue=3.2494071858880809e-05)"
      ]
     },
     "execution_count": 370,
     "metadata": {},
     "output_type": "execute_result"
    }
   ],
   "source": [
    "stats.ttest_ind(m_df99, m_df51, equal_var=False)"
   ]
  },
  {
   "cell_type": "code",
   "execution_count": 371,
   "metadata": {
    "collapsed": false
   },
   "outputs": [
    {
     "data": {
      "text/plain": [
       "(0.9161909956957992, 0.9817617421942415)"
      ]
     },
     "execution_count": 371,
     "metadata": {},
     "output_type": "execute_result"
    }
   ],
   "source": [
    "m_df99.std(), m_df51.std()"
   ]
  },
  {
   "cell_type": "code",
   "execution_count": 372,
   "metadata": {
    "collapsed": false
   },
   "outputs": [
    {
     "data": {
      "text/plain": [
       "(1.613861386138614, 2.143939393939394)"
      ]
     },
     "execution_count": 372,
     "metadata": {},
     "output_type": "execute_result"
    }
   ],
   "source": [
    "m_df99.mean(), m_df51.mean()"
   ]
  },
  {
   "cell_type": "code",
   "execution_count": 373,
   "metadata": {
    "collapsed": false
   },
   "outputs": [
    {
     "data": {
      "text/plain": [
       "(1.0, 3.0)"
      ]
     },
     "execution_count": 373,
     "metadata": {},
     "output_type": "execute_result"
    }
   ],
   "source": [
    "m_df99.median(), m_df51.median()"
   ]
  },
  {
   "cell_type": "code",
   "execution_count": 210,
   "metadata": {
    "collapsed": true
   },
   "outputs": [],
   "source": []
  },
  {
   "cell_type": "code",
   "execution_count": null,
   "metadata": {
    "collapsed": false
   },
   "outputs": [],
   "source": []
  },
  {
   "cell_type": "markdown",
   "metadata": {},
   "source": [
    "## Drive, Passion and Motivation"
   ]
  },
  {
   "cell_type": "code",
   "execution_count": 376,
   "metadata": {
    "collapsed": false
   },
   "outputs": [
    {
     "name": "stdout",
     "output_type": "stream",
     "text": [
      "Original Table\n",
      "Drive_Passion_Motivation  Improved  Less good  No effect\n",
      "Overall_Exp_Rating                                      \n",
      "High                            68          2         21\n",
      "Low                              0          3          7\n",
      "--------------\n",
      "Fitted Values\n",
      "Drive_Passion_Motivation   Improved  Less good  No effect\n",
      "Overall_Exp_Rating                                       \n",
      "High                      61.370192   5.336538  25.793269\n",
      "Low                        7.629808   0.663462   3.206731\n",
      "--------------\n",
      "Pearon Residuals\n",
      "Drive_Passion_Motivation  Improved  Less good  No effect\n",
      "Overall_Exp_Rating                                      \n",
      "High                      0.910121  -1.227888  -0.845347\n",
      "Low                      -2.581196   3.482417   2.397490\n",
      "--------------\n",
      "pvalue = 6.65991952248e-05\n"
     ]
    }
   ],
   "source": [
    "DAM99 = pd.crosstab(index=df_99.Overall_Exp_Rating, columns =df_99.Drive_Passion_Motivation)\n",
    "conttable(DAM99)"
   ]
  },
  {
   "cell_type": "code",
   "execution_count": null,
   "metadata": {
    "collapsed": false
   },
   "outputs": [],
   "source": []
  },
  {
   "cell_type": "code",
   "execution_count": 377,
   "metadata": {
    "collapsed": false
   },
   "outputs": [
    {
     "name": "stdout",
     "output_type": "stream",
     "text": [
      "Original Table\n",
      "Drive_Passion_Motivation  Improved  Less good  No effect\n",
      "Overall_Exp_Rating                                      \n",
      "High                           100          0         19\n",
      "Low                              0          5          8\n",
      "--------------\n",
      "Fitted Values\n",
      "Drive_Passion_Motivation   Improved  Less good  No effect\n",
      "Overall_Exp_Rating                                       \n",
      "High                      90.151852   5.355556  24.992593\n",
      "Low                       10.848148   0.644444   3.007407\n",
      "--------------\n",
      "Pearon Residuals\n",
      "Drive_Passion_Motivation  Improved  Less good  No effect\n",
      "Overall_Exp_Rating                                      \n",
      "High                      1.089872  -2.098151  -1.098681\n",
      "Low                      -3.141846   6.048479   3.167242\n",
      "--------------\n",
      "pvalue = 7.16639049824e-08\n"
     ]
    }
   ],
   "source": [
    "DAM51 = pd.crosstab(index=df_51.Overall_Exp_Rating, columns =df_51.Drive_Passion_Motivation)\n",
    "conttable(DAM51)"
   ]
  },
  {
   "cell_type": "code",
   "execution_count": 383,
   "metadata": {
    "collapsed": false
   },
   "outputs": [],
   "source": [
    "dam99 = df_99[['Drive_Passion_Motivation','Overall_Exp_Rating', 'Version', 'Version_Duration']]\n",
    "dam51 = df_51[['Drive_Passion_Motivation','Overall_Exp_Rating', 'Version', 'Version_Duration']]\n",
    "DAM_df = pd.concat([dam99, dam51])"
   ]
  },
  {
   "cell_type": "code",
   "execution_count": 384,
   "metadata": {
    "collapsed": false
   },
   "outputs": [
    {
     "data": {
      "text/html": [
       "<div>\n",
       "<table border=\"1\" class=\"dataframe\">\n",
       "  <thead>\n",
       "    <tr style=\"text-align: right;\">\n",
       "      <th>Version</th>\n",
       "      <th>Version 51</th>\n",
       "      <th>Version 99</th>\n",
       "      <th>All</th>\n",
       "    </tr>\n",
       "    <tr>\n",
       "      <th>Drive_Passion_Motivation</th>\n",
       "      <th></th>\n",
       "      <th></th>\n",
       "      <th></th>\n",
       "    </tr>\n",
       "  </thead>\n",
       "  <tbody>\n",
       "    <tr>\n",
       "      <th>Improved</th>\n",
       "      <td>100</td>\n",
       "      <td>68</td>\n",
       "      <td>168</td>\n",
       "    </tr>\n",
       "    <tr>\n",
       "      <th>Less good</th>\n",
       "      <td>5</td>\n",
       "      <td>5</td>\n",
       "      <td>10</td>\n",
       "    </tr>\n",
       "    <tr>\n",
       "      <th>No effect</th>\n",
       "      <td>27</td>\n",
       "      <td>28</td>\n",
       "      <td>55</td>\n",
       "    </tr>\n",
       "    <tr>\n",
       "      <th>All</th>\n",
       "      <td>132</td>\n",
       "      <td>101</td>\n",
       "      <td>233</td>\n",
       "    </tr>\n",
       "  </tbody>\n",
       "</table>\n",
       "</div>"
      ],
      "text/plain": [
       "Version                   Version 51  Version 99  All\n",
       "Drive_Passion_Motivation                             \n",
       "Improved                         100          68  168\n",
       "Less good                          5           5   10\n",
       "No effect                         27          28   55\n",
       "All                              132         101  233"
      ]
     },
     "execution_count": 384,
     "metadata": {},
     "output_type": "execute_result"
    }
   ],
   "source": [
    "pd.crosstab(index=DAM_df.Drive_Passion_Motivation, columns=DAM_df.Version, margins=True)"
   ]
  },
  {
   "cell_type": "code",
   "execution_count": 385,
   "metadata": {
    "collapsed": false
   },
   "outputs": [
    {
     "name": "stdout",
     "output_type": "stream",
     "text": [
      "z: -1.42195319065\n",
      "p-value: 0.0775199201221\n",
      "CI: (-0.20140638315018378, 0.032789521464015259)\n",
      "proportion difference: -0.0843084308431\n",
      "p1: 0.673267326733\n",
      "p2: 0.757575757576\n"
     ]
    }
   ],
   "source": [
    "#improved\n",
    "twoporZtest(68, 100, 101, 132)"
   ]
  },
  {
   "cell_type": "code",
   "execution_count": 496,
   "metadata": {
    "collapsed": false
   },
   "outputs": [
    {
     "name": "stdout",
     "output_type": "stream",
     "text": [
      "h = 0.187310098547\n"
     ]
    }
   ],
   "source": [
    "cohensH(0.673267326733,0.757575757576)"
   ]
  },
  {
   "cell_type": "code",
   "execution_count": 387,
   "metadata": {
    "collapsed": false
   },
   "outputs": [
    {
     "name": "stdout",
     "output_type": "stream",
     "text": [
      "z: 0.433919906894\n",
      "p-value: 0.332173301689\n",
      "CI: (-0.041762671259978332, 0.065014996492501587)\n",
      "proportion difference: 0.0116261626163\n",
      "p1: 0.049504950495\n",
      "p2: 0.0378787878788\n"
     ]
    }
   ],
   "source": [
    "#less good\n",
    "twoporZtest(5, 5, 101, 132)"
   ]
  },
  {
   "cell_type": "code",
   "execution_count": 388,
   "metadata": {
    "collapsed": false
   },
   "outputs": [
    {
     "name": "stdout",
     "output_type": "stream",
     "text": [
      "z: 1.2946808944\n",
      "p-value: 0.0977151667116\n",
      "CI: (-0.03847776466508615, 0.18384230111873154)\n",
      "proportion difference: 0.0726822682268\n",
      "p1: 0.277227722772\n",
      "p2: 0.204545454545\n"
     ]
    }
   ],
   "source": [
    "#no effect\n",
    "twoporZtest(28, 27, 101, 132)"
   ]
  },
  {
   "cell_type": "code",
   "execution_count": 390,
   "metadata": {
    "collapsed": false
   },
   "outputs": [],
   "source": [
    "DAM_df['DAM_Rating'] = DAM_df['Drive_Passion_Motivation'].map(rating_3)"
   ]
  },
  {
   "cell_type": "code",
   "execution_count": 399,
   "metadata": {
    "collapsed": false
   },
   "outputs": [],
   "source": [
    "dm99 = DAM_df[DAM_df.Version=='Version 99']['DAM_Rating'].dropna()\n",
    "dm51 = DAM_df[DAM_df.Version=='Version 51']['DAM_Rating'].dropna()\n"
   ]
  },
  {
   "cell_type": "code",
   "execution_count": null,
   "metadata": {
    "collapsed": false
   },
   "outputs": [],
   "source": []
  },
  {
   "cell_type": "code",
   "execution_count": 401,
   "metadata": {
    "collapsed": false
   },
   "outputs": [
    {
     "name": "stdout",
     "output_type": "stream",
     "text": [
      "U = 6101.5\n",
      "pval = 0.268237319959\n",
      "Not Statistically Significant\n",
      "UCRIT = 5666.14214698\n"
     ]
    }
   ],
   "source": [
    "manntest(dm99, dm51)\n"
   ]
  },
  {
   "cell_type": "code",
   "execution_count": null,
   "metadata": {
    "collapsed": false
   },
   "outputs": [],
   "source": []
  },
  {
   "cell_type": "code",
   "execution_count": 402,
   "metadata": {
    "collapsed": false
   },
   "outputs": [
    {
     "name": "stdout",
     "output_type": "stream",
     "text": [
      "Cliffs Delta = 0.915316531653\n"
     ]
    }
   ],
   "source": [
    "cliffsdelta(6101.5, dm99, dm51)"
   ]
  },
  {
   "cell_type": "code",
   "execution_count": 403,
   "metadata": {
    "collapsed": false
   },
   "outputs": [
    {
     "data": {
      "text/html": [
       "<div>\n",
       "<table border=\"1\" class=\"dataframe\">\n",
       "  <thead>\n",
       "    <tr style=\"text-align: right;\">\n",
       "      <th>Version</th>\n",
       "      <th>Version 51</th>\n",
       "      <th>Version 99</th>\n",
       "    </tr>\n",
       "    <tr>\n",
       "      <th>Version_Duration</th>\n",
       "      <th></th>\n",
       "      <th></th>\n",
       "    </tr>\n",
       "  </thead>\n",
       "  <tbody>\n",
       "    <tr>\n",
       "      <th>1 day</th>\n",
       "      <td>2.439024</td>\n",
       "      <td>2.394737</td>\n",
       "    </tr>\n",
       "    <tr>\n",
       "      <th>1 weeks</th>\n",
       "      <td>2.600000</td>\n",
       "      <td>2.300000</td>\n",
       "    </tr>\n",
       "    <tr>\n",
       "      <th>2 weeks</th>\n",
       "      <td>2.612903</td>\n",
       "      <td>2.550000</td>\n",
       "    </tr>\n",
       "    <tr>\n",
       "      <th>3 weeks</th>\n",
       "      <td>2.600000</td>\n",
       "      <td>2.384615</td>\n",
       "    </tr>\n",
       "  </tbody>\n",
       "</table>\n",
       "</div>"
      ],
      "text/plain": [
       "Version           Version 51  Version 99\n",
       "Version_Duration                        \n",
       "1 day               2.439024    2.394737\n",
       "1 weeks             2.600000    2.300000\n",
       "2 weeks             2.612903    2.550000\n",
       "3 weeks             2.600000    2.384615"
      ]
     },
     "execution_count": 403,
     "metadata": {},
     "output_type": "execute_result"
    }
   ],
   "source": [
    "pd.crosstab(index=DAM_df.Version_Duration, columns=DAM_df.Version, values=DAM_df.DAM_Rating, aggfunc=np.mean)"
   ]
  },
  {
   "cell_type": "code",
   "execution_count": 404,
   "metadata": {
    "collapsed": false
   },
   "outputs": [
    {
     "data": {
      "text/plain": [
       "<matplotlib.axes._subplots.AxesSubplot at 0x12134a150>"
      ]
     },
     "execution_count": 404,
     "metadata": {},
     "output_type": "execute_result"
    },
    {
     "data": {
      "image/png": "[encoded data removed]",
      "text/plain": [
       "<matplotlib.figure.Figure at 0x1211611d0>"
      ]
     },
     "metadata": {},
     "output_type": "display_data"
    }
   ],
   "source": [
    "pd.crosstab(index=DAM_df.Version_Duration, columns=DAM_df.Version, values=DAM_df.DAM_Rating, aggfunc=np.mean).plot()"
   ]
  },
  {
   "cell_type": "code",
   "execution_count": 405,
   "metadata": {
    "collapsed": false
   },
   "outputs": [
    {
     "data": {
      "text/plain": [
       "Ttest_indResult(statistic=-1.379755495256465, pvalue=0.16917210084612946)"
      ]
     },
     "execution_count": 405,
     "metadata": {},
     "output_type": "execute_result"
    }
   ],
   "source": [
    "stats.ttest_ind(dm99, dm51, equal_var=False)"
   ]
  },
  {
   "cell_type": "code",
   "execution_count": 406,
   "metadata": {
    "collapsed": false
   },
   "outputs": [
    {
     "data": {
      "text/plain": [
       "Version\n",
       "Version 51    0.813196\n",
       "Version 99    0.895312\n",
       "Name: DAM_Rating, dtype: float64"
      ]
     },
     "execution_count": 406,
     "metadata": {},
     "output_type": "execute_result"
    }
   ],
   "source": [
    "DAM_df.groupby(['Version'])['DAM_Rating'].std()"
   ]
  },
  {
   "cell_type": "code",
   "execution_count": 407,
   "metadata": {
    "collapsed": false
   },
   "outputs": [
    {
     "data": {
      "text/plain": [
       "Version\n",
       "Version 51    2.55303\n",
       "Version 99    2.39604\n",
       "Name: DAM_Rating, dtype: float64"
      ]
     },
     "execution_count": 407,
     "metadata": {},
     "output_type": "execute_result"
    }
   ],
   "source": [
    "DAM_df.groupby(['Version'])['DAM_Rating'].mean()"
   ]
  },
  {
   "cell_type": "code",
   "execution_count": null,
   "metadata": {
    "collapsed": false
   },
   "outputs": [],
   "source": []
  },
  {
   "cell_type": "markdown",
   "metadata": {},
   "source": [
    "## Physical Energy"
   ]
  },
  {
   "cell_type": "code",
   "execution_count": 413,
   "metadata": {
    "collapsed": false
   },
   "outputs": [
    {
     "name": "stdout",
     "output_type": "stream",
     "text": [
      "Original Table\n",
      "Physical_Energy     Improved  Less good  No effect\n",
      "Overall_Exp_Rating                                \n",
      "High                      69          0         22\n",
      "Low                        0          7          3\n",
      "--------------\n",
      "Fitted Values\n",
      "Physical_Energy      Improved  Less good  No effect\n",
      "Overall_Exp_Rating                                 \n",
      "High                62.259615   7.115385     23.125\n",
      "Low                  7.740385   0.884615      2.875\n",
      "--------------\n",
      "Pearon Residuals\n",
      "Physical_Energy     Improved  Less good  No effect\n",
      "Overall_Exp_Rating                                \n",
      "High                0.917611  -2.480024  -0.129969\n",
      "Low                -2.602438   7.033603   0.368605\n",
      "--------------\n",
      "pvalue = 0.00454941523852\n"
     ]
    }
   ],
   "source": [
    "PE99 = pd.crosstab(index=df_99.Overall_Exp_Rating, columns=df_99.Physical_Energy)\n",
    "conttable(PE99)"
   ]
  },
  {
   "cell_type": "code",
   "execution_count": 414,
   "metadata": {
    "collapsed": false
   },
   "outputs": [
    {
     "name": "stdout",
     "output_type": "stream",
     "text": [
      "Original Table\n",
      "Physical_Energy     Improved  Less good  No effect\n",
      "Overall_Exp_Rating                                \n",
      "High                      89          2         28\n",
      "Low                        1          6          6\n",
      "--------------\n",
      "Fitted Values\n",
      "Physical_Energy      Improved  Less good  No effect\n",
      "Overall_Exp_Rating                                 \n",
      "High                81.136364   7.212121  30.651515\n",
      "Low                  8.863636   0.787879   3.348485\n",
      "--------------\n",
      "Pearon Residuals\n",
      "Physical_Energy     Improved  Less good  No effect\n",
      "Overall_Exp_Rating                                \n",
      "High                0.873003  -1.940810  -0.478926\n",
      "Low                -2.641298   5.871983   1.449005\n",
      "--------------\n",
      "pvalue = 0.000445930700658\n"
     ]
    }
   ],
   "source": [
    "PE51 = pd.crosstab(index=df_51.Overall_Exp_Rating, columns=df_51.Physical_Energy)\n",
    "conttable(PE51)"
   ]
  },
  {
   "cell_type": "code",
   "execution_count": 415,
   "metadata": {
    "collapsed": false
   },
   "outputs": [
    {
     "name": "stdout",
     "output_type": "stream",
     "text": [
      "log odds ratio = 3.57234563786\n"
     ]
    }
   ],
   "source": [
    "logodds(89, 1, 30, 12)"
   ]
  },
  {
   "cell_type": "code",
   "execution_count": 416,
   "metadata": {
    "collapsed": true
   },
   "outputs": [],
   "source": [
    "PE99 = df_99[['Physical_Energy','Overall_Exp_Rating', 'Version', 'Version_Duration']]\n",
    "PE51 = df_51[['Physical_Energy','Overall_Exp_Rating', 'Version', 'Version_Duration']]\n",
    "PE_df = pd.concat([PE99, PE51])"
   ]
  },
  {
   "cell_type": "code",
   "execution_count": 417,
   "metadata": {
    "collapsed": false
   },
   "outputs": [
    {
     "data": {
      "text/html": [
       "<div>\n",
       "<table border=\"1\" class=\"dataframe\">\n",
       "  <thead>\n",
       "    <tr style=\"text-align: right;\">\n",
       "      <th>Version</th>\n",
       "      <th>Version 51</th>\n",
       "      <th>Version 99</th>\n",
       "      <th>All</th>\n",
       "    </tr>\n",
       "    <tr>\n",
       "      <th>Physical_Energy</th>\n",
       "      <th></th>\n",
       "      <th></th>\n",
       "      <th></th>\n",
       "    </tr>\n",
       "  </thead>\n",
       "  <tbody>\n",
       "    <tr>\n",
       "      <th>Improved</th>\n",
       "      <td>90</td>\n",
       "      <td>69</td>\n",
       "      <td>159</td>\n",
       "    </tr>\n",
       "    <tr>\n",
       "      <th>Less good</th>\n",
       "      <td>8</td>\n",
       "      <td>7</td>\n",
       "      <td>15</td>\n",
       "    </tr>\n",
       "    <tr>\n",
       "      <th>No effect</th>\n",
       "      <td>34</td>\n",
       "      <td>25</td>\n",
       "      <td>59</td>\n",
       "    </tr>\n",
       "    <tr>\n",
       "      <th>All</th>\n",
       "      <td>132</td>\n",
       "      <td>101</td>\n",
       "      <td>233</td>\n",
       "    </tr>\n",
       "  </tbody>\n",
       "</table>\n",
       "</div>"
      ],
      "text/plain": [
       "Version          Version 51  Version 99  All\n",
       "Physical_Energy                             \n",
       "Improved                 90          69  159\n",
       "Less good                 8           7   15\n",
       "No effect                34          25   59\n",
       "All                     132         101  233"
      ]
     },
     "execution_count": 417,
     "metadata": {},
     "output_type": "execute_result"
    }
   ],
   "source": [
    "pd.crosstab(index=PE_df.Physical_Energy, columns=PE_df.Version, margins=True)"
   ]
  },
  {
   "cell_type": "code",
   "execution_count": 418,
   "metadata": {
    "collapsed": false
   },
   "outputs": [
    {
     "name": "stdout",
     "output_type": "stream",
     "text": [
      "z: 0.0219375635094\n",
      "p-value: 0.491248880315\n",
      "CI: (-0.11925859157495103, 0.12195886160195393)\n",
      "proportion difference: 0.0013501350135\n",
      "p1: 0.683168316832\n",
      "p2: 0.681818181818\n"
     ]
    }
   ],
   "source": [
    "#improved\n",
    "twoporZtest(69, 90, 101, 132)"
   ]
  },
  {
   "cell_type": "code",
   "execution_count": 419,
   "metadata": {
    "collapsed": false
   },
   "outputs": [
    {
     "name": "stdout",
     "output_type": "stream",
     "text": [
      "z: 0.268172611303\n",
      "p-value: 0.394283228049\n",
      "CI: (-0.05541116631266986, 0.072812906486687271)\n",
      "proportion difference: 0.00870087008701\n",
      "p1: 0.0693069306931\n",
      "p2: 0.0606060606061\n"
     ]
    }
   ],
   "source": [
    "#less good\n",
    "twoporZtest(7, 8, 101, 132)"
   ]
  },
  {
   "cell_type": "code",
   "execution_count": 420,
   "metadata": {
    "collapsed": false
   },
   "outputs": [
    {
     "name": "stdout",
     "output_type": "stream",
     "text": [
      "z: -0.174837455126\n",
      "p-value: 0.430603678332\n",
      "CI: (-0.12252217012598454, 0.10242015992496445)\n",
      "proportion difference: -0.0100510051005\n",
      "p1: 0.247524752475\n",
      "p2: 0.257575757576\n"
     ]
    }
   ],
   "source": [
    "#no effect\n",
    "twoporZtest(25,34, 101, 132)"
   ]
  },
  {
   "cell_type": "code",
   "execution_count": null,
   "metadata": {
    "collapsed": true
   },
   "outputs": [],
   "source": []
  },
  {
   "cell_type": "code",
   "execution_count": 421,
   "metadata": {
    "collapsed": true
   },
   "outputs": [],
   "source": [
    "PE_df['PE_Rating'] = PE_df['Physical_Energy'].map(rating_3)"
   ]
  },
  {
   "cell_type": "code",
   "execution_count": 424,
   "metadata": {
    "collapsed": false
   },
   "outputs": [],
   "source": [
    "pe99 = PE_df[PE_df.Version=='Version 99']['PE_Rating'].dropna()\n",
    "pe51 = PE_df[PE_df.Version=='Version 51']['PE_Rating'].dropna()"
   ]
  },
  {
   "cell_type": "code",
   "execution_count": 426,
   "metadata": {
    "collapsed": false
   },
   "outputs": [
    {
     "name": "stdout",
     "output_type": "stream",
     "text": [
      "U = 6694.0\n",
      "pval = 0.956205971578\n",
      "Not Statistically Significant\n",
      "UCRIT = 5666.14214698\n"
     ]
    }
   ],
   "source": [
    "manntest(pe99, pe51)"
   ]
  },
  {
   "cell_type": "code",
   "execution_count": 430,
   "metadata": {
    "collapsed": false
   },
   "outputs": [
    {
     "name": "stdout",
     "output_type": "stream",
     "text": [
      "Cliffs Delta = 1.00420042004\n"
     ]
    }
   ],
   "source": [
    "cliffsdelta( 6694.0,pe99, pe51)"
   ]
  },
  {
   "cell_type": "code",
   "execution_count": 481,
   "metadata": {
    "collapsed": false
   },
   "outputs": [
    {
     "data": {
      "text/plain": [
       "<matplotlib.axes._subplots.AxesSubplot at 0x120d5acd0>"
      ]
     },
     "execution_count": 481,
     "metadata": {},
     "output_type": "execute_result"
    },
    {
     "data": {
      "image/png": "[encoded data removed]",
      "text/plain": [
       "<matplotlib.figure.Figure at 0x121516f50>"
      ]
     },
     "metadata": {},
     "output_type": "display_data"
    }
   ],
   "source": [
    "pd.crosstab(index=PE_df.Version_Duration, columns=PE_df.Version, values=PE_df.PE_Rating, aggfunc=np.mean).plot()"
   ]
  },
  {
   "cell_type": "code",
   "execution_count": 501,
   "metadata": {
    "collapsed": false
   },
   "outputs": [],
   "source": [
    "def STATtest (df1, df2, col):\n",
    "    \"\"\"automates finding the statistical tests but does not do cliffsdelta, cohensH, or twoproportion ztest\"\"\"\n",
    "    table99 = pd.crosstab(index=df1.Overall_Exp_Rating, columns=df1[col])\n",
    "    table51 = pd.crosstab(index=df2.Overall_Exp_Rating, columns=df2[col])\n",
    "    \n",
    "    print ('--------------------Trial 99----------------------')\n",
    "    print (conttable(table99))\n",
    "    print ('                                          ')\n",
    "    print ('                                          ')\n",
    "\n",
    "    print ('--------------------Trial 51----------------------')\n",
    "    print (conttable(table51))\n",
    "    \n",
    "    \n",
    "    df99 = df1[[col,'Overall_Exp_Rating', 'Version', 'Version_Duration']]\n",
    "    df51 = df2[[col,'Overall_Exp_Rating', 'Version', 'Version_Duration']]\n",
    "    df = pd.concat([df99, df51])\n",
    "    tab = pd.crosstab(index=df[col], columns=df.Version, margins=True)\n",
    "    print ('                                          ')\n",
    "    print ('                                          ')\n",
    "    print (tab)\n",
    "    \n",
    "    df['Rating'] = df[col].map(rating_3)\n",
    "    \n",
    "    t99 = df[df.Version=='Version 99']['Rating'].dropna()\n",
    "    t51 = df[df.Version=='Version 51']['Rating'].dropna()\n",
    "    \n",
    "    print ('                                          ')\n",
    "    print ('                                          ')\n",
    "    \n",
    "    print (manntest(t99,t51))\n",
    "    \n",
    "    mean_OT = pd.crosstab(index=df.Version_Duration, columns=df.Version, values=df.Rating, aggfunc=np.mean)\n",
    "    mean_OT.plot()\n",
    "    plt.title(str(col)+ ' ' + 'Over Time')\n",
    "    print (stats.ttest_ind(t99, t51, equal_var=False))"
   ]
  },
  {
   "cell_type": "code",
   "execution_count": 502,
   "metadata": {
    "collapsed": false
   },
   "outputs": [
    {
     "name": "stdout",
     "output_type": "stream",
     "text": [
      "--------------------Trial 99----------------------\n",
      "Original Table\n",
      "Capacity_Productivity  Improved  Less good  No effect\n",
      "Overall_Exp_Rating                                   \n",
      "High                         63          0         28\n",
      "Low                           0          2          8\n",
      "--------------\n",
      "Fitted Values\n",
      "Capacity_Productivity   Improved  Less good  No effect\n",
      "Overall_Exp_Rating                                    \n",
      "High                   56.923077   2.668269  32.908654\n",
      "Low                     7.076923   0.331731   4.091346\n",
      "--------------\n",
      "Pearon Residuals\n",
      "Capacity_Productivity  Improved  Less good  No effect\n",
      "Overall_Exp_Rating                                   \n",
      "High                   0.871723  -1.327390  -0.768513\n",
      "Low                   -2.472296   3.764613   2.179580\n",
      "--------------\n",
      "pvalue = 0.000323384639544\n",
      "None\n",
      "                                          \n",
      "                                          \n",
      "--------------------Trial 51----------------------\n",
      "Original Table\n",
      "Capacity_Productivity  Improved  Less good  No effect\n",
      "Overall_Exp_Rating                                   \n",
      "High                        102          0         16\n",
      "Low                           1          6          6\n",
      "--------------\n",
      "Fitted Values\n",
      "Capacity_Productivity   Improved  Less good  No effect\n",
      "Overall_Exp_Rating                                    \n",
      "High                   92.746269   6.242537  20.511194\n",
      "Low                    11.253731   0.757463   2.488806\n",
      "--------------\n",
      "Pearon Residuals\n",
      "Capacity_Productivity  Improved  Less good  No effect\n",
      "Overall_Exp_Rating                                   \n",
      "High                   1.012797  -2.298388  -0.885683\n",
      "Low                   -2.907519   6.598165   2.542601\n",
      "--------------\n",
      "pvalue = 5.81470814602e-07\n",
      "None\n",
      "                                          \n",
      "                                          \n",
      "Version                Version 51  Version 99  All\n",
      "Capacity_Productivity                             \n",
      "Improved                      103          63  166\n",
      "Less good                       6           2    8\n",
      "No effect                      22          36   58\n",
      "All                           131         101  232\n",
      "                                          \n",
      "                                          \n",
      "U = 5454.5\n",
      "pval = 0.0219867753754\n",
      "Statistically Significant\n",
      "UCRIT = 5621.56434377\n",
      "None\n",
      "Ttest_indResult(statistic=-3.0223963511622154, pvalue=0.0028602012240139456)\n"
     ]
    },
    {
     "data": {
      "image/png": "[encoded data removed]",
      "text/plain": [
       "<matplotlib.figure.Figure at 0x1217b4090>"
      ]
     },
     "metadata": {},
     "output_type": "display_data"
    }
   ],
   "source": [
    "STATtest(df_99,df_51,'Capacity_Productivity')"
   ]
  },
  {
   "cell_type": "code",
   "execution_count": 497,
   "metadata": {
    "collapsed": false
   },
   "outputs": [
    {
     "name": "stdout",
     "output_type": "stream",
     "text": [
      "log odds ratio = 4.33729074083\n"
     ]
    }
   ],
   "source": [
    "logodds(102, 1, 16, 12) #only for trial 51 is viable"
   ]
  },
  {
   "cell_type": "code",
   "execution_count": 486,
   "metadata": {
    "collapsed": false
   },
   "outputs": [
    {
     "name": "stdout",
     "output_type": "stream",
     "text": [
      "z: -2.71994489726\n",
      "p-value: 0.00326463978428\n",
      "CI: (-0.28020261600223278, -0.044791715491985282)\n",
      "proportion difference: -0.162497165747\n",
      "p1: 0.623762376238\n",
      "p2: 0.786259541985\n"
     ]
    }
   ],
   "source": [
    "#improved\n",
    "twoporZtest(63, 103, 101, 131)"
   ]
  },
  {
   "cell_type": "code",
   "execution_count": 492,
   "metadata": {
    "collapsed": false
   },
   "outputs": [
    {
     "name": "stdout",
     "output_type": "stream",
     "text": [
      "h = -0.359450360856\n"
     ]
    }
   ],
   "source": [
    "cohensH(0.623762376238, 0.786259541985)"
   ]
  },
  {
   "cell_type": "code",
   "execution_count": 488,
   "metadata": {
    "collapsed": false
   },
   "outputs": [
    {
     "name": "stdout",
     "output_type": "stream",
     "text": [
      "z: -0.993871833221\n",
      "p-value: 0.160142634395\n",
      "CI: (-0.16800328008751136, 0.05402852383325997)\n",
      "proportion difference: -0.0569873781271\n",
      "p1: 0.217821782178\n",
      "p2: 0.274809160305\n"
     ]
    }
   ],
   "source": [
    "#less good\n",
    "twoporZtest(22, 36, 101, 131)"
   ]
  },
  {
   "cell_type": "code",
   "execution_count": 491,
   "metadata": {
    "collapsed": false
   },
   "outputs": [
    {
     "name": "stdout",
     "output_type": "stream",
     "text": [
      "z: -1.07606151095\n",
      "p-value: 0.140949873844\n",
      "CI: (-0.07094270285664879, 0.018943609817573887)\n",
      "proportion difference: -0.0259995465195\n",
      "p1: 0.019801980198\n",
      "p2: 0.0458015267176\n"
     ]
    }
   ],
   "source": [
    "#no effect\n",
    "twoporZtest(2, 6, 101, 131)"
   ]
  },
  {
   "cell_type": "code",
   "execution_count": null,
   "metadata": {
    "collapsed": true
   },
   "outputs": [],
   "source": []
  },
  {
   "cell_type": "markdown",
   "metadata": {},
   "source": [
    "## Decisiveness"
   ]
  },
  {
   "cell_type": "code",
   "execution_count": 503,
   "metadata": {
    "collapsed": false
   },
   "outputs": [
    {
     "name": "stdout",
     "output_type": "stream",
     "text": [
      "--------------------Trial 99----------------------\n",
      "Original Table\n",
      "Decisiveness        Improved  Less good  No effect\n",
      "Overall_Exp_Rating                                \n",
      "High                      55          0         36\n",
      "Low                        1          1          8\n",
      "--------------\n",
      "Fitted Values\n",
      "Decisiveness         Improved  Less good  No effect\n",
      "Overall_Exp_Rating                                 \n",
      "High                50.697115   1.778846  40.024038\n",
      "Low                  6.302885   0.221154   4.975962\n",
      "--------------\n",
      "Pearon Residuals\n",
      "Decisiveness        Improved  Less good  No effect\n",
      "Overall_Exp_Rating                                \n",
      "High                0.674544  -0.958847  -0.557032\n",
      "Low                -1.913077   2.719387   1.579800\n",
      "--------------\n",
      "pvalue = 0.00843070106282\n",
      "None\n",
      "                                          \n",
      "                                          \n",
      "--------------------Trial 51----------------------\n",
      "Original Table\n",
      "Decisiveness        Improved  Less good  No effect\n",
      "Overall_Exp_Rating                                \n",
      "High                      93          0         26\n",
      "Low                        1          3          9\n",
      "--------------\n",
      "Fitted Values\n",
      "Decisiveness         Improved  Less good  No effect\n",
      "Overall_Exp_Rating                                 \n",
      "High                84.796296    3.57037  32.133333\n",
      "Low                 10.203704    0.42963   3.866667\n",
      "--------------\n",
      "Pearon Residuals\n",
      "Decisiveness        Improved  Less good  No effect\n",
      "Overall_Exp_Rating                                \n",
      "High                0.945182  -1.624928  -0.993774\n",
      "Low                -2.724741   4.684289   2.864818\n",
      "--------------\n",
      "pvalue = 6.87854685137e-06\n",
      "None\n",
      "                                          \n",
      "                                          \n",
      "Version       Version 51  Version 99  All\n",
      "Decisiveness                             \n",
      "Improved              94          56  150\n",
      "Less good              3           1    4\n",
      "No effect             35          44   79\n",
      "All                  132         101  233\n",
      "                                          \n",
      "                                          \n",
      "U = 5566.5\n",
      "pval = 0.0310520757593\n",
      "Statistically Significant\n",
      "UCRIT = 5666.14214698\n",
      "None\n",
      "Ttest_indResult(statistic=-2.6194123152479225, pvalue=0.0094776793049993601)\n"
     ]
    },
    {
     "data": {
      "image/png": "[encoded data removed]",
      "text/plain": [
       "<matplotlib.figure.Figure at 0x1227f1690>"
      ]
     },
     "metadata": {},
     "output_type": "display_data"
    }
   ],
   "source": [
    "STATtest(df_99, df_51, 'Decisiveness')"
   ]
  },
  {
   "cell_type": "code",
   "execution_count": null,
   "metadata": {
    "collapsed": true
   },
   "outputs": [],
   "source": [
    "Version       Version 51  Version 99  All\n",
    "Decisiveness                             \n",
    "Improved              94          56  150\n",
    "Less good              3           1    4\n",
    "No effect             35          44   79\n",
    "All                  132         101  233"
   ]
  },
  {
   "cell_type": "code",
   "execution_count": 504,
   "metadata": {
    "collapsed": false
   },
   "outputs": [
    {
     "name": "stdout",
     "output_type": "stream",
     "text": [
      "z: -2.49045296493\n",
      "p-value: 0.00637901906113\n",
      "CI: (-0.28161081487546041, -0.033720718277854889)\n",
      "proportion difference: -0.157665766577\n",
      "p1: 0.554455445545\n",
      "p2: 0.712121212121\n"
     ]
    }
   ],
   "source": [
    "#improved \n",
    "twoporZtest(56, 94, 101, 132)"
   ]
  },
  {
   "cell_type": "code",
   "execution_count": 505,
   "metadata": {
    "collapsed": false
   },
   "outputs": [
    {
     "name": "stdout",
     "output_type": "stream",
     "text": [
      "h = 0.328997770623\n"
     ]
    }
   ],
   "source": [
    "cohensH(0.554455445545,0.712121212121)"
   ]
  },
  {
   "cell_type": "code",
   "execution_count": 506,
   "metadata": {
    "collapsed": false
   },
   "outputs": [
    {
     "name": "stdout",
     "output_type": "stream",
     "text": [
      "z: -0.746927899368\n",
      "p-value: 0.227553542012\n",
      "CI: (-0.04475216337007213, 0.01909959811354648)\n",
      "proportion difference: -0.0128262826283\n",
      "p1: 0.00990099009901\n",
      "p2: 0.0227272727273\n"
     ]
    }
   ],
   "source": [
    "#less good\n",
    "twoporZtest(1, 3, 101, 132)"
   ]
  },
  {
   "cell_type": "code",
   "execution_count": 507,
   "metadata": {
    "collapsed": false
   },
   "outputs": [
    {
     "name": "stdout",
     "output_type": "stream",
     "text": [
      "z: 2.72430569134\n",
      "p-value: 0.00322184171741\n",
      "CI: (0.047927815917733527, 0.29305628249210747)\n",
      "proportion difference: 0.170492049205\n",
      "p1: 0.435643564356\n",
      "p2: 0.265151515152\n"
     ]
    }
   ],
   "source": [
    "#no effect\n",
    "twoporZtest(44, 35, 101, 132)"
   ]
  },
  {
   "cell_type": "code",
   "execution_count": 508,
   "metadata": {
    "collapsed": false
   },
   "outputs": [
    {
     "data": {
      "text/plain": [
       "Index([u'Start_Date', u'End_Date', u'Last_Name', u'Version_Duration',\n",
       "       u'Sleep_Quality', u'Overall_Experience', u'Focus_Atten_Concen',\n",
       "       u'Memory', u'Drive_Passion_Motivation', u'Physical_Energy',\n",
       "       u'Capacity_Productivity', u'Decisiveness',\n",
       "       u'Verbal_Fluency_Word_Recall', u'Creativity_Insight',\n",
       "       u'InterpersonalCapability_Empathy', u'Emotional_Stability',\n",
       "       u'Euhphoria_Joy_Happiness', u'Estimated_Effect_Duration',\n",
       "       u'Upper_Effect_Duration', u'Lower_Effect_Duration',\n",
       "       u'Current_User_Comparison', u'User_Status', u'Version',\n",
       "       u'Overall_Exp_Rating', u'Overall_Exp_Numeric'],\n",
       "      dtype='object')"
      ]
     },
     "execution_count": 508,
     "metadata": {},
     "output_type": "execute_result"
    }
   ],
   "source": [
    "df_99.columns"
   ]
  },
  {
   "cell_type": "markdown",
   "metadata": {},
   "source": [
    "## Verbal Fluency Word Recall"
   ]
  },
  {
   "cell_type": "code",
   "execution_count": 509,
   "metadata": {
    "collapsed": false
   },
   "outputs": [
    {
     "name": "stdout",
     "output_type": "stream",
     "text": [
      "--------------------Trial 99----------------------\n",
      "Original Table\n",
      "Verbal_Fluency_Word_Recall  Improved  Less good  No effect\n",
      "Overall_Exp_Rating                                        \n",
      "High                              32          6         53\n",
      "Low                                2          0          7\n",
      "--------------\n",
      "Fitted Values\n",
      "Verbal_Fluency_Word_Recall   Improved  Less good  No effect\n",
      "Overall_Exp_Rating                                         \n",
      "High                        31.432039   6.286408  54.781553\n",
      "Low                          3.567961   0.713592   6.218447\n",
      "--------------\n",
      "Pearon Residuals\n",
      "Verbal_Fluency_Word_Recall  Improved  Less good  No effect\n",
      "Overall_Exp_Rating                                        \n",
      "High                        0.190489   0.085189  -0.173149\n",
      "Low                        -0.565386  -0.252849   0.513920\n",
      "--------------\n",
      "pvalue = 0.413873690323\n",
      "None\n",
      "                                          \n",
      "                                          \n",
      "--------------------Trial 51----------------------\n",
      "Original Table\n",
      "Verbal_Fluency_Word_Recall  Improved  Less good  No effect\n",
      "Overall_Exp_Rating                                        \n",
      "High                              59          3         54\n",
      "Low                                0          4          9\n",
      "--------------\n",
      "Fitted Values\n",
      "Verbal_Fluency_Word_Recall   Improved  Less good  No effect\n",
      "Overall_Exp_Rating                                         \n",
      "High                        53.409091   7.121212  56.969697\n",
      "Low                          6.590909   0.878788   7.030303\n",
      "--------------\n",
      "Pearon Residuals\n",
      "Verbal_Fluency_Word_Recall  Improved  Less good  No effect\n",
      "Overall_Exp_Rating                                        \n",
      "High                        0.833440  -1.356991  -0.327206\n",
      "Low                        -2.372518   3.862886   0.931444\n",
      "--------------\n",
      "pvalue = 0.0142722790328\n",
      "None\n",
      "                                          \n",
      "                                          \n",
      "Version                     Version 51  Version 99  All\n",
      "Verbal_Fluency_Word_Recall                             \n",
      "Improved                            59          34   93\n",
      "Less good                            7           6   13\n",
      "No effect                           63          60  123\n",
      "All                                129         100  229\n",
      "                                          \n",
      "                                          \n",
      "U = 5672.0\n",
      "pval = 0.117669864713\n",
      "Not Statistically Significant\n",
      "UCRIT = 5474.90490459\n",
      "None\n",
      "Ttest_indResult(statistic=-1.7995120901008352, pvalue=0.073328762868716785)\n"
     ]
    },
    {
     "data": {
      "image/png": "[encoded data removed]",
      "text/plain": [
       "<matplotlib.figure.Figure at 0x1228cb910>"
      ]
     },
     "metadata": {},
     "output_type": "display_data"
    }
   ],
   "source": [
    "STATtest(df_99, df_51, 'Verbal_Fluency_Word_Recall')"
   ]
  },
  {
   "cell_type": "code",
   "execution_count": null,
   "metadata": {
    "collapsed": true
   },
   "outputs": [],
   "source": []
  },
  {
   "cell_type": "code",
   "execution_count": null,
   "metadata": {
    "collapsed": true
   },
   "outputs": [],
   "source": []
  },
  {
   "cell_type": "code",
   "execution_count": null,
   "metadata": {
    "collapsed": true
   },
   "outputs": [],
   "source": []
  },
  {
   "cell_type": "code",
   "execution_count": null,
   "metadata": {
    "collapsed": true
   },
   "outputs": [],
   "source": []
  },
  {
   "cell_type": "code",
   "execution_count": null,
   "metadata": {
    "collapsed": true
   },
   "outputs": [],
   "source": []
  },
  {
   "cell_type": "code",
   "execution_count": null,
   "metadata": {
    "collapsed": true
   },
   "outputs": [],
   "source": []
  },
  {
   "cell_type": "code",
   "execution_count": null,
   "metadata": {
    "collapsed": true
   },
   "outputs": [],
   "source": []
  },
  {
   "cell_type": "code",
   "execution_count": null,
   "metadata": {
    "collapsed": true
   },
   "outputs": [],
   "source": []
  },
  {
   "cell_type": "code",
   "execution_count": null,
   "metadata": {
    "collapsed": true
   },
   "outputs": [],
   "source": []
  },
  {
   "cell_type": "markdown",
   "metadata": {},
   "source": [
    "## Finding the duration effect of the Nootropic for both trials"
   ]
  },
  {
   "cell_type": "code",
   "execution_count": null,
   "metadata": {
    "collapsed": true
   },
   "outputs": [],
   "source": []
  },
  {
   "cell_type": "code",
   "execution_count": null,
   "metadata": {
    "collapsed": false
   },
   "outputs": [],
   "source": [
    "df_99.Upper_Effect_Duration.median()"
   ]
  },
  {
   "cell_type": "code",
   "execution_count": null,
   "metadata": {
    "collapsed": false
   },
   "outputs": [],
   "source": [
    "df_99.Lower_Effect_Duration.median()"
   ]
  },
  {
   "cell_type": "code",
   "execution_count": null,
   "metadata": {
    "collapsed": false
   },
   "outputs": [],
   "source": [
    "df_51.Upper_Effect_Duration.median()"
   ]
  },
  {
   "cell_type": "code",
   "execution_count": null,
   "metadata": {
    "collapsed": false
   },
   "outputs": [],
   "source": [
    "df_51.Lower_Effect_Duration.median()"
   ]
  },
  {
   "cell_type": "code",
   "execution_count": null,
   "metadata": {
    "collapsed": false
   },
   "outputs": [],
   "source": [
    "stats.mannwhitneyu(df_99.Upper_Effect_Duration, df_51.Upper_Effect_Duration, alternative='two-sided')"
   ]
  },
  {
   "cell_type": "code",
   "execution_count": null,
   "metadata": {
    "collapsed": false
   },
   "outputs": [],
   "source": [
    "stats.mannwhitneyu(df_99.Lower_Effect_Duration, df_51.Lower_Effect_Duration, alternative='two-sided')"
   ]
  },
  {
   "cell_type": "code",
   "execution_count": null,
   "metadata": {
    "collapsed": false
   },
   "outputs": [],
   "source": [
    "len(df_51.Upper_Effect_Duration)"
   ]
  },
  {
   "cell_type": "code",
   "execution_count": null,
   "metadata": {
    "collapsed": false
   },
   "outputs": [],
   "source": []
  },
  {
   "cell_type": "code",
   "execution_count": null,
   "metadata": {
    "collapsed": false
   },
   "outputs": [],
   "source": []
  },
  {
   "cell_type": "code",
   "execution_count": null,
   "metadata": {
    "collapsed": false
   },
   "outputs": [],
   "source": []
  },
  {
   "cell_type": "code",
   "execution_count": null,
   "metadata": {
    "collapsed": false
   },
   "outputs": [],
   "source": []
  },
  {
   "cell_type": "code",
   "execution_count": null,
   "metadata": {
    "collapsed": true
   },
   "outputs": [],
   "source": []
  }
 ],
 "metadata": {
  "anaconda-cloud": {},
  "kernelspec": {
   "display_name": "Python [default]",
   "language": "python",
   "name": "python2"
  },
  "language_info": {
   "codemirror_mode": {
    "name": "ipython",
    "version": 2
   },
   "file_extension": ".py",
   "mimetype": "text/x-python",
   "name": "python",
   "nbconvert_exporter": "python",
   "pygments_lexer": "ipython2",
   "version": "2.7.12"
  }
 },
 "nbformat": 4,
 "nbformat_minor": 1
}

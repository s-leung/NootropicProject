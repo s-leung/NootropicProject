{
 "cells": [
  {
   "cell_type": "code",
   "execution_count": 1,
   "metadata": {
    "collapsed": true
   },
   "outputs": [],
   "source": [
    "import pandas as pd\n",
    "import numpy as np\n",
    "import matplotlib.pyplot as plt\n",
    "%matplotlib inline\n",
    "import seaborn as sns\n",
    "sns.set()\n",
    "sns.set_style('whitegrid')\n",
    "sns.set_context('notebook')\n",
    "sns.set_palette('husl')\n",
    "plt.style.context('ggplot')\n",
    "\n",
    "\n",
    "from scipy import stats\n",
    "import statsmodels.api as sm\n",
    "\n",
    "from __future__ import division\n",
    "import math"
   ]
  },
  {
   "cell_type": "code",
   "execution_count": 2,
   "metadata": {
    "collapsed": true
   },
   "outputs": [],
   "source": [
    "df_99 = pd.read_csv('Trial_99_Cleaned')\n",
    "df_51 = pd.read_csv('Trial_051_Cleaned')"
   ]
  },
  {
   "cell_type": "code",
   "execution_count": 228,
   "metadata": {
    "collapsed": false
   },
   "outputs": [],
   "source": [
    "def cohensH (p1, p2):\n",
    "    \"\"\"calculates Cohen's h where it measures the distance between two proportions \"\"\"\n",
    "    phi1 = 2 * np.arcsin(np.sqrt(p1))\n",
    "    phi2 = 2 * np.arcsin(np.sqrt(p2))\n",
    "    h = phi1 - phi2\n",
    "    print ('h = {}'.format(h))\n",
    "\n",
    "def Ucrit (N1, N2):\n",
    "    \"\"\"calculates the UCRIT for comparison after the Mann-Whitney U test \"\"\"\n",
    "    mean = 0.5 * N1 * N2\n",
    "    STD = np.sqrt(((N1 * N2) *((N1+N2) + 1))/12)\n",
    "    UCRIT = mean - (1.96 * STD) - 0.5\n",
    "    return UCRIT\n",
    "\n",
    "def cliffsdelta (U, n1, n2):\n",
    "    \"\"\"calculates Cliff's Delta which measures how valus in one distribution are larger than the other \"\"\"\n",
    "    M = len(n1)\n",
    "    N = len(n2)\n",
    "    cdelta = (2 * U) / (M*N)\n",
    "    print('Cliffs Delta = {}'.format(cdelta))\n",
    "\n",
    "def manntest (df1, df2):\n",
    "    \"\"\"Calculates the U-statistic and p-value. Also compares U with Ucrit to test for signifance.\"\"\"\n",
    "    U, p = stats.mannwhitneyu(df1, df2)\n",
    "    print ('U = {}'.format(U))\n",
    "    print ('p-val = {}'.format(p))\n",
    "    \n",
    "    UCRIT = Ucrit(len(df1), len(df2))\n",
    "    \n",
    "    if U <= UCRIT:\n",
    "        print ('Statistically Significant')\n",
    "    else:\n",
    "        print ('Not Statistically Significant')"
   ]
  },
  {
   "cell_type": "code",
   "execution_count": 222,
   "metadata": {
    "collapsed": true
   },
   "outputs": [],
   "source": [
    "def permutation_sample(data1, data2):\n",
    "    \"\"\"Generate a permutation sample from two data sets.\"\"\"\n",
    "\n",
    "    # Concatenate the data sets: data\n",
    "    data = np.concatenate((data1,data2))\n",
    "\n",
    "    # Permute the concatenated array: permuted_data\n",
    "    permuted_data = np.random.permutation(data)\n",
    "\n",
    "    # Split the permuted array into two: perm_sample_1, perm_sample_2\n",
    "    perm_sample_1 = permuted_data[:len(data1)]\n",
    "    perm_sample_2 = permuted_data[len(data1):]\n",
    "\n",
    "    return perm_sample_1, perm_sample_2\n",
    "\n",
    "def draw_perm_reps(data_1, data_2, func, size=1):\n",
    "    \"\"\"Generate multiple permutation replicates.\"\"\"\n",
    "\n",
    "    # Initialize array of replicates: perm_replicates\n",
    "    perm_replicates = np.empty(size)\n",
    "\n",
    "    for i in range(size):\n",
    "        # Generate permutation sample\n",
    "        perm_sample_1, perm_sample_2 = permutation_sample(data_1,data_2)\n",
    "\n",
    "        # Compute the test statistic\n",
    "        perm_replicates[i] = func(perm_sample_1, perm_sample_2)\n",
    "\n",
    "    return perm_replicates\n",
    "\n",
    "def prop_diff (data1, data2):\n",
    "    \"\"\"calculates the difference in proportions\"\"\"\n",
    "    count_1 = len([values for values in data1 if values=='High'])\n",
    "\n",
    "    total_1 = len(data1)\n",
    "    \n",
    "    count_2 = len([values for values in data2 if values=='High'])\n",
    "    \n",
    "    total_2 = len(data2)\n",
    "    \n",
    "    p1 = count_1 / total_1\n",
    "    p2 = count_2 / total_2\n",
    "    \n",
    "    diff_prop = p1 - p2\n",
    "    \n",
    "    return diff_prop\n",
    "\n",
    "def get_verduration (df, time):\n",
    "    return df[df.Version_Duration==time]\n",
    "\n",
    "def get_crosstab (df):\n",
    "    return pd.crosstab(index=df['Overall_Exp_Rating'], columns=df['Version'], margins=True)"
   ]
  },
  {
   "cell_type": "code",
   "execution_count": 226,
   "metadata": {
    "collapsed": true
   },
   "outputs": [],
   "source": [
    "def twomeans (data1, data2, col1, col2):\n",
    "    diff_means = data1[col1].mean() - data2[col2].mean()\n",
    "    \n",
    "    s1 = data1[col1].std()\n",
    "    s2 = data2[col2].std()\n",
    "    \n",
    "    n1 = len(data1[col1])\n",
    "    n2 = len(data2[col2])\n",
    "    \n",
    "    SEM  = np.sqrt(((s1**2)/n1) + ((s2**2)/n2))\n",
    "    CI = diff_means - 1.96 * SEM, diff_means + 1.96 * SEM\n",
    "    \n",
    "    ttest = stats.ttest_ind(data1[col1], data2[col2])\n",
    "    mw = stats.mannwhitneyu(data1[col1], data2[col2])\n",
    "    \n",
    "    print ('Mean Difference = {}'.format(diff_means)) \n",
    "    print ('CI = {}'.format(CI))\n",
    "    print ('SEM = {}'.format(SEM))\n",
    "    \n",
    "    print ttest\n",
    "    print mw"
   ]
  },
  {
   "cell_type": "code",
   "execution_count": 227,
   "metadata": {
    "collapsed": true
   },
   "outputs": [],
   "source": [
    "def twoporZtest (x1,x2, n1, n2):\n",
    "    p1 = x1 / n1\n",
    "    p2 = x2 / n2\n",
    "    \n",
    "    p_hat = (x1 + x2) / (n1 + n2)\n",
    "    SEM = np.sqrt(p_hat* (1-p_hat) * ((1/n1) + (1/n2)))\n",
    "    z = (p1-p2) / SEM\n",
    "    p_val = stats.norm.sf(abs(z))\n",
    "    diff_prop = p1-p2\n",
    "    m = 1.96 * np.sqrt(  ((p1 * (1-p1))/n1)  +   ((p2 * (1-p2))/n2)    )\n",
    "    CI = (diff_prop - m), (diff_prop + m)\n",
    "    \n",
    "    print (\"z: {}\".format(z))\n",
    "    print (\"p-value: {}\".format(p_val))\n",
    "    print (\"CI: {}\".format(CI))\n",
    "    print (\"proportion difference: {}\".format(diff_prop))\n",
    "    print (\"p1: {}\".format(p1))\n",
    "    print (\"p2: {}\".format(p2))\n"
   ]
  },
  {
   "cell_type": "markdown",
   "metadata": {},
   "source": [
    "## Comparing Overall Experience Between the Two Trials\n",
    "\n",
    "\n",
    "\n",
    "$H_o$: The proportion of users from trial 51 is higher than trial 99"
   ]
  },
  {
   "cell_type": "code",
   "execution_count": null,
   "metadata": {
    "collapsed": true
   },
   "outputs": [],
   "source": []
  },
  {
   "cell_type": "code",
   "execution_count": 3,
   "metadata": {
    "collapsed": true
   },
   "outputs": [],
   "source": [
    "df_99['Version'] = 'Version 99'\n",
    "df_51['Version'] = 'Version 51'"
   ]
  },
  {
   "cell_type": "code",
   "execution_count": 4,
   "metadata": {
    "collapsed": false
   },
   "outputs": [
    {
     "data": {
      "text/html": [
       "<div>\n",
       "<table border=\"1\" class=\"dataframe\">\n",
       "  <thead>\n",
       "    <tr style=\"text-align: right;\">\n",
       "      <th>Overall_Experience</th>\n",
       "      <th>Awful</th>\n",
       "      <th>Excellent</th>\n",
       "      <th>Good</th>\n",
       "      <th>No effect</th>\n",
       "      <th>Not good</th>\n",
       "      <th>All</th>\n",
       "    </tr>\n",
       "    <tr>\n",
       "      <th>Version_Duration</th>\n",
       "      <th></th>\n",
       "      <th></th>\n",
       "      <th></th>\n",
       "      <th></th>\n",
       "      <th></th>\n",
       "      <th></th>\n",
       "    </tr>\n",
       "  </thead>\n",
       "  <tbody>\n",
       "    <tr>\n",
       "      <th>1 day</th>\n",
       "      <td>2</td>\n",
       "      <td>12</td>\n",
       "      <td>26</td>\n",
       "      <td>2</td>\n",
       "      <td>0</td>\n",
       "      <td>42</td>\n",
       "    </tr>\n",
       "    <tr>\n",
       "      <th>1 weeks</th>\n",
       "      <td>2</td>\n",
       "      <td>16</td>\n",
       "      <td>18</td>\n",
       "      <td>2</td>\n",
       "      <td>2</td>\n",
       "      <td>40</td>\n",
       "    </tr>\n",
       "    <tr>\n",
       "      <th>2 weeks</th>\n",
       "      <td>0</td>\n",
       "      <td>13</td>\n",
       "      <td>16</td>\n",
       "      <td>1</td>\n",
       "      <td>1</td>\n",
       "      <td>31</td>\n",
       "    </tr>\n",
       "    <tr>\n",
       "      <th>3 weeks</th>\n",
       "      <td>0</td>\n",
       "      <td>10</td>\n",
       "      <td>9</td>\n",
       "      <td>1</td>\n",
       "      <td>0</td>\n",
       "      <td>20</td>\n",
       "    </tr>\n",
       "    <tr>\n",
       "      <th>All</th>\n",
       "      <td>4</td>\n",
       "      <td>51</td>\n",
       "      <td>69</td>\n",
       "      <td>6</td>\n",
       "      <td>3</td>\n",
       "      <td>133</td>\n",
       "    </tr>\n",
       "  </tbody>\n",
       "</table>\n",
       "</div>"
      ],
      "text/plain": [
       "Overall_Experience  Awful  Excellent  Good  No effect  Not good  All\n",
       "Version_Duration                                                    \n",
       "1 day                   2         12    26          2         0   42\n",
       "1 weeks                 2         16    18          2         2   40\n",
       "2 weeks                 0         13    16          1         1   31\n",
       "3 weeks                 0         10     9          1         0   20\n",
       "All                     4         51    69          6         3  133"
      ]
     },
     "execution_count": 4,
     "metadata": {},
     "output_type": "execute_result"
    }
   ],
   "source": [
    "# Version 51\n",
    "pd.crosstab(index=df_51['Version_Duration'], columns=df_51['Overall_Experience'], margins=True)"
   ]
  },
  {
   "cell_type": "code",
   "execution_count": 5,
   "metadata": {
    "collapsed": false
   },
   "outputs": [
    {
     "data": {
      "text/html": [
       "<div>\n",
       "<table border=\"1\" class=\"dataframe\">\n",
       "  <thead>\n",
       "    <tr style=\"text-align: right;\">\n",
       "      <th>Overall_Experience</th>\n",
       "      <th>Awful</th>\n",
       "      <th>Excellent</th>\n",
       "      <th>Good</th>\n",
       "      <th>No effect</th>\n",
       "      <th>Not good</th>\n",
       "      <th>All</th>\n",
       "    </tr>\n",
       "    <tr>\n",
       "      <th>Version_Duration</th>\n",
       "      <th></th>\n",
       "      <th></th>\n",
       "      <th></th>\n",
       "      <th></th>\n",
       "      <th></th>\n",
       "      <th></th>\n",
       "    </tr>\n",
       "  </thead>\n",
       "  <tbody>\n",
       "    <tr>\n",
       "      <th>1 day</th>\n",
       "      <td>0</td>\n",
       "      <td>9</td>\n",
       "      <td>29</td>\n",
       "      <td>1</td>\n",
       "      <td>0</td>\n",
       "      <td>39</td>\n",
       "    </tr>\n",
       "    <tr>\n",
       "      <th>1 weeks</th>\n",
       "      <td>1</td>\n",
       "      <td>9</td>\n",
       "      <td>16</td>\n",
       "      <td>1</td>\n",
       "      <td>3</td>\n",
       "      <td>30</td>\n",
       "    </tr>\n",
       "    <tr>\n",
       "      <th>2 weeks</th>\n",
       "      <td>0</td>\n",
       "      <td>7</td>\n",
       "      <td>11</td>\n",
       "      <td>1</td>\n",
       "      <td>1</td>\n",
       "      <td>20</td>\n",
       "    </tr>\n",
       "    <tr>\n",
       "      <th>3 weeks</th>\n",
       "      <td>0</td>\n",
       "      <td>3</td>\n",
       "      <td>8</td>\n",
       "      <td>2</td>\n",
       "      <td>0</td>\n",
       "      <td>13</td>\n",
       "    </tr>\n",
       "    <tr>\n",
       "      <th>All</th>\n",
       "      <td>1</td>\n",
       "      <td>28</td>\n",
       "      <td>64</td>\n",
       "      <td>5</td>\n",
       "      <td>4</td>\n",
       "      <td>102</td>\n",
       "    </tr>\n",
       "  </tbody>\n",
       "</table>\n",
       "</div>"
      ],
      "text/plain": [
       "Overall_Experience  Awful  Excellent  Good  No effect  Not good  All\n",
       "Version_Duration                                                    \n",
       "1 day                   0          9    29          1         0   39\n",
       "1 weeks                 1          9    16          1         3   30\n",
       "2 weeks                 0          7    11          1         1   20\n",
       "3 weeks                 0          3     8          2         0   13\n",
       "All                     1         28    64          5         4  102"
      ]
     },
     "execution_count": 5,
     "metadata": {},
     "output_type": "execute_result"
    }
   ],
   "source": [
    "#trial 99\n",
    "pd.crosstab(index=df_99['Version_Duration'], columns=df_99['Overall_Experience'], margins=True)"
   ]
  },
  {
   "cell_type": "code",
   "execution_count": 6,
   "metadata": {
    "collapsed": false
   },
   "outputs": [],
   "source": [
    "t99 = df_99[['Overall_Experience','Version_Duration']]\n",
    "t51 = df_51[['Overall_Experience', 'Version_Duration']]"
   ]
  },
  {
   "cell_type": "code",
   "execution_count": 7,
   "metadata": {
    "collapsed": false
   },
   "outputs": [],
   "source": [
    "ver_51 = pd.DataFrame(t51)"
   ]
  },
  {
   "cell_type": "code",
   "execution_count": 8,
   "metadata": {
    "collapsed": false
   },
   "outputs": [],
   "source": [
    "ver_51['Version'] = 'Version 51'"
   ]
  },
  {
   "cell_type": "code",
   "execution_count": 9,
   "metadata": {
    "collapsed": false
   },
   "outputs": [],
   "source": [
    "ver_99 = pd.DataFrame(t99)\n",
    "ver_99['Version'] = 'Version 99'"
   ]
  },
  {
   "cell_type": "code",
   "execution_count": 10,
   "metadata": {
    "collapsed": false
   },
   "outputs": [],
   "source": [
    "a = pd.concat([ver_51, ver_99])"
   ]
  },
  {
   "cell_type": "code",
   "execution_count": 11,
   "metadata": {
    "collapsed": false
   },
   "outputs": [
    {
     "data": {
      "text/html": [
       "<div>\n",
       "<table border=\"1\" class=\"dataframe\">\n",
       "  <thead>\n",
       "    <tr>\n",
       "      <th>Version</th>\n",
       "      <th colspan=\"5\" halign=\"left\">Version 51</th>\n",
       "      <th colspan=\"5\" halign=\"left\">Version 99</th>\n",
       "      <th>All</th>\n",
       "    </tr>\n",
       "    <tr>\n",
       "      <th>Overall_Experience</th>\n",
       "      <th>Awful</th>\n",
       "      <th>Excellent</th>\n",
       "      <th>Good</th>\n",
       "      <th>No effect</th>\n",
       "      <th>Not good</th>\n",
       "      <th>Awful</th>\n",
       "      <th>Excellent</th>\n",
       "      <th>Good</th>\n",
       "      <th>No effect</th>\n",
       "      <th>Not good</th>\n",
       "      <th></th>\n",
       "    </tr>\n",
       "    <tr>\n",
       "      <th>Version_Duration</th>\n",
       "      <th></th>\n",
       "      <th></th>\n",
       "      <th></th>\n",
       "      <th></th>\n",
       "      <th></th>\n",
       "      <th></th>\n",
       "      <th></th>\n",
       "      <th></th>\n",
       "      <th></th>\n",
       "      <th></th>\n",
       "      <th></th>\n",
       "    </tr>\n",
       "  </thead>\n",
       "  <tbody>\n",
       "    <tr>\n",
       "      <th>1 day</th>\n",
       "      <td>2</td>\n",
       "      <td>12</td>\n",
       "      <td>26</td>\n",
       "      <td>2</td>\n",
       "      <td>0</td>\n",
       "      <td>0</td>\n",
       "      <td>9</td>\n",
       "      <td>29</td>\n",
       "      <td>1</td>\n",
       "      <td>0</td>\n",
       "      <td>81</td>\n",
       "    </tr>\n",
       "    <tr>\n",
       "      <th>1 weeks</th>\n",
       "      <td>2</td>\n",
       "      <td>16</td>\n",
       "      <td>18</td>\n",
       "      <td>2</td>\n",
       "      <td>2</td>\n",
       "      <td>1</td>\n",
       "      <td>9</td>\n",
       "      <td>16</td>\n",
       "      <td>1</td>\n",
       "      <td>3</td>\n",
       "      <td>70</td>\n",
       "    </tr>\n",
       "    <tr>\n",
       "      <th>2 weeks</th>\n",
       "      <td>0</td>\n",
       "      <td>13</td>\n",
       "      <td>16</td>\n",
       "      <td>1</td>\n",
       "      <td>1</td>\n",
       "      <td>0</td>\n",
       "      <td>7</td>\n",
       "      <td>11</td>\n",
       "      <td>1</td>\n",
       "      <td>1</td>\n",
       "      <td>51</td>\n",
       "    </tr>\n",
       "    <tr>\n",
       "      <th>3 weeks</th>\n",
       "      <td>0</td>\n",
       "      <td>10</td>\n",
       "      <td>9</td>\n",
       "      <td>1</td>\n",
       "      <td>0</td>\n",
       "      <td>0</td>\n",
       "      <td>3</td>\n",
       "      <td>8</td>\n",
       "      <td>2</td>\n",
       "      <td>0</td>\n",
       "      <td>33</td>\n",
       "    </tr>\n",
       "    <tr>\n",
       "      <th>All</th>\n",
       "      <td>4</td>\n",
       "      <td>51</td>\n",
       "      <td>69</td>\n",
       "      <td>6</td>\n",
       "      <td>3</td>\n",
       "      <td>1</td>\n",
       "      <td>28</td>\n",
       "      <td>64</td>\n",
       "      <td>5</td>\n",
       "      <td>4</td>\n",
       "      <td>235</td>\n",
       "    </tr>\n",
       "  </tbody>\n",
       "</table>\n",
       "</div>"
      ],
      "text/plain": [
       "Version            Version 51                                   Version 99  \\\n",
       "Overall_Experience      Awful Excellent Good No effect Not good      Awful   \n",
       "Version_Duration                                                             \n",
       "1 day                       2        12   26         2        0          0   \n",
       "1 weeks                     2        16   18         2        2          1   \n",
       "2 weeks                     0        13   16         1        1          0   \n",
       "3 weeks                     0        10    9         1        0          0   \n",
       "All                         4        51   69         6        3          1   \n",
       "\n",
       "Version                                               All  \n",
       "Overall_Experience Excellent Good No effect Not good       \n",
       "Version_Duration                                           \n",
       "1 day                      9   29         1        0   81  \n",
       "1 weeks                    9   16         1        3   70  \n",
       "2 weeks                    7   11         1        1   51  \n",
       "3 weeks                    3    8         2        0   33  \n",
       "All                       28   64         5        4  235  "
      ]
     },
     "execution_count": 11,
     "metadata": {},
     "output_type": "execute_result"
    }
   ],
   "source": [
    "pd.crosstab( index=a['Version_Duration'], columns=[a['Version'],a['Overall_Experience']], margins=True)"
   ]
  },
  {
   "cell_type": "code",
   "execution_count": 12,
   "metadata": {
    "collapsed": true
   },
   "outputs": [],
   "source": [
    "#mapping the Overall experience column by binary values of high or low rating given. \n",
    "rating = {'Excellent': 'High',\n",
    "          'Good':'High',\n",
    "          'No effect': 'Low',\n",
    "          'Not good':'Low',\n",
    "          'Awful': \"Low\"}"
   ]
  },
  {
   "cell_type": "markdown",
   "metadata": {},
   "source": [
    "### Testing to see which trial version of users tend to give a higher or lower overall experience score\n",
    "\n",
    "$\\hat{p}_{1}$ = The proportion of Trial 99 Users that gave the Nootropic a high overall experience rating\n",
    "\n",
    "$\\hat{p}_{2}$ = The proportion of Trial 51 Users that gave the Nootropic a high overall experience rating\n",
    "\n",
    "\n",
    "$H_o$: $\\hat{p}_{1}$ = $\\hat{p}_{2}$\n",
    "\n",
    "$H_A$: $\\hat{p}_{1}$ < $\\hat{p}_{2}$\n",
    "\n",
    "The overall experience between both trials were separated into its four survey collection periods at day 1, week 1, week 2, and week 3 making the samples within the two trial versions independent. Since the data is ordinal, the data was divided into binary variables where the \"Excellent\" and \"Good\" responses are considered to be a \"High\" rating. \"No effect\", \"Not good\", and \"Awful\" is categorizd as a \"Low\" rating for the user's overall experience. Proportions of high ratings across the four version durations were calculated and compared between the two trial versions using a difference in proportions to determine which one has higher ratings. \n",
    "\n",
    "\n",
    "### Day 1: \n",
    "97.43% of Trial 99 users (out of 39 ratings) gave the nootropic a high rating after using the drug for on day. 90.47% of Trial 51 users rated the version high. Because both of the samples have fewer number of failures following the CLT condition does not meet, the samples have to be simulated. Under the Randomization test, a total of 81 \"cards\" was divided up into 76 \"high\"s and 5 \"lows\". The 81 \"cards\" was then randomized and shuffled into the two trial groups consisting of size 39 for Trial 99 and size 42 for Trial 51. The observed proportion difference is 0.0695. From the simulated replicates, a p-value of 0.3579 was calcuated. Because the p-value is less than 0.05, the null hypothesis is not rejected and can conclude there is no statistical difference between the proportion of high overall experience ratings of the two trial versions on day 1. "
   ]
  },
  {
   "cell_type": "code",
   "execution_count": 13,
   "metadata": {
    "collapsed": false
   },
   "outputs": [],
   "source": [
    "df_99['Overall_Exp_Rating']= df_99['Overall_Experience'].map(rating)"
   ]
  },
  {
   "cell_type": "code",
   "execution_count": 14,
   "metadata": {
    "collapsed": true
   },
   "outputs": [],
   "source": [
    "df_51['Overall_Exp_Rating'] = df_51['Overall_Experience'].map(rating)"
   ]
  },
  {
   "cell_type": "code",
   "execution_count": 15,
   "metadata": {
    "collapsed": false
   },
   "outputs": [
    {
     "data": {
      "text/html": [
       "<div>\n",
       "<table border=\"1\" class=\"dataframe\">\n",
       "  <thead>\n",
       "    <tr style=\"text-align: right;\">\n",
       "      <th>Overall_Exp_Rating</th>\n",
       "      <th>High</th>\n",
       "      <th>Low</th>\n",
       "      <th>All</th>\n",
       "    </tr>\n",
       "    <tr>\n",
       "      <th>Version_Duration</th>\n",
       "      <th></th>\n",
       "      <th></th>\n",
       "      <th></th>\n",
       "    </tr>\n",
       "  </thead>\n",
       "  <tbody>\n",
       "    <tr>\n",
       "      <th>1 day</th>\n",
       "      <td>38</td>\n",
       "      <td>4</td>\n",
       "      <td>42</td>\n",
       "    </tr>\n",
       "    <tr>\n",
       "      <th>1 weeks</th>\n",
       "      <td>34</td>\n",
       "      <td>6</td>\n",
       "      <td>40</td>\n",
       "    </tr>\n",
       "    <tr>\n",
       "      <th>2 weeks</th>\n",
       "      <td>29</td>\n",
       "      <td>2</td>\n",
       "      <td>31</td>\n",
       "    </tr>\n",
       "    <tr>\n",
       "      <th>3 weeks</th>\n",
       "      <td>19</td>\n",
       "      <td>1</td>\n",
       "      <td>20</td>\n",
       "    </tr>\n",
       "    <tr>\n",
       "      <th>All</th>\n",
       "      <td>120</td>\n",
       "      <td>13</td>\n",
       "      <td>133</td>\n",
       "    </tr>\n",
       "  </tbody>\n",
       "</table>\n",
       "</div>"
      ],
      "text/plain": [
       "Overall_Exp_Rating  High  Low  All\n",
       "Version_Duration                  \n",
       "1 day                 38    4   42\n",
       "1 weeks               34    6   40\n",
       "2 weeks               29    2   31\n",
       "3 weeks               19    1   20\n",
       "All                  120   13  133"
      ]
     },
     "execution_count": 15,
     "metadata": {},
     "output_type": "execute_result"
    }
   ],
   "source": [
    "#version 51\n",
    "pd.crosstab(index=df_51['Version_Duration'], columns=df_51['Overall_Exp_Rating'], margins=True)"
   ]
  },
  {
   "cell_type": "code",
   "execution_count": 16,
   "metadata": {
    "collapsed": false
   },
   "outputs": [
    {
     "data": {
      "text/html": [
       "<div>\n",
       "<table border=\"1\" class=\"dataframe\">\n",
       "  <thead>\n",
       "    <tr style=\"text-align: right;\">\n",
       "      <th>Overall_Exp_Rating</th>\n",
       "      <th>High</th>\n",
       "      <th>Low</th>\n",
       "      <th>All</th>\n",
       "    </tr>\n",
       "    <tr>\n",
       "      <th>Version_Duration</th>\n",
       "      <th></th>\n",
       "      <th></th>\n",
       "      <th></th>\n",
       "    </tr>\n",
       "  </thead>\n",
       "  <tbody>\n",
       "    <tr>\n",
       "      <th>1 day</th>\n",
       "      <td>38</td>\n",
       "      <td>1</td>\n",
       "      <td>39</td>\n",
       "    </tr>\n",
       "    <tr>\n",
       "      <th>1 weeks</th>\n",
       "      <td>25</td>\n",
       "      <td>5</td>\n",
       "      <td>30</td>\n",
       "    </tr>\n",
       "    <tr>\n",
       "      <th>2 weeks</th>\n",
       "      <td>18</td>\n",
       "      <td>2</td>\n",
       "      <td>20</td>\n",
       "    </tr>\n",
       "    <tr>\n",
       "      <th>3 weeks</th>\n",
       "      <td>11</td>\n",
       "      <td>2</td>\n",
       "      <td>13</td>\n",
       "    </tr>\n",
       "    <tr>\n",
       "      <th>All</th>\n",
       "      <td>92</td>\n",
       "      <td>10</td>\n",
       "      <td>102</td>\n",
       "    </tr>\n",
       "  </tbody>\n",
       "</table>\n",
       "</div>"
      ],
      "text/plain": [
       "Overall_Exp_Rating  High  Low  All\n",
       "Version_Duration                  \n",
       "1 day                 38    1   39\n",
       "1 weeks               25    5   30\n",
       "2 weeks               18    2   20\n",
       "3 weeks               11    2   13\n",
       "All                   92   10  102"
      ]
     },
     "execution_count": 16,
     "metadata": {},
     "output_type": "execute_result"
    }
   ],
   "source": [
    "#version 99\n",
    "pd.crosstab(index=df_99['Version_Duration'], columns=df_99['Overall_Exp_Rating'], margins=True)"
   ]
  },
  {
   "cell_type": "code",
   "execution_count": 17,
   "metadata": {
    "collapsed": true
   },
   "outputs": [],
   "source": [
    "a['Overall_Exp_Rating']= a['Overall_Experience'].map(rating)"
   ]
  },
  {
   "cell_type": "code",
   "execution_count": 18,
   "metadata": {
    "collapsed": false
   },
   "outputs": [
    {
     "data": {
      "text/html": [
       "<div>\n",
       "<table border=\"1\" class=\"dataframe\">\n",
       "  <thead>\n",
       "    <tr style=\"text-align: right;\">\n",
       "      <th>Version</th>\n",
       "      <th>Version 51</th>\n",
       "      <th>Version 99</th>\n",
       "      <th>All</th>\n",
       "    </tr>\n",
       "    <tr>\n",
       "      <th>Overall_Exp_Rating</th>\n",
       "      <th></th>\n",
       "      <th></th>\n",
       "      <th></th>\n",
       "    </tr>\n",
       "  </thead>\n",
       "  <tbody>\n",
       "    <tr>\n",
       "      <th>High</th>\n",
       "      <td>38</td>\n",
       "      <td>38</td>\n",
       "      <td>76</td>\n",
       "    </tr>\n",
       "    <tr>\n",
       "      <th>Low</th>\n",
       "      <td>4</td>\n",
       "      <td>1</td>\n",
       "      <td>5</td>\n",
       "    </tr>\n",
       "    <tr>\n",
       "      <th>All</th>\n",
       "      <td>42</td>\n",
       "      <td>39</td>\n",
       "      <td>81</td>\n",
       "    </tr>\n",
       "  </tbody>\n",
       "</table>\n",
       "</div>"
      ],
      "text/plain": [
       "Version             Version 51  Version 99  All\n",
       "Overall_Exp_Rating                             \n",
       "High                        38          38   76\n",
       "Low                          4           1    5\n",
       "All                         42          39   81"
      ]
     },
     "execution_count": 18,
     "metadata": {},
     "output_type": "execute_result"
    }
   ],
   "source": [
    "day_1 = a[a.Version_Duration=='1 day']\n",
    "pd.crosstab(index=day_1['Overall_Exp_Rating'], columns=day_1['Version'], margins=True)"
   ]
  },
  {
   "cell_type": "code",
   "execution_count": 19,
   "metadata": {
    "collapsed": false
   },
   "outputs": [],
   "source": [
    "permuted_data = np.random.permutation(day_1['Overall_Exp_Rating'])"
   ]
  },
  {
   "cell_type": "code",
   "execution_count": 20,
   "metadata": {
    "collapsed": false
   },
   "outputs": [
    {
     "data": {
      "text/plain": [
       "(array(['High', 'Low'], dtype=object), array([76,  5]))"
      ]
     },
     "execution_count": 20,
     "metadata": {},
     "output_type": "execute_result"
    }
   ],
   "source": [
    "np.unique((np.random.permutation(day_1['Overall_Exp_Rating'])), return_counts=True)"
   ]
  },
  {
   "cell_type": "code",
   "execution_count": null,
   "metadata": {
    "collapsed": true
   },
   "outputs": [],
   "source": []
  },
  {
   "cell_type": "code",
   "execution_count": 21,
   "metadata": {
    "collapsed": false
   },
   "outputs": [
    {
     "data": {
      "text/plain": [
       "39"
      ]
     },
     "execution_count": 21,
     "metadata": {},
     "output_type": "execute_result"
    }
   ],
   "source": [
    "len(permuted_data[:len(day_1[day_1.Version=='Version 99'][['Version']])]) #version 99, group 1"
   ]
  },
  {
   "cell_type": "code",
   "execution_count": 22,
   "metadata": {
    "collapsed": false
   },
   "outputs": [
    {
     "data": {
      "text/plain": [
       "42"
      ]
     },
     "execution_count": 22,
     "metadata": {},
     "output_type": "execute_result"
    }
   ],
   "source": [
    "len(permuted_data[len(day_1[day_1.Version=='Version 99'][['Version']]):]) #version 51, group 2"
   ]
  },
  {
   "cell_type": "code",
   "execution_count": null,
   "metadata": {
    "collapsed": true
   },
   "outputs": [],
   "source": []
  },
  {
   "cell_type": "code",
   "execution_count": 24,
   "metadata": {
    "collapsed": true
   },
   "outputs": [],
   "source": [
    "d99 = df_99[df_99.Version_Duration=='1 day']['Overall_Exp_Rating']\n",
    "d51 = df_51[df_51.Version_Duration=='1 day']['Overall_Exp_Rating']"
   ]
  },
  {
   "cell_type": "code",
   "execution_count": 25,
   "metadata": {
    "collapsed": false
   },
   "outputs": [
    {
     "data": {
      "text/plain": [
       "(array(['High', 'High', 'High', 'High', 'High', 'High', 'High', 'High',\n",
       "        'High', 'High', 'High', 'High', 'High', 'High', 'High', 'High',\n",
       "        'High', 'High', 'High', 'High', 'High', 'High', 'High', 'Low',\n",
       "        'High', 'High', 'High', 'High', 'High', 'High', 'High', 'High',\n",
       "        'High', 'High', 'High', 'Low', 'High', 'Low', 'High'], dtype=object),\n",
       " array(['High', 'High', 'High', 'High', 'High', 'High', 'High', 'High',\n",
       "        'High', 'High', 'High', 'Low', 'High', 'High', 'High', 'High',\n",
       "        'High', 'High', 'High', 'High', 'High', 'High', 'High', 'High',\n",
       "        'Low', 'High', 'High', 'High', 'High', 'High', 'High', 'High',\n",
       "        'High', 'High', 'High', 'High', 'High', 'High', 'High', 'High',\n",
       "        'High', 'High'], dtype=object))"
      ]
     },
     "execution_count": 25,
     "metadata": {},
     "output_type": "execute_result"
    }
   ],
   "source": [
    "permutation_sample(d99, d51)"
   ]
  },
  {
   "cell_type": "code",
   "execution_count": null,
   "metadata": {
    "collapsed": true
   },
   "outputs": [],
   "source": []
  },
  {
   "cell_type": "code",
   "execution_count": null,
   "metadata": {
    "collapsed": false
   },
   "outputs": [],
   "source": []
  },
  {
   "cell_type": "code",
   "execution_count": 26,
   "metadata": {
    "collapsed": false
   },
   "outputs": [
    {
     "data": {
      "text/plain": [
       "0.06959706959706957"
      ]
     },
     "execution_count": 26,
     "metadata": {},
     "output_type": "execute_result"
    }
   ],
   "source": [
    "obs = prop_diff(d99, d51)\n",
    "obs\n",
    "# original data "
   ]
  },
  {
   "cell_type": "code",
   "execution_count": 27,
   "metadata": {
    "collapsed": false
   },
   "outputs": [],
   "source": [
    "reps = draw_perm_reps(d99, d51, prop_diff, size=1000)"
   ]
  },
  {
   "cell_type": "code",
   "execution_count": 28,
   "metadata": {
    "collapsed": false
   },
   "outputs": [
    {
     "data": {
      "text/plain": [
       "<matplotlib.text.Text at 0x11b076250>"
      ]
     },
     "execution_count": 28,
     "metadata": {},
     "output_type": "execute_result"
    },
    {
     "data": {
      "image/png": "[encoded data removed]",
      "text/plain": [
       "<matplotlib.figure.Figure at 0x118d89d50>"
      ]
     },
     "metadata": {},
     "output_type": "display_data"
    }
   ],
   "source": [
    "plt.hist(reps)\n",
    "\n",
    "l = plt.axvline(obs,color='b', linewidth=2)\n",
    "#ll = plt.axvline(-obs,color='b', linewidth=2)\n",
    "plt.legend([l],['observed = {0:f}'.format(obs)], loc=2)\n",
    "\n",
    "plt.title('Simulated Data for Day 1')\n"
   ]
  },
  {
   "cell_type": "code",
   "execution_count": 29,
   "metadata": {
    "collapsed": false
   },
   "outputs": [
    {
     "data": {
      "text/plain": [
       "0.19900000000000001"
      ]
     },
     "execution_count": 29,
     "metadata": {},
     "output_type": "execute_result"
    }
   ],
   "source": [
    "p = np.sum((reps) >= obs) / len(reps)\n",
    "p"
   ]
  },
  {
   "cell_type": "code",
   "execution_count": 30,
   "metadata": {
    "collapsed": false
   },
   "outputs": [
    {
     "data": {
      "text/plain": [
       "array([-0.12820513,  0.11904762])"
      ]
     },
     "execution_count": 30,
     "metadata": {},
     "output_type": "execute_result"
    }
   ],
   "source": [
    "np.percentile(reps, [2.5, 97.5])"
   ]
  },
  {
   "cell_type": "code",
   "execution_count": null,
   "metadata": {
    "collapsed": true
   },
   "outputs": [],
   "source": []
  },
  {
   "cell_type": "code",
   "execution_count": 31,
   "metadata": {
    "collapsed": false
   },
   "outputs": [],
   "source": [
    "df_overall_exp = pd.concat([t99,t51])\n",
    "df_overall_exp['Overall_Exp_Rating'] = df_overall_exp['Overall_Experience'].map(rating)"
   ]
  },
  {
   "cell_type": "code",
   "execution_count": 32,
   "metadata": {
    "collapsed": false
   },
   "outputs": [],
   "source": [
    "#week 1\n",
    "\n",
    "d99_week1 = df_99[df_99.Version_Duration=='1 weeks']['Overall_Exp_Rating']\n",
    "d51_week1 = df_51[df_51.Version_Duration=='1 weeks']['Overall_Exp_Rating']\n"
   ]
  },
  {
   "cell_type": "code",
   "execution_count": 33,
   "metadata": {
    "collapsed": false
   },
   "outputs": [
    {
     "data": {
      "text/html": [
       "<div>\n",
       "<table border=\"1\" class=\"dataframe\">\n",
       "  <thead>\n",
       "    <tr style=\"text-align: right;\">\n",
       "      <th>Version</th>\n",
       "      <th>Version 51</th>\n",
       "      <th>Version 99</th>\n",
       "      <th>All</th>\n",
       "    </tr>\n",
       "    <tr>\n",
       "      <th>Overall_Exp_Rating</th>\n",
       "      <th></th>\n",
       "      <th></th>\n",
       "      <th></th>\n",
       "    </tr>\n",
       "  </thead>\n",
       "  <tbody>\n",
       "    <tr>\n",
       "      <th>High</th>\n",
       "      <td>34</td>\n",
       "      <td>25</td>\n",
       "      <td>59</td>\n",
       "    </tr>\n",
       "    <tr>\n",
       "      <th>Low</th>\n",
       "      <td>6</td>\n",
       "      <td>5</td>\n",
       "      <td>11</td>\n",
       "    </tr>\n",
       "    <tr>\n",
       "      <th>All</th>\n",
       "      <td>40</td>\n",
       "      <td>30</td>\n",
       "      <td>70</td>\n",
       "    </tr>\n",
       "  </tbody>\n",
       "</table>\n",
       "</div>"
      ],
      "text/plain": [
       "Version             Version 51  Version 99  All\n",
       "Overall_Exp_Rating                             \n",
       "High                        34          25   59\n",
       "Low                          6           5   11\n",
       "All                         40          30   70"
      ]
     },
     "execution_count": 33,
     "metadata": {},
     "output_type": "execute_result"
    }
   ],
   "source": [
    "week1 = df_overall_exp[df_overall_exp.Version_Duration=='1 weeks']\n",
    "pd.crosstab(index=week1['Overall_Exp_Rating'], columns=week1['Version'], margins=True)"
   ]
  },
  {
   "cell_type": "code",
   "execution_count": null,
   "metadata": {
    "collapsed": false
   },
   "outputs": [],
   "source": []
  },
  {
   "cell_type": "code",
   "execution_count": 34,
   "metadata": {
    "collapsed": false
   },
   "outputs": [],
   "source": [
    "w1 = get_verduration(df_overall_exp, '1 weeks')"
   ]
  },
  {
   "cell_type": "code",
   "execution_count": 35,
   "metadata": {
    "collapsed": false
   },
   "outputs": [
    {
     "data": {
      "text/html": [
       "<div>\n",
       "<table border=\"1\" class=\"dataframe\">\n",
       "  <thead>\n",
       "    <tr style=\"text-align: right;\">\n",
       "      <th>Version</th>\n",
       "      <th>Version 51</th>\n",
       "      <th>Version 99</th>\n",
       "      <th>All</th>\n",
       "    </tr>\n",
       "    <tr>\n",
       "      <th>Overall_Exp_Rating</th>\n",
       "      <th></th>\n",
       "      <th></th>\n",
       "      <th></th>\n",
       "    </tr>\n",
       "  </thead>\n",
       "  <tbody>\n",
       "    <tr>\n",
       "      <th>High</th>\n",
       "      <td>34</td>\n",
       "      <td>25</td>\n",
       "      <td>59</td>\n",
       "    </tr>\n",
       "    <tr>\n",
       "      <th>Low</th>\n",
       "      <td>6</td>\n",
       "      <td>5</td>\n",
       "      <td>11</td>\n",
       "    </tr>\n",
       "    <tr>\n",
       "      <th>All</th>\n",
       "      <td>40</td>\n",
       "      <td>30</td>\n",
       "      <td>70</td>\n",
       "    </tr>\n",
       "  </tbody>\n",
       "</table>\n",
       "</div>"
      ],
      "text/plain": [
       "Version             Version 51  Version 99  All\n",
       "Overall_Exp_Rating                             \n",
       "High                        34          25   59\n",
       "Low                          6           5   11\n",
       "All                         40          30   70"
      ]
     },
     "execution_count": 35,
     "metadata": {},
     "output_type": "execute_result"
    }
   ],
   "source": [
    "get_crosstab(w1)"
   ]
  },
  {
   "cell_type": "code",
   "execution_count": 36,
   "metadata": {
    "collapsed": false
   },
   "outputs": [
    {
     "data": {
      "text/plain": [
       "(array(['High', 'High', 'High', 'High', 'High', 'High', 'High', 'High',\n",
       "        'High', 'High', 'Low', 'High', 'High', 'High', 'High', 'High',\n",
       "        'High', 'High', 'High', 'Low', 'High', 'High', 'High', 'High',\n",
       "        'Low', 'High', 'High', 'High', 'High', 'High'], dtype=object),\n",
       " array(['High', 'High', 'Low', 'High', 'High', 'High', 'High', 'High',\n",
       "        'High', 'High', 'High', 'High', 'High', 'High', 'High', 'High',\n",
       "        'Low', 'High', 'Low', 'High', 'High', 'High', 'High', 'High',\n",
       "        'High', 'Low', 'Low', 'Low', 'High', 'High', 'High', 'Low', 'High',\n",
       "        'High', 'High', 'High', 'High', 'High', 'Low', 'High'], dtype=object))"
      ]
     },
     "execution_count": 36,
     "metadata": {},
     "output_type": "execute_result"
    }
   ],
   "source": [
    "permutation_sample(d99_week1, d51_week1)"
   ]
  },
  {
   "cell_type": "code",
   "execution_count": 37,
   "metadata": {
    "collapsed": false
   },
   "outputs": [
    {
     "data": {
      "text/plain": [
       "-0.016666666666666607"
      ]
     },
     "execution_count": 37,
     "metadata": {},
     "output_type": "execute_result"
    }
   ],
   "source": [
    "obs_week1 = prop_diff(d99_week1, d51_week1)\n",
    "obs_week1"
   ]
  },
  {
   "cell_type": "code",
   "execution_count": 38,
   "metadata": {
    "collapsed": true
   },
   "outputs": [],
   "source": [
    "reps_week1 = draw_perm_reps(d99_week1, d51_week1, prop_diff, size=1000)"
   ]
  },
  {
   "cell_type": "code",
   "execution_count": 39,
   "metadata": {
    "collapsed": false
   },
   "outputs": [
    {
     "data": {
      "text/plain": [
       "<matplotlib.text.Text at 0x11b6c5150>"
      ]
     },
     "execution_count": 39,
     "metadata": {},
     "output_type": "execute_result"
    },
    {
     "data": {
      "image/png": "[encoded data removed]",
      "text/plain": [
       "<matplotlib.figure.Figure at 0x11b4c2b10>"
      ]
     },
     "metadata": {},
     "output_type": "display_data"
    }
   ],
   "source": [
    "plt.hist(reps_week1)\n",
    "\n",
    "l = plt.axvline(obs_week1,color='b', linewidth=2)\n",
    "#ll = plt.axvline(-obs,color='b', linewidth=2)\n",
    "plt.legend([l],['observed = {0:f}'.format(obs_week1)], loc=2)\n",
    "\n",
    "plt.title('Simulated Data for Day week1')\n"
   ]
  },
  {
   "cell_type": "code",
   "execution_count": 40,
   "metadata": {
    "collapsed": false
   },
   "outputs": [
    {
     "data": {
      "text/plain": [
       "0.69799999999999995"
      ]
     },
     "execution_count": 40,
     "metadata": {},
     "output_type": "execute_result"
    }
   ],
   "source": [
    "np.sum((reps_week1) >= obs_week1) / len(reps_week1)"
   ]
  },
  {
   "cell_type": "code",
   "execution_count": 41,
   "metadata": {
    "collapsed": true
   },
   "outputs": [],
   "source": [
    "#week 2"
   ]
  },
  {
   "cell_type": "code",
   "execution_count": 42,
   "metadata": {
    "collapsed": false
   },
   "outputs": [
    {
     "data": {
      "text/html": [
       "<div>\n",
       "<table border=\"1\" class=\"dataframe\">\n",
       "  <thead>\n",
       "    <tr style=\"text-align: right;\">\n",
       "      <th>Version</th>\n",
       "      <th>Version 51</th>\n",
       "      <th>Version 99</th>\n",
       "      <th>All</th>\n",
       "    </tr>\n",
       "    <tr>\n",
       "      <th>Overall_Exp_Rating</th>\n",
       "      <th></th>\n",
       "      <th></th>\n",
       "      <th></th>\n",
       "    </tr>\n",
       "  </thead>\n",
       "  <tbody>\n",
       "    <tr>\n",
       "      <th>High</th>\n",
       "      <td>29</td>\n",
       "      <td>18</td>\n",
       "      <td>47</td>\n",
       "    </tr>\n",
       "    <tr>\n",
       "      <th>Low</th>\n",
       "      <td>2</td>\n",
       "      <td>2</td>\n",
       "      <td>4</td>\n",
       "    </tr>\n",
       "    <tr>\n",
       "      <th>All</th>\n",
       "      <td>31</td>\n",
       "      <td>20</td>\n",
       "      <td>51</td>\n",
       "    </tr>\n",
       "  </tbody>\n",
       "</table>\n",
       "</div>"
      ],
      "text/plain": [
       "Version             Version 51  Version 99  All\n",
       "Overall_Exp_Rating                             \n",
       "High                        29          18   47\n",
       "Low                          2           2    4\n",
       "All                         31          20   51"
      ]
     },
     "execution_count": 42,
     "metadata": {},
     "output_type": "execute_result"
    }
   ],
   "source": [
    "w2 = get_verduration(df_overall_exp, '2 weeks')\n",
    "get_crosstab(w2)"
   ]
  },
  {
   "cell_type": "code",
   "execution_count": 43,
   "metadata": {
    "collapsed": true
   },
   "outputs": [],
   "source": [
    "d99_week2 = df_99[df_99.Version_Duration=='2 weeks']['Overall_Exp_Rating']\n",
    "d51_week2 = df_51[df_51.Version_Duration=='2 weeks']['Overall_Exp_Rating']"
   ]
  },
  {
   "cell_type": "code",
   "execution_count": 44,
   "metadata": {
    "collapsed": false
   },
   "outputs": [
    {
     "data": {
      "text/plain": [
       "(array(['High', 'High', 'High', 'High', 'High', 'High', 'High', 'High',\n",
       "        'Low', 'High', 'High', 'High', 'High', 'High', 'High', 'High',\n",
       "        'High', 'High', 'High', 'High'], dtype=object),\n",
       " array(['High', 'High', 'Low', 'High', 'High', 'Low', 'High', 'High',\n",
       "        'High', 'High', 'High', 'High', 'High', 'High', 'High', 'High',\n",
       "        'High', 'High', 'High', 'High', 'High', 'High', 'High', 'High',\n",
       "        'High', 'High', 'High', 'High', 'High', 'Low', 'High'], dtype=object))"
      ]
     },
     "execution_count": 44,
     "metadata": {},
     "output_type": "execute_result"
    }
   ],
   "source": [
    "permutation_sample(d99_week2, d51_week2)"
   ]
  },
  {
   "cell_type": "code",
   "execution_count": 45,
   "metadata": {
    "collapsed": false
   },
   "outputs": [
    {
     "data": {
      "text/plain": [
       "-0.03548387096774186"
      ]
     },
     "execution_count": 45,
     "metadata": {},
     "output_type": "execute_result"
    }
   ],
   "source": [
    "obs_week2 = prop_diff(d99_week2, d51_week2)\n",
    "obs_week2\n"
   ]
  },
  {
   "cell_type": "code",
   "execution_count": 46,
   "metadata": {
    "collapsed": true
   },
   "outputs": [],
   "source": [
    "reps_week2 = draw_perm_reps(d99_week2, d51_week2, prop_diff, size=1000)"
   ]
  },
  {
   "cell_type": "code",
   "execution_count": 47,
   "metadata": {
    "collapsed": false
   },
   "outputs": [
    {
     "data": {
      "text/plain": [
       "<matplotlib.text.Text at 0x11b9f5f90>"
      ]
     },
     "execution_count": 47,
     "metadata": {},
     "output_type": "execute_result"
    },
    {
     "data": {
      "image/png": "[encoded data removed]",
      "text/plain": [
       "<matplotlib.figure.Figure at 0x11b519f50>"
      ]
     },
     "metadata": {},
     "output_type": "display_data"
    }
   ],
   "source": [
    "plt.hist(reps_week2)\n",
    "\n",
    "l = plt.axvline(obs_week2,color='b', linewidth=2)\n",
    "#ll = plt.axvline(-obs,color='b', linewidth=2)\n",
    "plt.legend([l],['observed = {0:f}'.format(obs_week2)], loc=2)\n",
    "\n",
    "plt.title('Simulated Data for Day week2')\n"
   ]
  },
  {
   "cell_type": "code",
   "execution_count": 48,
   "metadata": {
    "collapsed": false
   },
   "outputs": [
    {
     "data": {
      "text/plain": [
       "0.85099999999999998"
      ]
     },
     "execution_count": 48,
     "metadata": {},
     "output_type": "execute_result"
    }
   ],
   "source": [
    "np.sum((reps_week2) >= obs_week2) / len(reps_week2)"
   ]
  },
  {
   "cell_type": "code",
   "execution_count": 49,
   "metadata": {
    "collapsed": true
   },
   "outputs": [],
   "source": [
    "#week 3"
   ]
  },
  {
   "cell_type": "code",
   "execution_count": 50,
   "metadata": {
    "collapsed": false
   },
   "outputs": [
    {
     "data": {
      "text/html": [
       "<div>\n",
       "<table border=\"1\" class=\"dataframe\">\n",
       "  <thead>\n",
       "    <tr style=\"text-align: right;\">\n",
       "      <th>Version</th>\n",
       "      <th>Version 51</th>\n",
       "      <th>Version 99</th>\n",
       "      <th>All</th>\n",
       "    </tr>\n",
       "    <tr>\n",
       "      <th>Overall_Exp_Rating</th>\n",
       "      <th></th>\n",
       "      <th></th>\n",
       "      <th></th>\n",
       "    </tr>\n",
       "  </thead>\n",
       "  <tbody>\n",
       "    <tr>\n",
       "      <th>High</th>\n",
       "      <td>19</td>\n",
       "      <td>11</td>\n",
       "      <td>30</td>\n",
       "    </tr>\n",
       "    <tr>\n",
       "      <th>Low</th>\n",
       "      <td>1</td>\n",
       "      <td>2</td>\n",
       "      <td>3</td>\n",
       "    </tr>\n",
       "    <tr>\n",
       "      <th>All</th>\n",
       "      <td>20</td>\n",
       "      <td>13</td>\n",
       "      <td>33</td>\n",
       "    </tr>\n",
       "  </tbody>\n",
       "</table>\n",
       "</div>"
      ],
      "text/plain": [
       "Version             Version 51  Version 99  All\n",
       "Overall_Exp_Rating                             \n",
       "High                        19          11   30\n",
       "Low                          1           2    3\n",
       "All                         20          13   33"
      ]
     },
     "execution_count": 50,
     "metadata": {},
     "output_type": "execute_result"
    }
   ],
   "source": [
    "w3 = get_verduration(df_overall_exp, '3 weeks')\n",
    "get_crosstab(w3)"
   ]
  },
  {
   "cell_type": "code",
   "execution_count": 51,
   "metadata": {
    "collapsed": true
   },
   "outputs": [],
   "source": [
    "d99_week3 = df_99[df_99.Version_Duration=='3 weeks']['Overall_Exp_Rating']\n",
    "d51_week3 = df_51[df_51.Version_Duration=='3 weeks']['Overall_Exp_Rating']"
   ]
  },
  {
   "cell_type": "code",
   "execution_count": 52,
   "metadata": {
    "collapsed": false
   },
   "outputs": [
    {
     "data": {
      "text/plain": [
       "-0.10384615384615381"
      ]
     },
     "execution_count": 52,
     "metadata": {},
     "output_type": "execute_result"
    }
   ],
   "source": [
    "obs_week3 = prop_diff(d99_week3, d51_week3)\n",
    "obs_week3\n"
   ]
  },
  {
   "cell_type": "code",
   "execution_count": 53,
   "metadata": {
    "collapsed": true
   },
   "outputs": [],
   "source": [
    "reps_week3 = draw_perm_reps(d99_week3, d51_week3, prop_diff, size=1000)"
   ]
  },
  {
   "cell_type": "code",
   "execution_count": 54,
   "metadata": {
    "collapsed": false
   },
   "outputs": [
    {
     "data": {
      "text/plain": [
       "<matplotlib.text.Text at 0x11bd9d510>"
      ]
     },
     "execution_count": 54,
     "metadata": {},
     "output_type": "execute_result"
    },
    {
     "data": {
      "image/png": "[encoded data removed]",
      "text/plain": [
       "<matplotlib.figure.Figure at 0x11bc14f10>"
      ]
     },
     "metadata": {},
     "output_type": "display_data"
    }
   ],
   "source": [
    "plt.hist(reps_week3)\n",
    "\n",
    "l = plt.axvline(obs_week3,color='b', linewidth=2)\n",
    "#ll = plt.axvline(-obs,color='b', linewidth=2)\n",
    "plt.legend([l],['observed = {0:f}'.format(obs_week3)], loc=2)\n",
    "\n",
    "plt.title('Simulated Data for Day week2')\n"
   ]
  },
  {
   "cell_type": "code",
   "execution_count": 55,
   "metadata": {
    "collapsed": false
   },
   "outputs": [
    {
     "data": {
      "text/plain": [
       "0.94799999999999995"
      ]
     },
     "execution_count": 55,
     "metadata": {},
     "output_type": "execute_result"
    }
   ],
   "source": [
    "np.sum((reps_week3) >= obs_week3) / len(reps_week3)"
   ]
  },
  {
   "cell_type": "code",
   "execution_count": 56,
   "metadata": {
    "collapsed": true
   },
   "outputs": [],
   "source": [
    "#simulate all data without weekly restrictions"
   ]
  },
  {
   "cell_type": "code",
   "execution_count": null,
   "metadata": {
    "collapsed": true
   },
   "outputs": [],
   "source": []
  },
  {
   "cell_type": "code",
   "execution_count": 57,
   "metadata": {
    "collapsed": false
   },
   "outputs": [],
   "source": [
    "reps = draw_perm_reps(df_99['Overall_Exp_Rating'], df_51['Overall_Exp_Rating'], prop_diff, size=1000)"
   ]
  },
  {
   "cell_type": "code",
   "execution_count": 58,
   "metadata": {
    "collapsed": false
   },
   "outputs": [
    {
     "data": {
      "text/plain": [
       "-0.0002948547840188054"
      ]
     },
     "execution_count": 58,
     "metadata": {},
     "output_type": "execute_result"
    }
   ],
   "source": [
    "observed = prop_diff(df_99['Overall_Exp_Rating'], df_51['Overall_Exp_Rating'])\n",
    "observed"
   ]
  },
  {
   "cell_type": "code",
   "execution_count": 59,
   "metadata": {
    "collapsed": false
   },
   "outputs": [
    {
     "data": {
      "text/plain": [
       "<matplotlib.text.Text at 0x11c81c410>"
      ]
     },
     "execution_count": 59,
     "metadata": {},
     "output_type": "execute_result"
    },
    {
     "data": {
      "image/png": "[encoded data removed]",
      "text/plain": [
       "<matplotlib.figure.Figure at 0x11be23c50>"
      ]
     },
     "metadata": {},
     "output_type": "display_data"
    }
   ],
   "source": [
    "plt.hist(reps)\n",
    "\n",
    "l = plt.axvline(observed,color='b', linewidth=2)\n",
    "#ll = plt.axvline(-obs,color='b', linewidth=2)\n",
    "plt.legend([l],['observed = {0:f}'.format(observed)], loc=2)\n",
    "\n",
    "plt.title('Simulated Data for Day week2')\n"
   ]
  },
  {
   "cell_type": "code",
   "execution_count": 60,
   "metadata": {
    "collapsed": false
   },
   "outputs": [
    {
     "data": {
      "text/plain": [
       "0.629"
      ]
     },
     "execution_count": 60,
     "metadata": {},
     "output_type": "execute_result"
    }
   ],
   "source": [
    "np.sum((reps) >= observed) / len(reps)"
   ]
  },
  {
   "cell_type": "markdown",
   "metadata": {},
   "source": [
    "## Tracking the differences between Overall Experience score from day 1 to week 3\n"
   ]
  },
  {
   "cell_type": "code",
   "execution_count": 61,
   "metadata": {
    "collapsed": true
   },
   "outputs": [],
   "source": [
    "#changing the overall experience rating score into numeric number\n",
    "\n",
    "exp_numeric_rating={'Excellent': 5, 'Good':4, 'No effect': 3, 'Not good': 4, 'Awful': 1}\n",
    "df_99['Overall_Exp_Numeric'] = df_99['Overall_Experience'].map(exp_numeric_rating)"
   ]
  },
  {
   "cell_type": "code",
   "execution_count": 62,
   "metadata": {
    "collapsed": true
   },
   "outputs": [],
   "source": [
    "df_51['Overall_Exp_Numeric'] = df_51['Overall_Experience'].map(exp_numeric_rating)"
   ]
  },
  {
   "cell_type": "code",
   "execution_count": 63,
   "metadata": {
    "collapsed": false
   },
   "outputs": [
    {
     "data": {
      "text/plain": [
       "MannwhitneyuResult(statistic=7717.0, pvalue=0.02040091180895481)"
      ]
     },
     "execution_count": 63,
     "metadata": {},
     "output_type": "execute_result"
    }
   ],
   "source": [
    "stats.mannwhitneyu(df_99['Overall_Experience'], df_51['Overall_Experience'], alternative='greater')"
   ]
  },
  {
   "cell_type": "code",
   "execution_count": 64,
   "metadata": {
    "collapsed": false
   },
   "outputs": [
    {
     "data": {
      "text/plain": [
       "MannwhitneyuResult(statistic=6175.0, pvalue=0.91306650392218158)"
      ]
     },
     "execution_count": 64,
     "metadata": {},
     "output_type": "execute_result"
    }
   ],
   "source": [
    "stats.mannwhitneyu(df_99['Overall_Exp_Numeric'], df_51['Overall_Exp_Numeric'], alternative='greater')"
   ]
  },
  {
   "cell_type": "code",
   "execution_count": 65,
   "metadata": {
    "collapsed": false
   },
   "outputs": [
    {
     "data": {
      "text/plain": [
       "Ttest_indResult(statistic=-0.56357365136352078, pvalue=0.5735863071518823)"
      ]
     },
     "execution_count": 65,
     "metadata": {},
     "output_type": "execute_result"
    }
   ],
   "source": [
    "stats.ttest_ind(df_99['Overall_Exp_Numeric'], df_51['Overall_Exp_Numeric'], equal_var=False)"
   ]
  },
  {
   "cell_type": "code",
   "execution_count": null,
   "metadata": {
    "collapsed": true
   },
   "outputs": [],
   "source": []
  },
  {
   "cell_type": "code",
   "execution_count": 67,
   "metadata": {
    "collapsed": false
   },
   "outputs": [
    {
     "data": {
      "text/plain": [
       "-0.05204186937933031"
      ]
     },
     "execution_count": 67,
     "metadata": {},
     "output_type": "execute_result"
    }
   ],
   "source": [
    "diff_means = df_99['Overall_Exp_Numeric'].mean() - df_51['Overall_Exp_Numeric'].mean()\n",
    "diff_means"
   ]
  },
  {
   "cell_type": "code",
   "execution_count": 68,
   "metadata": {
    "collapsed": false
   },
   "outputs": [],
   "source": [
    "s1 = df_99['Overall_Exp_Numeric'].std()\n",
    "s2 = df_51['Overall_Exp_Numeric'].std()\n",
    "\n",
    "n1 = len(df_99['Overall_Exp_Numeric'])\n",
    "n2 = len(df_51['Overall_Exp_Numeric'])"
   ]
  },
  {
   "cell_type": "code",
   "execution_count": 69,
   "metadata": {
    "collapsed": false
   },
   "outputs": [],
   "source": [
    "SEM  = np.sqrt(((s1**2)/n1) + ((s2**2)/n2))"
   ]
  },
  {
   "cell_type": "code",
   "execution_count": 70,
   "metadata": {
    "collapsed": false
   },
   "outputs": [
    {
     "data": {
      "text/plain": [
       "(-0.23303341101138084, 0.12894967225272022)"
      ]
     },
     "execution_count": 70,
     "metadata": {},
     "output_type": "execute_result"
    }
   ],
   "source": [
    "diff_means - 1.96 * SEM,diff_means + 1.96 * SEM"
   ]
  },
  {
   "cell_type": "code",
   "execution_count": 71,
   "metadata": {
    "collapsed": false
   },
   "outputs": [
    {
     "name": "stdout",
     "output_type": "stream",
     "text": [
      "Mean Difference = -0.0520418693793\n",
      "CI = (-0.23303341101138084, 0.12894967225272022)\n",
      "SEM = 0.0923426232817\n",
      "Ttest_indResult(statistic=-0.54445718897259732, pvalue=0.58664757576870363)\n",
      "MannwhitneyuResult(statistic=6175.0, pvalue=0.087287692656241811)\n"
     ]
    }
   ],
   "source": [
    "twomeans(df_99, df_51, 'Overall_Exp_Numeric', 'Overall_Exp_Numeric')"
   ]
  },
  {
   "cell_type": "code",
   "execution_count": 223,
   "metadata": {
    "collapsed": false
   },
   "outputs": [
    {
     "name": "stdout",
     "output_type": "stream",
     "text": [
      "Cliffs Delta = 0.910364145658\n"
     ]
    }
   ],
   "source": [
    "cliffsdelta(U,df_99['Overall_Exp_Numeric'], df_51['Overall_Exp_Numeric'])\n",
    "#close to one, so there is some overlap"
   ]
  },
  {
   "cell_type": "code",
   "execution_count": 224,
   "metadata": {
    "collapsed": false
   },
   "outputs": [
    {
     "name": "stdout",
     "output_type": "stream",
     "text": [
      "U = 6175.0\n",
      "p-val = 0.0872876926562\n",
      "Not Statistically Significant\n"
     ]
    }
   ],
   "source": [
    "manntest(df_99['Overall_Exp_Numeric'], df_51['Overall_Exp_Numeric'])\n"
   ]
  },
  {
   "cell_type": "code",
   "execution_count": 225,
   "metadata": {
    "collapsed": false
   },
   "outputs": [
    {
     "name": "stdout",
     "output_type": "stream",
     "text": [
      "h = -0.000992215129706\n"
     ]
    }
   ],
   "source": [
    "cohensH((92/102), (120/133))"
   ]
  },
  {
   "cell_type": "code",
   "execution_count": 72,
   "metadata": {
    "collapsed": false
   },
   "outputs": [
    {
     "data": {
      "text/plain": [
       "<matplotlib.text.Text at 0x11ca7e350>"
      ]
     },
     "execution_count": 72,
     "metadata": {},
     "output_type": "execute_result"
    },
    {
     "data": {
      "image/png": "[encoded data removed]",
      "text/plain": [
       "<matplotlib.figure.Figure at 0x11b4cb790>"
      ]
     },
     "metadata": {},
     "output_type": "display_data"
    }
   ],
   "source": [
    "df_99.groupby(['Version_Duration'])['Overall_Exp_Numeric'].mean().plot()\n",
    "df_51.groupby(['Version_Duration'])['Overall_Exp_Numeric'].mean().plot()\n",
    "plt.legend(['Trial 99','Trial 51'])\n",
    "plt.title('Average Overall Experience Over Time')"
   ]
  },
  {
   "cell_type": "code",
   "execution_count": null,
   "metadata": {
    "collapsed": true
   },
   "outputs": [],
   "source": []
  },
  {
   "cell_type": "code",
   "execution_count": 73,
   "metadata": {
    "collapsed": false
   },
   "outputs": [
    {
     "data": {
      "image/png": "[encoded data removed]",
      "text/plain": [
       "<matplotlib.figure.Figure at 0x11b69c110>"
      ]
     },
     "metadata": {},
     "output_type": "display_data"
    }
   ],
   "source": [
    "plt.hist(df_99['Overall_Exp_Numeric'], label='99', alpha=0.5)\n",
    "plt.hist(df_51['Overall_Exp_Numeric'], label='51', alpha=0.5)\n",
    "plt.legend()\n",
    "plt.show()"
   ]
  },
  {
   "cell_type": "code",
   "execution_count": null,
   "metadata": {
    "collapsed": false
   },
   "outputs": [],
   "source": []
  },
  {
   "cell_type": "code",
   "execution_count": null,
   "metadata": {
    "collapsed": true
   },
   "outputs": [],
   "source": []
  },
  {
   "cell_type": "code",
   "execution_count": 75,
   "metadata": {
    "collapsed": false
   },
   "outputs": [
    {
     "data": {
      "text/html": [
       "<div>\n",
       "<table border=\"1\" class=\"dataframe\">\n",
       "  <thead>\n",
       "    <tr style=\"text-align: right;\">\n",
       "      <th>Version</th>\n",
       "      <th>Version 51</th>\n",
       "      <th>Version 99</th>\n",
       "      <th>All</th>\n",
       "    </tr>\n",
       "    <tr>\n",
       "      <th>Overall_Exp_Rating</th>\n",
       "      <th></th>\n",
       "      <th></th>\n",
       "      <th></th>\n",
       "    </tr>\n",
       "  </thead>\n",
       "  <tbody>\n",
       "    <tr>\n",
       "      <th>High</th>\n",
       "      <td>120</td>\n",
       "      <td>92</td>\n",
       "      <td>212</td>\n",
       "    </tr>\n",
       "    <tr>\n",
       "      <th>Low</th>\n",
       "      <td>13</td>\n",
       "      <td>10</td>\n",
       "      <td>23</td>\n",
       "    </tr>\n",
       "    <tr>\n",
       "      <th>All</th>\n",
       "      <td>133</td>\n",
       "      <td>102</td>\n",
       "      <td>235</td>\n",
       "    </tr>\n",
       "  </tbody>\n",
       "</table>\n",
       "</div>"
      ],
      "text/plain": [
       "Version             Version 51  Version 99  All\n",
       "Overall_Exp_Rating                             \n",
       "High                       120          92  212\n",
       "Low                         13          10   23\n",
       "All                        133         102  235"
      ]
     },
     "execution_count": 75,
     "metadata": {},
     "output_type": "execute_result"
    }
   ],
   "source": [
    "pd.crosstab(index=df_overall_exp.Overall_Exp_Rating, columns=df_overall_exp.Version, margins=True)"
   ]
  },
  {
   "cell_type": "code",
   "execution_count": 76,
   "metadata": {
    "collapsed": false
   },
   "outputs": [
    {
     "name": "stdout",
     "output_type": "stream",
     "text": [
      "z: -0.00753938927795\n",
      "p-value: 0.496992247343\n",
      "CI: (-0.076961232978621716, 0.076371523410584105)\n",
      "proportion difference: -0.000294854784019\n",
      "p1: 0.901960784314\n",
      "p2: 0.902255639098\n"
     ]
    }
   ],
   "source": [
    "twoporZtest(92, 120, 102, 133)"
   ]
  },
  {
   "cell_type": "code",
   "execution_count": 77,
   "metadata": {
    "collapsed": false
   },
   "outputs": [
    {
     "data": {
      "text/html": [
       "<div>\n",
       "<table border=\"1\" class=\"dataframe\">\n",
       "  <thead>\n",
       "    <tr style=\"text-align: right;\">\n",
       "      <th>Version</th>\n",
       "      <th>Version 51</th>\n",
       "      <th>Version 99</th>\n",
       "    </tr>\n",
       "    <tr>\n",
       "      <th>Overall_Exp_Rating</th>\n",
       "      <th></th>\n",
       "      <th></th>\n",
       "    </tr>\n",
       "  </thead>\n",
       "  <tbody>\n",
       "    <tr>\n",
       "      <th>High</th>\n",
       "      <td>120</td>\n",
       "      <td>92</td>\n",
       "    </tr>\n",
       "    <tr>\n",
       "      <th>Low</th>\n",
       "      <td>13</td>\n",
       "      <td>10</td>\n",
       "    </tr>\n",
       "  </tbody>\n",
       "</table>\n",
       "</div>"
      ],
      "text/plain": [
       "Version             Version 51  Version 99\n",
       "Overall_Exp_Rating                        \n",
       "High                       120          92\n",
       "Low                         13          10"
      ]
     },
     "execution_count": 77,
     "metadata": {},
     "output_type": "execute_result"
    }
   ],
   "source": [
    "cont_table = pd.crosstab(index=df_overall_exp.Overall_Exp_Rating, columns=df_overall_exp.Version)\n",
    "cont_table"
   ]
  },
  {
   "cell_type": "code",
   "execution_count": 78,
   "metadata": {
    "collapsed": false
   },
   "outputs": [
    {
     "data": {
      "text/plain": [
       "(0.04576611796223172,\n",
       " 0.83060151197595922,\n",
       " 1,\n",
       " array([[ 119.98297872,   92.01702128],\n",
       "        [  13.01702128,    9.98297872]]))"
      ]
     },
     "execution_count": 78,
     "metadata": {},
     "output_type": "execute_result"
    }
   ],
   "source": [
    "stats.chi2_contingency(cont_table)"
   ]
  },
  {
   "cell_type": "code",
   "execution_count": 79,
   "metadata": {
    "collapsed": false
   },
   "outputs": [
    {
     "data": {
      "text/plain": [
       "(1.0033444816053512, 1.0)"
      ]
     },
     "execution_count": 79,
     "metadata": {},
     "output_type": "execute_result"
    }
   ],
   "source": [
    "stats.fisher_exact(cont_table) #if expected frequency is less than 5"
   ]
  },
  {
   "cell_type": "code",
   "execution_count": null,
   "metadata": {
    "collapsed": false
   },
   "outputs": [],
   "source": []
  },
  {
   "cell_type": "code",
   "execution_count": 81,
   "metadata": {
    "collapsed": false
   },
   "outputs": [],
   "source": [
    "numeric_map = {'Excellent': 5, 'Good': 4, 'No effect':3 ,'Not good':2, 'Awful':1}\n"
   ]
  },
  {
   "cell_type": "code",
   "execution_count": null,
   "metadata": {
    "collapsed": false
   },
   "outputs": [],
   "source": []
  },
  {
   "cell_type": "code",
   "execution_count": null,
   "metadata": {
    "collapsed": false
   },
   "outputs": [],
   "source": []
  },
  {
   "cell_type": "code",
   "execution_count": null,
   "metadata": {
    "collapsed": false
   },
   "outputs": [],
   "source": []
  },
  {
   "cell_type": "markdown",
   "metadata": {},
   "source": [
    "# Sleep Quality"
   ]
  },
  {
   "cell_type": "code",
   "execution_count": 83,
   "metadata": {
    "collapsed": false
   },
   "outputs": [],
   "source": [
    "s99 = df_99[['Sleep_Quality','Overall_Exp_Rating', 'Version', 'Version_Duration']]\n",
    "s51 = df_51[['Sleep_Quality','Overall_Exp_Rating', 'Version', 'Version_Duration']]\n",
    "sleep_df = pd.concat([s99, s51])"
   ]
  },
  {
   "cell_type": "code",
   "execution_count": 84,
   "metadata": {
    "collapsed": false
   },
   "outputs": [
    {
     "data": {
      "text/html": [
       "<div>\n",
       "<table border=\"1\" class=\"dataframe\">\n",
       "  <thead>\n",
       "    <tr style=\"text-align: right;\">\n",
       "      <th>Version</th>\n",
       "      <th>Version 51</th>\n",
       "      <th>Version 99</th>\n",
       "      <th>All</th>\n",
       "    </tr>\n",
       "    <tr>\n",
       "      <th>Sleep_Quality</th>\n",
       "      <th></th>\n",
       "      <th></th>\n",
       "      <th></th>\n",
       "    </tr>\n",
       "  </thead>\n",
       "  <tbody>\n",
       "    <tr>\n",
       "      <th>Excellent</th>\n",
       "      <td>47</td>\n",
       "      <td>47</td>\n",
       "      <td>94</td>\n",
       "    </tr>\n",
       "    <tr>\n",
       "      <th>OK</th>\n",
       "      <td>72</td>\n",
       "      <td>49</td>\n",
       "      <td>121</td>\n",
       "    </tr>\n",
       "    <tr>\n",
       "      <th>Poor</th>\n",
       "      <td>13</td>\n",
       "      <td>4</td>\n",
       "      <td>17</td>\n",
       "    </tr>\n",
       "    <tr>\n",
       "      <th>All</th>\n",
       "      <td>132</td>\n",
       "      <td>100</td>\n",
       "      <td>232</td>\n",
       "    </tr>\n",
       "  </tbody>\n",
       "</table>\n",
       "</div>"
      ],
      "text/plain": [
       "Version        Version 51  Version 99  All\n",
       "Sleep_Quality                             \n",
       "Excellent              47          47   94\n",
       "OK                     72          49  121\n",
       "Poor                   13           4   17\n",
       "All                   132         100  232"
      ]
     },
     "execution_count": 84,
     "metadata": {},
     "output_type": "execute_result"
    }
   ],
   "source": [
    "pd.crosstab(index=sleep_df.Sleep_Quality, columns=sleep_df.Version, margins=True)"
   ]
  },
  {
   "cell_type": "code",
   "execution_count": 85,
   "metadata": {
    "collapsed": false
   },
   "outputs": [
    {
     "name": "stdout",
     "output_type": "stream",
     "text": [
      "z: 1.75065832401\n",
      "p-value: 0.040002391143\n",
      "CI: (-0.013505537747437207, 0.241384325626225)\n",
      "proportion difference: 0.113939393939\n",
      "p1: 0.47\n",
      "p2: 0.356060606061\n"
     ]
    }
   ],
   "source": [
    "#excellent between the two\n",
    "twoporZtest(47, 47, 100, 132)"
   ]
  },
  {
   "cell_type": "code",
   "execution_count": 86,
   "metadata": {
    "collapsed": false
   },
   "outputs": [
    {
     "name": "stdout",
     "output_type": "stream",
     "text": [
      "z: -0.837363320548\n",
      "p-value: 0.201194188341\n",
      "CI: (-0.18513023996920283, 0.074221149060111985)\n",
      "proportion difference: -0.0554545454545\n",
      "p1: 0.49\n",
      "p2: 0.545454545455\n"
     ]
    }
   ],
   "source": [
    "#ok\n",
    "\n",
    "twoporZtest(49, 72, 100, 132)"
   ]
  },
  {
   "cell_type": "code",
   "execution_count": 87,
   "metadata": {
    "collapsed": false
   },
   "outputs": [
    {
     "name": "stdout",
     "output_type": "stream",
     "text": [
      "z: -1.69289739432\n",
      "p-value: 0.045237499703\n",
      "CI: (-0.1221959457563685, 0.0052262487866715293)\n",
      "proportion difference: -0.0584848484848\n",
      "p1: 0.04\n",
      "p2: 0.0984848484848\n"
     ]
    }
   ],
   "source": [
    "#Poor\n",
    "twoporZtest(4, 13, 100, 132)"
   ]
  },
  {
   "cell_type": "code",
   "execution_count": 88,
   "metadata": {
    "collapsed": true
   },
   "outputs": [],
   "source": [
    "def prop_diff_exl (data1, data2):\n",
    "    \"\"\"calculates the difference in proportions\"\"\"\n",
    "    count_1 = len([values for values in data1 if values=='Excellent'])\n",
    "\n",
    "    total_1 = len(data1)\n",
    "    \n",
    "    count_2 = len([values for values in data2 if values=='Excellent'])\n",
    "    \n",
    "    total_2 = len(data2)\n",
    "    \n",
    "    p1 = count_1 / total_1\n",
    "    p2 = count_2 / total_2\n",
    "    \n",
    "    diff_prop = p1 - p2\n",
    "    \n",
    "    return diff_prop"
   ]
  },
  {
   "cell_type": "code",
   "execution_count": null,
   "metadata": {
    "collapsed": true
   },
   "outputs": [],
   "source": []
  },
  {
   "cell_type": "code",
   "execution_count": 89,
   "metadata": {
    "collapsed": false
   },
   "outputs": [],
   "source": [
    "exl = {'Excellent':'Excellent','OK': 'Not Excellent', 'Poor': 'Not Excellent'}\n",
    "ss99 = s99['Sleep_Quality'].map(exl)\n",
    "ss51 = s51['Sleep_Quality'].map(exl)\n",
    "sleep_reps = draw_perm_reps(ss99, ss51, prop_diff_exl ,size=1000)"
   ]
  },
  {
   "cell_type": "code",
   "execution_count": 90,
   "metadata": {
    "collapsed": false
   },
   "outputs": [
    {
     "data": {
      "text/plain": [
       "0.10740085507887365"
      ]
     },
     "execution_count": 90,
     "metadata": {},
     "output_type": "execute_result"
    }
   ],
   "source": [
    "excellent = prop_diff_exl(ss99, ss51)\n",
    "excellent"
   ]
  },
  {
   "cell_type": "code",
   "execution_count": null,
   "metadata": {
    "collapsed": false
   },
   "outputs": [],
   "source": []
  },
  {
   "cell_type": "code",
   "execution_count": 91,
   "metadata": {
    "collapsed": false
   },
   "outputs": [
    {
     "data": {
      "text/plain": [
       "<matplotlib.text.Text at 0x11d3a4790>"
      ]
     },
     "execution_count": 91,
     "metadata": {},
     "output_type": "execute_result"
    },
    {
     "data": {
      "image/png": "[encoded data removed]",
      "text/plain": [
       "<matplotlib.figure.Figure at 0x11d17f610>"
      ]
     },
     "metadata": {},
     "output_type": "display_data"
    }
   ],
   "source": [
    "plt.hist(sleep_reps)\n",
    "\n",
    "\n",
    "plt.hist(sleep_reps)\n",
    "\n",
    "l = plt.axvline(excellent,color='b', linewidth=2)\n",
    "#ll = plt.axvline(-obs,color='b', linewidth=2)\n",
    "plt.legend([l],['observed = {0:f}'.format(excellent)], loc=2)\n",
    "\n",
    "plt.title('Simulated Data for Sleep Quality For the Proportions of Excellent Raters')\n"
   ]
  },
  {
   "cell_type": "code",
   "execution_count": 92,
   "metadata": {
    "collapsed": false
   },
   "outputs": [
    {
     "data": {
      "text/plain": [
       "0.074999999999999997"
      ]
     },
     "execution_count": 92,
     "metadata": {},
     "output_type": "execute_result"
    }
   ],
   "source": [
    "np.sum((sleep_reps) >= excellent) / len(sleep_reps)"
   ]
  },
  {
   "cell_type": "code",
   "execution_count": null,
   "metadata": {
    "collapsed": true
   },
   "outputs": [],
   "source": []
  },
  {
   "cell_type": "code",
   "execution_count": 93,
   "metadata": {
    "collapsed": false
   },
   "outputs": [],
   "source": [
    "sleep_rating = {'Excellent': 3, 'OK': 2, 'Poor': 1}\n",
    "sleep_df['Sleep_Quality_Score'] = sleep_df['Sleep_Quality'].map(sleep_rating)"
   ]
  },
  {
   "cell_type": "code",
   "execution_count": 94,
   "metadata": {
    "collapsed": false
   },
   "outputs": [
    {
     "data": {
      "text/html": [
       "<div>\n",
       "<table border=\"1\" class=\"dataframe\">\n",
       "  <thead>\n",
       "    <tr style=\"text-align: right;\">\n",
       "      <th>Version</th>\n",
       "      <th>Version 51</th>\n",
       "      <th>Version 99</th>\n",
       "    </tr>\n",
       "    <tr>\n",
       "      <th>Version_Duration</th>\n",
       "      <th></th>\n",
       "      <th></th>\n",
       "    </tr>\n",
       "  </thead>\n",
       "  <tbody>\n",
       "    <tr>\n",
       "      <th>1 day</th>\n",
       "      <td>2.170732</td>\n",
       "      <td>2.405405</td>\n",
       "    </tr>\n",
       "    <tr>\n",
       "      <th>1 weeks</th>\n",
       "      <td>2.275000</td>\n",
       "      <td>2.433333</td>\n",
       "    </tr>\n",
       "    <tr>\n",
       "      <th>2 weeks</th>\n",
       "      <td>2.322581</td>\n",
       "      <td>2.450000</td>\n",
       "    </tr>\n",
       "    <tr>\n",
       "      <th>3 weeks</th>\n",
       "      <td>2.300000</td>\n",
       "      <td>2.461538</td>\n",
       "    </tr>\n",
       "  </tbody>\n",
       "</table>\n",
       "</div>"
      ],
      "text/plain": [
       "Version           Version 51  Version 99\n",
       "Version_Duration                        \n",
       "1 day               2.170732    2.405405\n",
       "1 weeks             2.275000    2.433333\n",
       "2 weeks             2.322581    2.450000\n",
       "3 weeks             2.300000    2.461538"
      ]
     },
     "execution_count": 94,
     "metadata": {},
     "output_type": "execute_result"
    }
   ],
   "source": [
    "s = pd.crosstab(index=sleep_df.Version_Duration, columns=sleep_df.Version, values=sleep_df.Sleep_Quality_Score, aggfunc='mean')\n",
    "s"
   ]
  },
  {
   "cell_type": "code",
   "execution_count": 95,
   "metadata": {
    "collapsed": false
   },
   "outputs": [
    {
     "data": {
      "text/plain": [
       "<matplotlib.axes._subplots.AxesSubplot at 0x11d03dc50>"
      ]
     },
     "execution_count": 95,
     "metadata": {},
     "output_type": "execute_result"
    },
    {
     "data": {
      "image/png": "[encoded data removed]",
      "text/plain": [
       "<matplotlib.figure.Figure at 0x11d00ab90>"
      ]
     },
     "metadata": {},
     "output_type": "display_data"
    }
   ],
   "source": [
    "s.plot()"
   ]
  },
  {
   "cell_type": "code",
   "execution_count": null,
   "metadata": {
    "collapsed": false
   },
   "outputs": [],
   "source": []
  },
  {
   "cell_type": "code",
   "execution_count": null,
   "metadata": {
    "collapsed": false
   },
   "outputs": [],
   "source": []
  },
  {
   "cell_type": "code",
   "execution_count": 98,
   "metadata": {
    "collapsed": false
   },
   "outputs": [],
   "source": [
    "x = sleep_df[sleep_df.Version=='Version 99']['Sleep_Quality_Score'].dropna()\n",
    "y = sleep_df[sleep_df.Version=='Version 51']['Sleep_Quality_Score'].dropna()"
   ]
  },
  {
   "cell_type": "code",
   "execution_count": 99,
   "metadata": {
    "collapsed": false
   },
   "outputs": [
    {
     "data": {
      "text/plain": [
       "Ttest_indResult(statistic=2.1815022814071678, pvalue=0.030197167815845312)"
      ]
     },
     "execution_count": 99,
     "metadata": {},
     "output_type": "execute_result"
    }
   ],
   "source": [
    "stats.ttest_ind(x,y, equal_var=False)"
   ]
  },
  {
   "cell_type": "code",
   "execution_count": 231,
   "metadata": {
    "collapsed": false
   },
   "outputs": [
    {
     "name": "stdout",
     "output_type": "stream",
     "text": [
      "U = 5673.5\n",
      "p-val = 0.0198774287791\n",
      "Not Statistically Significant\n"
     ]
    }
   ],
   "source": [
    "manntest(x,y)"
   ]
  },
  {
   "cell_type": "code",
   "execution_count": 238,
   "metadata": {
    "collapsed": false
   },
   "outputs": [
    {
     "name": "stdout",
     "output_type": "stream",
     "text": [
      "Cliffs Delta = 0.859621212121\n"
     ]
    }
   ],
   "source": [
    "cliffsdelta(5673.5, x,y) #no overlap"
   ]
  },
  {
   "cell_type": "code",
   "execution_count": 239,
   "metadata": {
    "collapsed": false
   },
   "outputs": [
    {
     "data": {
      "image/png": "[encoded data removed]",
      "text/plain": [
       "<matplotlib.figure.Figure at 0x11de0b650>"
      ]
     },
     "metadata": {},
     "output_type": "display_data"
    }
   ],
   "source": [
    "plt.hist(x, label='99', alpha=0.5)\n",
    "plt.hist(y, label='51', alpha=0.5)\n",
    "plt.legend()\n",
    "plt.show()"
   ]
  },
  {
   "cell_type": "markdown",
   "metadata": {},
   "source": [
    "## Focus Attention and Concentration"
   ]
  },
  {
   "cell_type": "code",
   "execution_count": 100,
   "metadata": {
    "collapsed": false
   },
   "outputs": [
    {
     "data": {
      "text/plain": [
       "Index([u'Start_Date', u'End_Date', u'Last_Name', u'Version_Duration',\n",
       "       u'Sleep_Quality', u'Overall_Experience', u'Focus_Atten_Concen',\n",
       "       u'Memory', u'Drive_Passion_Motivation', u'Physical_Energy',\n",
       "       u'Capacity_Productivity', u'Decisiveness',\n",
       "       u'Verbal_Fluency_Word_Recall', u'Creativity_Insight',\n",
       "       u'InterpersonalCapability_Empathy', u'Emotional_Stability',\n",
       "       u'Euhphoria_Joy_Happiness', u'Estimated_Effect_Duration',\n",
       "       u'Upper_Effect_Duration', u'Lower_Effect_Duration',\n",
       "       u'Current_User_Comparison', u'User_Status', u'Version',\n",
       "       u'Overall_Exp_Rating', u'Overall_Exp_Numeric'],\n",
       "      dtype='object')"
      ]
     },
     "execution_count": 100,
     "metadata": {},
     "output_type": "execute_result"
    }
   ],
   "source": [
    "df_99.columns"
   ]
  },
  {
   "cell_type": "code",
   "execution_count": 101,
   "metadata": {
    "collapsed": false
   },
   "outputs": [],
   "source": [
    "f99 = df_99[['Focus_Atten_Concen','Overall_Exp_Rating', 'Version', 'Version_Duration']]\n",
    "f51 = df_51[['Focus_Atten_Concen','Overall_Exp_Rating', 'Version', 'Version_Duration']]\n",
    "f_df = pd.concat([f99, f51])"
   ]
  },
  {
   "cell_type": "code",
   "execution_count": 102,
   "metadata": {
    "collapsed": false
   },
   "outputs": [
    {
     "data": {
      "text/html": [
       "<div>\n",
       "<table border=\"1\" class=\"dataframe\">\n",
       "  <thead>\n",
       "    <tr style=\"text-align: right;\">\n",
       "      <th>Version</th>\n",
       "      <th>Version 51</th>\n",
       "      <th>Version 99</th>\n",
       "      <th>All</th>\n",
       "    </tr>\n",
       "    <tr>\n",
       "      <th>Focus_Atten_Concen</th>\n",
       "      <th></th>\n",
       "      <th></th>\n",
       "      <th></th>\n",
       "    </tr>\n",
       "  </thead>\n",
       "  <tbody>\n",
       "    <tr>\n",
       "      <th>Improved</th>\n",
       "      <td>112</td>\n",
       "      <td>76</td>\n",
       "      <td>188</td>\n",
       "    </tr>\n",
       "    <tr>\n",
       "      <th>Less good</th>\n",
       "      <td>5</td>\n",
       "      <td>4</td>\n",
       "      <td>9</td>\n",
       "    </tr>\n",
       "    <tr>\n",
       "      <th>No effect</th>\n",
       "      <td>15</td>\n",
       "      <td>21</td>\n",
       "      <td>36</td>\n",
       "    </tr>\n",
       "    <tr>\n",
       "      <th>All</th>\n",
       "      <td>132</td>\n",
       "      <td>101</td>\n",
       "      <td>233</td>\n",
       "    </tr>\n",
       "  </tbody>\n",
       "</table>\n",
       "</div>"
      ],
      "text/plain": [
       "Version             Version 51  Version 99  All\n",
       "Focus_Atten_Concen                             \n",
       "Improved                   112          76  188\n",
       "Less good                    5           4    9\n",
       "No effect                   15          21   36\n",
       "All                        132         101  233"
      ]
     },
     "execution_count": 102,
     "metadata": {},
     "output_type": "execute_result"
    }
   ],
   "source": [
    "pd.crosstab(index=f_df.Focus_Atten_Concen, columns=f_df.Version, margins=True)"
   ]
  },
  {
   "cell_type": "code",
   "execution_count": 103,
   "metadata": {
    "collapsed": false
   },
   "outputs": [
    {
     "name": "stdout",
     "output_type": "stream",
     "text": [
      "z: -1.83973426074\n",
      "p-value: 0.0329036305005\n",
      "CI: (-0.20005676678369366, 0.0080375648635015867)\n",
      "proportion difference: -0.0960096009601\n",
      "p1: 0.752475247525\n",
      "p2: 0.848484848485\n"
     ]
    }
   ],
   "source": [
    "#improved\n",
    "twoporZtest(76, 112, 101, 132)"
   ]
  },
  {
   "cell_type": "code",
   "execution_count": 104,
   "metadata": {
    "collapsed": false
   },
   "outputs": [
    {
     "name": "stdout",
     "output_type": "stream",
     "text": [
      "z: 0.0677193654747\n",
      "p-value: 0.473004516639\n",
      "CI: (-0.048348120008156407, 0.051798465042659857)\n",
      "proportion difference: 0.00172517251725\n",
      "p1: 0.039603960396\n",
      "p2: 0.0378787878788\n"
     ]
    }
   ],
   "source": [
    "#less good\n",
    "twoporZtest(4, 5, 101, 132)"
   ]
  },
  {
   "cell_type": "code",
   "execution_count": 105,
   "metadata": {
    "collapsed": false
   },
   "outputs": [
    {
     "name": "stdout",
     "output_type": "stream",
     "text": [
      "z: 1.97324595969\n",
      "p-value: 0.0242337732617\n",
      "CI: (-0.0016083696115250928, 0.19017722649721364)\n",
      "proportion difference: 0.0942844284428\n",
      "p1: 0.207920792079\n",
      "p2: 0.113636363636\n"
     ]
    }
   ],
   "source": [
    "#no effect\n",
    "#less good\n",
    "twoporZtest(21, 15, 101, 132)"
   ]
  },
  {
   "cell_type": "code",
   "execution_count": 106,
   "metadata": {
    "collapsed": true
   },
   "outputs": [],
   "source": [
    "rating_3 = {'Improved':3, 'Less good':2, 'No effect':1}"
   ]
  },
  {
   "cell_type": "code",
   "execution_count": 107,
   "metadata": {
    "collapsed": false
   },
   "outputs": [],
   "source": [
    "f_df['FAC_Rating'] = f_df['Focus_Atten_Concen'].map(rating_3)"
   ]
  },
  {
   "cell_type": "code",
   "execution_count": null,
   "metadata": {
    "collapsed": false
   },
   "outputs": [],
   "source": []
  },
  {
   "cell_type": "code",
   "execution_count": null,
   "metadata": {
    "collapsed": true
   },
   "outputs": [],
   "source": []
  },
  {
   "cell_type": "code",
   "execution_count": null,
   "metadata": {
    "collapsed": true
   },
   "outputs": [],
   "source": []
  },
  {
   "cell_type": "markdown",
   "metadata": {},
   "source": [
    "## Finding the duration effect of the Nootropic for both trials"
   ]
  },
  {
   "cell_type": "code",
   "execution_count": 162,
   "metadata": {
    "collapsed": false
   },
   "outputs": [
    {
     "data": {
      "text/plain": [
       "8.0"
      ]
     },
     "execution_count": 162,
     "metadata": {},
     "output_type": "execute_result"
    }
   ],
   "source": [
    "df_99.Upper_Effect_Duration.median()"
   ]
  },
  {
   "cell_type": "code",
   "execution_count": 163,
   "metadata": {
    "collapsed": false
   },
   "outputs": [
    {
     "data": {
      "text/plain": [
       "4.0"
      ]
     },
     "execution_count": 163,
     "metadata": {},
     "output_type": "execute_result"
    }
   ],
   "source": [
    "df_99.Lower_Effect_Duration.median()"
   ]
  },
  {
   "cell_type": "code",
   "execution_count": 164,
   "metadata": {
    "collapsed": false
   },
   "outputs": [
    {
     "data": {
      "text/plain": [
       "8.0"
      ]
     },
     "execution_count": 164,
     "metadata": {},
     "output_type": "execute_result"
    }
   ],
   "source": [
    "df_51.Upper_Effect_Duration.median()"
   ]
  },
  {
   "cell_type": "code",
   "execution_count": 165,
   "metadata": {
    "collapsed": false
   },
   "outputs": [
    {
     "data": {
      "text/plain": [
       "4.0"
      ]
     },
     "execution_count": 165,
     "metadata": {},
     "output_type": "execute_result"
    }
   ],
   "source": [
    "df_51.Lower_Effect_Duration.median()"
   ]
  },
  {
   "cell_type": "code",
   "execution_count": 167,
   "metadata": {
    "collapsed": false
   },
   "outputs": [
    {
     "data": {
      "text/plain": [
       "MannwhitneyuResult(statistic=6700.0, pvalue=0.86323202782904018)"
      ]
     },
     "execution_count": 167,
     "metadata": {},
     "output_type": "execute_result"
    }
   ],
   "source": [
    "stats.mannwhitneyu(df_99.Upper_Effect_Duration, df_51.Upper_Effect_Duration, alternative='two-sided')"
   ]
  },
  {
   "cell_type": "code",
   "execution_count": 166,
   "metadata": {
    "collapsed": false
   },
   "outputs": [
    {
     "data": {
      "text/plain": [
       "MannwhitneyuResult(statistic=6700.0, pvalue=0.86323202782904018)"
      ]
     },
     "execution_count": 166,
     "metadata": {},
     "output_type": "execute_result"
    }
   ],
   "source": [
    "stats.mannwhitneyu(df_99.Lower_Effect_Duration, df_51.Lower_Effect_Duration, alternative='two-sided')"
   ]
  },
  {
   "cell_type": "code",
   "execution_count": 178,
   "metadata": {
    "collapsed": false
   },
   "outputs": [
    {
     "data": {
      "text/plain": [
       "133"
      ]
     },
     "execution_count": 178,
     "metadata": {},
     "output_type": "execute_result"
    }
   ],
   "source": [
    "len(df_51.Upper_Effect_Duration)"
   ]
  },
  {
   "cell_type": "code",
   "execution_count": null,
   "metadata": {
    "collapsed": false
   },
   "outputs": [],
   "source": []
  },
  {
   "cell_type": "code",
   "execution_count": null,
   "metadata": {
    "collapsed": false
   },
   "outputs": [],
   "source": []
  },
  {
   "cell_type": "code",
   "execution_count": null,
   "metadata": {
    "collapsed": false
   },
   "outputs": [],
   "source": []
  },
  {
   "cell_type": "code",
   "execution_count": null,
   "metadata": {
    "collapsed": false
   },
   "outputs": [],
   "source": []
  },
  {
   "cell_type": "code",
   "execution_count": null,
   "metadata": {
    "collapsed": true
   },
   "outputs": [],
   "source": []
  }
 ],
 "metadata": {
  "anaconda-cloud": {},
  "kernelspec": {
   "display_name": "Python [default]",
   "language": "python",
   "name": "python2"
  },
  "language_info": {
   "codemirror_mode": {
    "name": "ipython",
    "version": 2
   },
   "file_extension": ".py",
   "mimetype": "text/x-python",
   "name": "python",
   "nbconvert_exporter": "python",
   "pygments_lexer": "ipython2",
   "version": "2.7.12"
  }
 },
 "nbformat": 4,
 "nbformat_minor": 1
}

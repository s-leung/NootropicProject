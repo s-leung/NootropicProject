{
 "cells": [
  {
   "cell_type": "code",
   "execution_count": 110,
   "metadata": {
    "collapsed": false
   },
   "outputs": [],
   "source": [
    "import pandas as pd\n",
    "import numpy as np\n",
    "import matplotlib.pyplot as plt\n",
    "%matplotlib inline\n",
    "import seaborn as sns\n",
    "from sklearn.metrics import log_loss\n",
    "sns.set()\n",
    "sns.set_style('whitegrid')\n",
    "sns.set_context('paper', font_scale=1.3)\n",
    "\n",
    "from scipy import stats\n",
    "from __future__ import division\n",
    "\n",
    "import statsmodels.api as sm\n",
    "\n",
    "from sklearn.metrics import classification_report\n",
    "from sklearn.metrics import confusion_matrix\n",
    "from sklearn.model_selection import train_test_split\n",
    "\n",
    "\n",
    "from sklearn import preprocessing\n",
    "from sklearn.ensemble import RandomForestClassifier\n",
    "from sklearn.linear_model import LogisticRegression\n",
    "from sklearn.svm import SVC\n",
    "from sklearn.model_selection import GridSearchCV\n",
    "from sklearn.model_selection import RandomizedSearchCV\n",
    "\n",
    "from sklearn.linear_model import LinearRegression\n",
    "\n",
    "from sklearn.model_selection import KFold\n",
    "from sklearn.model_selection import cross_val_score\n",
    "from sklearn.model_selection import cross_validate\n",
    "\n",
    "from sklearn.model_selection import cross_val_predict\n",
    "\n",
    "from sklearn.ensemble import ExtraTreesClassifier\n",
    "\n",
    "from sklearn.feature_selection import RFECV\n",
    "from sklearn.feature_selection import RFE\n",
    "from sklearn.model_selection import StratifiedKFold\n",
    "from sklearn.metrics import roc_curve\n",
    "from scipy.stats import randint as sp_randint\n",
    "from sklearn.metrics import confusion_matrix\n",
    "\n",
    "from sklearn.metrics import roc_auc_score\n",
    "from sklearn.metrics import make_scorer\n",
    "from sklearn.metrics import accuracy_score\n",
    "from imblearn.over_sampling import SMOTE\n",
    "from sklearn.utils import resample\n",
    "\n",
    "\n",
    "from sklearn import metrics\n",
    "from imblearn.pipeline import Pipeline, make_pipeline\n"
   ]
  },
  {
   "cell_type": "code",
   "execution_count": 2,
   "metadata": {
    "collapsed": false,
    "scrolled": true
   },
   "outputs": [],
   "source": [
    "df_99 = pd.read_csv('Trial_99_Cleaned')"
   ]
  },
  {
   "cell_type": "code",
   "execution_count": 3,
   "metadata": {
    "collapsed": true
   },
   "outputs": [],
   "source": [
    "df_51 = pd.read_csv('Trial_051_Cleaned')"
   ]
  },
  {
   "cell_type": "markdown",
   "metadata": {
    "collapsed": false
   },
   "source": [
    "## Combine both the data frames"
   ]
  },
  {
   "cell_type": "code",
   "execution_count": 4,
   "metadata": {
    "collapsed": false
   },
   "outputs": [],
   "source": [
    "\n",
    "df = pd.concat([df_99,df_51], ignore_index=True)"
   ]
  },
  {
   "cell_type": "code",
   "execution_count": 112,
   "metadata": {
    "collapsed": false
   },
   "outputs": [
    {
     "data": {
      "text/plain": [
       "<matplotlib.text.Text at 0x11ce50cd0>"
      ]
     },
     "execution_count": 112,
     "metadata": {},
     "output_type": "execute_result"
    },
    {
     "data": {
      "image/png": "[encoded data removed]",
      "text/plain": [
       "<matplotlib.figure.Figure at 0x11d92b790>"
      ]
     },
     "metadata": {},
     "output_type": "display_data"
    }
   ],
   "source": [
    "df.groupby(['Overall_Exp_Rating']).size().plot(kind='bar')\n",
    "plt.title('Overall Experience Count')\n",
    "plt.ylabel('Frequency')\n",
    "plt.xlabel(' ')"
   ]
  },
  {
   "cell_type": "code",
   "execution_count": 5,
   "metadata": {
    "collapsed": false
   },
   "outputs": [],
   "source": [
    "#mapping the overall experience rating to a binary outcome\n",
    "rating = {'Excellent': 'High',\n",
    "          'Good':'High',\n",
    "          'No effect': 'Low',\n",
    "          'Not good':'Low',\n",
    "          'Awful': \"Low\"}\n",
    "df['Overall_Exp_Rating'] = df['Overall_Experience'].map(rating)"
   ]
  },
  {
   "cell_type": "code",
   "execution_count": 6,
   "metadata": {
    "collapsed": true
   },
   "outputs": [],
   "source": [
    "df['Overall_Exp_Rating']=df['Overall_Exp_Rating'].map({'High': 1, 'Low':0})"
   ]
  },
  {
   "cell_type": "code",
   "execution_count": 7,
   "metadata": {
    "collapsed": false
   },
   "outputs": [
    {
     "name": "stdout",
     "output_type": "stream",
     "text": [
      "<class 'pandas.core.frame.DataFrame'>\n",
      "RangeIndex: 235 entries, 0 to 234\n",
      "Data columns (total 23 columns):\n",
      "Start_Date                         235 non-null object\n",
      "End_Date                           235 non-null object\n",
      "Last_Name                          235 non-null object\n",
      "Version_Duration                   235 non-null object\n",
      "Sleep_Quality                      232 non-null object\n",
      "Overall_Experience                 235 non-null object\n",
      "Focus_Atten_Concen                 233 non-null object\n",
      "Memory                             233 non-null object\n",
      "Drive_Passion_Motivation           233 non-null object\n",
      "Physical_Energy                    233 non-null object\n",
      "Capacity_Productivity              232 non-null object\n",
      "Decisiveness                       233 non-null object\n",
      "Verbal_Fluency_Word_Recall         229 non-null object\n",
      "Creativity_Insight                 231 non-null object\n",
      "InterpersonalCapability_Empathy    232 non-null object\n",
      "Emotional_Stability                233 non-null object\n",
      "Euphoria_Joy_Happiness             233 non-null object\n",
      "Estimated_Effect_Duration          225 non-null object\n",
      "Upper_Effect_Duration              225 non-null float64\n",
      "Lower_Effect_Duration              225 non-null float64\n",
      "Current_User_Comparison            229 non-null object\n",
      "User_Status                        233 non-null object\n",
      "Overall_Exp_Rating                 235 non-null int64\n",
      "dtypes: float64(2), int64(1), object(20)\n",
      "memory usage: 42.3+ KB\n"
     ]
    }
   ],
   "source": [
    "df.info()"
   ]
  },
  {
   "cell_type": "code",
   "execution_count": 8,
   "metadata": {
    "collapsed": false
   },
   "outputs": [],
   "source": [
    "df['Sleep_Quality'] = df['Sleep_Quality'].astype('category')\n",
    "df['Sleep_Quality'] = df['Sleep_Quality'].cat.reorder_categories(['Poor', 'OK','Excellent'], ordered=True)\n",
    "df['Sleep_Quality'] = df['Sleep_Quality'].cat.codes"
   ]
  },
  {
   "cell_type": "code",
   "execution_count": 9,
   "metadata": {
    "collapsed": false
   },
   "outputs": [],
   "source": [
    "feat =  [ 6,  7,  8,  9, 10, 11, 12, 13, 14, 15, 16] "
   ]
  },
  {
   "cell_type": "code",
   "execution_count": 10,
   "metadata": {
    "collapsed": false
   },
   "outputs": [
    {
     "data": {
      "text/html": [
       "<div>\n",
       "<table border=\"1\" class=\"dataframe\">\n",
       "  <thead>\n",
       "    <tr style=\"text-align: right;\">\n",
       "      <th></th>\n",
       "      <th>Focus_Atten_Concen</th>\n",
       "      <th>Memory</th>\n",
       "      <th>Drive_Passion_Motivation</th>\n",
       "      <th>Physical_Energy</th>\n",
       "      <th>Capacity_Productivity</th>\n",
       "      <th>Decisiveness</th>\n",
       "      <th>Verbal_Fluency_Word_Recall</th>\n",
       "      <th>Creativity_Insight</th>\n",
       "      <th>InterpersonalCapability_Empathy</th>\n",
       "      <th>Emotional_Stability</th>\n",
       "      <th>Euphoria_Joy_Happiness</th>\n",
       "    </tr>\n",
       "  </thead>\n",
       "  <tbody>\n",
       "    <tr>\n",
       "      <th>0</th>\n",
       "      <td>Improved</td>\n",
       "      <td>Improved</td>\n",
       "      <td>Improved</td>\n",
       "      <td>Improved</td>\n",
       "      <td>Improved</td>\n",
       "      <td>Improved</td>\n",
       "      <td>No effect</td>\n",
       "      <td>No effect</td>\n",
       "      <td>No effect</td>\n",
       "      <td>No effect</td>\n",
       "      <td>No effect</td>\n",
       "    </tr>\n",
       "    <tr>\n",
       "      <th>1</th>\n",
       "      <td>Improved</td>\n",
       "      <td>No effect</td>\n",
       "      <td>No effect</td>\n",
       "      <td>Improved</td>\n",
       "      <td>Improved</td>\n",
       "      <td>No effect</td>\n",
       "      <td>No effect</td>\n",
       "      <td>No effect</td>\n",
       "      <td>No effect</td>\n",
       "      <td>Improved</td>\n",
       "      <td>Improved</td>\n",
       "    </tr>\n",
       "    <tr>\n",
       "      <th>2</th>\n",
       "      <td>Improved</td>\n",
       "      <td>Improved</td>\n",
       "      <td>Less good</td>\n",
       "      <td>Less good</td>\n",
       "      <td>Less good</td>\n",
       "      <td>Improved</td>\n",
       "      <td>Improved</td>\n",
       "      <td>Improved</td>\n",
       "      <td>Improved</td>\n",
       "      <td>No effect</td>\n",
       "      <td>No effect</td>\n",
       "    </tr>\n",
       "    <tr>\n",
       "      <th>3</th>\n",
       "      <td>Improved</td>\n",
       "      <td>Improved</td>\n",
       "      <td>Improved</td>\n",
       "      <td>Improved</td>\n",
       "      <td>Improved</td>\n",
       "      <td>Improved</td>\n",
       "      <td>Improved</td>\n",
       "      <td>Improved</td>\n",
       "      <td>No effect</td>\n",
       "      <td>No effect</td>\n",
       "      <td>No effect</td>\n",
       "    </tr>\n",
       "    <tr>\n",
       "      <th>4</th>\n",
       "      <td>Improved</td>\n",
       "      <td>No effect</td>\n",
       "      <td>Improved</td>\n",
       "      <td>Improved</td>\n",
       "      <td>Improved</td>\n",
       "      <td>No effect</td>\n",
       "      <td>No effect</td>\n",
       "      <td>No effect</td>\n",
       "      <td>No effect</td>\n",
       "      <td>No effect</td>\n",
       "      <td>Improved</td>\n",
       "    </tr>\n",
       "  </tbody>\n",
       "</table>\n",
       "</div>"
      ],
      "text/plain": [
       "  Focus_Atten_Concen     Memory Drive_Passion_Motivation Physical_Energy  \\\n",
       "0           Improved   Improved                 Improved        Improved   \n",
       "1           Improved  No effect                No effect        Improved   \n",
       "2           Improved   Improved                Less good       Less good   \n",
       "3           Improved   Improved                 Improved        Improved   \n",
       "4           Improved  No effect                 Improved        Improved   \n",
       "\n",
       "  Capacity_Productivity Decisiveness Verbal_Fluency_Word_Recall  \\\n",
       "0              Improved     Improved                  No effect   \n",
       "1              Improved    No effect                  No effect   \n",
       "2             Less good     Improved                   Improved   \n",
       "3              Improved     Improved                   Improved   \n",
       "4              Improved    No effect                  No effect   \n",
       "\n",
       "  Creativity_Insight InterpersonalCapability_Empathy Emotional_Stability  \\\n",
       "0          No effect                       No effect           No effect   \n",
       "1          No effect                       No effect            Improved   \n",
       "2           Improved                        Improved           No effect   \n",
       "3           Improved                       No effect           No effect   \n",
       "4          No effect                       No effect           No effect   \n",
       "\n",
       "  Euphoria_Joy_Happiness  \n",
       "0              No effect  \n",
       "1               Improved  \n",
       "2              No effect  \n",
       "3              No effect  \n",
       "4               Improved  "
      ]
     },
     "execution_count": 10,
     "metadata": {},
     "output_type": "execute_result"
    }
   ],
   "source": [
    "df[feat].head()"
   ]
  },
  {
   "cell_type": "code",
   "execution_count": 11,
   "metadata": {
    "collapsed": false
   },
   "outputs": [],
   "source": [
    "for col in df[feat]:\n",
    "    df[col] = df[col].astype('category')\n",
    "    df[col]= df[col].cat.reorder_categories(['Less good', 'No effect', 'Improved'], ordered=True)\n",
    "    df[col] = df[col].cat.codes"
   ]
  },
  {
   "cell_type": "code",
   "execution_count": 12,
   "metadata": {
    "collapsed": false
   },
   "outputs": [
    {
     "data": {
      "text/plain": [
       " 2    122\n",
       " 1    106\n",
       "-1      4\n",
       " 0      3\n",
       "Name: Creativity_Insight, dtype: int64"
      ]
     },
     "execution_count": 12,
     "metadata": {},
     "output_type": "execute_result"
    }
   ],
   "source": [
    "df['Creativity_Insight'].value_counts()"
   ]
  },
  {
   "cell_type": "code",
   "execution_count": null,
   "metadata": {
    "collapsed": false
   },
   "outputs": [],
   "source": []
  },
  {
   "cell_type": "code",
   "execution_count": 13,
   "metadata": {
    "collapsed": false
   },
   "outputs": [],
   "source": [
    "df['Estimated_Effect_Duration'] = df['Estimated_Effect_Duration'].astype('category')\n",
    "df['Estimated_Effect_Duration'] = df['Estimated_Effect_Duration'].cat.reorder_categories(['<2', '2-4', '4-8','8+'], ordered=True)\n",
    "df['Estimated_Effect_Duration'] = df['Estimated_Effect_Duration'].cat.codes"
   ]
  },
  {
   "cell_type": "code",
   "execution_count": 14,
   "metadata": {
    "collapsed": false
   },
   "outputs": [],
   "source": [
    "df['Overall_Experience'] = df['Overall_Experience'].astype('category')\n",
    "df['Overall_Experience'] = df['Overall_Experience'].cat.reorder_categories(['Awful','Not good','No effect','Good', 'Excellent'], ordered=True)\n",
    "df['Overall_Experience'] = df['Overall_Experience'].cat.codes"
   ]
  },
  {
   "cell_type": "code",
   "execution_count": 15,
   "metadata": {
    "collapsed": false
   },
   "outputs": [],
   "source": [
    "df['User_Status'] = df['User_Status'].astype('category')\n",
    "df['User_Status'] = df['User_Status'].cat.reorder_categories(['Non-user', 'XNootropic User'], ordered=True)\n",
    "df['User_Status'] = df['User_Status'].cat.codes"
   ]
  },
  {
   "cell_type": "code",
   "execution_count": null,
   "metadata": {
    "collapsed": false
   },
   "outputs": [],
   "source": []
  },
  {
   "cell_type": "code",
   "execution_count": 16,
   "metadata": {
    "collapsed": true
   },
   "outputs": [],
   "source": [
    "features = [  4,  6,  7,  8,  9, 10, 11, 12, 13, 14, 15, 16, 17, 21, 22]"
   ]
  },
  {
   "cell_type": "code",
   "execution_count": 17,
   "metadata": {
    "collapsed": false
   },
   "outputs": [],
   "source": [
    "#this is the numeric dataframe\n",
    "numeric_df = df[features]"
   ]
  },
  {
   "cell_type": "code",
   "execution_count": 18,
   "metadata": {
    "collapsed": false
   },
   "outputs": [
    {
     "data": {
      "text/html": [
       "<div>\n",
       "<table border=\"1\" class=\"dataframe\">\n",
       "  <thead>\n",
       "    <tr style=\"text-align: right;\">\n",
       "      <th></th>\n",
       "      <th>Sleep_Quality</th>\n",
       "      <th>Focus_Atten_Concen</th>\n",
       "      <th>Memory</th>\n",
       "      <th>Drive_Passion_Motivation</th>\n",
       "      <th>Physical_Energy</th>\n",
       "      <th>Capacity_Productivity</th>\n",
       "      <th>Decisiveness</th>\n",
       "      <th>Verbal_Fluency_Word_Recall</th>\n",
       "      <th>Creativity_Insight</th>\n",
       "      <th>InterpersonalCapability_Empathy</th>\n",
       "      <th>Emotional_Stability</th>\n",
       "      <th>Euphoria_Joy_Happiness</th>\n",
       "      <th>Estimated_Effect_Duration</th>\n",
       "      <th>User_Status</th>\n",
       "      <th>Overall_Exp_Rating</th>\n",
       "    </tr>\n",
       "  </thead>\n",
       "  <tbody>\n",
       "    <tr>\n",
       "      <th>0</th>\n",
       "      <td>1</td>\n",
       "      <td>2</td>\n",
       "      <td>2</td>\n",
       "      <td>2</td>\n",
       "      <td>2</td>\n",
       "      <td>2</td>\n",
       "      <td>2</td>\n",
       "      <td>1</td>\n",
       "      <td>1</td>\n",
       "      <td>1</td>\n",
       "      <td>1</td>\n",
       "      <td>1</td>\n",
       "      <td>2</td>\n",
       "      <td>0</td>\n",
       "      <td>1</td>\n",
       "    </tr>\n",
       "    <tr>\n",
       "      <th>1</th>\n",
       "      <td>1</td>\n",
       "      <td>2</td>\n",
       "      <td>1</td>\n",
       "      <td>1</td>\n",
       "      <td>2</td>\n",
       "      <td>2</td>\n",
       "      <td>1</td>\n",
       "      <td>1</td>\n",
       "      <td>1</td>\n",
       "      <td>1</td>\n",
       "      <td>2</td>\n",
       "      <td>2</td>\n",
       "      <td>2</td>\n",
       "      <td>0</td>\n",
       "      <td>1</td>\n",
       "    </tr>\n",
       "    <tr>\n",
       "      <th>2</th>\n",
       "      <td>1</td>\n",
       "      <td>2</td>\n",
       "      <td>2</td>\n",
       "      <td>0</td>\n",
       "      <td>0</td>\n",
       "      <td>0</td>\n",
       "      <td>2</td>\n",
       "      <td>2</td>\n",
       "      <td>2</td>\n",
       "      <td>2</td>\n",
       "      <td>1</td>\n",
       "      <td>1</td>\n",
       "      <td>3</td>\n",
       "      <td>1</td>\n",
       "      <td>0</td>\n",
       "    </tr>\n",
       "    <tr>\n",
       "      <th>3</th>\n",
       "      <td>1</td>\n",
       "      <td>2</td>\n",
       "      <td>2</td>\n",
       "      <td>2</td>\n",
       "      <td>2</td>\n",
       "      <td>2</td>\n",
       "      <td>2</td>\n",
       "      <td>2</td>\n",
       "      <td>2</td>\n",
       "      <td>1</td>\n",
       "      <td>1</td>\n",
       "      <td>1</td>\n",
       "      <td>3</td>\n",
       "      <td>1</td>\n",
       "      <td>1</td>\n",
       "    </tr>\n",
       "    <tr>\n",
       "      <th>4</th>\n",
       "      <td>1</td>\n",
       "      <td>2</td>\n",
       "      <td>1</td>\n",
       "      <td>2</td>\n",
       "      <td>2</td>\n",
       "      <td>2</td>\n",
       "      <td>1</td>\n",
       "      <td>1</td>\n",
       "      <td>1</td>\n",
       "      <td>1</td>\n",
       "      <td>1</td>\n",
       "      <td>2</td>\n",
       "      <td>2</td>\n",
       "      <td>1</td>\n",
       "      <td>1</td>\n",
       "    </tr>\n",
       "  </tbody>\n",
       "</table>\n",
       "</div>"
      ],
      "text/plain": [
       "   Sleep_Quality  Focus_Atten_Concen  Memory  Drive_Passion_Motivation  \\\n",
       "0              1                   2       2                         2   \n",
       "1              1                   2       1                         1   \n",
       "2              1                   2       2                         0   \n",
       "3              1                   2       2                         2   \n",
       "4              1                   2       1                         2   \n",
       "\n",
       "   Physical_Energy  Capacity_Productivity  Decisiveness  \\\n",
       "0                2                      2             2   \n",
       "1                2                      2             1   \n",
       "2                0                      0             2   \n",
       "3                2                      2             2   \n",
       "4                2                      2             1   \n",
       "\n",
       "   Verbal_Fluency_Word_Recall  Creativity_Insight  \\\n",
       "0                           1                   1   \n",
       "1                           1                   1   \n",
       "2                           2                   2   \n",
       "3                           2                   2   \n",
       "4                           1                   1   \n",
       "\n",
       "   InterpersonalCapability_Empathy  Emotional_Stability  \\\n",
       "0                                1                    1   \n",
       "1                                1                    2   \n",
       "2                                2                    1   \n",
       "3                                1                    1   \n",
       "4                                1                    1   \n",
       "\n",
       "   Euphoria_Joy_Happiness  Estimated_Effect_Duration  User_Status  \\\n",
       "0                       1                          2            0   \n",
       "1                       2                          2            0   \n",
       "2                       1                          3            1   \n",
       "3                       1                          3            1   \n",
       "4                       2                          2            1   \n",
       "\n",
       "   Overall_Exp_Rating  \n",
       "0                   1  \n",
       "1                   1  \n",
       "2                   0  \n",
       "3                   1  \n",
       "4                   1  "
      ]
     },
     "execution_count": 18,
     "metadata": {},
     "output_type": "execute_result"
    }
   ],
   "source": [
    "numeric_df.head()"
   ]
  },
  {
   "cell_type": "code",
   "execution_count": null,
   "metadata": {
    "collapsed": true
   },
   "outputs": [],
   "source": []
  },
  {
   "cell_type": "markdown",
   "metadata": {
    "collapsed": false
   },
   "source": [
    "## Data is transformed into arrays"
   ]
  },
  {
   "cell_type": "code",
   "execution_count": 19,
   "metadata": {
    "collapsed": true
   },
   "outputs": [],
   "source": [
    "f = [4,  6,  7,  8,  9, 10, 11, 12, 13, 14, 15, 16, 17, 21, 22]"
   ]
  },
  {
   "cell_type": "code",
   "execution_count": 20,
   "metadata": {
    "collapsed": false
   },
   "outputs": [],
   "source": [
    "data = df[features] # trying to see if we can keep column names\n",
    "y = data.Overall_Exp_Rating\n",
    "X = data.drop(['Overall_Exp_Rating'], axis=1)"
   ]
  },
  {
   "cell_type": "code",
   "execution_count": null,
   "metadata": {
    "collapsed": false
   },
   "outputs": [],
   "source": []
  },
  {
   "cell_type": "code",
   "execution_count": 21,
   "metadata": {
    "collapsed": false
   },
   "outputs": [],
   "source": [
    "def cross_validate_model (model):\n",
    "    \"\"\"using CV for model selection\"\"\"\n",
    "    scoring = ['accuracy', 'roc_auc', 'f1', 'precision','recall']\n",
    "    for scores in scoring:\n",
    "        cv_model = cross_validate(model, X,y, cv=StratifiedKFold(10), scoring=scores, return_train_score=True)\n",
    "    \n",
    "        print (str(scores))\n",
    "        for cv in sorted(cv_model):\n",
    "            print (str(cv) + ': {}'.format(cv_model[cv].mean()))\n",
    "        print ('\\t')\n",
    "    \n",
    "    predictions = cross_val_predict(model, X,y, cv=StratifiedKFold(10))\n",
    "    \n",
    "    print(metrics.classification_report(y, predictions))\n",
    "    print (metrics.confusion_matrix(y, predictions))"
   ]
  },
  {
   "cell_type": "code",
   "execution_count": null,
   "metadata": {
    "collapsed": false
   },
   "outputs": [],
   "source": []
  },
  {
   "cell_type": "code",
   "execution_count": 22,
   "metadata": {
    "collapsed": false
   },
   "outputs": [
    {
     "name": "stdout",
     "output_type": "stream",
     "text": [
      "accuracy\n",
      "fit_time: 0.00665881633759\n",
      "score_time: 0.000603175163269\n",
      "test_score: 0.961746376812\n",
      "train_score: 0.977771851833\n",
      "\t\n",
      "roc_auc\n",
      "fit_time: 0.0027458190918\n",
      "score_time: 0.00121138095856\n",
      "test_score: 0.952597402597\n",
      "train_score: 0.975731468724\n",
      "\t\n",
      "f1\n",
      "fit_time: 0.00277752876282\n",
      "score_time: 0.00110425949097\n",
      "test_score: 0.978447479287\n",
      "train_score: 0.987670718371\n",
      "\t\n",
      "precision\n",
      "fit_time: 0.00314481258392\n",
      "score_time: 0.00117478370667\n",
      "test_score: 0.97766798419\n",
      "train_score: 0.987949049129\n",
      "\t\n",
      "recall\n",
      "fit_time: 0.00279881954193\n",
      "score_time: 0.00113656520844\n",
      "test_score: 0.980952380952\n",
      "train_score: 0.987418021494\n",
      "\t\n",
      "             precision    recall  f1-score   support\n",
      "\n",
      "          0       0.82      0.78      0.80        23\n",
      "          1       0.98      0.98      0.98       212\n",
      "\n",
      "avg / total       0.96      0.96      0.96       235\n",
      "\n",
      "[[ 18   5]\n",
      " [  4 208]]\n"
     ]
    }
   ],
   "source": [
    "#SVM rbf\n",
    "cross_validate_model(SVC()) "
   ]
  },
  {
   "cell_type": "code",
   "execution_count": 23,
   "metadata": {
    "collapsed": false
   },
   "outputs": [
    {
     "name": "stdout",
     "output_type": "stream",
     "text": [
      "accuracy\n",
      "fit_time: 0.00377435684204\n",
      "score_time: 0.000618267059326\n",
      "test_score: 0.910963768116\n",
      "train_score: 0.961226478967\n",
      "\t\n",
      "roc_auc\n",
      "fit_time: 0.00298478603363\n",
      "score_time: 0.00112867355347\n",
      "test_score: 0.912121212121\n",
      "train_score: 0.964837604482\n",
      "\t\n",
      "f1\n",
      "fit_time: 0.00285425186157\n",
      "score_time: 0.00108008384705\n",
      "test_score: 0.950137448504\n",
      "train_score: 0.978638438569\n",
      "\t\n",
      "precision\n",
      "fit_time: 0.00290350914001\n",
      "score_time: 0.00124940872192\n",
      "test_score: 0.950178806701\n",
      "train_score: 0.973124037607\n",
      "\t\n",
      "recall\n",
      "fit_time: 0.00301742553711\n",
      "score_time: 0.00113425254822\n",
      "test_score: 0.95303030303\n",
      "train_score: 0.984279415817\n",
      "\t\n",
      "             precision    recall  f1-score   support\n",
      "\n",
      "          0       0.55      0.52      0.53        23\n",
      "          1       0.95      0.95      0.95       212\n",
      "\n",
      "avg / total       0.91      0.91      0.91       235\n",
      "\n",
      "[[ 12  11]\n",
      " [ 10 202]]\n"
     ]
    }
   ],
   "source": [
    "#SVM linear \n",
    "cross_validate_model(SVC(kernel='linear')) "
   ]
  },
  {
   "cell_type": "code",
   "execution_count": 24,
   "metadata": {
    "collapsed": false
   },
   "outputs": [
    {
     "name": "stdout",
     "output_type": "stream",
     "text": [
      "accuracy\n",
      "fit_time: 0.0104569196701\n",
      "score_time: 0.000512957572937\n",
      "test_score: 0.940884057971\n",
      "train_score: 0.945638043288\n",
      "\t\n",
      "roc_auc\n",
      "fit_time: 0.00269455909729\n",
      "score_time: 0.000969338417053\n",
      "test_score: 0.927705627706\n",
      "train_score: 0.97504016586\n",
      "\t\n",
      "f1\n",
      "fit_time: 0.00302872657776\n",
      "score_time: 0.00116457939148\n",
      "test_score: 0.968058978898\n",
      "train_score: 0.97048282952\n",
      "\t\n",
      "precision\n",
      "fit_time: 0.00305590629578\n",
      "score_time: 0.001154088974\n",
      "test_score: 0.947233201581\n",
      "train_score: 0.9512042724\n",
      "\t\n",
      "recall\n",
      "fit_time: 0.00296151638031\n",
      "score_time: 0.00122230052948\n",
      "test_score: 0.990692640693\n",
      "train_score: 0.99056764949\n",
      "\t\n",
      "             precision    recall  f1-score   support\n",
      "\n",
      "          0       0.85      0.48      0.61        23\n",
      "          1       0.95      0.99      0.97       212\n",
      "\n",
      "avg / total       0.94      0.94      0.93       235\n",
      "\n",
      "[[ 11  12]\n",
      " [  2 210]]\n"
     ]
    }
   ],
   "source": [
    "#logistic regression\n",
    "cross_validate_model(LogisticRegression()) "
   ]
  },
  {
   "cell_type": "code",
   "execution_count": 25,
   "metadata": {
    "collapsed": false
   },
   "outputs": [
    {
     "name": "stdout",
     "output_type": "stream",
     "text": [
      "accuracy\n",
      "fit_time: 0.0678020477295\n",
      "score_time: 0.00194973945618\n",
      "test_score: 0.944702898551\n",
      "train_score: 0.995743496719\n",
      "\t\n",
      "roc_auc\n",
      "fit_time: 0.0488309144974\n",
      "score_time: 0.00233514308929\n",
      "test_score: 0.949098124098\n",
      "train_score: 0.999673122597\n",
      "\t\n",
      "f1\n",
      "fit_time: 0.0490444421768\n",
      "score_time: 0.00235035419464\n",
      "test_score: 0.969196271557\n",
      "train_score: 0.997121077288\n",
      "\t\n",
      "precision\n",
      "fit_time: 0.0490883588791\n",
      "score_time: 0.00233798027039\n",
      "test_score: 0.974242424242\n",
      "train_score: 0.996866819372\n",
      "\t\n",
      "recall\n",
      "fit_time: 0.0487249135971\n",
      "score_time: 0.00237798690796\n",
      "test_score: 0.962337662338\n",
      "train_score: 0.997903003582\n",
      "\t\n",
      "             precision    recall  f1-score   support\n",
      "\n",
      "          0       0.62      0.65      0.64        23\n",
      "          1       0.96      0.96      0.96       212\n",
      "\n",
      "avg / total       0.93      0.93      0.93       235\n",
      "\n",
      "[[ 15   8]\n",
      " [  9 203]]\n"
     ]
    }
   ],
   "source": [
    "#randomforest\n",
    "cross_validate_model(RandomForestClassifier()) "
   ]
  },
  {
   "cell_type": "code",
   "execution_count": 26,
   "metadata": {
    "collapsed": false
   },
   "outputs": [
    {
     "name": "stdout",
     "output_type": "stream",
     "text": [
      "accuracy\n",
      "fit_time: 0.0462831735611\n",
      "score_time: 0.00180480480194\n",
      "test_score: 0.940702898551\n",
      "train_score: 0.996217430368\n",
      "\t\n",
      "roc_auc\n",
      "fit_time: 0.0457469940186\n",
      "score_time: 0.00245661735535\n",
      "test_score: 0.922041847042\n",
      "train_score: 0.999898889895\n",
      "\t\n",
      "f1\n",
      "fit_time: 0.0457366228104\n",
      "score_time: 0.0025728225708\n",
      "test_score: 0.966877430978\n",
      "train_score: 0.997897492365\n",
      "\t\n",
      "precision\n",
      "fit_time: 0.0463656663895\n",
      "score_time: 0.0024706363678\n",
      "test_score: 0.973320158103\n",
      "train_score: 1.0\n",
      "\t\n",
      "recall\n",
      "fit_time: 0.0457246780396\n",
      "score_time: 0.00259983539581\n",
      "test_score: 0.976406926407\n",
      "train_score: 0.995806007165\n",
      "\t\n",
      "             precision    recall  f1-score   support\n",
      "\n",
      "          0       0.74      0.74      0.74        23\n",
      "          1       0.97      0.97      0.97       212\n",
      "\n",
      "avg / total       0.95      0.95      0.95       235\n",
      "\n",
      "[[ 17   6]\n",
      " [  6 206]]\n"
     ]
    }
   ],
   "source": [
    "cross_validate_model(ExtraTreesClassifier()) "
   ]
  },
  {
   "cell_type": "code",
   "execution_count": null,
   "metadata": {
    "collapsed": false
   },
   "outputs": [],
   "source": []
  },
  {
   "cell_type": "code",
   "execution_count": null,
   "metadata": {
    "collapsed": true
   },
   "outputs": [],
   "source": []
  },
  {
   "cell_type": "code",
   "execution_count": null,
   "metadata": {
    "collapsed": false
   },
   "outputs": [],
   "source": []
  },
  {
   "cell_type": "markdown",
   "metadata": {},
   "source": [
    "## Feature Selection with KFold"
   ]
  },
  {
   "cell_type": "code",
   "execution_count": 27,
   "metadata": {
    "collapsed": false
   },
   "outputs": [],
   "source": [
    "def plot_nfeat(model):\n",
    "    \"\"\"preforms a recursive feature elimination with cross validation, using \n",
    "    whatever scoring you like\"\"\"\n",
    "    score_metric = ['accuracy', 'roc_auc', 'f1', 'precision', 'recall']\n",
    "    f, ax = plt.subplots(sharey=True)\n",
    "    for s in score_metric:\n",
    "        selector = RFECV(model, step=1, cv=StratifiedKFold(10), scoring=s)\n",
    "        selector.fit(X,y)                \n",
    "        print ('Scoring: {}'.format(s))\n",
    "        print ('Optimal Number of Features = {}'.format(selector.n_features_))\n",
    "        headers = ['Name', 'Ranking']\n",
    "        values = sorted(zip(X.columns, selector.ranking_))\n",
    "        top_feat = filter(lambda x:x[:][1]==1, values)\n",
    "    \n",
    "        top_feats = []\n",
    "        top_feats.append(top_feat)\n",
    "        unique_feats = np.unique((np.array(top_feats)))\n",
    "        top_features = unique_feats.tolist()\n",
    "        print (top_features[1:])\n",
    "        print ('\\t')\n",
    "        \n",
    "        \n",
    "        plt.xlabel('Number of Features Selected')\n",
    "        plt.ylabel('Cross Validation Score')\n",
    "        plt.plot(range(1,len(selector.grid_scores_)+1), selector.grid_scores_, label=s)\n",
    "        plt.title('Optimal Number of Features')\n",
    "        plt.legend()"
   ]
  },
  {
   "cell_type": "code",
   "execution_count": 28,
   "metadata": {
    "collapsed": false
   },
   "outputs": [
    {
     "name": "stdout",
     "output_type": "stream",
     "text": [
      "Scoring: accuracy\n",
      "Optimal Number of Features = 2\n",
      "['InterpersonalCapability_Empathy', 'Physical_Energy']\n",
      "\t\n",
      "Scoring: roc_auc\n",
      "Optimal Number of Features = 5\n",
      "['Drive_Passion_Motivation', 'Focus_Atten_Concen', 'InterpersonalCapability_Empathy', 'Physical_Energy', 'Sleep_Quality']\n",
      "\t\n",
      "Scoring: f1\n",
      "Optimal Number of Features = 2\n",
      "['InterpersonalCapability_Empathy', 'Physical_Energy']\n",
      "\t\n",
      "Scoring: precision\n",
      "Optimal Number of Features = 11\n",
      "['Decisiveness', 'Drive_Passion_Motivation', 'Emotional_Stability', 'Estimated_Effect_Duration', 'Euphoria_Joy_Happiness', 'Focus_Atten_Concen', 'InterpersonalCapability_Empathy', 'Physical_Energy', 'Sleep_Quality', 'User_Status', 'Verbal_Fluency_Word_Recall']\n",
      "\t\n",
      "Scoring: recall\n",
      "Optimal Number of Features = 4\n",
      "['Drive_Passion_Motivation', 'Focus_Atten_Concen', 'InterpersonalCapability_Empathy', 'Physical_Energy']\n",
      "\t\n"
     ]
    },
    {
     "data": {
      "text/plain": [
       "<matplotlib.text.Text at 0x11a0b0dd0>"
      ]
     },
     "execution_count": 28,
     "metadata": {},
     "output_type": "execute_result"
    },
    {
     "data": {
      "image/png": "[encoded data removed]",
      "text/plain": [
       "<matplotlib.figure.Figure at 0x11a03c950>"
      ]
     },
     "metadata": {},
     "output_type": "display_data"
    }
   ],
   "source": [
    "plot_nfeat(SVC(kernel='linear'))\n",
    "plt.title('SVM-Linear: Feature Importance by CV Score')"
   ]
  },
  {
   "cell_type": "code",
   "execution_count": 29,
   "metadata": {
    "collapsed": false
   },
   "outputs": [
    {
     "name": "stdout",
     "output_type": "stream",
     "text": [
      "Scoring: accuracy\n",
      "Optimal Number of Features = 14\n",
      "['Capacity_Productivity', 'Creativity_Insight', 'Decisiveness', 'Drive_Passion_Motivation', 'Emotional_Stability', 'Estimated_Effect_Duration', 'Euphoria_Joy_Happiness', 'Focus_Atten_Concen', 'InterpersonalCapability_Empathy', 'Memory', 'Physical_Energy', 'Sleep_Quality', 'User_Status', 'Verbal_Fluency_Word_Recall']\n",
      "\t\n",
      "Scoring: roc_auc\n",
      "Optimal Number of Features = 8\n",
      "['Drive_Passion_Motivation', 'Estimated_Effect_Duration', 'Euphoria_Joy_Happiness', 'Focus_Atten_Concen', 'InterpersonalCapability_Empathy', 'Memory', 'Physical_Energy', 'Sleep_Quality']\n",
      "\t\n",
      "Scoring: f1\n",
      "Optimal Number of Features = 14\n",
      "['Capacity_Productivity', 'Creativity_Insight', 'Decisiveness', 'Drive_Passion_Motivation', 'Emotional_Stability', 'Estimated_Effect_Duration', 'Euphoria_Joy_Happiness', 'Focus_Atten_Concen', 'InterpersonalCapability_Empathy', 'Memory', 'Physical_Energy', 'Sleep_Quality', 'User_Status', 'Verbal_Fluency_Word_Recall']\n",
      "\t\n",
      "Scoring: precision\n",
      "Optimal Number of Features = 14\n",
      "['Capacity_Productivity', 'Creativity_Insight', 'Decisiveness', 'Drive_Passion_Motivation', 'Emotional_Stability', 'Estimated_Effect_Duration', 'Euphoria_Joy_Happiness', 'Focus_Atten_Concen', 'InterpersonalCapability_Empathy', 'Memory', 'Physical_Energy', 'Sleep_Quality', 'User_Status', 'Verbal_Fluency_Word_Recall']\n",
      "\t\n",
      "Scoring: recall\n",
      "Optimal Number of Features = 14\n",
      "['Capacity_Productivity', 'Creativity_Insight', 'Decisiveness', 'Drive_Passion_Motivation', 'Emotional_Stability', 'Estimated_Effect_Duration', 'Euphoria_Joy_Happiness', 'Focus_Atten_Concen', 'InterpersonalCapability_Empathy', 'Memory', 'Physical_Energy', 'Sleep_Quality', 'User_Status', 'Verbal_Fluency_Word_Recall']\n",
      "\t\n"
     ]
    },
    {
     "data": {
      "text/plain": [
       "<matplotlib.text.Text at 0x11a491c90>"
      ]
     },
     "execution_count": 29,
     "metadata": {},
     "output_type": "execute_result"
    },
    {
     "data": {
      "image/png": "[encoded data removed]",
      "text/plain": [
       "<matplotlib.figure.Figure at 0x11a17f410>"
      ]
     },
     "metadata": {},
     "output_type": "display_data"
    }
   ],
   "source": [
    "#logit\n",
    "plot_nfeat(LogisticRegression())\n",
    "plt.title('Logit: Feature Importance by CV Score')"
   ]
  },
  {
   "cell_type": "code",
   "execution_count": 30,
   "metadata": {
    "collapsed": false
   },
   "outputs": [
    {
     "name": "stdout",
     "output_type": "stream",
     "text": [
      "Scoring: accuracy\n",
      "Optimal Number of Features = 12\n",
      "['Capacity_Productivity', 'Creativity_Insight', 'Decisiveness', 'Drive_Passion_Motivation', 'Emotional_Stability', 'Estimated_Effect_Duration', 'Euphoria_Joy_Happiness', 'Focus_Atten_Concen', 'Memory', 'Physical_Energy', 'Sleep_Quality', 'Verbal_Fluency_Word_Recall']\n",
      "\t\n",
      "Scoring: roc_auc\n",
      "Optimal Number of Features = 13\n",
      "['Capacity_Productivity', 'Creativity_Insight', 'Decisiveness', 'Drive_Passion_Motivation', 'Emotional_Stability', 'Estimated_Effect_Duration', 'Euphoria_Joy_Happiness', 'Focus_Atten_Concen', 'InterpersonalCapability_Empathy', 'Physical_Energy', 'Sleep_Quality', 'User_Status', 'Verbal_Fluency_Word_Recall']\n",
      "\t\n",
      "Scoring: f1\n",
      "Optimal Number of Features = 5\n",
      "['Drive_Passion_Motivation', 'Estimated_Effect_Duration', 'Euphoria_Joy_Happiness', 'Focus_Atten_Concen', 'Physical_Energy']\n",
      "\t\n",
      "Scoring: precision\n",
      "Optimal Number of Features = 9\n",
      "['Capacity_Productivity', 'Decisiveness', 'Drive_Passion_Motivation', 'Estimated_Effect_Duration', 'Euphoria_Joy_Happiness', 'Focus_Atten_Concen', 'Memory', 'Physical_Energy', 'Verbal_Fluency_Word_Recall']\n",
      "\t\n",
      "Scoring: recall\n",
      "Optimal Number of Features = 1\n",
      "['Physical_Energy']\n",
      "\t\n"
     ]
    },
    {
     "data": {
      "text/plain": [
       "<matplotlib.text.Text at 0x11a65e450>"
      ]
     },
     "execution_count": 30,
     "metadata": {},
     "output_type": "execute_result"
    },
    {
     "data": {
      "image/png": "[encoded data removed]",
      "text/plain": [
       "<matplotlib.figure.Figure at 0x11a141d10>"
      ]
     },
     "metadata": {},
     "output_type": "display_data"
    }
   ],
   "source": [
    "plot_nfeat(RandomForestClassifier())\n",
    "plt.title('Random Forest: Feature Importance by CV Score')"
   ]
  },
  {
   "cell_type": "code",
   "execution_count": 31,
   "metadata": {
    "collapsed": false
   },
   "outputs": [
    {
     "name": "stdout",
     "output_type": "stream",
     "text": [
      "Scoring: accuracy\n",
      "Optimal Number of Features = 12\n",
      "['Capacity_Productivity', 'Creativity_Insight', 'Decisiveness', 'Drive_Passion_Motivation', 'Emotional_Stability', 'Estimated_Effect_Duration', 'Euphoria_Joy_Happiness', 'Focus_Atten_Concen', 'Memory', 'Physical_Energy', 'Sleep_Quality', 'Verbal_Fluency_Word_Recall']\n",
      "\t\n",
      "Scoring: roc_auc\n",
      "Optimal Number of Features = 14\n",
      "['Capacity_Productivity', 'Creativity_Insight', 'Decisiveness', 'Drive_Passion_Motivation', 'Emotional_Stability', 'Estimated_Effect_Duration', 'Euphoria_Joy_Happiness', 'Focus_Atten_Concen', 'InterpersonalCapability_Empathy', 'Memory', 'Physical_Energy', 'Sleep_Quality', 'User_Status', 'Verbal_Fluency_Word_Recall']\n",
      "\t\n",
      "Scoring: f1\n",
      "Optimal Number of Features = 9\n",
      "['Capacity_Productivity', 'Decisiveness', 'Drive_Passion_Motivation', 'Estimated_Effect_Duration', 'Euphoria_Joy_Happiness', 'Focus_Atten_Concen', 'Physical_Energy', 'Sleep_Quality', 'Verbal_Fluency_Word_Recall']\n",
      "\t\n",
      "Scoring: precision\n",
      "Optimal Number of Features = 10\n",
      "['Capacity_Productivity', 'Decisiveness', 'Drive_Passion_Motivation', 'Emotional_Stability', 'Estimated_Effect_Duration', 'Euphoria_Joy_Happiness', 'Focus_Atten_Concen', 'Physical_Energy', 'Sleep_Quality', 'Verbal_Fluency_Word_Recall']\n",
      "\t\n",
      "Scoring: recall\n",
      "Optimal Number of Features = 2\n",
      "['Focus_Atten_Concen', 'Physical_Energy']\n",
      "\t\n"
     ]
    },
    {
     "data": {
      "text/plain": [
       "<matplotlib.text.Text at 0x11a8705d0>"
      ]
     },
     "execution_count": 31,
     "metadata": {},
     "output_type": "execute_result"
    },
    {
     "data": {
      "image/png": "[encoded data removed]",
      "text/plain": [
       "<matplotlib.figure.Figure at 0x11a71f3d0>"
      ]
     },
     "metadata": {},
     "output_type": "display_data"
    }
   ],
   "source": [
    "#extratrees\n",
    "plot_nfeat(ExtraTreesClassifier())\n",
    "plt.title('Extra Trees Classifier: Feature Importance by CV Score')"
   ]
  },
  {
   "cell_type": "code",
   "execution_count": 32,
   "metadata": {
    "collapsed": false
   },
   "outputs": [
    {
     "name": "stdout",
     "output_type": "stream",
     "text": [
      "                                    Score\n",
      "Name                                     \n",
      "Physical_Energy                  0.212370\n",
      "Estimated_Effect_Duration        0.162801\n",
      "Focus_Atten_Concen               0.142584\n",
      "Decisiveness                     0.081478\n",
      "Drive_Passion_Motivation         0.077641\n",
      "Sleep_Quality                    0.055773\n",
      "Euphoria_Joy_Happiness           0.049334\n",
      "Verbal_Fluency_Word_Recall       0.047719\n",
      "Capacity_Productivity            0.038853\n",
      "InterpersonalCapability_Empathy  0.037355\n",
      "Memory                           0.029878\n",
      "User_Status                      0.029322\n",
      "Emotional_Stability              0.027055\n",
      "Creativity_Insight               0.007836\n"
     ]
    },
    {
     "data": {
      "text/plain": [
       "<matplotlib.text.Text at 0x11af64f90>"
      ]
     },
     "execution_count": 32,
     "metadata": {},
     "output_type": "execute_result"
    },
    {
     "data": {
      "image/png": "[encoded data removed]",
      "text/plain": [
       "<matplotlib.figure.Figure at 0x11af1aad0>"
      ]
     },
     "metadata": {},
     "output_type": "display_data"
    }
   ],
   "source": [
    "#using RandomForest classifier \n",
    "X_train, X_test, y_train, y_test = train_test_split(X,y,test_size=.30)\n",
    "rf = RandomForestClassifier()\n",
    "rf.fit(X_train, y_train)\n",
    "rf.score(X_test,y_test)\n",
    "headers= ['Name', 'Score']\n",
    "values = sorted(zip(X_train.columns, rf.feature_importances_), key=lambda x:x[1]* -1)\n",
    "df_2 = pd.DataFrame(data=values, columns=headers).set_index('Name')\n",
    "print (df_2)\n",
    "df_2.plot(kind='barh')\n",
    "plt.title('Feature Importance: Random Forest Classifier')"
   ]
  },
  {
   "cell_type": "code",
   "execution_count": null,
   "metadata": {
    "collapsed": true
   },
   "outputs": [],
   "source": []
  },
  {
   "cell_type": "code",
   "execution_count": 33,
   "metadata": {
    "collapsed": false
   },
   "outputs": [
    {
     "name": "stdout",
     "output_type": "stream",
     "text": [
      "                                    Score\n",
      "Name                                     \n",
      "Physical_Energy                  0.205440\n",
      "Estimated_Effect_Duration        0.151466\n",
      "Drive_Passion_Motivation         0.145052\n",
      "Focus_Atten_Concen               0.121922\n",
      "Verbal_Fluency_Word_Recall       0.086039\n",
      "Capacity_Productivity            0.055618\n",
      "Euphoria_Joy_Happiness           0.048816\n",
      "Decisiveness                     0.042715\n",
      "Emotional_Stability              0.032650\n",
      "User_Status                      0.032060\n",
      "Sleep_Quality                    0.030180\n",
      "Memory                           0.024116\n",
      "Creativity_Insight               0.013095\n",
      "InterpersonalCapability_Empathy  0.010829\n"
     ]
    },
    {
     "data": {
      "text/plain": [
       "<matplotlib.text.Text at 0x11b2bc390>"
      ]
     },
     "execution_count": 33,
     "metadata": {},
     "output_type": "execute_result"
    },
    {
     "data": {
      "image/png": "[encoded data removed]",
      "text/plain": [
       "<matplotlib.figure.Figure at 0x11a491150>"
      ]
     },
     "metadata": {},
     "output_type": "display_data"
    }
   ],
   "source": [
    "model = ExtraTreesClassifier()\n",
    "model.fit(X_train,y_train)\n",
    "headers= ['Name', 'Score']\n",
    "values = sorted(zip(X_train.columns, model.feature_importances_), key=lambda x:x[1]* -1)\n",
    "df_2 = pd.DataFrame(data=values, columns=headers).set_index('Name')\n",
    "print (df_2)\n",
    "df_2.plot(kind='barh')\n",
    "plt.title('Feature Importance: Extra Trees Classifier')"
   ]
  },
  {
   "cell_type": "code",
   "execution_count": null,
   "metadata": {
    "collapsed": false
   },
   "outputs": [],
   "source": []
  },
  {
   "cell_type": "markdown",
   "metadata": {},
   "source": [
    "# Parameter Tuning with GridSearchCV"
   ]
  },
  {
   "cell_type": "code",
   "execution_count": 34,
   "metadata": {
    "collapsed": true
   },
   "outputs": [],
   "source": [
    "logit_params = {'C': [0.001,0.01, 0.1, 1, 10, 100]}"
   ]
  },
  {
   "cell_type": "code",
   "execution_count": 35,
   "metadata": {
    "collapsed": false
   },
   "outputs": [],
   "source": [
    "Cs = [0.001, 0.01, 0.1, 1, 10, 50, 100]\n",
    "g = np.logspace(-1,0,10)\n",
    "\n",
    "svm_params = [{'kernel': ['rbf'], 'gamma': g,\n",
    "                     'C': Cs},\n",
    "                    {'kernel': ['linear'], 'C': Cs}]"
   ]
  },
  {
   "cell_type": "code",
   "execution_count": null,
   "metadata": {
    "collapsed": false
   },
   "outputs": [],
   "source": []
  },
  {
   "cell_type": "code",
   "execution_count": 36,
   "metadata": {
    "collapsed": false
   },
   "outputs": [],
   "source": [
    "RF_params = {\"max_depth\": [3, None],\n",
    "              \"max_features\": [1, 3, 10],\n",
    "              \"min_samples_split\": [2, 3, 10],\n",
    "              \"min_samples_leaf\": [1, 3, 10],\n",
    "              \"bootstrap\": [True, False],\n",
    "              \"criterion\": [\"gini\", \"entropy\"]}\n",
    "n_iter_search = 20\n"
   ]
  },
  {
   "cell_type": "markdown",
   "metadata": {},
   "source": [
    "# Fixing Class Imbalance issue\n",
    "\n",
    "Down-Sample Majority Class: \n",
    "\n",
    "-Good for smaller datasets\n",
    "\n",
    "-Randomy removes observations from majority class which prevents its signal from dominating the learning algorithm\n",
    "\n",
    "-resamples majority class without replacement so that it matches the minority class. "
   ]
  },
  {
   "cell_type": "markdown",
   "metadata": {},
   "source": [
    "# Using Imbalance -SMOTE algorithm"
   ]
  },
  {
   "cell_type": "code",
   "execution_count": 61,
   "metadata": {
    "collapsed": true
   },
   "outputs": [],
   "source": [
    "X_train, X_test, y_train, y_test = train_test_split(X, y, test_size=.30)\n"
   ]
  },
  {
   "cell_type": "code",
   "execution_count": 62,
   "metadata": {
    "collapsed": false
   },
   "outputs": [
    {
     "data": {
      "text/plain": [
       "1    64\n",
       "0     7\n",
       "Name: Overall_Exp_Rating, dtype: int64"
      ]
     },
     "execution_count": 62,
     "metadata": {},
     "output_type": "execute_result"
    }
   ],
   "source": [
    "y_test.value_counts()"
   ]
  },
  {
   "cell_type": "code",
   "execution_count": 63,
   "metadata": {
    "collapsed": false
   },
   "outputs": [],
   "source": [
    "sm = SMOTE(random_state=12, ratio='minority')\n",
    "#changing the X_train and y_train\n",
    "X_train_res, y_train_res = sm.fit_sample(X_train, y_train)"
   ]
  },
  {
   "cell_type": "code",
   "execution_count": 64,
   "metadata": {
    "collapsed": false
   },
   "outputs": [
    {
     "data": {
      "text/plain": [
       "(array([0, 1]), array([148, 148]))"
      ]
     },
     "execution_count": 64,
     "metadata": {},
     "output_type": "execute_result"
    }
   ],
   "source": [
    "np.unique(y_train_res, return_counts=True)"
   ]
  },
  {
   "cell_type": "code",
   "execution_count": 41,
   "metadata": {
    "collapsed": false
   },
   "outputs": [],
   "source": [
    "def smote_pipeline(model, params):\n",
    "    \"\"\"fixes the class imbalance issue using SMOTE\n",
    "    GridSearchCV uss 10 fold CV for each scoring metric\n",
    "    \n",
    "    \n",
    "    \n",
    "    \"\"\"\n",
    "    scoring = ['accuracy', 'roc_auc', 'f1', 'precision', 'recall']\n",
    "    \n",
    "    #gather data for each scoring metric\n",
    "    for score_metric in scoring:\n",
    "        model_cv = GridSearchCV(model, param_grid=params, cv=StratifiedKFold(10), scoring=score_metric)\n",
    "        model_cv.fit(X_train_res, y_train_res)\n",
    "    \n",
    "        print (str(score_metric))\n",
    "        print ('Best Score for Training Data: {}'.format(model_cv.best_score_))\n",
    "        print(model_cv.best_params_)\n",
    "\n",
    "\n",
    "        y_pred = model_cv.predict(X_test)\n",
    "\n",
    "        print('Test Data Score: {}'.format(model_cv.score(X_test, y_test)))\n",
    "\n",
    "        print (classification_report(y_test, y_pred, target_names=['Low', 'High']))\n",
    "        print (confusion_matrix(y_test,y_pred))\n",
    "        best_model = model_cv.best_estimator_\n",
    "\n",
    "        print('Sanity Check: {}'.format(best_model.fit(X_train_res, y_train_res).score(X_test, y_test)))\n",
    "        print ('\\t')\n"
   ]
  },
  {
   "cell_type": "code",
   "execution_count": 42,
   "metadata": {
    "collapsed": false
   },
   "outputs": [
    {
     "name": "stdout",
     "output_type": "stream",
     "text": [
      "accuracy\n",
      "Best Score for Training Data: 0.996621621622\n",
      "{'kernel': 'rbf', 'C': 1, 'gamma': 0.5994842503189409}\n",
      "Test Data Score: 0.943661971831\n",
      "             precision    recall  f1-score   support\n",
      "\n",
      "        Low       1.00      0.43      0.60         7\n",
      "       High       0.94      1.00      0.97        64\n",
      "\n",
      "avg / total       0.95      0.94      0.93        71\n",
      "\n",
      "[[ 3  4]\n",
      " [ 0 64]]\n",
      "Sanity Check: 0.943661971831\n",
      "\t\n",
      "roc_auc\n",
      "Best Score for Training Data: 1.0\n",
      "{'kernel': 'rbf', 'C': 1, 'gamma': 0.1}\n",
      "Test Data Score: 0.8515625\n",
      "             precision    recall  f1-score   support\n",
      "\n",
      "        Low       1.00      0.57      0.73         7\n",
      "       High       0.96      1.00      0.98        64\n",
      "\n",
      "avg / total       0.96      0.96      0.95        71\n",
      "\n",
      "[[ 4  3]\n",
      " [ 0 64]]\n",
      "Sanity Check: 0.957746478873\n",
      "\t\n",
      "f1\n",
      "Best Score for Training Data: 0.996505125815\n",
      "{'kernel': 'rbf', 'C': 1, 'gamma': 0.5994842503189409}\n",
      "Test Data Score: 0.969696969697\n",
      "             precision    recall  f1-score   support\n",
      "\n",
      "        Low       1.00      0.43      0.60         7\n",
      "       High       0.94      1.00      0.97        64\n",
      "\n",
      "avg / total       0.95      0.94      0.93        71\n",
      "\n",
      "[[ 3  4]\n",
      " [ 0 64]]\n",
      "Sanity Check: 0.943661971831\n",
      "\t\n",
      "precision\n",
      "Best Score for Training Data: 1.0\n",
      "{'kernel': 'rbf', 'C': 0.001, 'gamma': 0.1}\n",
      "Test Data Score: 0.953846153846\n",
      "             precision    recall  f1-score   support\n",
      "\n",
      "        Low       0.67      0.57      0.62         7\n",
      "       High       0.95      0.97      0.96        64\n",
      "\n",
      "avg / total       0.93      0.93      0.93        71\n",
      "\n",
      "[[ 4  3]\n",
      " [ 2 62]]\n",
      "Sanity Check: 0.929577464789\n",
      "\t\n",
      "recall\n",
      "Best Score for Training Data: 0.993243243243\n",
      "{'kernel': 'rbf', 'C': 1, 'gamma': 0.5994842503189409}\n",
      "Test Data Score: 1.0\n",
      "             precision    recall  f1-score   support\n",
      "\n",
      "        Low       1.00      0.43      0.60         7\n",
      "       High       0.94      1.00      0.97        64\n",
      "\n",
      "avg / total       0.95      0.94      0.93        71\n",
      "\n",
      "[[ 3  4]\n",
      " [ 0 64]]\n",
      "Sanity Check: 0.943661971831\n",
      "\t\n"
     ]
    }
   ],
   "source": [
    "smote_pipeline(SVC(), svm_params)"
   ]
  },
  {
   "cell_type": "code",
   "execution_count": 107,
   "metadata": {
    "collapsed": false
   },
   "outputs": [
    {
     "name": "stdout",
     "output_type": "stream",
     "text": [
      "accuracy\n",
      "Best Score for Training Data: 0.986486486486\n",
      "{'C': 1}\n",
      "Test Data Score: 0.845070422535\n",
      "             precision    recall  f1-score   support\n",
      "\n",
      "        Low       0.33      0.57      0.42         7\n",
      "       High       0.95      0.88      0.91        64\n",
      "\n",
      "avg / total       0.89      0.85      0.86        71\n",
      "\n",
      "[[ 4  3]\n",
      " [ 8 56]]\n",
      "Sanity Check: 0.845070422535\n",
      "\t\n",
      "roc_auc\n",
      "Best Score for Training Data: 0.992760617761\n",
      "{'C': 1}\n",
      "Test Data Score: 0.886160714286\n",
      "             precision    recall  f1-score   support\n",
      "\n",
      "        Low       0.33      0.57      0.42         7\n",
      "       High       0.95      0.88      0.91        64\n",
      "\n",
      "avg / total       0.89      0.85      0.86        71\n",
      "\n",
      "[[ 4  3]\n",
      " [ 8 56]]\n",
      "Sanity Check: 0.845070422535\n",
      "\t\n",
      "f1\n",
      "Best Score for Training Data: 0.985762240073\n",
      "{'C': 1}\n",
      "Test Data Score: 0.910569105691\n",
      "             precision    recall  f1-score   support\n",
      "\n",
      "        Low       0.33      0.57      0.42         7\n",
      "       High       0.95      0.88      0.91        64\n",
      "\n",
      "avg / total       0.89      0.85      0.86        71\n",
      "\n",
      "[[ 4  3]\n",
      " [ 8 56]]\n",
      "Sanity Check: 0.845070422535\n",
      "\t\n",
      "precision\n",
      "Best Score for Training Data: 1.0\n",
      "{'C': 1}\n",
      "Test Data Score: 0.949152542373\n",
      "             precision    recall  f1-score   support\n",
      "\n",
      "        Low       0.33      0.57      0.42         7\n",
      "       High       0.95      0.88      0.91        64\n",
      "\n",
      "avg / total       0.89      0.85      0.86        71\n",
      "\n",
      "[[ 4  3]\n",
      " [ 8 56]]\n",
      "Sanity Check: 0.845070422535\n",
      "\t\n",
      "recall\n",
      "Best Score for Training Data: 0.993243243243\n",
      "{'C': 0.001}\n",
      "Test Data Score: 0.984375\n",
      "             precision    recall  f1-score   support\n",
      "\n",
      "        Low       0.00      0.00      0.00         7\n",
      "       High       0.90      0.98      0.94        64\n",
      "\n",
      "avg / total       0.81      0.89      0.85        71\n",
      "\n",
      "[[ 0  7]\n",
      " [ 1 63]]\n",
      "Sanity Check: 0.887323943662\n",
      "\t\n"
     ]
    }
   ],
   "source": [
    "smote_pipeline(LogisticRegression(penalty='l2'), logit_params)"
   ]
  },
  {
   "cell_type": "code",
   "execution_count": null,
   "metadata": {
    "collapsed": false
   },
   "outputs": [],
   "source": []
  },
  {
   "cell_type": "code",
   "execution_count": null,
   "metadata": {
    "collapsed": false
   },
   "outputs": [],
   "source": []
  },
  {
   "cell_type": "markdown",
   "metadata": {
    "collapsed": true
   },
   "source": [
    "## Random Forest"
   ]
  },
  {
   "cell_type": "code",
   "execution_count": 44,
   "metadata": {
    "collapsed": false
   },
   "outputs": [
    {
     "name": "stdout",
     "output_type": "stream",
     "text": [
      "accuracy\n",
      "Training  Score: 0.975609756098\n",
      "Best Parameters: {'bootstrap': False, 'min_samples_leaf': 1, 'max_features': 1, 'criterion': 'gini', 'min_samples_split': 3, 'max_depth': None}\n",
      "Test Score Test: 0.957746478873\n",
      "Sanity Check: 0.943661971831\n",
      "\t\n",
      "             precision    recall  f1-score   support\n",
      "\n",
      "          0       0.83      0.71      0.77         7\n",
      "          1       0.97      0.98      0.98        64\n",
      "\n",
      "avg / total       0.96      0.96      0.96        71\n",
      "\n",
      "[[ 5  2]\n",
      " [ 1 63]]\n",
      "\t\n",
      "roc_auc\n",
      "Training  Score: 0.939634146341\n",
      "Best Parameters: {'bootstrap': True, 'min_samples_leaf': 10, 'max_features': 10, 'criterion': 'entropy', 'min_samples_split': 2, 'max_depth': 3}\n",
      "Test Score Test: 0.989955357143\n",
      "Sanity Check: 0.943661971831\n",
      "\t\n",
      "             precision    recall  f1-score   support\n",
      "\n",
      "          0       1.00      0.14      0.25         7\n",
      "          1       0.91      1.00      0.96        64\n",
      "\n",
      "avg / total       0.92      0.92      0.89        71\n",
      "\n",
      "[[ 1  6]\n",
      " [ 0 64]]\n",
      "\t\n",
      "f1\n",
      "Training  Score: 0.973845007325\n",
      "Best Parameters: {'bootstrap': True, 'min_samples_leaf': 1, 'max_features': 10, 'criterion': 'entropy', 'min_samples_split': 3, 'max_depth': None}\n",
      "Test Score Test: 0.976744186047\n",
      "Sanity Check: 0.971830985915\n",
      "\t\n",
      "             precision    recall  f1-score   support\n",
      "\n",
      "          0       0.83      0.71      0.77         7\n",
      "          1       0.97      0.98      0.98        64\n",
      "\n",
      "avg / total       0.96      0.96      0.96        71\n",
      "\n",
      "[[ 5  2]\n",
      " [ 1 63]]\n",
      "\t\n",
      "precision\n",
      "Training  Score: 0.975228658537\n",
      "Best Parameters: {'bootstrap': False, 'min_samples_leaf': 1, 'max_features': 3, 'criterion': 'gini', 'min_samples_split': 3, 'max_depth': None}\n",
      "Test Score Test: 0.969230769231\n",
      "Sanity Check: 0.957746478873\n",
      "\t\n",
      "             precision    recall  f1-score   support\n",
      "\n",
      "          0       0.83      0.71      0.77         7\n",
      "          1       0.97      0.98      0.98        64\n",
      "\n",
      "avg / total       0.96      0.96      0.96        71\n",
      "\n",
      "[[ 5  2]\n",
      " [ 1 63]]\n",
      "\t\n",
      "recall\n",
      "Training  Score: 1.0\n",
      "Best Parameters: {'bootstrap': True, 'min_samples_leaf': 10, 'max_features': 1, 'criterion': 'entropy', 'min_samples_split': 10, 'max_depth': None}\n",
      "Test Score Test: 1.0\n",
      "Sanity Check: 0.901408450704\n",
      "\t\n",
      "             precision    recall  f1-score   support\n",
      "\n",
      "          0       0.00      0.00      0.00         7\n",
      "          1       0.90      1.00      0.95        64\n",
      "\n",
      "avg / total       0.81      0.90      0.85        71\n",
      "\n",
      "[[ 0  7]\n",
      " [ 0 64]]\n",
      "\t\n"
     ]
    }
   ],
   "source": [
    "X_train, X_test, y_train, y_test = train_test_split(\n",
    "    X, y, test_size=0.3)\n",
    "scoring = ['accuracy', 'roc_auc', 'f1', 'precision', 'recall']\n",
    "\n",
    "for score_metric in scoring:\n",
    "    model_cv = RandomizedSearchCV(RandomForestClassifier(), param_distributions=RF_params,\n",
    "                                   n_iter=n_iter_search, cv=StratifiedKFold(10),scoring=score_metric)\n",
    "\n",
    "    model_cv.fit(X_train, y_train)\n",
    "    print (str(score_metric))\n",
    "    print ('Training  Score: {}'.format(model_cv.best_score_))\n",
    "    print ('Best Parameters: {}'.format(model_cv.best_params_))\n",
    "    print('Test Score Test: {}'.format(model_cv.score(X_test,y_test)))\n",
    "    score = RandomForestClassifier(bootstrap=model_cv.best_estimator_.bootstrap, min_samples_leaf=model_cv.best_estimator_.min_samples_leaf,\n",
    "                             min_samples_split=model_cv.best_estimator_.min_samples_split, criterion=model_cv.best_estimator_.criterion,\n",
    "                             max_features=model_cv.best_estimator_.max_features, max_depth=model_cv.best_estimator_.max_depth).fit(X_train, y_train).score(X_test, y_test)\n",
    "    print('Sanity Check: {}'.format(score))\n",
    "    y_pred = model_cv.predict(X_test)\n",
    "    print(\"\\t\")\n",
    "    print (classification_report(y_test, y_pred))\n",
    "    print (confusion_matrix(y_test, y_pred))\n",
    "    print ('\\t')"
   ]
  },
  {
   "cell_type": "markdown",
   "metadata": {},
   "source": [
    "# Multicategory Random Forest"
   ]
  },
  {
   "cell_type": "code",
   "execution_count": 45,
   "metadata": {
    "collapsed": false
   },
   "outputs": [],
   "source": [
    "#data = df[features] # trying to see if we can keep column names\n",
    "#y_rf = df.Overall_Experience\n",
    "#X_rf = data.drop(['Overall_Exp_Rating'], axis=1)\n",
    "#X_train, X_test, y_train, y_test = train_test_split(\n",
    "#    X_rf, y_rf, test_size=0.30)"
   ]
  },
  {
   "cell_type": "code",
   "execution_count": 46,
   "metadata": {
    "collapsed": false
   },
   "outputs": [],
   "source": [
    "data = df[features] # trying to see if we can keep column names\n",
    "y_rf = df.Overall_Experience\n",
    "X_rf = data.drop(['Overall_Exp_Rating'], axis=1)"
   ]
  },
  {
   "cell_type": "code",
   "execution_count": null,
   "metadata": {
    "collapsed": true
   },
   "outputs": [],
   "source": []
  },
  {
   "cell_type": "code",
   "execution_count": 47,
   "metadata": {
    "collapsed": false
   },
   "outputs": [
    {
     "name": "stderr",
     "output_type": "stream",
     "text": [
      "/Users/macbook/anaconda2/lib/python2.7/site-packages/sklearn/model_selection/_split.py:605: Warning: The least populated class in y has only 3 members, which is too few. The minimum number of members in any class cannot be less than n_splits=10.\n",
      "  % (min_groups, self.n_splits)), Warning)\n"
     ]
    },
    {
     "name": "stdout",
     "output_type": "stream",
     "text": [
      "recall\n",
      "Training  Score: 0.634146341463\n",
      "Best Parameters: {'bootstrap': False, 'min_samples_leaf': 1, 'max_features': 1, 'criterion': 'entropy', 'min_samples_split': 10, 'max_depth': None}\n",
      "Test  Score Test: 0.704225352113\n",
      "Sanity Check: 0.661971830986\n",
      "\t\n",
      "             precision    recall  f1-score   support\n",
      "\n",
      "          0       0.62      1.00      0.77         5\n",
      "          1       0.83      0.71      0.77         7\n",
      "          2       0.61      1.00      0.76        11\n",
      "          3       0.88      0.81      0.84       133\n",
      "          4       0.80      0.81      0.81        79\n",
      "\n",
      "avg / total       0.83      0.82      0.82       235\n",
      "\n",
      "[[  5   0   0   0   0]\n",
      " [  1   5   0   1   0]\n",
      " [  0   0  11   0   0]\n",
      " [  2   0   7 108  16]\n",
      " [  0   1   0  14  64]]\n",
      "\t\n"
     ]
    }
   ],
   "source": [
    "X_train, X_test, y_train, y_test = train_test_split(\n",
    "    X_rf, y_rf, test_size=0.30)\n",
    "\n",
    "\n",
    "\n",
    "model_cv = RandomizedSearchCV(RandomForestClassifier(class_weight='balanced'), param_distributions=RF_params,\n",
    "                                   n_iter=n_iter_search, cv=StratifiedKFold(10), scoring='accuracy', )\n",
    "model_cv.fit(X_train, y_train)\n",
    "print (str(score_metric))\n",
    "print ('Training  Score: {}'.format(model_cv.best_score_))\n",
    "print ('Best Parameters: {}'.format(model_cv.best_params_))\n",
    "print('Test  Score Test: {}'.format(model_cv.score(X_test,y_test)))\n",
    "score = RandomForestClassifier(class_weight='balanced',bootstrap=model_cv.best_estimator_.bootstrap, min_samples_leaf=model_cv.best_estimator_.min_samples_leaf,\n",
    "                             min_samples_split=model_cv.best_estimator_.min_samples_split, criterion=model_cv.best_estimator_.criterion,\n",
    "                             max_features=model_cv.best_estimator_.max_features, max_depth=model_cv.best_estimator_.max_depth, ).fit(X_train, y_train).score(X_test, y_test)\n",
    "print('Sanity Check: {}'.format(score))\n",
    "y_pred = model_cv.predict(X_rf)\n",
    "print(\"\\t\")\n",
    "print (classification_report(y_rf, y_pred))\n",
    "print (confusion_matrix(y_rf, y_pred))\n",
    "print ('\\t')"
   ]
  },
  {
   "cell_type": "markdown",
   "metadata": {
    "collapsed": false
   },
   "source": [
    "# With Selected Important Features"
   ]
  },
  {
   "cell_type": "code",
   "execution_count": 48,
   "metadata": {
    "collapsed": false
   },
   "outputs": [],
   "source": [
    "# with selected features for SVM"
   ]
  },
  {
   "cell_type": "code",
   "execution_count": 49,
   "metadata": {
    "collapsed": false
   },
   "outputs": [],
   "source": [
    "X_ft = data[['Drive_Passion_Motivation', 'Focus_Atten_Concen', 'InterpersonalCapability_Empathy', 'Physical_Energy']]\n",
    "X_train, X_test, y_train, y_test = train_test_split(X_ft, y, test_size=.30)\n"
   ]
  },
  {
   "cell_type": "code",
   "execution_count": 50,
   "metadata": {
    "collapsed": false
   },
   "outputs": [],
   "source": [
    "sm = SMOTE(random_state=12, ratio='minority')\n",
    "#changing the X_train and y_train\n",
    "X_train_res, y_train_res = sm.fit_sample(X_train, y_train)"
   ]
  },
  {
   "cell_type": "code",
   "execution_count": 51,
   "metadata": {
    "collapsed": false
   },
   "outputs": [
    {
     "name": "stdout",
     "output_type": "stream",
     "text": [
      "accuracy\n",
      "Best Score for Training Data: 0.965753424658\n",
      "{'kernel': 'rbf', 'C': 10, 'gamma': 1.0}\n",
      "Test Data Score: 0.971830985915\n",
      "             precision    recall  f1-score   support\n",
      "\n",
      "        Low       0.71      1.00      0.83         5\n",
      "       High       1.00      0.97      0.98        66\n",
      "\n",
      "avg / total       0.98      0.97      0.97        71\n",
      "\n",
      "[[ 5  0]\n",
      " [ 2 64]]\n",
      "Sanity Check: 0.971830985915\n",
      "\t\n",
      "roc_auc\n",
      "Best Score for Training Data: 0.991519895629\n",
      "{'kernel': 'rbf', 'C': 50, 'gamma': 0.1291549665014884}\n",
      "Test Data Score: 0.984848484848\n",
      "             precision    recall  f1-score   support\n",
      "\n",
      "        Low       0.56      1.00      0.71         5\n",
      "       High       1.00      0.94      0.97        66\n",
      "\n",
      "avg / total       0.97      0.94      0.95        71\n",
      "\n",
      "[[ 5  0]\n",
      " [ 4 62]]\n",
      "Sanity Check: 0.943661971831\n",
      "\t\n",
      "f1\n",
      "Best Score for Training Data: 0.96303512161\n",
      "{'kernel': 'rbf', 'C': 10, 'gamma': 1.0}\n",
      "Test Data Score: 0.984615384615\n",
      "             precision    recall  f1-score   support\n",
      "\n",
      "        Low       0.71      1.00      0.83         5\n",
      "       High       1.00      0.97      0.98        66\n",
      "\n",
      "avg / total       0.98      0.97      0.97        71\n",
      "\n",
      "[[ 5  0]\n",
      " [ 2 64]]\n",
      "Sanity Check: 0.971830985915\n",
      "\t\n",
      "precision\n",
      "Best Score for Training Data: 0.993578767123\n",
      "{'kernel': 'rbf', 'C': 10, 'gamma': 1.0}\n",
      "Test Data Score: 1.0\n",
      "             precision    recall  f1-score   support\n",
      "\n",
      "        Low       0.71      1.00      0.83         5\n",
      "       High       1.00      0.97      0.98        66\n",
      "\n",
      "avg / total       0.98      0.97      0.97        71\n",
      "\n",
      "[[ 5  0]\n",
      " [ 2 64]]\n",
      "Sanity Check: 0.971830985915\n",
      "\t\n",
      "recall\n",
      "Best Score for Training Data: 0.965753424658\n",
      "{'kernel': 'linear', 'C': 0.001}\n",
      "Test Data Score: 0.984848484848\n",
      "             precision    recall  f1-score   support\n",
      "\n",
      "        Low       0.80      0.80      0.80         5\n",
      "       High       0.98      0.98      0.98        66\n",
      "\n",
      "avg / total       0.97      0.97      0.97        71\n",
      "\n",
      "[[ 4  1]\n",
      " [ 1 65]]\n",
      "Sanity Check: 0.971830985915\n",
      "\t\n"
     ]
    }
   ],
   "source": [
    "smote_pipeline(SVC(), svm_params)"
   ]
  },
  {
   "cell_type": "code",
   "execution_count": 52,
   "metadata": {
    "collapsed": true
   },
   "outputs": [],
   "source": [
    "\n",
    "X_rf = data[['Focus_Atten_Concen', 'Physical_Energy']]\n",
    "X_train, X_test, y_train, y_test = train_test_split(X_rf, y, test_size=.30)\n",
    "sm = SMOTE(random_state=12, ratio='minority')\n",
    "#changing the X_train and y_train\n",
    "X_train_res, y_train_res = sm.fit_sample(X_train, y_train)"
   ]
  },
  {
   "cell_type": "code",
   "execution_count": 53,
   "metadata": {
    "collapsed": false
   },
   "outputs": [
    {
     "name": "stdout",
     "output_type": "stream",
     "text": [
      "accuracy\n",
      "Training  Score: 0.951219512195\n",
      "Best Parameters: {'bootstrap': True, 'min_samples_leaf': 1, 'max_features': 2, 'criterion': 'gini', 'min_samples_split': 3, 'max_depth': None}\n",
      "Test Score Test: 0.901408450704\n",
      "Sanity Check: 0.929577464789\n",
      "\t\n",
      "             precision    recall  f1-score   support\n",
      "\n",
      "          0       0.50      0.71      0.59         7\n",
      "          1       0.97      0.92      0.94        64\n",
      "\n",
      "avg / total       0.92      0.90      0.91        71\n",
      "\n",
      "[[ 5  2]\n",
      " [ 5 59]]\n",
      "\t\n",
      "roc_auc\n",
      "Training  Score: 0.962195121951\n",
      "Best Parameters: {'bootstrap': True, 'min_samples_leaf': 1, 'max_features': 2, 'criterion': 'entropy', 'min_samples_split': 2, 'max_depth': None}\n",
      "Test Score Test: 0.941964285714\n",
      "Sanity Check: 0.943661971831\n",
      "\t\n",
      "             precision    recall  f1-score   support\n",
      "\n",
      "          0       0.75      0.43      0.55         7\n",
      "          1       0.94      0.98      0.96        64\n",
      "\n",
      "avg / total       0.92      0.93      0.92        71\n",
      "\n",
      "[[ 3  4]\n",
      " [ 1 63]]\n",
      "\t\n",
      "f1\n",
      "Training  Score: 0.973647040072\n",
      "Best Parameters: {'bootstrap': True, 'min_samples_leaf': 1, 'max_features': 2, 'criterion': 'gini', 'min_samples_split': 10, 'max_depth': None}\n",
      "Test Score Test: 0.96062992126\n",
      "Sanity Check: 0.87323943662\n",
      "\t\n",
      "             precision    recall  f1-score   support\n",
      "\n",
      "          0       0.62      0.71      0.67         7\n",
      "          1       0.97      0.95      0.96        64\n",
      "\n",
      "avg / total       0.93      0.93      0.93        71\n",
      "\n",
      "[[ 5  2]\n",
      " [ 3 61]]\n",
      "\t\n",
      "precision\n",
      "Training  Score: 0.956173780488\n",
      "Best Parameters: {'bootstrap': True, 'min_samples_leaf': 1, 'max_features': 2, 'criterion': 'gini', 'min_samples_split': 3, 'max_depth': None}\n",
      "Test Score Test: 0.967213114754\n",
      "Sanity Check: 0.943661971831\n",
      "\t\n",
      "             precision    recall  f1-score   support\n",
      "\n",
      "          0       0.50      0.71      0.59         7\n",
      "          1       0.97      0.92      0.94        64\n",
      "\n",
      "avg / total       0.92      0.90      0.91        71\n",
      "\n",
      "[[ 5  2]\n",
      " [ 5 59]]\n",
      "\t\n",
      "recall\n",
      "Training  Score: 1.0\n",
      "Best Parameters: {'bootstrap': True, 'min_samples_leaf': 10, 'max_features': 2, 'criterion': 'entropy', 'min_samples_split': 3, 'max_depth': 3}\n",
      "Test Score Test: 1.0\n",
      "Sanity Check: 0.901408450704\n",
      "\t\n",
      "             precision    recall  f1-score   support\n",
      "\n",
      "          0       0.00      0.00      0.00         7\n",
      "          1       0.90      1.00      0.95        64\n",
      "\n",
      "avg / total       0.81      0.90      0.85        71\n",
      "\n",
      "[[ 0  7]\n",
      " [ 0 64]]\n",
      "\t\n"
     ]
    }
   ],
   "source": [
    "scoring = ['accuracy', 'roc_auc', 'f1', 'precision', 'recall']\n",
    "RF_params = {\"max_depth\": [3, None],\n",
    "              \"max_features\": [2],\n",
    "              \"min_samples_split\": [2, 3, 10],\n",
    "              \"min_samples_leaf\": [1, 3, 10],\n",
    "              \"bootstrap\": [True, False],\n",
    "              \"criterion\": [\"gini\", \"entropy\"]}\n",
    "for score_metric in scoring:\n",
    "    model_cv = RandomizedSearchCV(RandomForestClassifier(), param_distributions=RF_params,\n",
    "                                   n_iter=n_iter_search, cv=StratifiedKFold(10),scoring=score_metric)\n",
    "\n",
    "    model_cv.fit(X_train, y_train)\n",
    "    print (str(score_metric))\n",
    "    print ('Training  Score: {}'.format(model_cv.best_score_))\n",
    "    print ('Best Parameters: {}'.format(model_cv.best_params_))\n",
    "    print('Test Score Test: {}'.format(model_cv.score(X_test,y_test)))\n",
    "    score = RandomForestClassifier(bootstrap=model_cv.best_estimator_.bootstrap, min_samples_leaf=model_cv.best_estimator_.min_samples_leaf,\n",
    "                             min_samples_split=model_cv.best_estimator_.min_samples_split, criterion=model_cv.best_estimator_.criterion,\n",
    "                             max_features=model_cv.best_estimator_.max_features, max_depth=model_cv.best_estimator_.max_depth).fit(X_train, y_train).score(X_test, y_test)\n",
    "    print('Sanity Check: {}'.format(score))\n",
    "    y_pred = model_cv.predict(X_test)\n",
    "    print(\"\\t\")\n",
    "    print (classification_report(y_test, y_pred))\n",
    "    print (confusion_matrix(y_test, y_pred))\n",
    "    print ('\\t')"
   ]
  },
  {
   "cell_type": "code",
   "execution_count": null,
   "metadata": {
    "collapsed": true
   },
   "outputs": [],
   "source": []
  }
 ],
 "metadata": {
  "anaconda-cloud": {},
  "kernelspec": {
   "display_name": "Python [default]",
   "language": "python",
   "name": "python2"
  },
  "language_info": {
   "codemirror_mode": {
    "name": "ipython",
    "version": 2
   },
   "file_extension": ".py",
   "mimetype": "text/x-python",
   "name": "python",
   "nbconvert_exporter": "python",
   "pygments_lexer": "ipython2",
   "version": "2.7.12"
  }
 },
 "nbformat": 4,
 "nbformat_minor": 1
}

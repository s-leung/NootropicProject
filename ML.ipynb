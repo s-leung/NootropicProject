{
 "cells": [
  {
   "cell_type": "code",
   "execution_count": 266,
   "metadata": {
    "collapsed": false
   },
   "outputs": [],
   "source": [
    "import pandas as pd\n",
    "import numpy as np\n",
    "import matplotlib.pyplot as plt\n",
    "%matplotlib inline\n",
    "import seaborn as sns\n",
    "from sklearn.metrics import log_loss\n",
    "\n",
    "\n",
    "from scipy import stats\n",
    "\n",
    "import statsmodels.api as sm"
   ]
  },
  {
   "cell_type": "code",
   "execution_count": 289,
   "metadata": {
    "collapsed": false,
    "scrolled": true
   },
   "outputs": [],
   "source": [
    "df = pd.read_csv('Trial_99_Cleaned')"
   ]
  },
  {
   "cell_type": "code",
   "execution_count": 290,
   "metadata": {
    "collapsed": false
   },
   "outputs": [
    {
     "data": {
      "text/html": [
       "<div>\n",
       "<table border=\"1\" class=\"dataframe\">\n",
       "  <thead>\n",
       "    <tr style=\"text-align: right;\">\n",
       "      <th></th>\n",
       "      <th>Start_Date</th>\n",
       "      <th>End_Date</th>\n",
       "      <th>Last_Name</th>\n",
       "      <th>Version_Duration</th>\n",
       "      <th>Sleep_Quality</th>\n",
       "      <th>Overall_Experience</th>\n",
       "      <th>Focus_Atten_Concen</th>\n",
       "      <th>Memory</th>\n",
       "      <th>Drive_Passion_Motivation</th>\n",
       "      <th>Physical_Energy</th>\n",
       "      <th>...</th>\n",
       "      <th>Verbal_Fluency_Word_Recall</th>\n",
       "      <th>Creativity_Insight</th>\n",
       "      <th>InterpersonalCapability_Empathy</th>\n",
       "      <th>Emotional_Stability</th>\n",
       "      <th>Euphoria_Joy_Happiness</th>\n",
       "      <th>Estimated_Effect_Duration</th>\n",
       "      <th>Upper_Effect_Duration</th>\n",
       "      <th>Lower_Effect_Duration</th>\n",
       "      <th>Current_User_Comparison</th>\n",
       "      <th>User_Status</th>\n",
       "    </tr>\n",
       "  </thead>\n",
       "  <tbody>\n",
       "    <tr>\n",
       "      <th>0</th>\n",
       "      <td>2017-11-14 14:51:00</td>\n",
       "      <td>2017-11-14 14:52:00</td>\n",
       "      <td>User1</td>\n",
       "      <td>1 weeks</td>\n",
       "      <td>OK</td>\n",
       "      <td>Good</td>\n",
       "      <td>Improved</td>\n",
       "      <td>Improved</td>\n",
       "      <td>Improved</td>\n",
       "      <td>Improved</td>\n",
       "      <td>...</td>\n",
       "      <td>No effect</td>\n",
       "      <td>No effect</td>\n",
       "      <td>No effect</td>\n",
       "      <td>No effect</td>\n",
       "      <td>No effect</td>\n",
       "      <td>4-8</td>\n",
       "      <td>8.0</td>\n",
       "      <td>4.0</td>\n",
       "      <td>I am not a XNootropic user</td>\n",
       "      <td>Non-user</td>\n",
       "    </tr>\n",
       "    <tr>\n",
       "      <th>1</th>\n",
       "      <td>2017-11-08 14:51:00</td>\n",
       "      <td>2017-11-08 14:54:00</td>\n",
       "      <td>User1</td>\n",
       "      <td>1 day</td>\n",
       "      <td>OK</td>\n",
       "      <td>Good</td>\n",
       "      <td>Improved</td>\n",
       "      <td>No effect</td>\n",
       "      <td>No effect</td>\n",
       "      <td>Improved</td>\n",
       "      <td>...</td>\n",
       "      <td>No effect</td>\n",
       "      <td>No effect</td>\n",
       "      <td>No effect</td>\n",
       "      <td>Improved</td>\n",
       "      <td>Improved</td>\n",
       "      <td>4-8</td>\n",
       "      <td>8.0</td>\n",
       "      <td>4.0</td>\n",
       "      <td>I am not a XNootropic user</td>\n",
       "      <td>Non-user</td>\n",
       "    </tr>\n",
       "    <tr>\n",
       "      <th>2</th>\n",
       "      <td>2017-11-17 05:50:00</td>\n",
       "      <td>2017-11-17 05:57:00</td>\n",
       "      <td>User2</td>\n",
       "      <td>1 weeks</td>\n",
       "      <td>OK</td>\n",
       "      <td>Not good</td>\n",
       "      <td>Improved</td>\n",
       "      <td>Improved</td>\n",
       "      <td>Less good</td>\n",
       "      <td>Less good</td>\n",
       "      <td>...</td>\n",
       "      <td>Improved</td>\n",
       "      <td>Improved</td>\n",
       "      <td>Improved</td>\n",
       "      <td>No effect</td>\n",
       "      <td>No effect</td>\n",
       "      <td>8+</td>\n",
       "      <td>12.0</td>\n",
       "      <td>8.0</td>\n",
       "      <td>This is less good than XNootropic</td>\n",
       "      <td>XNootropic User</td>\n",
       "    </tr>\n",
       "    <tr>\n",
       "      <th>3</th>\n",
       "      <td>2017-11-14 13:40:00</td>\n",
       "      <td>2017-11-14 13:48:00</td>\n",
       "      <td>User2</td>\n",
       "      <td>1 day</td>\n",
       "      <td>OK</td>\n",
       "      <td>Excellent</td>\n",
       "      <td>Improved</td>\n",
       "      <td>Improved</td>\n",
       "      <td>Improved</td>\n",
       "      <td>Improved</td>\n",
       "      <td>...</td>\n",
       "      <td>Improved</td>\n",
       "      <td>Improved</td>\n",
       "      <td>No effect</td>\n",
       "      <td>No effect</td>\n",
       "      <td>No effect</td>\n",
       "      <td>8+</td>\n",
       "      <td>12.0</td>\n",
       "      <td>8.0</td>\n",
       "      <td>This is better than XNootropic</td>\n",
       "      <td>XNootropic User</td>\n",
       "    </tr>\n",
       "    <tr>\n",
       "      <th>4</th>\n",
       "      <td>2017-11-20 11:05:00</td>\n",
       "      <td>2017-11-20 11:10:00</td>\n",
       "      <td>User3</td>\n",
       "      <td>2 weeks</td>\n",
       "      <td>OK</td>\n",
       "      <td>Good</td>\n",
       "      <td>Improved</td>\n",
       "      <td>No effect</td>\n",
       "      <td>Improved</td>\n",
       "      <td>Improved</td>\n",
       "      <td>...</td>\n",
       "      <td>No effect</td>\n",
       "      <td>No effect</td>\n",
       "      <td>No effect</td>\n",
       "      <td>No effect</td>\n",
       "      <td>Improved</td>\n",
       "      <td>4-8</td>\n",
       "      <td>8.0</td>\n",
       "      <td>4.0</td>\n",
       "      <td>This is better than XNootropic</td>\n",
       "      <td>XNootropic User</td>\n",
       "    </tr>\n",
       "  </tbody>\n",
       "</table>\n",
       "<p>5 rows × 22 columns</p>\n",
       "</div>"
      ],
      "text/plain": [
       "            Start_Date             End_Date Last_Name Version_Duration  \\\n",
       "0  2017-11-14 14:51:00  2017-11-14 14:52:00     User1          1 weeks   \n",
       "1  2017-11-08 14:51:00  2017-11-08 14:54:00     User1            1 day   \n",
       "2  2017-11-17 05:50:00  2017-11-17 05:57:00     User2          1 weeks   \n",
       "3  2017-11-14 13:40:00  2017-11-14 13:48:00     User2            1 day   \n",
       "4  2017-11-20 11:05:00  2017-11-20 11:10:00     User3          2 weeks   \n",
       "\n",
       "  Sleep_Quality Overall_Experience Focus_Atten_Concen     Memory  \\\n",
       "0            OK               Good           Improved   Improved   \n",
       "1            OK               Good           Improved  No effect   \n",
       "2            OK           Not good           Improved   Improved   \n",
       "3            OK          Excellent           Improved   Improved   \n",
       "4            OK               Good           Improved  No effect   \n",
       "\n",
       "  Drive_Passion_Motivation Physical_Energy       ...         \\\n",
       "0                 Improved        Improved       ...          \n",
       "1                No effect        Improved       ...          \n",
       "2                Less good       Less good       ...          \n",
       "3                 Improved        Improved       ...          \n",
       "4                 Improved        Improved       ...          \n",
       "\n",
       "  Verbal_Fluency_Word_Recall Creativity_Insight  \\\n",
       "0                  No effect          No effect   \n",
       "1                  No effect          No effect   \n",
       "2                   Improved           Improved   \n",
       "3                   Improved           Improved   \n",
       "4                  No effect          No effect   \n",
       "\n",
       "  InterpersonalCapability_Empathy Emotional_Stability Euphoria_Joy_Happiness  \\\n",
       "0                       No effect           No effect              No effect   \n",
       "1                       No effect            Improved               Improved   \n",
       "2                        Improved           No effect              No effect   \n",
       "3                       No effect           No effect              No effect   \n",
       "4                       No effect           No effect               Improved   \n",
       "\n",
       "  Estimated_Effect_Duration Upper_Effect_Duration Lower_Effect_Duration  \\\n",
       "0                       4-8                   8.0                   4.0   \n",
       "1                       4-8                   8.0                   4.0   \n",
       "2                        8+                  12.0                   8.0   \n",
       "3                        8+                  12.0                   8.0   \n",
       "4                       4-8                   8.0                   4.0   \n",
       "\n",
       "             Current_User_Comparison      User_Status  \n",
       "0         I am not a XNootropic user         Non-user  \n",
       "1         I am not a XNootropic user         Non-user  \n",
       "2  This is less good than XNootropic  XNootropic User  \n",
       "3     This is better than XNootropic  XNootropic User  \n",
       "4     This is better than XNootropic  XNootropic User  \n",
       "\n",
       "[5 rows x 22 columns]"
      ]
     },
     "execution_count": 290,
     "metadata": {},
     "output_type": "execute_result"
    }
   ],
   "source": [
    "df.head()"
   ]
  },
  {
   "cell_type": "code",
   "execution_count": 138,
   "metadata": {
    "collapsed": false
   },
   "outputs": [
    {
     "data": {
      "text/plain": [
       "17"
      ]
     },
     "execution_count": 138,
     "metadata": {},
     "output_type": "execute_result"
    }
   ],
   "source": [
    "df.isnull().any().sum()"
   ]
  },
  {
   "cell_type": "code",
   "execution_count": 291,
   "metadata": {
    "collapsed": false
   },
   "outputs": [],
   "source": [
    "rating = {'Excellent': 'High',\n",
    "          'Good':'High',\n",
    "          'No effect': 'Low',\n",
    "          'Not good':'Low',\n",
    "          'Awful': \"Low\"}\n",
    "df['Overall_Exp_Rating'] = df['Overall_Experience'].map(rating)"
   ]
  },
  {
   "cell_type": "code",
   "execution_count": 292,
   "metadata": {
    "collapsed": true
   },
   "outputs": [],
   "source": [
    "df['Overall_Exp_Rating']=df['Overall_Exp_Rating'].map({'High': 1, 'Low':0})"
   ]
  },
  {
   "cell_type": "code",
   "execution_count": 11,
   "metadata": {
    "collapsed": false
   },
   "outputs": [
    {
     "data": {
      "text/html": [
       "<div>\n",
       "<table border=\"1\" class=\"dataframe\">\n",
       "  <thead>\n",
       "    <tr style=\"text-align: right;\">\n",
       "      <th></th>\n",
       "      <th>Start_Date</th>\n",
       "      <th>End_Date</th>\n",
       "      <th>Last_Name</th>\n",
       "      <th>Version_Duration</th>\n",
       "      <th>Sleep_Quality</th>\n",
       "      <th>Overall_Experience</th>\n",
       "      <th>Focus_Atten_Concen</th>\n",
       "      <th>Memory</th>\n",
       "      <th>Drive_Passion_Motivation</th>\n",
       "      <th>Physical_Energy</th>\n",
       "      <th>...</th>\n",
       "      <th>Creativity_Insight</th>\n",
       "      <th>InterpersonalCapability_Empathy</th>\n",
       "      <th>Emotional_Stability</th>\n",
       "      <th>Euphoria_Joy_Happiness</th>\n",
       "      <th>Estimated_Effect_Duration</th>\n",
       "      <th>Upper_Effect_Duration</th>\n",
       "      <th>Lower_Effect_Duration</th>\n",
       "      <th>Current_User_Comparison</th>\n",
       "      <th>User_Status</th>\n",
       "      <th>Overall_Exp_Rating</th>\n",
       "    </tr>\n",
       "  </thead>\n",
       "  <tbody>\n",
       "    <tr>\n",
       "      <th>0</th>\n",
       "      <td>2017-11-14 14:51:00</td>\n",
       "      <td>2017-11-14 14:52:00</td>\n",
       "      <td>User1</td>\n",
       "      <td>1 weeks</td>\n",
       "      <td>OK</td>\n",
       "      <td>Good</td>\n",
       "      <td>Improved</td>\n",
       "      <td>Improved</td>\n",
       "      <td>Improved</td>\n",
       "      <td>Improved</td>\n",
       "      <td>...</td>\n",
       "      <td>No effect</td>\n",
       "      <td>No effect</td>\n",
       "      <td>No effect</td>\n",
       "      <td>No effect</td>\n",
       "      <td>4-8</td>\n",
       "      <td>8.0</td>\n",
       "      <td>4.0</td>\n",
       "      <td>I am not a XNootropic user</td>\n",
       "      <td>Non-user</td>\n",
       "      <td>1</td>\n",
       "    </tr>\n",
       "    <tr>\n",
       "      <th>1</th>\n",
       "      <td>2017-11-08 14:51:00</td>\n",
       "      <td>2017-11-08 14:54:00</td>\n",
       "      <td>User1</td>\n",
       "      <td>1 day</td>\n",
       "      <td>OK</td>\n",
       "      <td>Good</td>\n",
       "      <td>Improved</td>\n",
       "      <td>No effect</td>\n",
       "      <td>No effect</td>\n",
       "      <td>Improved</td>\n",
       "      <td>...</td>\n",
       "      <td>No effect</td>\n",
       "      <td>No effect</td>\n",
       "      <td>Improved</td>\n",
       "      <td>Improved</td>\n",
       "      <td>4-8</td>\n",
       "      <td>8.0</td>\n",
       "      <td>4.0</td>\n",
       "      <td>I am not a XNootropic user</td>\n",
       "      <td>Non-user</td>\n",
       "      <td>1</td>\n",
       "    </tr>\n",
       "    <tr>\n",
       "      <th>2</th>\n",
       "      <td>2017-11-17 05:50:00</td>\n",
       "      <td>2017-11-17 05:57:00</td>\n",
       "      <td>User2</td>\n",
       "      <td>1 weeks</td>\n",
       "      <td>OK</td>\n",
       "      <td>Not good</td>\n",
       "      <td>Improved</td>\n",
       "      <td>Improved</td>\n",
       "      <td>Less good</td>\n",
       "      <td>Less good</td>\n",
       "      <td>...</td>\n",
       "      <td>Improved</td>\n",
       "      <td>Improved</td>\n",
       "      <td>No effect</td>\n",
       "      <td>No effect</td>\n",
       "      <td>8+</td>\n",
       "      <td>12.0</td>\n",
       "      <td>8.0</td>\n",
       "      <td>This is less good than XNootropic</td>\n",
       "      <td>XNootropic User</td>\n",
       "      <td>0</td>\n",
       "    </tr>\n",
       "    <tr>\n",
       "      <th>3</th>\n",
       "      <td>2017-11-14 13:40:00</td>\n",
       "      <td>2017-11-14 13:48:00</td>\n",
       "      <td>User2</td>\n",
       "      <td>1 day</td>\n",
       "      <td>OK</td>\n",
       "      <td>Excellent</td>\n",
       "      <td>Improved</td>\n",
       "      <td>Improved</td>\n",
       "      <td>Improved</td>\n",
       "      <td>Improved</td>\n",
       "      <td>...</td>\n",
       "      <td>Improved</td>\n",
       "      <td>No effect</td>\n",
       "      <td>No effect</td>\n",
       "      <td>No effect</td>\n",
       "      <td>8+</td>\n",
       "      <td>12.0</td>\n",
       "      <td>8.0</td>\n",
       "      <td>This is better than XNootropic</td>\n",
       "      <td>XNootropic User</td>\n",
       "      <td>1</td>\n",
       "    </tr>\n",
       "    <tr>\n",
       "      <th>4</th>\n",
       "      <td>2017-11-20 11:05:00</td>\n",
       "      <td>2017-11-20 11:10:00</td>\n",
       "      <td>User3</td>\n",
       "      <td>2 weeks</td>\n",
       "      <td>OK</td>\n",
       "      <td>Good</td>\n",
       "      <td>Improved</td>\n",
       "      <td>No effect</td>\n",
       "      <td>Improved</td>\n",
       "      <td>Improved</td>\n",
       "      <td>...</td>\n",
       "      <td>No effect</td>\n",
       "      <td>No effect</td>\n",
       "      <td>No effect</td>\n",
       "      <td>Improved</td>\n",
       "      <td>4-8</td>\n",
       "      <td>8.0</td>\n",
       "      <td>4.0</td>\n",
       "      <td>This is better than XNootropic</td>\n",
       "      <td>XNootropic User</td>\n",
       "      <td>1</td>\n",
       "    </tr>\n",
       "  </tbody>\n",
       "</table>\n",
       "<p>5 rows × 23 columns</p>\n",
       "</div>"
      ],
      "text/plain": [
       "            Start_Date             End_Date Last_Name Version_Duration  \\\n",
       "0  2017-11-14 14:51:00  2017-11-14 14:52:00     User1          1 weeks   \n",
       "1  2017-11-08 14:51:00  2017-11-08 14:54:00     User1            1 day   \n",
       "2  2017-11-17 05:50:00  2017-11-17 05:57:00     User2          1 weeks   \n",
       "3  2017-11-14 13:40:00  2017-11-14 13:48:00     User2            1 day   \n",
       "4  2017-11-20 11:05:00  2017-11-20 11:10:00     User3          2 weeks   \n",
       "\n",
       "  Sleep_Quality Overall_Experience Focus_Atten_Concen     Memory  \\\n",
       "0            OK               Good           Improved   Improved   \n",
       "1            OK               Good           Improved  No effect   \n",
       "2            OK           Not good           Improved   Improved   \n",
       "3            OK          Excellent           Improved   Improved   \n",
       "4            OK               Good           Improved  No effect   \n",
       "\n",
       "  Drive_Passion_Motivation Physical_Energy         ...          \\\n",
       "0                 Improved        Improved         ...           \n",
       "1                No effect        Improved         ...           \n",
       "2                Less good       Less good         ...           \n",
       "3                 Improved        Improved         ...           \n",
       "4                 Improved        Improved         ...           \n",
       "\n",
       "  Creativity_Insight InterpersonalCapability_Empathy Emotional_Stability  \\\n",
       "0          No effect                       No effect           No effect   \n",
       "1          No effect                       No effect            Improved   \n",
       "2           Improved                        Improved           No effect   \n",
       "3           Improved                       No effect           No effect   \n",
       "4          No effect                       No effect           No effect   \n",
       "\n",
       "  Euphoria_Joy_Happiness Estimated_Effect_Duration Upper_Effect_Duration  \\\n",
       "0              No effect                       4-8                   8.0   \n",
       "1               Improved                       4-8                   8.0   \n",
       "2              No effect                        8+                  12.0   \n",
       "3              No effect                        8+                  12.0   \n",
       "4               Improved                       4-8                   8.0   \n",
       "\n",
       "  Lower_Effect_Duration            Current_User_Comparison      User_Status  \\\n",
       "0                   4.0         I am not a XNootropic user         Non-user   \n",
       "1                   4.0         I am not a XNootropic user         Non-user   \n",
       "2                   8.0  This is less good than XNootropic  XNootropic User   \n",
       "3                   8.0     This is better than XNootropic  XNootropic User   \n",
       "4                   4.0     This is better than XNootropic  XNootropic User   \n",
       "\n",
       "   Overall_Exp_Rating  \n",
       "0                   1  \n",
       "1                   1  \n",
       "2                   0  \n",
       "3                   1  \n",
       "4                   1  \n",
       "\n",
       "[5 rows x 23 columns]"
      ]
     },
     "execution_count": 11,
     "metadata": {},
     "output_type": "execute_result"
    }
   ],
   "source": [
    "df.head()"
   ]
  },
  {
   "cell_type": "markdown",
   "metadata": {},
   "source": [
    "## Logloss: measures the performance of a classification model\n",
    "input = is the probability value between 0 and 1. You want to minimize the logloss as much as possible. A perfect model would have a logloss value of zero. \n",
    "\n",
    "Used as a evaluation metric. \n",
    "\n",
    "Logloss quantifies accuracy of a classifier by penalizing false classification. Minimizing logloss is basically maximizing accuracy of the classifier. "
   ]
  },
  {
   "cell_type": "code",
   "execution_count": null,
   "metadata": {
    "collapsed": false
   },
   "outputs": [],
   "source": []
  },
  {
   "cell_type": "code",
   "execution_count": 7,
   "metadata": {
    "collapsed": false
   },
   "outputs": [],
   "source": [
    "features = [3,  4,  6,  7,  8,  9, 10, 11, 12, 13, 14, 15, 16, 17, 20]"
   ]
  },
  {
   "cell_type": "code",
   "execution_count": null,
   "metadata": {
    "collapsed": false
   },
   "outputs": [],
   "source": []
  },
  {
   "cell_type": "code",
   "execution_count": 38,
   "metadata": {
    "collapsed": false
   },
   "outputs": [],
   "source": [
    "from sklearn import preprocessing\n",
    "from sklearn.ensemble import RandomForestClassifier\n",
    "from sklearn.linear_model import LogisticRegression"
   ]
  },
  {
   "cell_type": "code",
   "execution_count": 9,
   "metadata": {
    "collapsed": false
   },
   "outputs": [
    {
     "name": "stdout",
     "output_type": "stream",
     "text": [
      "0.314562846807\n"
     ]
    }
   ],
   "source": [
    "msk = np.random.rand(len(df)) < 0.8\n",
    "features = [3,  4,  6,  7,  8,  9, 10, 11, 12, 13, 14, 15, 16, 17, 20, 21]\n",
    "X_train = df[msk].iloc[:,features]\n",
    "X_test = df[~msk].iloc[:,features]\n",
    "y_train = df[msk].iloc[:,22]\n",
    "y_test = df[~msk].iloc[:,22]\n",
    "print(log_loss(y_test,np.ones(len(y_test))*y_train.mean()))\n"
   ]
  },
  {
   "cell_type": "code",
   "execution_count": 10,
   "metadata": {
    "collapsed": false
   },
   "outputs": [
    {
     "name": "stdout",
     "output_type": "stream",
     "text": [
      "0.288201761136\n"
     ]
    },
    {
     "name": "stderr",
     "output_type": "stream",
     "text": [
      "/Users/macbook/anaconda2/lib/python2.7/site-packages/numpy/lib/arraysetops.py:200: FutureWarning: numpy not_equal will not check object identity in the future. The comparison did not return the same result as suggested by the identity (`is`)) and will change.\n",
      "  flag = np.concatenate(([True], aux[1:] != aux[:-1]))\n",
      "/Users/macbook/anaconda2/lib/python2.7/site-packages/numpy/lib/arraysetops.py:259: FutureWarning: numpy equal will not check object identity in the future. The comparison did not return the same result as suggested by the identity (`is`)) and will change.\n",
      "  return aux[:-1][aux[1:] == aux[:-1]]\n"
     ]
    },
    {
     "name": "stdout",
     "output_type": "stream",
     "text": [
      "0.0935168624951\n"
     ]
    }
   ],
   "source": [
    "#encoding ordinal variables \n",
    "X_train_ordinal = X_train.values\n",
    "X_test_ordinal = X_test.values\n",
    "les = []\n",
    "l = LogisticRegression()\n",
    "r = RandomForestClassifier(n_estimators=25,max_depth=10)\n",
    "for i in range(X_train_ordinal.shape[1]):\n",
    "    le = preprocessing.LabelEncoder()\n",
    "    le.fit(df.iloc[:,features].iloc[:, i])\n",
    "    les.append(le)\n",
    "    X_train_ordinal[:, i] = le.transform(X_train_ordinal[:, i])\n",
    "    X_test_ordinal[:, i] = le.transform(X_test_ordinal[:, i])\n",
    "l.fit(X_train_ordinal,y_train)\n",
    "y_pred = l.predict_proba(X_test_ordinal)\n",
    "print(log_loss(y_test,y_pred))\n",
    "r.fit(X_train_ordinal,y_train)\n",
    "y_pred = r.predict_proba(X_test_ordinal)\n",
    "print(log_loss(y_test,y_pred))"
   ]
  },
  {
   "cell_type": "code",
   "execution_count": 11,
   "metadata": {
    "collapsed": false
   },
   "outputs": [
    {
     "name": "stdout",
     "output_type": "stream",
     "text": [
      "0.115623973796\n",
      "0.0909615047488\n",
      "(81, 55)\n"
     ]
    }
   ],
   "source": [
    "#dummy variables/ one hot encoding\n",
    "from sklearn.preprocessing import OneHotEncoder\n",
    "enc = OneHotEncoder(handle_unknown='ignore')\n",
    "enc.fit(X_train_ordinal)\n",
    "X_train_one_hot = enc.transform(X_train_ordinal)\n",
    "X_test_one_hot = enc.transform(X_test_ordinal)\n",
    "l.fit(X_train_one_hot,y_train)\n",
    "y_pred = l.predict_proba(X_test_one_hot)\n",
    "print(log_loss(y_test,y_pred))\n",
    "r.fit(X_train_one_hot,y_train)\n",
    "y_pred = r.predict_proba(X_test_one_hot)\n",
    "print(log_loss(y_test,y_pred))\n",
    "print(X_train_one_hot.shape)"
   ]
  },
  {
   "cell_type": "code",
   "execution_count": null,
   "metadata": {
    "collapsed": false
   },
   "outputs": [],
   "source": []
  },
  {
   "cell_type": "code",
   "execution_count": null,
   "metadata": {
    "collapsed": true
   },
   "outputs": [],
   "source": []
  },
  {
   "cell_type": "code",
   "execution_count": 12,
   "metadata": {
    "collapsed": false
   },
   "outputs": [],
   "source": [
    "#df['Sleep_Quality'].astype('category', ordered=True, categories=ordered_sleep).cat.codes"
   ]
  },
  {
   "cell_type": "code",
   "execution_count": 13,
   "metadata": {
    "collapsed": false
   },
   "outputs": [],
   "source": [
    "from sklearn.preprocessing import LabelEncoder"
   ]
  },
  {
   "cell_type": "code",
   "execution_count": 14,
   "metadata": {
    "collapsed": false
   },
   "outputs": [],
   "source": [
    "le = LabelEncoder()"
   ]
  },
  {
   "cell_type": "code",
   "execution_count": 15,
   "metadata": {
    "collapsed": true
   },
   "outputs": [],
   "source": [
    "f = [  4,  6,  7,  8,  9, 10, 11, 12, 13, 14, 15, 16, 17, 20]"
   ]
  },
  {
   "cell_type": "code",
   "execution_count": 16,
   "metadata": {
    "collapsed": false
   },
   "outputs": [],
   "source": [
    "for col in df[f]:\n",
    "    df[col] = le.fit_transform(df[col].astype('str'))"
   ]
  },
  {
   "cell_type": "code",
   "execution_count": 17,
   "metadata": {
    "collapsed": false
   },
   "outputs": [
    {
     "data": {
      "text/html": [
       "<div>\n",
       "<table border=\"1\" class=\"dataframe\">\n",
       "  <thead>\n",
       "    <tr style=\"text-align: right;\">\n",
       "      <th></th>\n",
       "      <th>Sleep_Quality</th>\n",
       "      <th>Focus_Atten_Concen</th>\n",
       "      <th>Memory</th>\n",
       "      <th>Drive_Passion_Motivation</th>\n",
       "      <th>Physical_Energy</th>\n",
       "      <th>Capacity_Productivity</th>\n",
       "      <th>Decisiveness</th>\n",
       "      <th>Verbal_Fluency_Word_Recall</th>\n",
       "      <th>Creativity_Insight</th>\n",
       "      <th>InterpersonalCapability_Empathy</th>\n",
       "      <th>Emotional_Stability</th>\n",
       "      <th>Euhphoria_Joy_Happiness</th>\n",
       "      <th>Estimated_Effect_Duration</th>\n",
       "      <th>Current_User_Comparison</th>\n",
       "    </tr>\n",
       "  </thead>\n",
       "  <tbody>\n",
       "    <tr>\n",
       "      <th>0</th>\n",
       "      <td>1</td>\n",
       "      <td>0</td>\n",
       "      <td>0</td>\n",
       "      <td>0</td>\n",
       "      <td>0</td>\n",
       "      <td>0</td>\n",
       "      <td>0</td>\n",
       "      <td>2</td>\n",
       "      <td>1</td>\n",
       "      <td>2</td>\n",
       "      <td>2</td>\n",
       "      <td>2</td>\n",
       "      <td>1</td>\n",
       "      <td>0</td>\n",
       "    </tr>\n",
       "    <tr>\n",
       "      <th>1</th>\n",
       "      <td>1</td>\n",
       "      <td>0</td>\n",
       "      <td>2</td>\n",
       "      <td>2</td>\n",
       "      <td>0</td>\n",
       "      <td>0</td>\n",
       "      <td>2</td>\n",
       "      <td>2</td>\n",
       "      <td>1</td>\n",
       "      <td>2</td>\n",
       "      <td>0</td>\n",
       "      <td>0</td>\n",
       "      <td>1</td>\n",
       "      <td>0</td>\n",
       "    </tr>\n",
       "    <tr>\n",
       "      <th>2</th>\n",
       "      <td>1</td>\n",
       "      <td>0</td>\n",
       "      <td>0</td>\n",
       "      <td>1</td>\n",
       "      <td>1</td>\n",
       "      <td>1</td>\n",
       "      <td>0</td>\n",
       "      <td>0</td>\n",
       "      <td>0</td>\n",
       "      <td>0</td>\n",
       "      <td>2</td>\n",
       "      <td>2</td>\n",
       "      <td>2</td>\n",
       "      <td>3</td>\n",
       "    </tr>\n",
       "    <tr>\n",
       "      <th>3</th>\n",
       "      <td>1</td>\n",
       "      <td>0</td>\n",
       "      <td>0</td>\n",
       "      <td>0</td>\n",
       "      <td>0</td>\n",
       "      <td>0</td>\n",
       "      <td>0</td>\n",
       "      <td>0</td>\n",
       "      <td>0</td>\n",
       "      <td>2</td>\n",
       "      <td>2</td>\n",
       "      <td>2</td>\n",
       "      <td>2</td>\n",
       "      <td>2</td>\n",
       "    </tr>\n",
       "    <tr>\n",
       "      <th>4</th>\n",
       "      <td>1</td>\n",
       "      <td>0</td>\n",
       "      <td>2</td>\n",
       "      <td>0</td>\n",
       "      <td>0</td>\n",
       "      <td>0</td>\n",
       "      <td>2</td>\n",
       "      <td>2</td>\n",
       "      <td>1</td>\n",
       "      <td>2</td>\n",
       "      <td>2</td>\n",
       "      <td>0</td>\n",
       "      <td>1</td>\n",
       "      <td>2</td>\n",
       "    </tr>\n",
       "  </tbody>\n",
       "</table>\n",
       "</div>"
      ],
      "text/plain": [
       "   Sleep_Quality  Focus_Atten_Concen  Memory  Drive_Passion_Motivation  \\\n",
       "0              1                   0       0                         0   \n",
       "1              1                   0       2                         2   \n",
       "2              1                   0       0                         1   \n",
       "3              1                   0       0                         0   \n",
       "4              1                   0       2                         0   \n",
       "\n",
       "   Physical_Energy  Capacity_Productivity  Decisiveness  \\\n",
       "0                0                      0             0   \n",
       "1                0                      0             2   \n",
       "2                1                      1             0   \n",
       "3                0                      0             0   \n",
       "4                0                      0             2   \n",
       "\n",
       "   Verbal_Fluency_Word_Recall  Creativity_Insight  \\\n",
       "0                           2                   1   \n",
       "1                           2                   1   \n",
       "2                           0                   0   \n",
       "3                           0                   0   \n",
       "4                           2                   1   \n",
       "\n",
       "   InterpersonalCapability_Empathy  Emotional_Stability  \\\n",
       "0                                2                    2   \n",
       "1                                2                    0   \n",
       "2                                0                    2   \n",
       "3                                2                    2   \n",
       "4                                2                    2   \n",
       "\n",
       "   Euhphoria_Joy_Happiness  Estimated_Effect_Duration  Current_User_Comparison  \n",
       "0                        2                          1                        0  \n",
       "1                        0                          1                        0  \n",
       "2                        2                          2                        3  \n",
       "3                        2                          2                        2  \n",
       "4                        0                          1                        2  "
      ]
     },
     "execution_count": 17,
     "metadata": {},
     "output_type": "execute_result"
    }
   ],
   "source": [
    "df_train = df[f]\n",
    "df_train.head()"
   ]
  },
  {
   "cell_type": "code",
   "execution_count": null,
   "metadata": {
    "collapsed": false
   },
   "outputs": [],
   "source": []
  },
  {
   "cell_type": "code",
   "execution_count": null,
   "metadata": {
    "collapsed": true
   },
   "outputs": [],
   "source": []
  },
  {
   "cell_type": "code",
   "execution_count": 18,
   "metadata": {
    "collapsed": true
   },
   "outputs": [],
   "source": [
    "mapping = {'Excellent': 3, 'OK':2, 'Poor':1}"
   ]
  },
  {
   "cell_type": "code",
   "execution_count": null,
   "metadata": {
    "collapsed": false
   },
   "outputs": [],
   "source": []
  },
  {
   "cell_type": "code",
   "execution_count": null,
   "metadata": {
    "collapsed": false
   },
   "outputs": [],
   "source": []
  },
  {
   "cell_type": "code",
   "execution_count": null,
   "metadata": {
    "collapsed": false
   },
   "outputs": [],
   "source": []
  },
  {
   "cell_type": "code",
   "execution_count": 293,
   "metadata": {
    "collapsed": false
   },
   "outputs": [],
   "source": [
    "df['Sleep_Quality'] = df['Sleep_Quality'].astype('category')\n",
    "df['Sleep_Quality'] = df['Sleep_Quality'].cat.reorder_categories(['Poor', 'OK','Excellent'], ordered=True)\n",
    "df['Sleep_Quality'] = df['Sleep_Quality'].cat.codes"
   ]
  },
  {
   "cell_type": "code",
   "execution_count": 294,
   "metadata": {
    "collapsed": false
   },
   "outputs": [],
   "source": [
    "feat =  [ 6,  7,  8,  9, 10, 11, 12, 14, 15, 16] #creativity insight only has two responses, so we have to skip it"
   ]
  },
  {
   "cell_type": "code",
   "execution_count": 295,
   "metadata": {
    "collapsed": false
   },
   "outputs": [],
   "source": [
    "for col in df[feat]:\n",
    "    df[col] = df[col].astype('category')\n",
    "    df[col]= df[col].cat.reorder_categories(['Less good', 'No effect', 'Improved'], ordered=True)\n",
    "    df[col] = df[col].cat.codes"
   ]
  },
  {
   "cell_type": "code",
   "execution_count": 296,
   "metadata": {
    "collapsed": false
   },
   "outputs": [
    {
     "data": {
      "text/plain": [
       "Improved     51\n",
       "No effect    50\n",
       "Name: Creativity_Insight, dtype: int64"
      ]
     },
     "execution_count": 296,
     "metadata": {},
     "output_type": "execute_result"
    }
   ],
   "source": [
    "df['Creativity_Insight'].value_counts()"
   ]
  },
  {
   "cell_type": "code",
   "execution_count": 297,
   "metadata": {
    "collapsed": false
   },
   "outputs": [],
   "source": [
    "df['Creativity_Insight'] = df['Creativity_Insight'].astype('category')\n",
    "df['Creativity_Insight'] = df['Creativity_Insight'].cat.reorder_categories(['No effect', 'Improved'], ordered=True)\n",
    "df['Creativity_Insight'] = df['Creativity_Insight'].cat.codes"
   ]
  },
  {
   "cell_type": "code",
   "execution_count": 298,
   "metadata": {
    "collapsed": false
   },
   "outputs": [],
   "source": [
    "df['Estimated_Effect_Duration'] = df['Estimated_Effect_Duration'].astype('category')\n",
    "df['Estimated_Effect_Duration'] = df['Estimated_Effect_Duration'].cat.reorder_categories(['<2', '2-4', '4-8','8+'], ordered=True)\n",
    "df['Estimated_Effect_Duration'] = df['Estimated_Effect_Duration'].cat.codes"
   ]
  },
  {
   "cell_type": "code",
   "execution_count": 299,
   "metadata": {
    "collapsed": false
   },
   "outputs": [],
   "source": [
    "df['Overall_Experience'] = df['Overall_Experience'].astype('category')\n",
    "df['Overall_Experience'] = df['Overall_Experience'].cat.reorder_categories(['Awful','Not good','No effect','Good', 'Excellent'], ordered=True)\n",
    "df['Overall_Experience'] = df['Overall_Experience'].cat.codes"
   ]
  },
  {
   "cell_type": "code",
   "execution_count": 300,
   "metadata": {
    "collapsed": false
   },
   "outputs": [],
   "source": [
    "df['User_Status'] = df['User_Status'].astype('category')\n",
    "df['User_Status'] = df['User_Status'].cat.reorder_categories(['Non-user', 'XNootropic User'], ordered=True)\n",
    "df['User_Status'] = df['User_Status'].cat.codes"
   ]
  },
  {
   "cell_type": "code",
   "execution_count": 248,
   "metadata": {
    "collapsed": false
   },
   "outputs": [],
   "source": []
  },
  {
   "cell_type": "code",
   "execution_count": null,
   "metadata": {
    "collapsed": false
   },
   "outputs": [],
   "source": []
  },
  {
   "cell_type": "code",
   "execution_count": null,
   "metadata": {
    "collapsed": false
   },
   "outputs": [],
   "source": []
  },
  {
   "cell_type": "code",
   "execution_count": null,
   "metadata": {
    "collapsed": false
   },
   "outputs": [],
   "source": []
  },
  {
   "cell_type": "code",
   "execution_count": 111,
   "metadata": {
    "collapsed": false
   },
   "outputs": [],
   "source": []
  },
  {
   "cell_type": "code",
   "execution_count": 301,
   "metadata": {
    "collapsed": true
   },
   "outputs": [],
   "source": [
    "features = [  4,  6,  7,  8,  9, 10, 11, 12, 13, 14, 15, 16, 17, 21]"
   ]
  },
  {
   "cell_type": "code",
   "execution_count": 303,
   "metadata": {
    "collapsed": false
   },
   "outputs": [
    {
     "data": {
      "text/html": [
       "<div>\n",
       "<table border=\"1\" class=\"dataframe\">\n",
       "  <thead>\n",
       "    <tr style=\"text-align: right;\">\n",
       "      <th></th>\n",
       "      <th>Sleep_Quality</th>\n",
       "      <th>Focus_Atten_Concen</th>\n",
       "      <th>Memory</th>\n",
       "      <th>Drive_Passion_Motivation</th>\n",
       "      <th>Physical_Energy</th>\n",
       "      <th>Capacity_Productivity</th>\n",
       "      <th>Decisiveness</th>\n",
       "      <th>Verbal_Fluency_Word_Recall</th>\n",
       "      <th>Creativity_Insight</th>\n",
       "      <th>InterpersonalCapability_Empathy</th>\n",
       "      <th>Emotional_Stability</th>\n",
       "      <th>Euphoria_Joy_Happiness</th>\n",
       "      <th>Estimated_Effect_Duration</th>\n",
       "      <th>User_Status</th>\n",
       "    </tr>\n",
       "  </thead>\n",
       "  <tbody>\n",
       "    <tr>\n",
       "      <th>0</th>\n",
       "      <td>1</td>\n",
       "      <td>2</td>\n",
       "      <td>2</td>\n",
       "      <td>2</td>\n",
       "      <td>2</td>\n",
       "      <td>2</td>\n",
       "      <td>2</td>\n",
       "      <td>1</td>\n",
       "      <td>0</td>\n",
       "      <td>1</td>\n",
       "      <td>1</td>\n",
       "      <td>1</td>\n",
       "      <td>2</td>\n",
       "      <td>0</td>\n",
       "    </tr>\n",
       "    <tr>\n",
       "      <th>1</th>\n",
       "      <td>1</td>\n",
       "      <td>2</td>\n",
       "      <td>1</td>\n",
       "      <td>1</td>\n",
       "      <td>2</td>\n",
       "      <td>2</td>\n",
       "      <td>1</td>\n",
       "      <td>1</td>\n",
       "      <td>0</td>\n",
       "      <td>1</td>\n",
       "      <td>2</td>\n",
       "      <td>2</td>\n",
       "      <td>2</td>\n",
       "      <td>0</td>\n",
       "    </tr>\n",
       "    <tr>\n",
       "      <th>2</th>\n",
       "      <td>1</td>\n",
       "      <td>2</td>\n",
       "      <td>2</td>\n",
       "      <td>0</td>\n",
       "      <td>0</td>\n",
       "      <td>0</td>\n",
       "      <td>2</td>\n",
       "      <td>2</td>\n",
       "      <td>1</td>\n",
       "      <td>2</td>\n",
       "      <td>1</td>\n",
       "      <td>1</td>\n",
       "      <td>3</td>\n",
       "      <td>1</td>\n",
       "    </tr>\n",
       "    <tr>\n",
       "      <th>3</th>\n",
       "      <td>1</td>\n",
       "      <td>2</td>\n",
       "      <td>2</td>\n",
       "      <td>2</td>\n",
       "      <td>2</td>\n",
       "      <td>2</td>\n",
       "      <td>2</td>\n",
       "      <td>2</td>\n",
       "      <td>1</td>\n",
       "      <td>1</td>\n",
       "      <td>1</td>\n",
       "      <td>1</td>\n",
       "      <td>3</td>\n",
       "      <td>1</td>\n",
       "    </tr>\n",
       "    <tr>\n",
       "      <th>4</th>\n",
       "      <td>1</td>\n",
       "      <td>2</td>\n",
       "      <td>1</td>\n",
       "      <td>2</td>\n",
       "      <td>2</td>\n",
       "      <td>2</td>\n",
       "      <td>1</td>\n",
       "      <td>1</td>\n",
       "      <td>0</td>\n",
       "      <td>1</td>\n",
       "      <td>1</td>\n",
       "      <td>2</td>\n",
       "      <td>2</td>\n",
       "      <td>1</td>\n",
       "    </tr>\n",
       "  </tbody>\n",
       "</table>\n",
       "</div>"
      ],
      "text/plain": [
       "   Sleep_Quality  Focus_Atten_Concen  Memory  Drive_Passion_Motivation  \\\n",
       "0              1                   2       2                         2   \n",
       "1              1                   2       1                         1   \n",
       "2              1                   2       2                         0   \n",
       "3              1                   2       2                         2   \n",
       "4              1                   2       1                         2   \n",
       "\n",
       "   Physical_Energy  Capacity_Productivity  Decisiveness  \\\n",
       "0                2                      2             2   \n",
       "1                2                      2             1   \n",
       "2                0                      0             2   \n",
       "3                2                      2             2   \n",
       "4                2                      2             1   \n",
       "\n",
       "   Verbal_Fluency_Word_Recall  Creativity_Insight  \\\n",
       "0                           1                   0   \n",
       "1                           1                   0   \n",
       "2                           2                   1   \n",
       "3                           2                   1   \n",
       "4                           1                   0   \n",
       "\n",
       "   InterpersonalCapability_Empathy  Emotional_Stability  \\\n",
       "0                                1                    1   \n",
       "1                                1                    2   \n",
       "2                                2                    1   \n",
       "3                                1                    1   \n",
       "4                                1                    1   \n",
       "\n",
       "   Euphoria_Joy_Happiness  Estimated_Effect_Duration  User_Status  \n",
       "0                       1                          2            0  \n",
       "1                       2                          2            0  \n",
       "2                       1                          3            1  \n",
       "3                       1                          3            1  \n",
       "4                       2                          2            1  "
      ]
     },
     "execution_count": 303,
     "metadata": {},
     "output_type": "execute_result"
    }
   ],
   "source": [
    "df[features].head()"
   ]
  },
  {
   "cell_type": "code",
   "execution_count": 23,
   "metadata": {
    "collapsed": false
   },
   "outputs": [
    {
     "data": {
      "text/html": [
       "<div>\n",
       "<table border=\"1\" class=\"dataframe\">\n",
       "  <thead>\n",
       "    <tr style=\"text-align: right;\">\n",
       "      <th>Sleep_Quality</th>\n",
       "      <th>-1</th>\n",
       "      <th>0</th>\n",
       "      <th>1</th>\n",
       "      <th>2</th>\n",
       "    </tr>\n",
       "    <tr>\n",
       "      <th>Overall_Exp_Rating</th>\n",
       "      <th></th>\n",
       "      <th></th>\n",
       "      <th></th>\n",
       "      <th></th>\n",
       "    </tr>\n",
       "  </thead>\n",
       "  <tbody>\n",
       "    <tr>\n",
       "      <th>0</th>\n",
       "      <td>0</td>\n",
       "      <td>0</td>\n",
       "      <td>9</td>\n",
       "      <td>1</td>\n",
       "    </tr>\n",
       "    <tr>\n",
       "      <th>1</th>\n",
       "      <td>2</td>\n",
       "      <td>4</td>\n",
       "      <td>40</td>\n",
       "      <td>46</td>\n",
       "    </tr>\n",
       "  </tbody>\n",
       "</table>\n",
       "</div>"
      ],
      "text/plain": [
       "Sleep_Quality       -1   0   1   2\n",
       "Overall_Exp_Rating                \n",
       "0                    0   0   9   1\n",
       "1                    2   4  40  46"
      ]
     },
     "execution_count": 23,
     "metadata": {},
     "output_type": "execute_result"
    }
   ],
   "source": [
    "tab = pd.crosstab(index=df.Overall_Exp_Rating, columns=df.Sleep_Quality)\n",
    "table = sm.stats.Table(tab)\n",
    "table.table_orig"
   ]
  },
  {
   "cell_type": "code",
   "execution_count": 77,
   "metadata": {
    "collapsed": false
   },
   "outputs": [],
   "source": [
    "result = table.test_ordinal_association()"
   ]
  },
  {
   "cell_type": "code",
   "execution_count": 78,
   "metadata": {
    "collapsed": false
   },
   "outputs": [
    {
     "name": "stdout",
     "output_type": "stream",
     "text": [
      "0.0682858913341\n"
     ]
    }
   ],
   "source": [
    "print (result.pvalue)"
   ]
  },
  {
   "cell_type": "code",
   "execution_count": null,
   "metadata": {
    "collapsed": false
   },
   "outputs": [],
   "source": []
  },
  {
   "cell_type": "code",
   "execution_count": null,
   "metadata": {
    "collapsed": false
   },
   "outputs": [],
   "source": []
  },
  {
   "cell_type": "code",
   "execution_count": 312,
   "metadata": {
    "collapsed": false
   },
   "outputs": [
    {
     "name": "stdout",
     "output_type": "stream",
     "text": [
      "0.237418431672\n"
     ]
    }
   ],
   "source": [
    "msk = np.random.rand(len(df)) < 0.8\n",
    "features = [4,  6,  7,  8,  9, 10, 11, 12, 13, 14, 15, 16, 17, 21]\n",
    "X_train = df[msk].iloc[:,features]\n",
    "X_test = df[~msk].iloc[:,features]\n",
    "y_train = df[msk].iloc[:,22]\n",
    "y_test = df[~msk].iloc[:,22]\n",
    "print(log_loss(y_test,np.ones(len(y_test))*y_train.mean()))\n"
   ]
  },
  {
   "cell_type": "code",
   "execution_count": null,
   "metadata": {
    "collapsed": true
   },
   "outputs": [],
   "source": [
    "#encoding ordinal variables \n",
    "X_train_ordinal = X_train.values\n",
    "X_test_ordinal = X_test.values\n",
    "les = []\n",
    "l = LogisticRegression()\n",
    "r = RandomForestClassifier(n_estimators=25,max_depth=10)\n",
    "for i in range(X_train_ordinal.shape[1]):\n",
    "    le = preprocessing.LabelEncoder()\n",
    "    le.fit(df.iloc[:,features].iloc[:, i])\n",
    "    les.append(le)\n",
    "    X_train_ordinal[:, i] = le.transform(X_train_ordinal[:, i])\n",
    "    X_test_ordinal[:, i] = le.transform(X_test_ordinal[:, i])\n",
    "l.fit(X_train_ordinal,y_train)\n",
    "y_pred = l.predict_proba(X_test_ordinal)\n",
    "print(log_loss(y_test,y_pred))\n",
    "r.fit(X_train_ordinal,y_train)\n",
    "y_pred = r.predict_proba(X_test_ordinal)\n",
    "print(log_loss(y_test,y_pred))"
   ]
  },
  {
   "cell_type": "code",
   "execution_count": 313,
   "metadata": {
    "collapsed": false
   },
   "outputs": [
    {
     "name": "stdout",
     "output_type": "stream",
     "text": [
      "0.165626970426\n"
     ]
    }
   ],
   "source": [
    "l = LogisticRegression()\n",
    "r  = RandomForestClassifier(n_estimators=25, max_depth=10)\n",
    "\n",
    "\n",
    "l.fit(X_train, y_train)\n",
    "y_pred = l.predict_proba(X_test)\n",
    "print (log_loss(y_test, y_pred))"
   ]
  },
  {
   "cell_type": "code",
   "execution_count": 314,
   "metadata": {
    "collapsed": false
   },
   "outputs": [
    {
     "name": "stdout",
     "output_type": "stream",
     "text": [
      "0.100235590986\n"
     ]
    }
   ],
   "source": [
    "r.fit(X_train, y_train)\n",
    "y_pred = r.predict_proba(X_test)\n",
    "print (log_loss(y_test, y_pred))"
   ]
  },
  {
   "cell_type": "code",
   "execution_count": null,
   "metadata": {
    "collapsed": false
   },
   "outputs": [],
   "source": []
  },
  {
   "cell_type": "code",
   "execution_count": 315,
   "metadata": {
    "collapsed": true
   },
   "outputs": [],
   "source": [
    "from sklearn.feature_selection import RFE"
   ]
  },
  {
   "cell_type": "code",
   "execution_count": 324,
   "metadata": {
    "collapsed": false
   },
   "outputs": [],
   "source": [
    "f = [4,  6,  7,  8,  9, 10, 11, 12, 13, 14, 15, 16, 17, 21, 22]\n"
   ]
  },
  {
   "cell_type": "code",
   "execution_count": 325,
   "metadata": {
    "collapsed": false
   },
   "outputs": [],
   "source": [
    "array = df[f].values"
   ]
  },
  {
   "cell_type": "code",
   "execution_count": 374,
   "metadata": {
    "collapsed": false
   },
   "outputs": [
    {
     "name": "stdout",
     "output_type": "stream",
     "text": [
      "Num Features: 5\n",
      "Selected Features: [False False  True  True  True False False False False  True  True False\n",
      " False False]\n",
      "Feature Ranking: [ 4 10  1  1  1  6  9  7  5  1  1  3  2  8]\n"
     ]
    }
   ],
   "source": [
    "X = array[:, 0:14]\n",
    "Y = array[:, 14]\n",
    "#feature extraction\n",
    "\n",
    "model = LogisticRegression()\n",
    "rfe = RFE(model, 5)\n",
    "fit = rfe.fit(X,Y)\n",
    "print ('Num Features: {}'.format(fit.n_features_))\n",
    "print ('Selected Features: {}'.format(fit.support_))\n",
    "print ('Feature Ranking: {}'.format(fit.ranking_))"
   ]
  },
  {
   "cell_type": "code",
   "execution_count": 406,
   "metadata": {
    "collapsed": false
   },
   "outputs": [],
   "source": [
    "from sklearn.model_selection import train_test_split\n",
    "from sklearn.metrics import accuracy_score \n",
    "from sklearn.model_selection import KFold\n",
    "\n",
    "\n",
    "def cv_score (clf, x, y, score_func=accuracy_score):\n",
    "    result = 0\n",
    "    nfold = 5\n",
    "    for train, test in KFold(nfold).split(x):\n",
    "        clf.fit(x[train], y[train]) #fit\n",
    "        result += score_func(clf.predict(x[test]), y[test])\n",
    "    return result / nfold #average\n",
    "    \n"
   ]
  },
  {
   "cell_type": "code",
   "execution_count": 396,
   "metadata": {
    "collapsed": false
   },
   "outputs": [
    {
     "name": "stdout",
     "output_type": "stream",
     "text": [
      "0.884615384615\n"
     ]
    }
   ],
   "source": [
    "Xtrain, Xtest, ytrain, ytest = train_test_split(X, Y)\n",
    "clf = LogisticRegression()\n",
    "clf.fit(Xtrain, ytrain)\n",
    "print (accuracy_score(clf.predict(Xtest), ytest))"
   ]
  },
  {
   "cell_type": "code",
   "execution_count": null,
   "metadata": {
    "collapsed": true
   },
   "outputs": [],
   "source": []
  },
  {
   "cell_type": "code",
   "execution_count": 431,
   "metadata": {
    "collapsed": false
   },
   "outputs": [
    {
     "name": "stdout",
     "output_type": "stream",
     "text": [
      "('c:', 0.001, 'score:', 0.89416666666666667)\n",
      "('c:', 0.1, 'score:', 0.89416666666666667)\n",
      "('c:', 1, 'score:', 0.90749999999999997)\n",
      "('c:', 10, 'score:', 0.90666666666666662)\n",
      "('c:', 100, 'score:', 0.85500000000000009)\n",
      "1 0.9075\n"
     ]
    }
   ],
   "source": [
    "Cs = [0.001, 0.1, 1, 10, 100]\n",
    "\n",
    "best_score = 0\n",
    "for C in Cs:\n",
    "    logreg = LogisticRegression(C=C)\n",
    "    score = cv_score(logreg, Xtrain, ytrain)\n",
    "    print ('c:', C, 'score:', score)\n",
    "    \n",
    "    if score > best_score:\n",
    "        best_score = score\n",
    "        best_C = C\n",
    "print best_C, best_score"
   ]
  },
  {
   "cell_type": "code",
   "execution_count": 428,
   "metadata": {
    "collapsed": false
   },
   "outputs": [
    {
     "name": "stdout",
     "output_type": "stream",
     "text": [
      "C with no scoring method: 10\n",
      "Accuracy: 0.923076923077\n"
     ]
    }
   ],
   "source": [
    "from sklearn.model_selection import GridSearchCV\n",
    "\n",
    "clf = LogisticRegression()\n",
    "params = {'C': [0.001, 0.1, 1, 10, 100] }\n",
    "clf_grid = GridSearchCV(clf, param_grid = params)\n",
    "clf_grid.fit(Xtrain, ytrain)\n",
    "\n",
    "print ('C with no scoring method: {}'.format(clf_grid.best_params_['C']))\n",
    "print ('Accuracy: {}'. format(accuracy_score(clf_grid.predict(Xtest), ytest)))"
   ]
  },
  {
   "cell_type": "code",
   "execution_count": 434,
   "metadata": {
    "collapsed": false
   },
   "outputs": [
    {
     "name": "stdout",
     "output_type": "stream",
     "text": [
      "Num Features: 5\n",
      "Selected Features: [ True False  True False  True False False False False  True False False\n",
      " False  True]\n",
      "Feature Ranking: [ 1  5  1  2  1  6  9 10  8  1  7  4  3  1]\n"
     ]
    }
   ],
   "source": [
    "model = LogisticRegression(C=10)\n",
    "rfe = RFE(model, 5)\n",
    "fit = rfe.fit(X,Y)\n",
    "print ('Num Features: {}'.format(fit.n_features_))\n",
    "print ('Selected Features: {}'.format(fit.support_))\n",
    "print ('Feature Ranking: {}'.format(fit.ranking_))"
   ]
  },
  {
   "cell_type": "code",
   "execution_count": null,
   "metadata": {
    "collapsed": true
   },
   "outputs": [],
   "source": []
  },
  {
   "cell_type": "code",
   "execution_count": 380,
   "metadata": {
    "collapsed": false
   },
   "outputs": [
    {
     "name": "stdout",
     "output_type": "stream",
     "text": [
      "[ 0.03058331  0.05372081  0.03260704  0.09972746  0.39710588  0.07164\n",
      "  0.04365834  0.06517186  0.01147976  0.01263566  0.07378231  0.05669724\n",
      "  0.02685624  0.02433408]\n"
     ]
    }
   ],
   "source": [
    "from sklearn.ensemble import ExtraTreesClassifier\n",
    "#fature extraction\n",
    "model = ExtraTreesClassifier()\n",
    "model.fit(X,Y)\n",
    "print (model.feature_importances_)"
   ]
  },
  {
   "cell_type": "code",
   "execution_count": 382,
   "metadata": {
    "collapsed": false
   },
   "outputs": [
    {
     "data": {
      "text/plain": [
       "Index([u'Sleep_Quality', u'Focus_Atten_Concen', u'Memory',\n",
       "       u'Drive_Passion_Motivation', u'Physical_Energy',\n",
       "       u'Capacity_Productivity', u'Decisiveness',\n",
       "       u'Verbal_Fluency_Word_Recall', u'Creativity_Insight',\n",
       "       u'InterpersonalCapability_Empathy', u'Emotional_Stability',\n",
       "       u'Euphoria_Joy_Happiness', u'Estimated_Effect_Duration', u'User_Status',\n",
       "       u'Overall_Exp_Rating'],\n",
       "      dtype='object')"
      ]
     },
     "execution_count": 382,
     "metadata": {},
     "output_type": "execute_result"
    }
   ],
   "source": [
    "df[f].columns"
   ]
  },
  {
   "cell_type": "code",
   "execution_count": 440,
   "metadata": {
    "collapsed": false
   },
   "outputs": [
    {
     "name": "stdout",
     "output_type": "stream",
     "text": [
      "[ 0.05414989  0.04917061  0.01110204  0.13329236  0.33238444  0.05127408\n",
      "  0.04291261  0.044173    0.02785005  0.00593548  0.09042286  0.06738658\n",
      "  0.08595804  0.00398797]\n"
     ]
    }
   ],
   "source": [
    "from sklearn.ensemble import RandomForestClassifier\n",
    "clf = RandomForestClassifier()\n",
    "clf.fit(X,Y)\n",
    "print (clf.feature_importances_)"
   ]
  },
  {
   "cell_type": "code",
   "execution_count": 445,
   "metadata": {
    "collapsed": false
   },
   "outputs": [
    {
     "data": {
      "text/plain": [
       "Index([u'Sleep_Quality', u'Focus_Atten_Concen', u'Memory',\n",
       "       u'Drive_Passion_Motivation', u'Physical_Energy',\n",
       "       u'Capacity_Productivity', u'Decisiveness',\n",
       "       u'Verbal_Fluency_Word_Recall', u'Creativity_Insight',\n",
       "       u'InterpersonalCapability_Empathy', u'Emotional_Stability',\n",
       "       u'Euphoria_Joy_Happiness', u'Estimated_Effect_Duration', u'User_Status',\n",
       "       u'Overall_Exp_Rating'],\n",
       "      dtype='object')"
      ]
     },
     "execution_count": 445,
     "metadata": {},
     "output_type": "execute_result"
    }
   ],
   "source": [
    "df[f].columns"
   ]
  },
  {
   "cell_type": "code",
   "execution_count": 448,
   "metadata": {
    "collapsed": false
   },
   "outputs": [
    {
     "ename": "ValueError",
     "evalue": "Input X must be non-negative.",
     "output_type": "error",
     "traceback": [
      "\u001b[0;31m---------------------------------------------------------------------------\u001b[0m",
      "\u001b[0;31mValueError\u001b[0m                                Traceback (most recent call last)",
      "\u001b[0;32m<ipython-input-448-f3bfe6acf256>\u001b[0m in \u001b[0;36m<module>\u001b[0;34m()\u001b[0m\n\u001b[1;32m      3\u001b[0m \u001b[0;34m\u001b[0m\u001b[0m\n\u001b[1;32m      4\u001b[0m \u001b[0mtest\u001b[0m \u001b[0;34m=\u001b[0m \u001b[0mSelectKBest\u001b[0m\u001b[0;34m(\u001b[0m\u001b[0mscore_func\u001b[0m\u001b[0;34m=\u001b[0m\u001b[0mchi2\u001b[0m\u001b[0;34m,\u001b[0m \u001b[0mk\u001b[0m\u001b[0;34m=\u001b[0m\u001b[0;36m4\u001b[0m\u001b[0;34m)\u001b[0m\u001b[0;34m\u001b[0m\u001b[0m\n\u001b[0;32m----> 5\u001b[0;31m \u001b[0mfit\u001b[0m \u001b[0;34m=\u001b[0m \u001b[0mtest\u001b[0m\u001b[0;34m.\u001b[0m\u001b[0mfit\u001b[0m\u001b[0;34m(\u001b[0m\u001b[0mX\u001b[0m\u001b[0;34m,\u001b[0m\u001b[0mY\u001b[0m\u001b[0;34m)\u001b[0m\u001b[0;34m\u001b[0m\u001b[0m\n\u001b[0m\u001b[1;32m      6\u001b[0m \u001b[0;34m\u001b[0m\u001b[0m\n\u001b[1;32m      7\u001b[0m \u001b[0mnp\u001b[0m\u001b[0;34m.\u001b[0m\u001b[0mset_printoptions\u001b[0m\u001b[0;34m(\u001b[0m\u001b[0mprecise\u001b[0m\u001b[0;34m=\u001b[0m\u001b[0;36m3\u001b[0m\u001b[0;34m)\u001b[0m\u001b[0;34m\u001b[0m\u001b[0m\n",
      "\u001b[0;32m/Users/macbook/anaconda2/lib/python2.7/site-packages/sklearn/feature_selection/univariate_selection.pyc\u001b[0m in \u001b[0;36mfit\u001b[0;34m(self, X, y)\u001b[0m\n\u001b[1;32m    347\u001b[0m \u001b[0;34m\u001b[0m\u001b[0m\n\u001b[1;32m    348\u001b[0m         \u001b[0mself\u001b[0m\u001b[0;34m.\u001b[0m\u001b[0m_check_params\u001b[0m\u001b[0;34m(\u001b[0m\u001b[0mX\u001b[0m\u001b[0;34m,\u001b[0m \u001b[0my\u001b[0m\u001b[0;34m)\u001b[0m\u001b[0;34m\u001b[0m\u001b[0m\n\u001b[0;32m--> 349\u001b[0;31m         \u001b[0mscore_func_ret\u001b[0m \u001b[0;34m=\u001b[0m \u001b[0mself\u001b[0m\u001b[0;34m.\u001b[0m\u001b[0mscore_func\u001b[0m\u001b[0;34m(\u001b[0m\u001b[0mX\u001b[0m\u001b[0;34m,\u001b[0m \u001b[0my\u001b[0m\u001b[0;34m)\u001b[0m\u001b[0;34m\u001b[0m\u001b[0m\n\u001b[0m\u001b[1;32m    350\u001b[0m         \u001b[0;32mif\u001b[0m \u001b[0misinstance\u001b[0m\u001b[0;34m(\u001b[0m\u001b[0mscore_func_ret\u001b[0m\u001b[0;34m,\u001b[0m \u001b[0;34m(\u001b[0m\u001b[0mlist\u001b[0m\u001b[0;34m,\u001b[0m \u001b[0mtuple\u001b[0m\u001b[0;34m)\u001b[0m\u001b[0;34m)\u001b[0m\u001b[0;34m:\u001b[0m\u001b[0;34m\u001b[0m\u001b[0m\n\u001b[1;32m    351\u001b[0m             \u001b[0mself\u001b[0m\u001b[0;34m.\u001b[0m\u001b[0mscores_\u001b[0m\u001b[0;34m,\u001b[0m \u001b[0mself\u001b[0m\u001b[0;34m.\u001b[0m\u001b[0mpvalues_\u001b[0m \u001b[0;34m=\u001b[0m \u001b[0mscore_func_ret\u001b[0m\u001b[0;34m\u001b[0m\u001b[0m\n",
      "\u001b[0;32m/Users/macbook/anaconda2/lib/python2.7/site-packages/sklearn/feature_selection/univariate_selection.pyc\u001b[0m in \u001b[0;36mchi2\u001b[0;34m(X, y)\u001b[0m\n\u001b[1;32m    213\u001b[0m     \u001b[0mX\u001b[0m \u001b[0;34m=\u001b[0m \u001b[0mcheck_array\u001b[0m\u001b[0;34m(\u001b[0m\u001b[0mX\u001b[0m\u001b[0;34m,\u001b[0m \u001b[0maccept_sparse\u001b[0m\u001b[0;34m=\u001b[0m\u001b[0;34m'csr'\u001b[0m\u001b[0;34m)\u001b[0m\u001b[0;34m\u001b[0m\u001b[0m\n\u001b[1;32m    214\u001b[0m     \u001b[0;32mif\u001b[0m \u001b[0mnp\u001b[0m\u001b[0;34m.\u001b[0m\u001b[0many\u001b[0m\u001b[0;34m(\u001b[0m\u001b[0;34m(\u001b[0m\u001b[0mX\u001b[0m\u001b[0;34m.\u001b[0m\u001b[0mdata\u001b[0m \u001b[0;32mif\u001b[0m \u001b[0missparse\u001b[0m\u001b[0;34m(\u001b[0m\u001b[0mX\u001b[0m\u001b[0;34m)\u001b[0m \u001b[0;32melse\u001b[0m \u001b[0mX\u001b[0m\u001b[0;34m)\u001b[0m \u001b[0;34m<\u001b[0m \u001b[0;36m0\u001b[0m\u001b[0;34m)\u001b[0m\u001b[0;34m:\u001b[0m\u001b[0;34m\u001b[0m\u001b[0m\n\u001b[0;32m--> 215\u001b[0;31m         \u001b[0;32mraise\u001b[0m \u001b[0mValueError\u001b[0m\u001b[0;34m(\u001b[0m\u001b[0;34m\"Input X must be non-negative.\"\u001b[0m\u001b[0;34m)\u001b[0m\u001b[0;34m\u001b[0m\u001b[0m\n\u001b[0m\u001b[1;32m    216\u001b[0m \u001b[0;34m\u001b[0m\u001b[0m\n\u001b[1;32m    217\u001b[0m     \u001b[0mY\u001b[0m \u001b[0;34m=\u001b[0m \u001b[0mLabelBinarizer\u001b[0m\u001b[0;34m(\u001b[0m\u001b[0;34m)\u001b[0m\u001b[0;34m.\u001b[0m\u001b[0mfit_transform\u001b[0m\u001b[0;34m(\u001b[0m\u001b[0my\u001b[0m\u001b[0;34m)\u001b[0m\u001b[0;34m\u001b[0m\u001b[0m\n",
      "\u001b[0;31mValueError\u001b[0m: Input X must be non-negative."
     ]
    }
   ],
   "source": [
    "from sklearn.feature_selection import SelectKBest\n",
    "from sklearn.feature_selection import chi2\n",
    "\n",
    "test = SelectKBest(score_func=chi2, k=4)\n",
    "fit = test.fit(X,Y)\n",
    "\n",
    "np.set_printoptions(precise=3)\n",
    "print(fit.score_)\n",
    "features = fit.transform(X)\n"
   ]
  },
  {
   "cell_type": "code",
   "execution_count": null,
   "metadata": {
    "collapsed": false
   },
   "outputs": [],
   "source": []
  },
  {
   "cell_type": "code",
   "execution_count": null,
   "metadata": {
    "collapsed": true
   },
   "outputs": [],
   "source": []
  }
 ],
 "metadata": {
  "anaconda-cloud": {},
  "kernelspec": {
   "display_name": "Python [default]",
   "language": "python",
   "name": "python2"
  },
  "language_info": {
   "codemirror_mode": {
    "name": "ipython",
    "version": 2
   },
   "file_extension": ".py",
   "mimetype": "text/x-python",
   "name": "python",
   "nbconvert_exporter": "python",
   "pygments_lexer": "ipython2",
   "version": "2.7.12"
  }
 },
 "nbformat": 4,
 "nbformat_minor": 1
}

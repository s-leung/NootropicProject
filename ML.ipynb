{
 "cells": [
  {
   "cell_type": "code",
   "execution_count": 152,
   "metadata": {
    "collapsed": true
   },
   "outputs": [],
   "source": [
    "import pandas as pd\n",
    "import numpy as np\n",
    "import matplotlib.pyplot as plt\n",
    "%matplotlib inline\n",
    "import seaborn as sns\n",
    "from sklearn.metrics import log_loss"
   ]
  },
  {
   "cell_type": "code",
   "execution_count": 153,
   "metadata": {
    "collapsed": false,
    "scrolled": true
   },
   "outputs": [],
   "source": [
    "df = pd.read_csv('Trial_99_Cleaned')"
   ]
  },
  {
   "cell_type": "code",
   "execution_count": 112,
   "metadata": {
    "collapsed": false
   },
   "outputs": [
    {
     "data": {
      "text/html": [
       "<div>\n",
       "<table border=\"1\" class=\"dataframe\">\n",
       "  <thead>\n",
       "    <tr style=\"text-align: right;\">\n",
       "      <th></th>\n",
       "      <th>Start_Date</th>\n",
       "      <th>End_Date</th>\n",
       "      <th>Last_Name</th>\n",
       "      <th>Version_Duration</th>\n",
       "      <th>Sleep_Quality</th>\n",
       "      <th>Overall_Experience</th>\n",
       "      <th>Focus_Atten_Concen</th>\n",
       "      <th>Memory</th>\n",
       "      <th>Drive_Passion_Motivation</th>\n",
       "      <th>Physical_Energy</th>\n",
       "      <th>...</th>\n",
       "      <th>Verbal_Fluency_Word_Recall</th>\n",
       "      <th>Creativity_Insight</th>\n",
       "      <th>InterpersonalCapability_Empathy</th>\n",
       "      <th>Emotional_Stability</th>\n",
       "      <th>Euhphoria_Joy_Happiness</th>\n",
       "      <th>Estimated_Effect_Duration</th>\n",
       "      <th>Upper_Effect_Duration</th>\n",
       "      <th>Lower_Effect_Duration</th>\n",
       "      <th>Current_User_Comparison</th>\n",
       "      <th>User_Status</th>\n",
       "    </tr>\n",
       "  </thead>\n",
       "  <tbody>\n",
       "    <tr>\n",
       "      <th>0</th>\n",
       "      <td>2017-11-14 14:51:00</td>\n",
       "      <td>2017-11-14 14:52:00</td>\n",
       "      <td>User1</td>\n",
       "      <td>1 weeks</td>\n",
       "      <td>OK</td>\n",
       "      <td>Good</td>\n",
       "      <td>Improved</td>\n",
       "      <td>Improved</td>\n",
       "      <td>Improved</td>\n",
       "      <td>Improved</td>\n",
       "      <td>...</td>\n",
       "      <td>No effect</td>\n",
       "      <td>No effect</td>\n",
       "      <td>No effect</td>\n",
       "      <td>No effect</td>\n",
       "      <td>No effect</td>\n",
       "      <td>4-8</td>\n",
       "      <td>8.0</td>\n",
       "      <td>4.0</td>\n",
       "      <td>I am not a XNootropic user</td>\n",
       "      <td>Non-user</td>\n",
       "    </tr>\n",
       "    <tr>\n",
       "      <th>1</th>\n",
       "      <td>2017-11-08 14:51:00</td>\n",
       "      <td>2017-11-08 14:54:00</td>\n",
       "      <td>User1</td>\n",
       "      <td>1 day</td>\n",
       "      <td>OK</td>\n",
       "      <td>Good</td>\n",
       "      <td>Improved</td>\n",
       "      <td>No effect</td>\n",
       "      <td>No effect</td>\n",
       "      <td>Improved</td>\n",
       "      <td>...</td>\n",
       "      <td>No effect</td>\n",
       "      <td>No effect</td>\n",
       "      <td>No effect</td>\n",
       "      <td>Improved</td>\n",
       "      <td>Improved</td>\n",
       "      <td>4-8</td>\n",
       "      <td>8.0</td>\n",
       "      <td>4.0</td>\n",
       "      <td>I am not a XNootropic user</td>\n",
       "      <td>Non-user</td>\n",
       "    </tr>\n",
       "    <tr>\n",
       "      <th>2</th>\n",
       "      <td>2017-11-17 05:50:00</td>\n",
       "      <td>2017-11-17 05:57:00</td>\n",
       "      <td>User2</td>\n",
       "      <td>1 weeks</td>\n",
       "      <td>OK</td>\n",
       "      <td>Not good</td>\n",
       "      <td>Improved</td>\n",
       "      <td>Improved</td>\n",
       "      <td>Less good</td>\n",
       "      <td>Less good</td>\n",
       "      <td>...</td>\n",
       "      <td>Improved</td>\n",
       "      <td>Improved</td>\n",
       "      <td>Improved</td>\n",
       "      <td>No effect</td>\n",
       "      <td>No effect</td>\n",
       "      <td>8+</td>\n",
       "      <td>12.0</td>\n",
       "      <td>8.0</td>\n",
       "      <td>This is less good than XNootropic</td>\n",
       "      <td>XNootropic User</td>\n",
       "    </tr>\n",
       "    <tr>\n",
       "      <th>3</th>\n",
       "      <td>2017-11-14 13:40:00</td>\n",
       "      <td>2017-11-14 13:48:00</td>\n",
       "      <td>User2</td>\n",
       "      <td>1 day</td>\n",
       "      <td>OK</td>\n",
       "      <td>Excellent</td>\n",
       "      <td>Improved</td>\n",
       "      <td>Improved</td>\n",
       "      <td>Improved</td>\n",
       "      <td>Improved</td>\n",
       "      <td>...</td>\n",
       "      <td>Improved</td>\n",
       "      <td>Improved</td>\n",
       "      <td>No effect</td>\n",
       "      <td>No effect</td>\n",
       "      <td>No effect</td>\n",
       "      <td>8+</td>\n",
       "      <td>12.0</td>\n",
       "      <td>8.0</td>\n",
       "      <td>This is better than XNootropic</td>\n",
       "      <td>XNootropic User</td>\n",
       "    </tr>\n",
       "    <tr>\n",
       "      <th>4</th>\n",
       "      <td>2017-11-20 11:05:00</td>\n",
       "      <td>2017-11-20 11:10:00</td>\n",
       "      <td>User3</td>\n",
       "      <td>2 weeks</td>\n",
       "      <td>OK</td>\n",
       "      <td>Good</td>\n",
       "      <td>Improved</td>\n",
       "      <td>No effect</td>\n",
       "      <td>Improved</td>\n",
       "      <td>Improved</td>\n",
       "      <td>...</td>\n",
       "      <td>No effect</td>\n",
       "      <td>No effect</td>\n",
       "      <td>No effect</td>\n",
       "      <td>No effect</td>\n",
       "      <td>Improved</td>\n",
       "      <td>4-8</td>\n",
       "      <td>8.0</td>\n",
       "      <td>4.0</td>\n",
       "      <td>This is better than XNootropic</td>\n",
       "      <td>XNootropic User</td>\n",
       "    </tr>\n",
       "  </tbody>\n",
       "</table>\n",
       "<p>5 rows × 22 columns</p>\n",
       "</div>"
      ],
      "text/plain": [
       "            Start_Date             End_Date Last_Name Version_Duration  \\\n",
       "0  2017-11-14 14:51:00  2017-11-14 14:52:00     User1          1 weeks   \n",
       "1  2017-11-08 14:51:00  2017-11-08 14:54:00     User1            1 day   \n",
       "2  2017-11-17 05:50:00  2017-11-17 05:57:00     User2          1 weeks   \n",
       "3  2017-11-14 13:40:00  2017-11-14 13:48:00     User2            1 day   \n",
       "4  2017-11-20 11:05:00  2017-11-20 11:10:00     User3          2 weeks   \n",
       "\n",
       "  Sleep_Quality Overall_Experience Focus_Atten_Concen     Memory  \\\n",
       "0            OK               Good           Improved   Improved   \n",
       "1            OK               Good           Improved  No effect   \n",
       "2            OK           Not good           Improved   Improved   \n",
       "3            OK          Excellent           Improved   Improved   \n",
       "4            OK               Good           Improved  No effect   \n",
       "\n",
       "  Drive_Passion_Motivation Physical_Energy       ...         \\\n",
       "0                 Improved        Improved       ...          \n",
       "1                No effect        Improved       ...          \n",
       "2                Less good       Less good       ...          \n",
       "3                 Improved        Improved       ...          \n",
       "4                 Improved        Improved       ...          \n",
       "\n",
       "  Verbal_Fluency_Word_Recall Creativity_Insight  \\\n",
       "0                  No effect          No effect   \n",
       "1                  No effect          No effect   \n",
       "2                   Improved           Improved   \n",
       "3                   Improved           Improved   \n",
       "4                  No effect          No effect   \n",
       "\n",
       "  InterpersonalCapability_Empathy Emotional_Stability Euhphoria_Joy_Happiness  \\\n",
       "0                       No effect           No effect               No effect   \n",
       "1                       No effect            Improved                Improved   \n",
       "2                        Improved           No effect               No effect   \n",
       "3                       No effect           No effect               No effect   \n",
       "4                       No effect           No effect                Improved   \n",
       "\n",
       "  Estimated_Effect_Duration Upper_Effect_Duration Lower_Effect_Duration  \\\n",
       "0                       4-8                   8.0                   4.0   \n",
       "1                       4-8                   8.0                   4.0   \n",
       "2                        8+                  12.0                   8.0   \n",
       "3                        8+                  12.0                   8.0   \n",
       "4                       4-8                   8.0                   4.0   \n",
       "\n",
       "             Current_User_Comparison      User_Status  \n",
       "0         I am not a XNootropic user         Non-user  \n",
       "1         I am not a XNootropic user         Non-user  \n",
       "2  This is less good than XNootropic  XNootropic User  \n",
       "3     This is better than XNootropic  XNootropic User  \n",
       "4     This is better than XNootropic  XNootropic User  \n",
       "\n",
       "[5 rows x 22 columns]"
      ]
     },
     "execution_count": 112,
     "metadata": {},
     "output_type": "execute_result"
    }
   ],
   "source": [
    "df.head()"
   ]
  },
  {
   "cell_type": "code",
   "execution_count": 154,
   "metadata": {
    "collapsed": false
   },
   "outputs": [],
   "source": [
    "rating = {'Excellent': 'High',\n",
    "          'Good':'High',\n",
    "          'No effect': 'Low',\n",
    "          'Not good':'Low',\n",
    "          'Awful': \"Low\"}\n",
    "df['Overall_Exp_Rating'] = df['Overall_Experience'].map(rating)"
   ]
  },
  {
   "cell_type": "code",
   "execution_count": 155,
   "metadata": {
    "collapsed": true
   },
   "outputs": [],
   "source": [
    "df['Overall_Exp_Rating']=df['Overall_Exp_Rating'].map({'High': 1, 'Low':0})"
   ]
  },
  {
   "cell_type": "code",
   "execution_count": 59,
   "metadata": {
    "collapsed": false
   },
   "outputs": [
    {
     "data": {
      "text/html": [
       "<div>\n",
       "<table border=\"1\" class=\"dataframe\">\n",
       "  <thead>\n",
       "    <tr style=\"text-align: right;\">\n",
       "      <th></th>\n",
       "      <th>Start_Date</th>\n",
       "      <th>End_Date</th>\n",
       "      <th>Last_Name</th>\n",
       "      <th>Version_Duration</th>\n",
       "      <th>Sleep_Quality</th>\n",
       "      <th>Overall_Experience</th>\n",
       "      <th>Focus_Atten_Concen</th>\n",
       "      <th>Memory</th>\n",
       "      <th>Drive_Passion_Motivation</th>\n",
       "      <th>Physical_Energy</th>\n",
       "      <th>...</th>\n",
       "      <th>Creativity_Insight</th>\n",
       "      <th>InterpersonalCapability_Empathy</th>\n",
       "      <th>Emotional_Stability</th>\n",
       "      <th>Euhphoria_Joy_Happiness</th>\n",
       "      <th>Estimated_Effect_Duration</th>\n",
       "      <th>Upper_Effect_Duration</th>\n",
       "      <th>Lower_Effect_Duration</th>\n",
       "      <th>Current_User_Comparison</th>\n",
       "      <th>User_Status</th>\n",
       "      <th>Overall_Exp_Rating</th>\n",
       "    </tr>\n",
       "  </thead>\n",
       "  <tbody>\n",
       "    <tr>\n",
       "      <th>0</th>\n",
       "      <td>2017-11-14 14:51:00</td>\n",
       "      <td>2017-11-14 14:52:00</td>\n",
       "      <td>User1</td>\n",
       "      <td>1 weeks</td>\n",
       "      <td>OK</td>\n",
       "      <td>Good</td>\n",
       "      <td>Improved</td>\n",
       "      <td>Improved</td>\n",
       "      <td>Improved</td>\n",
       "      <td>Improved</td>\n",
       "      <td>...</td>\n",
       "      <td>No effect</td>\n",
       "      <td>No effect</td>\n",
       "      <td>No effect</td>\n",
       "      <td>No effect</td>\n",
       "      <td>4-8</td>\n",
       "      <td>8.0</td>\n",
       "      <td>4.0</td>\n",
       "      <td>I am not a XNootropic user</td>\n",
       "      <td>Non-user</td>\n",
       "      <td>1</td>\n",
       "    </tr>\n",
       "    <tr>\n",
       "      <th>1</th>\n",
       "      <td>2017-11-08 14:51:00</td>\n",
       "      <td>2017-11-08 14:54:00</td>\n",
       "      <td>User1</td>\n",
       "      <td>1 day</td>\n",
       "      <td>OK</td>\n",
       "      <td>Good</td>\n",
       "      <td>Improved</td>\n",
       "      <td>No effect</td>\n",
       "      <td>No effect</td>\n",
       "      <td>Improved</td>\n",
       "      <td>...</td>\n",
       "      <td>No effect</td>\n",
       "      <td>No effect</td>\n",
       "      <td>Improved</td>\n",
       "      <td>Improved</td>\n",
       "      <td>4-8</td>\n",
       "      <td>8.0</td>\n",
       "      <td>4.0</td>\n",
       "      <td>I am not a XNootropic user</td>\n",
       "      <td>Non-user</td>\n",
       "      <td>1</td>\n",
       "    </tr>\n",
       "    <tr>\n",
       "      <th>2</th>\n",
       "      <td>2017-11-17 05:50:00</td>\n",
       "      <td>2017-11-17 05:57:00</td>\n",
       "      <td>User2</td>\n",
       "      <td>1 weeks</td>\n",
       "      <td>OK</td>\n",
       "      <td>Not good</td>\n",
       "      <td>Improved</td>\n",
       "      <td>Improved</td>\n",
       "      <td>Less good</td>\n",
       "      <td>Less good</td>\n",
       "      <td>...</td>\n",
       "      <td>Improved</td>\n",
       "      <td>Improved</td>\n",
       "      <td>No effect</td>\n",
       "      <td>No effect</td>\n",
       "      <td>8+</td>\n",
       "      <td>12.0</td>\n",
       "      <td>8.0</td>\n",
       "      <td>This is less good than XNootropic</td>\n",
       "      <td>XNootropic User</td>\n",
       "      <td>0</td>\n",
       "    </tr>\n",
       "    <tr>\n",
       "      <th>3</th>\n",
       "      <td>2017-11-14 13:40:00</td>\n",
       "      <td>2017-11-14 13:48:00</td>\n",
       "      <td>User2</td>\n",
       "      <td>1 day</td>\n",
       "      <td>OK</td>\n",
       "      <td>Excellent</td>\n",
       "      <td>Improved</td>\n",
       "      <td>Improved</td>\n",
       "      <td>Improved</td>\n",
       "      <td>Improved</td>\n",
       "      <td>...</td>\n",
       "      <td>Improved</td>\n",
       "      <td>No effect</td>\n",
       "      <td>No effect</td>\n",
       "      <td>No effect</td>\n",
       "      <td>8+</td>\n",
       "      <td>12.0</td>\n",
       "      <td>8.0</td>\n",
       "      <td>This is better than XNootropic</td>\n",
       "      <td>XNootropic User</td>\n",
       "      <td>1</td>\n",
       "    </tr>\n",
       "    <tr>\n",
       "      <th>4</th>\n",
       "      <td>2017-11-20 11:05:00</td>\n",
       "      <td>2017-11-20 11:10:00</td>\n",
       "      <td>User3</td>\n",
       "      <td>2 weeks</td>\n",
       "      <td>OK</td>\n",
       "      <td>Good</td>\n",
       "      <td>Improved</td>\n",
       "      <td>No effect</td>\n",
       "      <td>Improved</td>\n",
       "      <td>Improved</td>\n",
       "      <td>...</td>\n",
       "      <td>No effect</td>\n",
       "      <td>No effect</td>\n",
       "      <td>No effect</td>\n",
       "      <td>Improved</td>\n",
       "      <td>4-8</td>\n",
       "      <td>8.0</td>\n",
       "      <td>4.0</td>\n",
       "      <td>This is better than XNootropic</td>\n",
       "      <td>XNootropic User</td>\n",
       "      <td>1</td>\n",
       "    </tr>\n",
       "  </tbody>\n",
       "</table>\n",
       "<p>5 rows × 23 columns</p>\n",
       "</div>"
      ],
      "text/plain": [
       "            Start_Date             End_Date Last_Name Version_Duration  \\\n",
       "0  2017-11-14 14:51:00  2017-11-14 14:52:00     User1          1 weeks   \n",
       "1  2017-11-08 14:51:00  2017-11-08 14:54:00     User1            1 day   \n",
       "2  2017-11-17 05:50:00  2017-11-17 05:57:00     User2          1 weeks   \n",
       "3  2017-11-14 13:40:00  2017-11-14 13:48:00     User2            1 day   \n",
       "4  2017-11-20 11:05:00  2017-11-20 11:10:00     User3          2 weeks   \n",
       "\n",
       "  Sleep_Quality Overall_Experience Focus_Atten_Concen     Memory  \\\n",
       "0            OK               Good           Improved   Improved   \n",
       "1            OK               Good           Improved  No effect   \n",
       "2            OK           Not good           Improved   Improved   \n",
       "3            OK          Excellent           Improved   Improved   \n",
       "4            OK               Good           Improved  No effect   \n",
       "\n",
       "  Drive_Passion_Motivation Physical_Energy         ...          \\\n",
       "0                 Improved        Improved         ...           \n",
       "1                No effect        Improved         ...           \n",
       "2                Less good       Less good         ...           \n",
       "3                 Improved        Improved         ...           \n",
       "4                 Improved        Improved         ...           \n",
       "\n",
       "  Creativity_Insight InterpersonalCapability_Empathy Emotional_Stability  \\\n",
       "0          No effect                       No effect           No effect   \n",
       "1          No effect                       No effect            Improved   \n",
       "2           Improved                        Improved           No effect   \n",
       "3           Improved                       No effect           No effect   \n",
       "4          No effect                       No effect           No effect   \n",
       "\n",
       "  Euhphoria_Joy_Happiness Estimated_Effect_Duration Upper_Effect_Duration  \\\n",
       "0               No effect                       4-8                   8.0   \n",
       "1                Improved                       4-8                   8.0   \n",
       "2               No effect                        8+                  12.0   \n",
       "3               No effect                        8+                  12.0   \n",
       "4                Improved                       4-8                   8.0   \n",
       "\n",
       "  Lower_Effect_Duration            Current_User_Comparison      User_Status  \\\n",
       "0                   4.0         I am not a XNootropic user         Non-user   \n",
       "1                   4.0         I am not a XNootropic user         Non-user   \n",
       "2                   8.0  This is less good than XNootropic  XNootropic User   \n",
       "3                   8.0     This is better than XNootropic  XNootropic User   \n",
       "4                   4.0     This is better than XNootropic  XNootropic User   \n",
       "\n",
       "   Overall_Exp_Rating  \n",
       "0                   1  \n",
       "1                   1  \n",
       "2                   0  \n",
       "3                   1  \n",
       "4                   1  \n",
       "\n",
       "[5 rows x 23 columns]"
      ]
     },
     "execution_count": 59,
     "metadata": {},
     "output_type": "execute_result"
    }
   ],
   "source": [
    "df.head()"
   ]
  },
  {
   "cell_type": "markdown",
   "metadata": {},
   "source": [
    "## Logloss: measures the performance of a classification model\n",
    "input = is the probability value between 0 and 1. You want to minimize the logloss as much as possible. A perfect model would have a logloss value of zero. \n",
    "\n",
    "Used as a evaluation metric. \n",
    "\n",
    "Logloss quantifies accuracy of a classifier by penalizing false classification. Minimizing logloss is basically maximizing accuracy of the classifier. "
   ]
  },
  {
   "cell_type": "code",
   "execution_count": null,
   "metadata": {
    "collapsed": false
   },
   "outputs": [],
   "source": []
  },
  {
   "cell_type": "code",
   "execution_count": 159,
   "metadata": {
    "collapsed": false
   },
   "outputs": [],
   "source": [
    "features = [3,  4,  6,  7,  8,  9, 10, 11, 12, 13, 14, 15, 16, 17, 20]"
   ]
  },
  {
   "cell_type": "code",
   "execution_count": null,
   "metadata": {
    "collapsed": false
   },
   "outputs": [],
   "source": []
  },
  {
   "cell_type": "code",
   "execution_count": 70,
   "metadata": {
    "collapsed": false
   },
   "outputs": [],
   "source": [
    "from sklearn import preprocessing\n",
    "from sklearn.ensemble import RandomForestClassifier\n",
    "from sklearn.linear_model import LogisticRegression"
   ]
  },
  {
   "cell_type": "code",
   "execution_count": 181,
   "metadata": {
    "collapsed": false
   },
   "outputs": [
    {
     "name": "stdout",
     "output_type": "stream",
     "text": [
      "0.314562846807\n"
     ]
    }
   ],
   "source": [
    "msk = np.random.rand(len(df)) < 0.8\n",
    "features = [3,  4,  6,  7,  8,  9, 10, 11, 12, 13, 14, 15, 16, 17, 20, 21]\n",
    "X_train = df[msk].iloc[:,features]\n",
    "X_test = df[~msk].iloc[:,features]\n",
    "y_train = df[msk].iloc[:,22]\n",
    "y_test = df[~msk].iloc[:,22]\n",
    "print(log_loss(y_test,np.ones(len(y_test))*y_train.mean()))\n"
   ]
  },
  {
   "cell_type": "code",
   "execution_count": 182,
   "metadata": {
    "collapsed": false
   },
   "outputs": [
    {
     "name": "stdout",
     "output_type": "stream",
     "text": [
      "0.393509466477\n",
      "0.170209558971\n"
     ]
    }
   ],
   "source": [
    "#encoding ordinal variables \n",
    "X_train_ordinal = X_train.values\n",
    "X_test_ordinal = X_test.values\n",
    "les = []\n",
    "l = LogisticRegression()\n",
    "r = RandomForestClassifier(n_estimators=25,max_depth=10)\n",
    "for i in range(X_train_ordinal.shape[1]):\n",
    "    le = preprocessing.LabelEncoder()\n",
    "    le.fit(df.iloc[:,features].iloc[:, i])\n",
    "    les.append(le)\n",
    "    X_train_ordinal[:, i] = le.transform(X_train_ordinal[:, i])\n",
    "    X_test_ordinal[:, i] = le.transform(X_test_ordinal[:, i])\n",
    "l.fit(X_train_ordinal,y_train)\n",
    "y_pred = l.predict_proba(X_test_ordinal)\n",
    "print(log_loss(y_test,y_pred))\n",
    "r.fit(X_train_ordinal,y_train)\n",
    "y_pred = r.predict_proba(X_test_ordinal)\n",
    "print(log_loss(y_test,y_pred))"
   ]
  },
  {
   "cell_type": "code",
   "execution_count": 183,
   "metadata": {
    "collapsed": false
   },
   "outputs": [
    {
     "name": "stdout",
     "output_type": "stream",
     "text": [
      "0.104409186541\n",
      "0.129883038191\n",
      "(81, 62)\n"
     ]
    }
   ],
   "source": [
    "#dummy variables/ one hot encoding\n",
    "from sklearn.preprocessing import OneHotEncoder\n",
    "enc = OneHotEncoder(handle_unknown='ignore')\n",
    "enc.fit(X_train_ordinal)\n",
    "X_train_one_hot = enc.transform(X_train_ordinal)\n",
    "X_test_one_hot = enc.transform(X_test_ordinal)\n",
    "l.fit(X_train_one_hot,y_train)\n",
    "y_pred = l.predict_proba(X_test_one_hot)\n",
    "print(log_loss(y_test,y_pred))\n",
    "r.fit(X_train_one_hot,y_train)\n",
    "y_pred = r.predict_proba(X_test_one_hot)\n",
    "print(log_loss(y_test,y_pred))\n",
    "print(X_train_one_hot.shape)"
   ]
  },
  {
   "cell_type": "code",
   "execution_count": null,
   "metadata": {
    "collapsed": false
   },
   "outputs": [],
   "source": []
  },
  {
   "cell_type": "code",
   "execution_count": null,
   "metadata": {
    "collapsed": true
   },
   "outputs": [],
   "source": []
  },
  {
   "cell_type": "code",
   "execution_count": 110,
   "metadata": {
    "collapsed": false
   },
   "outputs": [],
   "source": [
    "#df['Sleep_Quality'].astype('category', ordered=True, categories=ordered_sleep).cat.codes"
   ]
  },
  {
   "cell_type": "code",
   "execution_count": 97,
   "metadata": {
    "collapsed": false
   },
   "outputs": [],
   "source": [
    "from sklearn.preprocessing import LabelEncoder"
   ]
  },
  {
   "cell_type": "code",
   "execution_count": 98,
   "metadata": {
    "collapsed": false
   },
   "outputs": [
    {
     "data": {
      "text/plain": [
       "Index([u'Start_Date', u'End_Date', u'Last_Name', u'Version_Duration',\n",
       "       u'Sleep_Quality', u'Overall_Experience', u'Focus_Atten_Concen',\n",
       "       u'Memory', u'Drive_Passion_Motivation', u'Physical_Energy',\n",
       "       u'Capacity_Productivity', u'Decisiveness',\n",
       "       u'Verbal_Fluency_Word_Recall', u'Creativity_Insight',\n",
       "       u'InterpersonalCapability_Empathy', u'Emotional_Stability',\n",
       "       u'Euhphoria_Joy_Happiness', u'Estimated_Effect_Duration',\n",
       "       u'Upper_Effect_Duration', u'Lower_Effect_Duration',\n",
       "       u'Current_User_Comparison', u'User_Status', u'Overall_Exp_Rating'],\n",
       "      dtype='object')"
      ]
     },
     "execution_count": 98,
     "metadata": {},
     "output_type": "execute_result"
    }
   ],
   "source": [
    "df.columns"
   ]
  },
  {
   "cell_type": "code",
   "execution_count": null,
   "metadata": {
    "collapsed": true
   },
   "outputs": [],
   "source": []
  },
  {
   "cell_type": "code",
   "execution_count": 102,
   "metadata": {
    "collapsed": true
   },
   "outputs": [],
   "source": [
    "mapping = {'Excellent': 3, 'OK':2, 'Poor':1}"
   ]
  },
  {
   "cell_type": "code",
   "execution_count": null,
   "metadata": {
    "collapsed": false
   },
   "outputs": [],
   "source": []
  },
  {
   "cell_type": "code",
   "execution_count": null,
   "metadata": {
    "collapsed": false
   },
   "outputs": [],
   "source": []
  },
  {
   "cell_type": "code",
   "execution_count": null,
   "metadata": {
    "collapsed": false
   },
   "outputs": [],
   "source": []
  },
  {
   "cell_type": "code",
   "execution_count": 136,
   "metadata": {
    "collapsed": false
   },
   "outputs": [],
   "source": []
  },
  {
   "cell_type": "code",
   "execution_count": null,
   "metadata": {
    "collapsed": false
   },
   "outputs": [],
   "source": []
  },
  {
   "cell_type": "code",
   "execution_count": null,
   "metadata": {
    "collapsed": false
   },
   "outputs": [],
   "source": []
  },
  {
   "cell_type": "code",
   "execution_count": null,
   "metadata": {
    "collapsed": false
   },
   "outputs": [],
   "source": []
  },
  {
   "cell_type": "code",
   "execution_count": null,
   "metadata": {
    "collapsed": true
   },
   "outputs": [],
   "source": []
  }
 ],
 "metadata": {
  "kernelspec": {
   "display_name": "Python [default]",
   "language": "python",
   "name": "python2"
  },
  "language_info": {
   "codemirror_mode": {
    "name": "ipython",
    "version": 2
   },
   "file_extension": ".py",
   "mimetype": "text/x-python",
   "name": "python",
   "nbconvert_exporter": "python",
   "pygments_lexer": "ipython2",
   "version": "2.7.12"
  }
 },
 "nbformat": 4,
 "nbformat_minor": 1
}
